{
  "cells": [
    {
      "cell_type": "code",
      "execution_count": 1,
      "metadata": {
        "id": "igMyGnjE9hEp"
      },
      "outputs": [],
      "source": [
        "import csv\n",
        "\n",
        "import numpy as np\n",
        "import tensorflow as tf\n",
        "from sklearn.model_selection import train_test_split\n",
        "\n",
        "RANDOM_SEED = 42"
      ]
    },
    {
      "attachments": {},
      "cell_type": "markdown",
      "metadata": {
        "id": "t2HDvhIu9hEr"
      },
      "source": [
        "# Specify each path"
      ]
    },
    {
      "cell_type": "code",
      "execution_count": 2,
      "metadata": {
        "id": "9NvZP2Zn9hEy"
      },
      "outputs": [],
      "source": [
        "dataset = 'model/keypoint.csv'\n",
        "model_save_path = 'model/aslr_model.hdf5'\n",
        "tflite_save_path = 'model/aslr_model.tflite'"
      ]
    },
    {
      "attachments": {},
      "cell_type": "markdown",
      "metadata": {
        "id": "s5oMH7x19hEz"
      },
      "source": [
        "# Set number of classes"
      ]
    },
    {
      "cell_type": "code",
      "execution_count": 3,
      "metadata": {
        "id": "du4kodXL9hEz"
      },
      "outputs": [],
      "source": [
        "NUM_CLASSES = 24"
      ]
    },
    {
      "attachments": {},
      "cell_type": "markdown",
      "metadata": {
        "id": "XjnL0uso9hEz"
      },
      "source": [
        "# Dataset reading"
      ]
    },
    {
      "cell_type": "code",
      "execution_count": 4,
      "metadata": {
        "id": "QT5ZqtEz9hE0"
      },
      "outputs": [],
      "source": [
        "X_dataset = np.loadtxt(dataset, delimiter=',', dtype='float32', usecols=list(range(1, (21 * 2) + 1)))"
      ]
    },
    {
      "cell_type": "code",
      "execution_count": 5,
      "metadata": {
        "id": "QmoKFsp49hE0"
      },
      "outputs": [],
      "source": [
        "y_dataset = np.loadtxt(dataset, delimiter=',', dtype='int32', usecols=(0))"
      ]
    },
    {
      "cell_type": "code",
      "execution_count": 6,
      "metadata": {
        "id": "xQU7JTZ_9hE0"
      },
      "outputs": [],
      "source": [
        "X_train, X_test, y_train, y_test = train_test_split(X_dataset, y_dataset, train_size=0.75, random_state=RANDOM_SEED)"
      ]
    },
    {
      "attachments": {},
      "cell_type": "markdown",
      "metadata": {
        "id": "mxK_lETT9hE0"
      },
      "source": [
        "# Model building"
      ]
    },
    {
      "cell_type": "code",
      "execution_count": 7,
      "metadata": {
        "id": "vHBmUf1t9hE1"
      },
      "outputs": [],
      "source": [
        "model = tf.keras.models.Sequential([\n",
        "    tf.keras.layers.Input((21 * 2, )),\n",
        "    tf.keras.layers.Dropout(0.2),\n",
        "    tf.keras.layers.Dense(20, activation='relu'),\n",
        "    tf.keras.layers.Dropout(0.4),\n",
        "    tf.keras.layers.Dense(10, activation='relu'),\n",
        "    tf.keras.layers.Dense(NUM_CLASSES, activation='softmax')\n",
        "])"
      ]
    },
    {
      "cell_type": "code",
      "execution_count": 8,
      "metadata": {
        "colab": {
          "base_uri": "https://localhost:8080/"
        },
        "id": "ypqky9tc9hE1",
        "outputId": "5db082bb-30e3-4110-bf63-a1ee777ecd46"
      },
      "outputs": [
        {
          "name": "stdout",
          "output_type": "stream",
          "text": [
            "Model: \"sequential\"\n",
            "_________________________________________________________________\n",
            " Layer (type)                Output Shape              Param #   \n",
            "=================================================================\n",
            " dropout (Dropout)           (None, 42)                0         \n",
            "                                                                 \n",
            " dense (Dense)               (None, 20)                860       \n",
            "                                                                 \n",
            " dropout_1 (Dropout)         (None, 20)                0         \n",
            "                                                                 \n",
            " dense_1 (Dense)             (None, 10)                210       \n",
            "                                                                 \n",
            " dense_2 (Dense)             (None, 24)                264       \n",
            "                                                                 \n",
            "=================================================================\n",
            "Total params: 1,334\n",
            "Trainable params: 1,334\n",
            "Non-trainable params: 0\n",
            "_________________________________________________________________\n"
          ]
        }
      ],
      "source": [
        "model.summary()  # tf.keras.utils.plot_model(model, show_shapes=True)"
      ]
    },
    {
      "cell_type": "code",
      "execution_count": 9,
      "metadata": {
        "id": "MbMjOflQ9hE1"
      },
      "outputs": [],
      "source": [
        "# Model checkpoint callback\n",
        "cp_callback = tf.keras.callbacks.ModelCheckpoint(\n",
        "    model_save_path, verbose=1, save_weights_only=False)\n",
        "# Callback for early stopping\n",
        "es_callback = tf.keras.callbacks.EarlyStopping(patience=20, verbose=1)"
      ]
    },
    {
      "cell_type": "code",
      "execution_count": 10,
      "metadata": {
        "id": "c3Dac0M_9hE2"
      },
      "outputs": [],
      "source": [
        "# Model compilation\n",
        "model.compile(\n",
        "    optimizer='adam',\n",
        "    loss='sparse_categorical_crossentropy',\n",
        "    metrics=['accuracy']\n",
        ")"
      ]
    },
    {
      "attachments": {},
      "cell_type": "markdown",
      "metadata": {
        "id": "7XI0j1Iu9hE2"
      },
      "source": [
        "# Model training"
      ]
    },
    {
      "cell_type": "code",
      "execution_count": 11,
      "metadata": {
        "colab": {
          "base_uri": "https://localhost:8080/"
        },
        "id": "WirBl-JE9hE3",
        "outputId": "71b30ca2-8294-4d9d-8aa2-800d90d399de",
        "scrolled": true
      },
      "outputs": [
        {
          "name": "stdout",
          "output_type": "stream",
          "text": [
            "Epoch 1/1000\n",
            "131/141 [==========================>...] - ETA: 0s - loss: 3.0722 - accuracy: 0.0921\n",
            "Epoch 1: saving model to model\\aslr_model.hdf5\n",
            "141/141 [==============================] - 1s 4ms/step - loss: 3.0576 - accuracy: 0.0969 - val_loss: 2.7637 - val_accuracy: 0.2067\n",
            "Epoch 2/1000\n",
            "137/141 [============================>.] - ETA: 0s - loss: 2.5623 - accuracy: 0.2088\n",
            "Epoch 2: saving model to model\\aslr_model.hdf5\n",
            "141/141 [==============================] - 0s 2ms/step - loss: 2.5544 - accuracy: 0.2107 - val_loss: 2.1140 - val_accuracy: 0.4452\n",
            "Epoch 3/1000\n",
            "137/141 [============================>.] - ETA: 0s - loss: 2.1680 - accuracy: 0.2867\n",
            "Epoch 3: saving model to model\\aslr_model.hdf5\n",
            "141/141 [==============================] - 0s 2ms/step - loss: 2.1648 - accuracy: 0.2870 - val_loss: 1.6959 - val_accuracy: 0.5480\n",
            "Epoch 4/1000\n",
            "137/141 [============================>.] - ETA: 0s - loss: 1.9568 - accuracy: 0.3249\n",
            "Epoch 4: saving model to model\\aslr_model.hdf5\n",
            "141/141 [==============================] - 0s 2ms/step - loss: 1.9546 - accuracy: 0.3265 - val_loss: 1.4673 - val_accuracy: 0.5843\n",
            "Epoch 5/1000\n",
            "135/141 [===========================>..] - ETA: 0s - loss: 1.8282 - accuracy: 0.3547\n",
            "Epoch 5: saving model to model\\aslr_model.hdf5\n",
            "141/141 [==============================] - 0s 2ms/step - loss: 1.8236 - accuracy: 0.3552 - val_loss: 1.3261 - val_accuracy: 0.6413\n",
            "Epoch 6/1000\n",
            "136/141 [===========================>..] - ETA: 0s - loss: 1.7344 - accuracy: 0.3716\n",
            "Epoch 6: saving model to model\\aslr_model.hdf5\n",
            "141/141 [==============================] - 0s 2ms/step - loss: 1.7338 - accuracy: 0.3716 - val_loss: 1.2343 - val_accuracy: 0.7198\n",
            "Epoch 7/1000\n",
            "138/141 [============================>.] - ETA: 0s - loss: 1.6806 - accuracy: 0.3987\n",
            "Epoch 7: saving model to model\\aslr_model.hdf5\n",
            "141/141 [==============================] - 0s 2ms/step - loss: 1.6800 - accuracy: 0.3990 - val_loss: 1.1728 - val_accuracy: 0.7617\n",
            "Epoch 8/1000\n",
            "132/141 [===========================>..] - ETA: 0s - loss: 1.6193 - accuracy: 0.4237\n",
            "Epoch 8: saving model to model\\aslr_model.hdf5\n",
            "141/141 [==============================] - 0s 2ms/step - loss: 1.6145 - accuracy: 0.4259 - val_loss: 1.0917 - val_accuracy: 0.7463\n",
            "Epoch 9/1000\n",
            "140/141 [============================>.] - ETA: 0s - loss: 1.5674 - accuracy: 0.4444\n",
            "Epoch 9: saving model to model\\aslr_model.hdf5\n",
            "141/141 [==============================] - 0s 2ms/step - loss: 1.5672 - accuracy: 0.4446 - val_loss: 1.0340 - val_accuracy: 0.8305\n",
            "Epoch 10/1000\n",
            "140/141 [============================>.] - ETA: 0s - loss: 1.5288 - accuracy: 0.4550\n",
            "Epoch 10: saving model to model\\aslr_model.hdf5\n",
            "141/141 [==============================] - 0s 2ms/step - loss: 1.5286 - accuracy: 0.4549 - val_loss: 1.0004 - val_accuracy: 0.8090\n",
            "Epoch 11/1000\n",
            "141/141 [==============================] - ETA: 0s - loss: 1.4918 - accuracy: 0.4663\n",
            "Epoch 11: saving model to model\\aslr_model.hdf5\n",
            "141/141 [==============================] - 0s 2ms/step - loss: 1.4918 - accuracy: 0.4663 - val_loss: 0.9514 - val_accuracy: 0.7775\n",
            "Epoch 12/1000\n",
            "140/141 [============================>.] - ETA: 0s - loss: 1.4651 - accuracy: 0.4768\n",
            "Epoch 12: saving model to model\\aslr_model.hdf5\n",
            "141/141 [==============================] - 0s 2ms/step - loss: 1.4637 - accuracy: 0.4771 - val_loss: 0.9231 - val_accuracy: 0.8162\n",
            "Epoch 13/1000\n",
            "138/141 [============================>.] - ETA: 0s - loss: 1.4356 - accuracy: 0.4853\n",
            "Epoch 13: saving model to model\\aslr_model.hdf5\n",
            "141/141 [==============================] - 0s 2ms/step - loss: 1.4362 - accuracy: 0.4845 - val_loss: 0.8910 - val_accuracy: 0.7897\n",
            "Epoch 14/1000\n",
            "139/141 [============================>.] - ETA: 0s - loss: 1.4227 - accuracy: 0.4866\n",
            "Epoch 14: saving model to model\\aslr_model.hdf5\n",
            "141/141 [==============================] - 0s 2ms/step - loss: 1.4217 - accuracy: 0.4874 - val_loss: 0.8816 - val_accuracy: 0.7998\n",
            "Epoch 15/1000\n",
            "139/141 [============================>.] - ETA: 0s - loss: 1.3975 - accuracy: 0.5024\n",
            "Epoch 15: saving model to model\\aslr_model.hdf5\n",
            "141/141 [==============================] - 0s 2ms/step - loss: 1.3987 - accuracy: 0.5017 - val_loss: 0.8504 - val_accuracy: 0.8123\n",
            "Epoch 16/1000\n",
            "106/141 [=====================>........] - ETA: 0s - loss: 1.3758 - accuracy: 0.5077\n",
            "Epoch 16: saving model to model\\aslr_model.hdf5\n",
            "141/141 [==============================] - 0s 2ms/step - loss: 1.3727 - accuracy: 0.5090 - val_loss: 0.8253 - val_accuracy: 0.7862\n",
            "Epoch 17/1000\n",
            "140/141 [============================>.] - ETA: 0s - loss: 1.3578 - accuracy: 0.5095\n",
            "Epoch 17: saving model to model\\aslr_model.hdf5\n",
            "141/141 [==============================] - 0s 2ms/step - loss: 1.3574 - accuracy: 0.5096 - val_loss: 0.7989 - val_accuracy: 0.8222\n",
            "Epoch 18/1000\n",
            "136/141 [===========================>..] - ETA: 0s - loss: 1.3497 - accuracy: 0.5133\n",
            "Epoch 18: saving model to model\\aslr_model.hdf5\n",
            "141/141 [==============================] - 0s 2ms/step - loss: 1.3494 - accuracy: 0.5129 - val_loss: 0.7963 - val_accuracy: 0.7780\n",
            "Epoch 19/1000\n",
            "139/141 [============================>.] - ETA: 0s - loss: 1.3252 - accuracy: 0.5176\n",
            "Epoch 19: saving model to model\\aslr_model.hdf5\n",
            "141/141 [==============================] - 0s 2ms/step - loss: 1.3267 - accuracy: 0.5172 - val_loss: 0.7673 - val_accuracy: 0.8937\n",
            "Epoch 20/1000\n",
            "136/141 [===========================>..] - ETA: 0s - loss: 1.3151 - accuracy: 0.5269\n",
            "Epoch 20: saving model to model\\aslr_model.hdf5\n",
            "141/141 [==============================] - 0s 2ms/step - loss: 1.3155 - accuracy: 0.5262 - val_loss: 0.7702 - val_accuracy: 0.8442\n",
            "Epoch 21/1000\n",
            "108/141 [=====================>........] - ETA: 0s - loss: 1.3081 - accuracy: 0.5284\n",
            "Epoch 21: saving model to model\\aslr_model.hdf5\n",
            "141/141 [==============================] - 0s 2ms/step - loss: 1.3019 - accuracy: 0.5299 - val_loss: 0.7458 - val_accuracy: 0.8233\n",
            "Epoch 22/1000\n",
            "140/141 [============================>.] - ETA: 0s - loss: 1.2870 - accuracy: 0.5384\n",
            "Epoch 22: saving model to model\\aslr_model.hdf5\n",
            "141/141 [==============================] - 0s 2ms/step - loss: 1.2870 - accuracy: 0.5386 - val_loss: 0.7330 - val_accuracy: 0.8708\n",
            "Epoch 23/1000\n",
            "130/141 [==========================>...] - ETA: 0s - loss: 1.2804 - accuracy: 0.5380\n",
            "Epoch 23: saving model to model\\aslr_model.hdf5\n",
            "141/141 [==============================] - 0s 3ms/step - loss: 1.2802 - accuracy: 0.5379 - val_loss: 0.7230 - val_accuracy: 0.8343\n",
            "Epoch 24/1000\n",
            "130/141 [==========================>...] - ETA: 0s - loss: 1.2625 - accuracy: 0.5464\n",
            "Epoch 24: saving model to model\\aslr_model.hdf5\n",
            "141/141 [==============================] - 0s 2ms/step - loss: 1.2658 - accuracy: 0.5459 - val_loss: 0.6946 - val_accuracy: 0.8487\n",
            "Epoch 25/1000\n",
            "132/141 [===========================>..] - ETA: 0s - loss: 1.2612 - accuracy: 0.5430\n",
            "Epoch 25: saving model to model\\aslr_model.hdf5\n",
            "141/141 [==============================] - 0s 2ms/step - loss: 1.2630 - accuracy: 0.5432 - val_loss: 0.7040 - val_accuracy: 0.8692\n",
            "Epoch 26/1000\n",
            "123/141 [=========================>....] - ETA: 0s - loss: 1.2485 - accuracy: 0.5492\n",
            "Epoch 26: saving model to model\\aslr_model.hdf5\n",
            "141/141 [==============================] - 0s 2ms/step - loss: 1.2518 - accuracy: 0.5491 - val_loss: 0.6854 - val_accuracy: 0.8707\n",
            "Epoch 27/1000\n",
            "131/141 [==========================>...] - ETA: 0s - loss: 1.2257 - accuracy: 0.5616\n",
            "Epoch 27: saving model to model\\aslr_model.hdf5\n",
            "141/141 [==============================] - 0s 2ms/step - loss: 1.2297 - accuracy: 0.5604 - val_loss: 0.6807 - val_accuracy: 0.8412\n",
            "Epoch 28/1000\n",
            "130/141 [==========================>...] - ETA: 0s - loss: 1.2267 - accuracy: 0.5598\n",
            "Epoch 28: saving model to model\\aslr_model.hdf5\n",
            "141/141 [==============================] - 0s 2ms/step - loss: 1.2247 - accuracy: 0.5608 - val_loss: 0.6583 - val_accuracy: 0.8800\n",
            "Epoch 29/1000\n",
            "131/141 [==========================>...] - ETA: 0s - loss: 1.2246 - accuracy: 0.5609\n",
            "Epoch 29: saving model to model\\aslr_model.hdf5\n",
            "141/141 [==============================] - 0s 2ms/step - loss: 1.2212 - accuracy: 0.5614 - val_loss: 0.6470 - val_accuracy: 0.8808\n",
            "Epoch 30/1000\n",
            "130/141 [==========================>...] - ETA: 0s - loss: 1.2017 - accuracy: 0.5691\n",
            "Epoch 30: saving model to model\\aslr_model.hdf5\n",
            "141/141 [==============================] - 0s 2ms/step - loss: 1.2035 - accuracy: 0.5687 - val_loss: 0.6460 - val_accuracy: 0.8440\n",
            "Epoch 31/1000\n",
            "131/141 [==========================>...] - ETA: 0s - loss: 1.1985 - accuracy: 0.5687\n",
            "Epoch 31: saving model to model\\aslr_model.hdf5\n",
            "141/141 [==============================] - 0s 2ms/step - loss: 1.2069 - accuracy: 0.5672 - val_loss: 0.6294 - val_accuracy: 0.8725\n",
            "Epoch 32/1000\n",
            "132/141 [===========================>..] - ETA: 0s - loss: 1.2000 - accuracy: 0.5689\n",
            "Epoch 32: saving model to model\\aslr_model.hdf5\n",
            "141/141 [==============================] - 0s 2ms/step - loss: 1.1998 - accuracy: 0.5686 - val_loss: 0.6199 - val_accuracy: 0.8870\n",
            "Epoch 33/1000\n",
            "134/141 [===========================>..] - ETA: 0s - loss: 1.1907 - accuracy: 0.5724\n",
            "Epoch 33: saving model to model\\aslr_model.hdf5\n",
            "141/141 [==============================] - 0s 2ms/step - loss: 1.1889 - accuracy: 0.5729 - val_loss: 0.6061 - val_accuracy: 0.8983\n",
            "Epoch 34/1000\n",
            "131/141 [==========================>...] - ETA: 0s - loss: 1.1682 - accuracy: 0.5811\n",
            "Epoch 34: saving model to model\\aslr_model.hdf5\n",
            "141/141 [==============================] - 0s 2ms/step - loss: 1.1696 - accuracy: 0.5809 - val_loss: 0.5987 - val_accuracy: 0.8845\n",
            "Epoch 35/1000\n",
            "133/141 [===========================>..] - ETA: 0s - loss: 1.1758 - accuracy: 0.5781\n",
            "Epoch 35: saving model to model\\aslr_model.hdf5\n",
            "141/141 [==============================] - 0s 2ms/step - loss: 1.1758 - accuracy: 0.5773 - val_loss: 0.6025 - val_accuracy: 0.8760\n",
            "Epoch 36/1000\n",
            "113/141 [=======================>......] - ETA: 0s - loss: 1.1597 - accuracy: 0.5835\n",
            "Epoch 36: saving model to model\\aslr_model.hdf5\n",
            "141/141 [==============================] - 0s 2ms/step - loss: 1.1595 - accuracy: 0.5833 - val_loss: 0.5880 - val_accuracy: 0.9035\n",
            "Epoch 37/1000\n",
            "123/141 [=========================>....] - ETA: 0s - loss: 1.1579 - accuracy: 0.5815\n",
            "Epoch 37: saving model to model\\aslr_model.hdf5\n",
            "141/141 [==============================] - 0s 2ms/step - loss: 1.1534 - accuracy: 0.5838 - val_loss: 0.5758 - val_accuracy: 0.9047\n",
            "Epoch 38/1000\n",
            "133/141 [===========================>..] - ETA: 0s - loss: 1.1367 - accuracy: 0.5915\n",
            "Epoch 38: saving model to model\\aslr_model.hdf5\n",
            "141/141 [==============================] - 0s 2ms/step - loss: 1.1365 - accuracy: 0.5913 - val_loss: 0.5743 - val_accuracy: 0.8843\n",
            "Epoch 39/1000\n",
            "134/141 [===========================>..] - ETA: 0s - loss: 1.1350 - accuracy: 0.5954\n",
            "Epoch 39: saving model to model\\aslr_model.hdf5\n",
            "141/141 [==============================] - 0s 2ms/step - loss: 1.1361 - accuracy: 0.5953 - val_loss: 0.5723 - val_accuracy: 0.8922\n",
            "Epoch 40/1000\n",
            "128/141 [==========================>...] - ETA: 0s - loss: 1.1280 - accuracy: 0.5989\n",
            "Epoch 40: saving model to model\\aslr_model.hdf5\n",
            "141/141 [==============================] - 0s 2ms/step - loss: 1.1287 - accuracy: 0.5986 - val_loss: 0.5579 - val_accuracy: 0.8940\n",
            "Epoch 41/1000\n",
            "132/141 [===========================>..] - ETA: 0s - loss: 1.1128 - accuracy: 0.5978\n",
            "Epoch 41: saving model to model\\aslr_model.hdf5\n",
            "141/141 [==============================] - 0s 2ms/step - loss: 1.1142 - accuracy: 0.5982 - val_loss: 0.5470 - val_accuracy: 0.9278\n",
            "Epoch 42/1000\n",
            "130/141 [==========================>...] - ETA: 0s - loss: 1.1046 - accuracy: 0.6032\n",
            "Epoch 42: saving model to model\\aslr_model.hdf5\n",
            "141/141 [==============================] - 0s 2ms/step - loss: 1.1068 - accuracy: 0.6009 - val_loss: 0.5315 - val_accuracy: 0.9307\n",
            "Epoch 43/1000\n",
            "131/141 [==========================>...] - ETA: 0s - loss: 1.0944 - accuracy: 0.6128\n",
            "Epoch 43: saving model to model\\aslr_model.hdf5\n",
            "141/141 [==============================] - 0s 2ms/step - loss: 1.0939 - accuracy: 0.6123 - val_loss: 0.5325 - val_accuracy: 0.9255\n",
            "Epoch 44/1000\n",
            "133/141 [===========================>..] - ETA: 0s - loss: 1.1035 - accuracy: 0.6046\n",
            "Epoch 44: saving model to model\\aslr_model.hdf5\n",
            "141/141 [==============================] - 0s 2ms/step - loss: 1.1054 - accuracy: 0.6033 - val_loss: 0.5238 - val_accuracy: 0.9053\n",
            "Epoch 45/1000\n",
            "131/141 [==========================>...] - ETA: 0s - loss: 1.0863 - accuracy: 0.6112\n",
            "Epoch 45: saving model to model\\aslr_model.hdf5\n",
            "141/141 [==============================] - 0s 2ms/step - loss: 1.0863 - accuracy: 0.6113 - val_loss: 0.5313 - val_accuracy: 0.9357\n",
            "Epoch 46/1000\n",
            "130/141 [==========================>...] - ETA: 0s - loss: 1.0703 - accuracy: 0.6141\n",
            "Epoch 46: saving model to model\\aslr_model.hdf5\n",
            "141/141 [==============================] - 0s 2ms/step - loss: 1.0719 - accuracy: 0.6147 - val_loss: 0.5261 - val_accuracy: 0.9367\n",
            "Epoch 47/1000\n",
            "128/141 [==========================>...] - ETA: 0s - loss: 1.0796 - accuracy: 0.6185\n",
            "Epoch 47: saving model to model\\aslr_model.hdf5\n",
            "141/141 [==============================] - 0s 2ms/step - loss: 1.0762 - accuracy: 0.6186 - val_loss: 0.5121 - val_accuracy: 0.8822\n",
            "Epoch 48/1000\n",
            "130/141 [==========================>...] - ETA: 0s - loss: 1.0602 - accuracy: 0.6258\n",
            "Epoch 48: saving model to model\\aslr_model.hdf5\n",
            "141/141 [==============================] - 0s 2ms/step - loss: 1.0607 - accuracy: 0.6258 - val_loss: 0.4962 - val_accuracy: 0.9198\n",
            "Epoch 49/1000\n",
            "132/141 [===========================>..] - ETA: 0s - loss: 1.0681 - accuracy: 0.6123\n",
            "Epoch 49: saving model to model\\aslr_model.hdf5\n",
            "141/141 [==============================] - 0s 2ms/step - loss: 1.0691 - accuracy: 0.6123 - val_loss: 0.4981 - val_accuracy: 0.9325\n",
            "Epoch 50/1000\n",
            "127/141 [==========================>...] - ETA: 0s - loss: 1.0653 - accuracy: 0.6222\n",
            "Epoch 50: saving model to model\\aslr_model.hdf5\n",
            "141/141 [==============================] - 0s 2ms/step - loss: 1.0657 - accuracy: 0.6209 - val_loss: 0.5068 - val_accuracy: 0.9355\n",
            "Epoch 51/1000\n",
            "131/141 [==========================>...] - ETA: 0s - loss: 1.0618 - accuracy: 0.6246\n",
            "Epoch 51: saving model to model\\aslr_model.hdf5\n",
            "141/141 [==============================] - 0s 2ms/step - loss: 1.0634 - accuracy: 0.6223 - val_loss: 0.4817 - val_accuracy: 0.9408\n",
            "Epoch 52/1000\n",
            "134/141 [===========================>..] - ETA: 0s - loss: 1.0562 - accuracy: 0.6204\n",
            "Epoch 52: saving model to model\\aslr_model.hdf5\n",
            "141/141 [==============================] - 0s 2ms/step - loss: 1.0556 - accuracy: 0.6207 - val_loss: 0.4889 - val_accuracy: 0.9320\n",
            "Epoch 53/1000\n",
            "133/141 [===========================>..] - ETA: 0s - loss: 1.0362 - accuracy: 0.6300\n",
            "Epoch 53: saving model to model\\aslr_model.hdf5\n",
            "141/141 [==============================] - 0s 2ms/step - loss: 1.0367 - accuracy: 0.6300 - val_loss: 0.4774 - val_accuracy: 0.9135\n",
            "Epoch 54/1000\n",
            "132/141 [===========================>..] - ETA: 0s - loss: 1.0272 - accuracy: 0.6358\n",
            "Epoch 54: saving model to model\\aslr_model.hdf5\n",
            "141/141 [==============================] - 0s 2ms/step - loss: 1.0312 - accuracy: 0.6342 - val_loss: 0.4788 - val_accuracy: 0.9365\n",
            "Epoch 55/1000\n",
            "133/141 [===========================>..] - ETA: 0s - loss: 1.0352 - accuracy: 0.6301\n",
            "Epoch 55: saving model to model\\aslr_model.hdf5\n",
            "141/141 [==============================] - 0s 2ms/step - loss: 1.0343 - accuracy: 0.6298 - val_loss: 0.4771 - val_accuracy: 0.9282\n",
            "Epoch 56/1000\n",
            "132/141 [===========================>..] - ETA: 0s - loss: 1.0268 - accuracy: 0.6347\n",
            "Epoch 56: saving model to model\\aslr_model.hdf5\n",
            "141/141 [==============================] - 0s 2ms/step - loss: 1.0264 - accuracy: 0.6347 - val_loss: 0.4598 - val_accuracy: 0.9338\n",
            "Epoch 57/1000\n",
            "127/141 [==========================>...] - ETA: 0s - loss: 1.0343 - accuracy: 0.6293\n",
            "Epoch 57: saving model to model\\aslr_model.hdf5\n",
            "141/141 [==============================] - 0s 2ms/step - loss: 1.0322 - accuracy: 0.6302 - val_loss: 0.4659 - val_accuracy: 0.9242\n",
            "Epoch 58/1000\n",
            "133/141 [===========================>..] - ETA: 0s - loss: 1.0328 - accuracy: 0.6309\n",
            "Epoch 58: saving model to model\\aslr_model.hdf5\n",
            "141/141 [==============================] - 0s 2ms/step - loss: 1.0349 - accuracy: 0.6296 - val_loss: 0.4722 - val_accuracy: 0.9332\n",
            "Epoch 59/1000\n",
            "132/141 [===========================>..] - ETA: 0s - loss: 1.0180 - accuracy: 0.6374\n",
            "Epoch 59: saving model to model\\aslr_model.hdf5\n",
            "141/141 [==============================] - 0s 2ms/step - loss: 1.0188 - accuracy: 0.6379 - val_loss: 0.4651 - val_accuracy: 0.9363\n",
            "Epoch 60/1000\n",
            "132/141 [===========================>..] - ETA: 0s - loss: 1.0062 - accuracy: 0.6365\n",
            "Epoch 60: saving model to model\\aslr_model.hdf5\n",
            "141/141 [==============================] - 0s 2ms/step - loss: 1.0050 - accuracy: 0.6384 - val_loss: 0.4569 - val_accuracy: 0.9375\n",
            "Epoch 61/1000\n",
            "129/141 [==========================>...] - ETA: 0s - loss: 1.0107 - accuracy: 0.6406\n",
            "Epoch 61: saving model to model\\aslr_model.hdf5\n",
            "141/141 [==============================] - 0s 2ms/step - loss: 1.0130 - accuracy: 0.6397 - val_loss: 0.4663 - val_accuracy: 0.9368\n",
            "Epoch 62/1000\n",
            "109/141 [======================>.......] - ETA: 0s - loss: 1.0238 - accuracy: 0.6319\n",
            "Epoch 62: saving model to model\\aslr_model.hdf5\n",
            "141/141 [==============================] - 0s 3ms/step - loss: 1.0198 - accuracy: 0.6331 - val_loss: 0.4636 - val_accuracy: 0.8893\n",
            "Epoch 63/1000\n",
            "129/141 [==========================>...] - ETA: 0s - loss: 0.9998 - accuracy: 0.6473\n",
            "Epoch 63: saving model to model\\aslr_model.hdf5\n",
            "141/141 [==============================] - 0s 2ms/step - loss: 1.0017 - accuracy: 0.6468 - val_loss: 0.4576 - val_accuracy: 0.9413\n",
            "Epoch 64/1000\n",
            "133/141 [===========================>..] - ETA: 0s - loss: 1.0038 - accuracy: 0.6449\n",
            "Epoch 64: saving model to model\\aslr_model.hdf5\n",
            "141/141 [==============================] - 0s 2ms/step - loss: 1.0033 - accuracy: 0.6452 - val_loss: 0.4587 - val_accuracy: 0.9185\n",
            "Epoch 65/1000\n",
            "132/141 [===========================>..] - ETA: 0s - loss: 1.0158 - accuracy: 0.6407\n",
            "Epoch 65: saving model to model\\aslr_model.hdf5\n",
            "141/141 [==============================] - 0s 2ms/step - loss: 1.0147 - accuracy: 0.6397 - val_loss: 0.4500 - val_accuracy: 0.9262\n",
            "Epoch 66/1000\n",
            "129/141 [==========================>...] - ETA: 0s - loss: 1.0025 - accuracy: 0.6419\n",
            "Epoch 66: saving model to model\\aslr_model.hdf5\n",
            "141/141 [==============================] - 0s 2ms/step - loss: 1.0023 - accuracy: 0.6419 - val_loss: 0.4456 - val_accuracy: 0.9352\n",
            "Epoch 67/1000\n",
            "133/141 [===========================>..] - ETA: 0s - loss: 0.9939 - accuracy: 0.6465\n",
            "Epoch 67: saving model to model\\aslr_model.hdf5\n",
            "141/141 [==============================] - 0s 2ms/step - loss: 0.9923 - accuracy: 0.6470 - val_loss: 0.4539 - val_accuracy: 0.9228\n",
            "Epoch 68/1000\n",
            "132/141 [===========================>..] - ETA: 0s - loss: 1.0007 - accuracy: 0.6441\n",
            "Epoch 68: saving model to model\\aslr_model.hdf5\n",
            "141/141 [==============================] - 0s 2ms/step - loss: 1.0047 - accuracy: 0.6416 - val_loss: 0.4445 - val_accuracy: 0.9235\n",
            "Epoch 69/1000\n",
            "134/141 [===========================>..] - ETA: 0s - loss: 0.9858 - accuracy: 0.6495\n",
            "Epoch 69: saving model to model\\aslr_model.hdf5\n",
            "141/141 [==============================] - 0s 2ms/step - loss: 0.9845 - accuracy: 0.6492 - val_loss: 0.4393 - val_accuracy: 0.9278\n",
            "Epoch 70/1000\n",
            "130/141 [==========================>...] - ETA: 0s - loss: 0.9896 - accuracy: 0.6462\n",
            "Epoch 70: saving model to model\\aslr_model.hdf5\n",
            "141/141 [==============================] - 0s 2ms/step - loss: 0.9883 - accuracy: 0.6463 - val_loss: 0.4441 - val_accuracy: 0.9008\n",
            "Epoch 71/1000\n",
            "133/141 [===========================>..] - ETA: 0s - loss: 0.9847 - accuracy: 0.6461\n",
            "Epoch 71: saving model to model\\aslr_model.hdf5\n",
            "141/141 [==============================] - 0s 2ms/step - loss: 0.9858 - accuracy: 0.6457 - val_loss: 0.4420 - val_accuracy: 0.8918\n",
            "Epoch 72/1000\n",
            "123/141 [=========================>....] - ETA: 0s - loss: 0.9712 - accuracy: 0.6489\n",
            "Epoch 72: saving model to model\\aslr_model.hdf5\n",
            "141/141 [==============================] - 0s 2ms/step - loss: 0.9747 - accuracy: 0.6479 - val_loss: 0.4412 - val_accuracy: 0.9207\n",
            "Epoch 73/1000\n",
            "130/141 [==========================>...] - ETA: 0s - loss: 0.9861 - accuracy: 0.6490\n",
            "Epoch 73: saving model to model\\aslr_model.hdf5\n",
            "141/141 [==============================] - 0s 2ms/step - loss: 0.9886 - accuracy: 0.6488 - val_loss: 0.4361 - val_accuracy: 0.9043\n",
            "Epoch 74/1000\n",
            "112/141 [======================>.......] - ETA: 0s - loss: 0.9899 - accuracy: 0.6482\n",
            "Epoch 74: saving model to model\\aslr_model.hdf5\n",
            "141/141 [==============================] - 0s 2ms/step - loss: 0.9847 - accuracy: 0.6511 - val_loss: 0.4338 - val_accuracy: 0.9190\n",
            "Epoch 75/1000\n",
            "133/141 [===========================>..] - ETA: 0s - loss: 0.9821 - accuracy: 0.6477\n",
            "Epoch 75: saving model to model\\aslr_model.hdf5\n",
            "141/141 [==============================] - 0s 2ms/step - loss: 0.9802 - accuracy: 0.6481 - val_loss: 0.4373 - val_accuracy: 0.9322\n",
            "Epoch 76/1000\n",
            "133/141 [===========================>..] - ETA: 0s - loss: 0.9596 - accuracy: 0.6550\n",
            "Epoch 76: saving model to model\\aslr_model.hdf5\n",
            "141/141 [==============================] - 0s 2ms/step - loss: 0.9586 - accuracy: 0.6553 - val_loss: 0.4198 - val_accuracy: 0.9163\n",
            "Epoch 77/1000\n",
            "127/141 [==========================>...] - ETA: 0s - loss: 0.9795 - accuracy: 0.6502\n",
            "Epoch 77: saving model to model\\aslr_model.hdf5\n",
            "141/141 [==============================] - 0s 2ms/step - loss: 0.9763 - accuracy: 0.6515 - val_loss: 0.4396 - val_accuracy: 0.8958\n",
            "Epoch 78/1000\n",
            "132/141 [===========================>..] - ETA: 0s - loss: 0.9905 - accuracy: 0.6472\n",
            "Epoch 78: saving model to model\\aslr_model.hdf5\n",
            "141/141 [==============================] - 0s 2ms/step - loss: 0.9872 - accuracy: 0.6485 - val_loss: 0.4291 - val_accuracy: 0.8947\n",
            "Epoch 79/1000\n",
            "132/141 [===========================>..] - ETA: 0s - loss: 0.9660 - accuracy: 0.6555\n",
            "Epoch 79: saving model to model\\aslr_model.hdf5\n",
            "141/141 [==============================] - 0s 2ms/step - loss: 0.9683 - accuracy: 0.6546 - val_loss: 0.4292 - val_accuracy: 0.9195\n",
            "Epoch 80/1000\n",
            "132/141 [===========================>..] - ETA: 0s - loss: 0.9605 - accuracy: 0.6556\n",
            "Epoch 80: saving model to model\\aslr_model.hdf5\n",
            "141/141 [==============================] - 0s 2ms/step - loss: 0.9613 - accuracy: 0.6562 - val_loss: 0.4434 - val_accuracy: 0.8932\n",
            "Epoch 81/1000\n",
            "129/141 [==========================>...] - ETA: 0s - loss: 0.9582 - accuracy: 0.6587\n",
            "Epoch 81: saving model to model\\aslr_model.hdf5\n",
            "141/141 [==============================] - 0s 2ms/step - loss: 0.9614 - accuracy: 0.6575 - val_loss: 0.4391 - val_accuracy: 0.8918\n",
            "Epoch 82/1000\n",
            "120/141 [========================>.....] - ETA: 0s - loss: 0.9630 - accuracy: 0.6551\n",
            "Epoch 82: saving model to model\\aslr_model.hdf5\n",
            "141/141 [==============================] - 0s 2ms/step - loss: 0.9568 - accuracy: 0.6559 - val_loss: 0.4354 - val_accuracy: 0.9027\n",
            "Epoch 83/1000\n",
            "132/141 [===========================>..] - ETA: 0s - loss: 0.9593 - accuracy: 0.6570\n",
            "Epoch 83: saving model to model\\aslr_model.hdf5\n",
            "141/141 [==============================] - 0s 2ms/step - loss: 0.9628 - accuracy: 0.6571 - val_loss: 0.4161 - val_accuracy: 0.9158\n",
            "Epoch 84/1000\n",
            "124/141 [=========================>....] - ETA: 0s - loss: 0.9566 - accuracy: 0.6584\n",
            "Epoch 84: saving model to model\\aslr_model.hdf5\n",
            "141/141 [==============================] - 0s 2ms/step - loss: 0.9528 - accuracy: 0.6583 - val_loss: 0.4118 - val_accuracy: 0.9103\n",
            "Epoch 85/1000\n",
            "110/141 [======================>.......] - ETA: 0s - loss: 0.9638 - accuracy: 0.6593\n",
            "Epoch 85: saving model to model\\aslr_model.hdf5\n",
            "141/141 [==============================] - 0s 2ms/step - loss: 0.9593 - accuracy: 0.6607 - val_loss: 0.4339 - val_accuracy: 0.8863\n",
            "Epoch 86/1000\n",
            "132/141 [===========================>..] - ETA: 0s - loss: 0.9685 - accuracy: 0.6523\n",
            "Epoch 86: saving model to model\\aslr_model.hdf5\n",
            "141/141 [==============================] - 0s 2ms/step - loss: 0.9672 - accuracy: 0.6536 - val_loss: 0.4145 - val_accuracy: 0.9098\n",
            "Epoch 87/1000\n",
            "115/141 [=======================>......] - ETA: 0s - loss: 0.9505 - accuracy: 0.6599\n",
            "Epoch 87: saving model to model\\aslr_model.hdf5\n",
            "141/141 [==============================] - 0s 3ms/step - loss: 0.9517 - accuracy: 0.6619 - val_loss: 0.4217 - val_accuracy: 0.9093\n",
            "Epoch 88/1000\n",
            "129/141 [==========================>...] - ETA: 0s - loss: 0.9536 - accuracy: 0.6579\n",
            "Epoch 88: saving model to model\\aslr_model.hdf5\n",
            "141/141 [==============================] - 0s 2ms/step - loss: 0.9506 - accuracy: 0.6584 - val_loss: 0.4118 - val_accuracy: 0.9087\n",
            "Epoch 89/1000\n",
            "132/141 [===========================>..] - ETA: 0s - loss: 0.9555 - accuracy: 0.6557\n",
            "Epoch 89: saving model to model\\aslr_model.hdf5\n",
            "141/141 [==============================] - 0s 2ms/step - loss: 0.9539 - accuracy: 0.6572 - val_loss: 0.4196 - val_accuracy: 0.9030\n",
            "Epoch 90/1000\n",
            "121/141 [========================>.....] - ETA: 0s - loss: 0.9484 - accuracy: 0.6572\n",
            "Epoch 90: saving model to model\\aslr_model.hdf5\n",
            "141/141 [==============================] - 0s 2ms/step - loss: 0.9470 - accuracy: 0.6588 - val_loss: 0.4068 - val_accuracy: 0.9080\n",
            "Epoch 91/1000\n",
            "122/141 [========================>.....] - ETA: 0s - loss: 0.9551 - accuracy: 0.6579\n",
            "Epoch 91: saving model to model\\aslr_model.hdf5\n",
            "141/141 [==============================] - 0s 2ms/step - loss: 0.9510 - accuracy: 0.6592 - val_loss: 0.4080 - val_accuracy: 0.9043\n",
            "Epoch 92/1000\n",
            "133/141 [===========================>..] - ETA: 0s - loss: 0.9420 - accuracy: 0.6624\n",
            "Epoch 92: saving model to model\\aslr_model.hdf5\n",
            "141/141 [==============================] - 0s 2ms/step - loss: 0.9413 - accuracy: 0.6628 - val_loss: 0.4183 - val_accuracy: 0.9032\n",
            "Epoch 93/1000\n",
            "125/141 [=========================>....] - ETA: 0s - loss: 0.9327 - accuracy: 0.6677\n",
            "Epoch 93: saving model to model\\aslr_model.hdf5\n",
            "141/141 [==============================] - 0s 2ms/step - loss: 0.9311 - accuracy: 0.6680 - val_loss: 0.4169 - val_accuracy: 0.9092\n",
            "Epoch 94/1000\n",
            "129/141 [==========================>...] - ETA: 0s - loss: 0.9451 - accuracy: 0.6636\n",
            "Epoch 94: saving model to model\\aslr_model.hdf5\n",
            "141/141 [==============================] - 0s 2ms/step - loss: 0.9426 - accuracy: 0.6637 - val_loss: 0.4277 - val_accuracy: 0.8967\n",
            "Epoch 95/1000\n",
            "132/141 [===========================>..] - ETA: 0s - loss: 0.9396 - accuracy: 0.6629\n",
            "Epoch 95: saving model to model\\aslr_model.hdf5\n",
            "141/141 [==============================] - 0s 3ms/step - loss: 0.9416 - accuracy: 0.6620 - val_loss: 0.4133 - val_accuracy: 0.9083\n",
            "Epoch 96/1000\n",
            "131/141 [==========================>...] - ETA: 0s - loss: 0.9375 - accuracy: 0.6635\n",
            "Epoch 96: saving model to model\\aslr_model.hdf5\n",
            "141/141 [==============================] - 0s 2ms/step - loss: 0.9382 - accuracy: 0.6637 - val_loss: 0.4099 - val_accuracy: 0.9057\n",
            "Epoch 97/1000\n",
            "132/141 [===========================>..] - ETA: 0s - loss: 0.9485 - accuracy: 0.6604\n",
            "Epoch 97: saving model to model\\aslr_model.hdf5\n",
            "141/141 [==============================] - 0s 2ms/step - loss: 0.9448 - accuracy: 0.6623 - val_loss: 0.4180 - val_accuracy: 0.9083\n",
            "Epoch 98/1000\n",
            "129/141 [==========================>...] - ETA: 0s - loss: 0.9347 - accuracy: 0.6619\n",
            "Epoch 98: saving model to model\\aslr_model.hdf5\n",
            "141/141 [==============================] - 0s 2ms/step - loss: 0.9328 - accuracy: 0.6631 - val_loss: 0.4118 - val_accuracy: 0.9112\n",
            "Epoch 99/1000\n",
            "121/141 [========================>.....] - ETA: 0s - loss: 0.9474 - accuracy: 0.6664\n",
            "Epoch 99: saving model to model\\aslr_model.hdf5\n",
            "141/141 [==============================] - 0s 2ms/step - loss: 0.9445 - accuracy: 0.6663 - val_loss: 0.4288 - val_accuracy: 0.8810\n",
            "Epoch 100/1000\n",
            "130/141 [==========================>...] - ETA: 0s - loss: 0.9459 - accuracy: 0.6637\n",
            "Epoch 100: saving model to model\\aslr_model.hdf5\n",
            "141/141 [==============================] - 0s 2ms/step - loss: 0.9433 - accuracy: 0.6630 - val_loss: 0.4117 - val_accuracy: 0.9077\n",
            "Epoch 101/1000\n",
            "131/141 [==========================>...] - ETA: 0s - loss: 0.9391 - accuracy: 0.6620\n",
            "Epoch 101: saving model to model\\aslr_model.hdf5\n",
            "141/141 [==============================] - 0s 2ms/step - loss: 0.9370 - accuracy: 0.6630 - val_loss: 0.4142 - val_accuracy: 0.9082\n",
            "Epoch 102/1000\n",
            "129/141 [==========================>...] - ETA: 0s - loss: 0.9219 - accuracy: 0.6730\n",
            "Epoch 102: saving model to model\\aslr_model.hdf5\n",
            "141/141 [==============================] - 0s 2ms/step - loss: 0.9267 - accuracy: 0.6714 - val_loss: 0.4261 - val_accuracy: 0.8830\n",
            "Epoch 103/1000\n",
            "132/141 [===========================>..] - ETA: 0s - loss: 0.9356 - accuracy: 0.6673\n",
            "Epoch 103: saving model to model\\aslr_model.hdf5\n",
            "141/141 [==============================] - 0s 2ms/step - loss: 0.9343 - accuracy: 0.6674 - val_loss: 0.4128 - val_accuracy: 0.9017\n",
            "Epoch 104/1000\n",
            "132/141 [===========================>..] - ETA: 0s - loss: 0.9366 - accuracy: 0.6646\n",
            "Epoch 104: saving model to model\\aslr_model.hdf5\n",
            "141/141 [==============================] - 0s 2ms/step - loss: 0.9380 - accuracy: 0.6628 - val_loss: 0.4163 - val_accuracy: 0.9062\n",
            "Epoch 105/1000\n",
            "132/141 [===========================>..] - ETA: 0s - loss: 0.9393 - accuracy: 0.6631\n",
            "Epoch 105: saving model to model\\aslr_model.hdf5\n",
            "141/141 [==============================] - 0s 3ms/step - loss: 0.9398 - accuracy: 0.6626 - val_loss: 0.4140 - val_accuracy: 0.8818\n",
            "Epoch 106/1000\n",
            "130/141 [==========================>...] - ETA: 0s - loss: 0.9423 - accuracy: 0.6630\n",
            "Epoch 106: saving model to model\\aslr_model.hdf5\n",
            "141/141 [==============================] - 0s 2ms/step - loss: 0.9458 - accuracy: 0.6619 - val_loss: 0.4197 - val_accuracy: 0.9087\n",
            "Epoch 107/1000\n",
            "127/141 [==========================>...] - ETA: 0s - loss: 0.9257 - accuracy: 0.6668\n",
            "Epoch 107: saving model to model\\aslr_model.hdf5\n",
            "141/141 [==============================] - 0s 2ms/step - loss: 0.9285 - accuracy: 0.6660 - val_loss: 0.4101 - val_accuracy: 0.9043\n",
            "Epoch 108/1000\n",
            "127/141 [==========================>...] - ETA: 0s - loss: 0.9287 - accuracy: 0.6714\n",
            "Epoch 108: saving model to model\\aslr_model.hdf5\n",
            "141/141 [==============================] - 0s 2ms/step - loss: 0.9314 - accuracy: 0.6697 - val_loss: 0.4284 - val_accuracy: 0.9023\n",
            "Epoch 109/1000\n",
            "133/141 [===========================>..] - ETA: 0s - loss: 0.9164 - accuracy: 0.6719\n",
            "Epoch 109: saving model to model\\aslr_model.hdf5\n",
            "141/141 [==============================] - 0s 2ms/step - loss: 0.9149 - accuracy: 0.6726 - val_loss: 0.4269 - val_accuracy: 0.8997\n",
            "Epoch 110/1000\n",
            "128/141 [==========================>...] - ETA: 0s - loss: 0.9371 - accuracy: 0.6662\n",
            "Epoch 110: saving model to model\\aslr_model.hdf5\n",
            "141/141 [==============================] - 0s 2ms/step - loss: 0.9316 - accuracy: 0.6675 - val_loss: 0.4268 - val_accuracy: 0.9020\n",
            "Epoch 110: early stopping\n"
          ]
        },
        {
          "data": {
            "text/plain": [
              "<keras.callbacks.History at 0x2137badb280>"
            ]
          },
          "execution_count": 11,
          "metadata": {},
          "output_type": "execute_result"
        }
      ],
      "source": [
        "model.fit(\n",
        "    X_train,\n",
        "    y_train,\n",
        "    epochs=1000,\n",
        "    batch_size=128,\n",
        "    validation_data=(X_test, y_test),\n",
        "    callbacks=[cp_callback, es_callback]\n",
        ")"
      ]
    },
    {
      "cell_type": "code",
      "execution_count": 12,
      "metadata": {
        "colab": {
          "base_uri": "https://localhost:8080/"
        },
        "id": "pxvb2Y299hE3",
        "outputId": "59eb3185-2e37-4b9e-bc9d-ab1b8ac29b7f"
      },
      "outputs": [
        {
          "name": "stdout",
          "output_type": "stream",
          "text": [
            "47/47 [==============================] - 0s 1ms/step - loss: 0.4268 - accuracy: 0.9020\n"
          ]
        }
      ],
      "source": [
        "# Model evaluation\n",
        "val_loss, val_acc = model.evaluate(X_test, y_test, batch_size=128)"
      ]
    },
    {
      "cell_type": "code",
      "execution_count": 13,
      "metadata": {
        "id": "RBkmDeUW9hE4"
      },
      "outputs": [],
      "source": [
        "# Loading the saved model\n",
        "model = tf.keras.models.load_model(model_save_path)"
      ]
    },
    {
      "cell_type": "code",
      "execution_count": 14,
      "metadata": {
        "colab": {
          "base_uri": "https://localhost:8080/"
        },
        "id": "tFz9Tb0I9hE4",
        "outputId": "1c3b3528-54ae-4ee2-ab04-77429211cbef"
      },
      "outputs": [
        {
          "name": "stdout",
          "output_type": "stream",
          "text": [
            "1/1 [==============================] - 0s 83ms/step\n",
            "[9.28988792e-24 3.51991423e-17 3.66552873e-15 2.09119802e-19\n",
            " 0.00000000e+00 4.51181108e-29 6.66217029e-01 3.33782494e-01\n",
            " 4.38757271e-27 0.00000000e+00 1.95950818e-25 0.00000000e+00\n",
            " 0.00000000e+00 4.25115703e-18 9.70987242e-23 1.67605404e-20\n",
            " 4.52224990e-23 3.42541640e-31 3.77484184e-07 1.47823105e-22\n",
            " 0.00000000e+00 0.00000000e+00 2.55595456e-09 1.17835816e-17]\n",
            "6\n"
          ]
        }
      ],
      "source": [
        "# Inference test\n",
        "predict_result = model.predict(np.array([X_test[0]]))\n",
        "print(np.squeeze(predict_result))\n",
        "print(np.argmax(np.squeeze(predict_result)))"
      ]
    },
    {
      "attachments": {},
      "cell_type": "markdown",
      "metadata": {
        "id": "S3U4yNWx9hE4"
      },
      "source": [
        "# Confusion matrix"
      ]
    },
    {
      "cell_type": "code",
      "execution_count": 15,
      "metadata": {},
      "outputs": [
        {
          "name": "stdout",
          "output_type": "stream",
          "text": [
            "188/188 [==============================] - 0s 834us/step\n"
          ]
        }
      ],
      "source": [
        "Y_pred = model.predict(X_test)\n",
        "y_pred = np.argmax(Y_pred, axis=1)\n"
      ]
    },
    {
      "cell_type": "code",
      "execution_count": 16,
      "metadata": {},
      "outputs": [
        {
          "name": "stdout",
          "output_type": "stream",
          "text": [
            "188/188 [==============================] - 0s 698us/step\n"
          ]
        },
        {
          "data": {
            "image/png": "[encoded data removed]",
            "text/plain": [
              "<Figure size 1200x900 with 2 Axes>"
            ]
          },
          "metadata": {},
          "output_type": "display_data"
        },
        {
          "name": "stdout",
          "output_type": "stream",
          "text": [
            "Accuracy   : 0.902\n"
          ]
        }
      ],
      "source": [
        "from sklearn.metrics import accuracy_score, precision_score, recall_score, f1_score\n",
        "import pandas as pd\n",
        "import seaborn as sns\n",
        "import matplotlib.pyplot as plt\n",
        "from sklearn.metrics import confusion_matrix\n",
        "\n",
        "labels = [\"A\", \"B\", \"C\", \"D\", \"E\", \"F\", \"G\", \"H\", \"I\", \"K\", \"L\", \"M\", \"N\", \"O\", \"P\", \"Q\", \"R\", \"S\", \"T\", \"U\", \"V\", \"W\", \"X\", \"Y\"]\n",
        "prediction = model.predict(X_test)\n",
        "y_pred = np.argmax(prediction, axis=1)\n",
        "\n",
        "\n",
        "cm = confusion_matrix(y_test, y_pred)\n",
        "\n",
        "#Plot the confusion matrix.\n",
        "plt.subplots(figsize=(12, 9))\n",
        "\n",
        "sns.heatmap(cm,\n",
        "            annot=True,\n",
        "            fmt='g',\n",
        "            xticklabels=labels,\n",
        "            yticklabels=labels)\n",
        "\n",
        "plt.title('Confusion Matrix',fontsize=17)\n",
        "plt.ylabel('Prediction',fontsize=13)\n",
        "plt.xlabel('Actual',fontsize=13)\n",
        "plt.show()\n",
        "\n",
        "\n",
        "# Finding precision and recall\n",
        "accuracy = accuracy_score(y_test, y_pred)\n",
        "print(\"Accuracy   :\", accuracy)\n"
      ]
    },
    {
      "attachments": {},
      "cell_type": "markdown",
      "metadata": {
        "id": "FNP6aqzc9hE5"
      },
      "source": [
        "# Convert to model for Tensorflow-Lite"
      ]
    },
    {
      "cell_type": "code",
      "execution_count": 17,
      "metadata": {
        "id": "ODjnYyld9hE6"
      },
      "outputs": [],
      "source": [
        "# Save as a model dedicated to inference\n",
        "model.save(model_save_path, include_optimizer=False)"
      ]
    },
    {
      "cell_type": "code",
      "execution_count": 18,
      "metadata": {
        "colab": {
          "base_uri": "https://localhost:8080/"
        },
        "id": "zRfuK8Y59hE6",
        "outputId": "a4ca585c-b5d5-4244-8291-8674063209bb"
      },
      "outputs": [
        {
          "name": "stderr",
          "output_type": "stream",
          "text": [
            "WARNING:absl:Found untraced functions such as _update_step_xla while saving (showing 1 of 1). These functions will not be directly callable after loading.\n"
          ]
        },
        {
          "name": "stdout",
          "output_type": "stream",
          "text": [
            "INFO:tensorflow:Assets written to: C:\\Users\\amurm\\AppData\\Local\\Temp\\tmpgqghto_f\\assets\n"
          ]
        },
        {
          "name": "stderr",
          "output_type": "stream",
          "text": [
            "INFO:tensorflow:Assets written to: C:\\Users\\amurm\\AppData\\Local\\Temp\\tmpgqghto_f\\assets\n"
          ]
        },
        {
          "data": {
            "text/plain": [
              "7424"
            ]
          },
          "execution_count": 18,
          "metadata": {},
          "output_type": "execute_result"
        }
      ],
      "source": [
        "# Transform model (quantization)\n",
        "\n",
        "converter = tf.lite.TFLiteConverter.from_keras_model(model)\n",
        "converter.optimizations = [tf.lite.Optimize.DEFAULT]\n",
        "tflite_quantized_model = converter.convert()\n",
        "\n",
        "open(tflite_save_path, 'wb').write(tflite_quantized_model)"
      ]
    }
  ],
  "metadata": {
    "accelerator": "GPU",
    "colab": {
      "collapsed_sections": [],
      "name": "keypoint_classification_EN.ipynb",
      "provenance": [],
      "toc_visible": true
    },
    "kernelspec": {
      "display_name": "Python 3",
      "language": "python",
      "name": "python3"
    },
    "language_info": {
      "codemirror_mode": {
        "name": "ipython",
        "version": 3
      },
      "file_extension": ".py",
      "mimetype": "text/x-python",
      "name": "python",
      "nbconvert_exporter": "python",
      "pygments_lexer": "ipython3",
      "version": "3.10.8"
    }
  },
  "nbformat": 4,
  "nbformat_minor": 0
}
