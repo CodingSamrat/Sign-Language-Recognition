{
  "cells": [
    {
      "cell_type": "code",
      "execution_count": 19,
      "metadata": {
        "id": "igMyGnjE9hEp"
      },
      "outputs": [],
      "source": [
        "import csv\n",
        "\n",
        "import numpy as np\n",
        "import tensorflow as tf\n",
        "from sklearn.model_selection import train_test_split\n",
        "\n",
        "RANDOM_SEED = 42"
      ]
    },
    {
      "attachments": {},
      "cell_type": "markdown",
      "metadata": {
        "id": "t2HDvhIu9hEr"
      },
      "source": [
        "# Specify each path"
      ]
    },
    {
      "cell_type": "code",
      "execution_count": 20,
      "metadata": {
        "id": "9NvZP2Zn9hEy"
      },
      "outputs": [],
      "source": [
        "dataset = 'model/keypoint.csv'\n",
        "model_save_path = 'model/aslr_model.hdf5'\n",
        "tflite_save_path = 'model/aslr_model.tflite'"
      ]
    },
    {
      "attachments": {},
      "cell_type": "markdown",
      "metadata": {
        "id": "s5oMH7x19hEz"
      },
      "source": [
        "# Set number of classes"
      ]
    },
    {
      "cell_type": "code",
      "execution_count": 21,
      "metadata": {
        "id": "du4kodXL9hEz"
      },
      "outputs": [],
      "source": [
        "NUM_CLASSES = 24"
      ]
    },
    {
      "attachments": {},
      "cell_type": "markdown",
      "metadata": {
        "id": "XjnL0uso9hEz"
      },
      "source": [
        "# Dataset reading"
      ]
    },
    {
      "cell_type": "code",
      "execution_count": 22,
      "metadata": {
        "id": "QT5ZqtEz9hE0"
      },
      "outputs": [],
      "source": [
        "X_dataset = np.loadtxt(dataset, delimiter=',', dtype='float32', usecols=list(range(1, (21 * 2) + 1)))"
      ]
    },
    {
      "cell_type": "code",
      "execution_count": 23,
      "metadata": {
        "id": "QmoKFsp49hE0"
      },
      "outputs": [],
      "source": [
        "y_dataset = np.loadtxt(dataset, delimiter=',', dtype='int32', usecols=(0))"
      ]
    },
    {
      "cell_type": "code",
      "execution_count": 24,
      "metadata": {
        "id": "xQU7JTZ_9hE0"
      },
      "outputs": [],
      "source": [
        "X_train, X_test, y_train, y_test = train_test_split(X_dataset, y_dataset, train_size=0.75, random_state=RANDOM_SEED)"
      ]
    },
    {
      "attachments": {},
      "cell_type": "markdown",
      "metadata": {
        "id": "mxK_lETT9hE0"
      },
      "source": [
        "# Model building"
      ]
    },
    {
      "cell_type": "code",
      "execution_count": 25,
      "metadata": {
        "id": "vHBmUf1t9hE1"
      },
      "outputs": [],
      "source": [
        "model = tf.keras.models.Sequential([\n",
        "    tf.keras.layers.Input((21 * 2, )),\n",
        "    tf.keras.layers.Dropout(0.2),\n",
        "    tf.keras.layers.Dense(20, activation='relu'),\n",
        "    tf.keras.layers.Dropout(0.4),\n",
        "    tf.keras.layers.Dense(10, activation='relu'),\n",
        "    tf.keras.layers.Dense(NUM_CLASSES, activation='softmax')\n",
        "])"
      ]
    },
    {
      "cell_type": "code",
      "execution_count": 26,
      "metadata": {
        "colab": {
          "base_uri": "https://localhost:8080/"
        },
        "id": "ypqky9tc9hE1",
        "outputId": "5db082bb-30e3-4110-bf63-a1ee777ecd46"
      },
      "outputs": [
        {
          "name": "stdout",
          "output_type": "stream",
          "text": [
            "Model: \"sequential_1\"\n",
            "_________________________________________________________________\n",
            " Layer (type)                Output Shape              Param #   \n",
            "=================================================================\n",
            " dropout_2 (Dropout)         (None, 42)                0         \n",
            "                                                                 \n",
            " dense_3 (Dense)             (None, 20)                860       \n",
            "                                                                 \n",
            " dropout_3 (Dropout)         (None, 20)                0         \n",
            "                                                                 \n",
            " dense_4 (Dense)             (None, 10)                210       \n",
            "                                                                 \n",
            " dense_5 (Dense)             (None, 24)                264       \n",
            "                                                                 \n",
            "=================================================================\n",
            "Total params: 1,334\n",
            "Trainable params: 1,334\n",
            "Non-trainable params: 0\n",
            "_________________________________________________________________\n"
          ]
        }
      ],
      "source": [
        "model.summary()  # tf.keras.utils.plot_model(model, show_shapes=True)"
      ]
    },
    {
      "cell_type": "code",
      "execution_count": 27,
      "metadata": {
        "id": "MbMjOflQ9hE1"
      },
      "outputs": [],
      "source": [
        "# Model checkpoint callback\n",
        "cp_callback = tf.keras.callbacks.ModelCheckpoint(\n",
        "    model_save_path, verbose=1, save_weights_only=False)\n",
        "# Callback for early stopping\n",
        "es_callback = tf.keras.callbacks.EarlyStopping(patience=20, verbose=1)"
      ]
    },
    {
      "cell_type": "code",
      "execution_count": 28,
      "metadata": {
        "id": "c3Dac0M_9hE2"
      },
      "outputs": [],
      "source": [
        "# Model compilation\n",
        "model.compile(\n",
        "    optimizer='adam',\n",
        "    loss='sparse_categorical_crossentropy',\n",
        "    metrics=['accuracy']\n",
        ")"
      ]
    },
    {
      "attachments": {},
      "cell_type": "markdown",
      "metadata": {
        "id": "7XI0j1Iu9hE2"
      },
      "source": [
        "# Model training"
      ]
    },
    {
      "cell_type": "code",
      "execution_count": 29,
      "metadata": {
        "colab": {
          "base_uri": "https://localhost:8080/"
        },
        "id": "WirBl-JE9hE3",
        "outputId": "71b30ca2-8294-4d9d-8aa2-800d90d399de",
        "scrolled": true
      },
      "outputs": [
        {
          "name": "stdout",
          "output_type": "stream",
          "text": [
            "Epoch 1/1000\n",
            "129/141 [==========================>...] - ETA: 0s - loss: 3.0530 - accuracy: 0.0963\n",
            "Epoch 1: saving model to model\\aslr_model.hdf5\n",
            "141/141 [==============================] - 1s 2ms/step - loss: 3.0366 - accuracy: 0.1006 - val_loss: 2.7686 - val_accuracy: 0.1982\n",
            "Epoch 2/1000\n",
            "131/141 [==========================>...] - ETA: 0s - loss: 2.6846 - accuracy: 0.1676\n",
            "Epoch 2: saving model to model\\aslr_model.hdf5\n",
            "141/141 [==============================] - 0s 2ms/step - loss: 2.6737 - accuracy: 0.1702 - val_loss: 2.4670 - val_accuracy: 0.2843\n",
            "Epoch 3/1000\n",
            "132/141 [===========================>..] - ETA: 0s - loss: 2.4367 - accuracy: 0.2312\n",
            "Epoch 3: saving model to model\\aslr_model.hdf5\n",
            "141/141 [==============================] - 0s 2ms/step - loss: 2.4308 - accuracy: 0.2318 - val_loss: 2.1753 - val_accuracy: 0.3287\n",
            "Epoch 4/1000\n",
            "130/141 [==========================>...] - ETA: 0s - loss: 2.1934 - accuracy: 0.2963\n",
            "Epoch 4: saving model to model\\aslr_model.hdf5\n",
            "141/141 [==============================] - 0s 2ms/step - loss: 2.1864 - accuracy: 0.2963 - val_loss: 1.8142 - val_accuracy: 0.5340\n",
            "Epoch 5/1000\n",
            "133/141 [===========================>..] - ETA: 0s - loss: 1.9719 - accuracy: 0.3413\n",
            "Epoch 5: saving model to model\\aslr_model.hdf5\n",
            "141/141 [==============================] - 0s 2ms/step - loss: 1.9663 - accuracy: 0.3431 - val_loss: 1.5738 - val_accuracy: 0.5743\n",
            "Epoch 6/1000\n",
            "106/141 [=====================>........] - ETA: 0s - loss: 1.8450 - accuracy: 0.3713\n",
            "Epoch 6: saving model to model\\aslr_model.hdf5\n",
            "141/141 [==============================] - 0s 2ms/step - loss: 1.8396 - accuracy: 0.3729 - val_loss: 1.4319 - val_accuracy: 0.6620\n",
            "Epoch 7/1000\n",
            "121/141 [========================>.....] - ETA: 0s - loss: 1.7593 - accuracy: 0.4002\n",
            "Epoch 7: saving model to model\\aslr_model.hdf5\n",
            "141/141 [==============================] - 0s 2ms/step - loss: 1.7566 - accuracy: 0.4012 - val_loss: 1.3233 - val_accuracy: 0.6890\n",
            "Epoch 8/1000\n",
            "120/141 [========================>.....] - ETA: 0s - loss: 1.6757 - accuracy: 0.4219\n",
            "Epoch 8: saving model to model\\aslr_model.hdf5\n",
            "141/141 [==============================] - 0s 2ms/step - loss: 1.6718 - accuracy: 0.4227 - val_loss: 1.2127 - val_accuracy: 0.7478\n",
            "Epoch 9/1000\n",
            "125/141 [=========================>....] - ETA: 0s - loss: 1.6209 - accuracy: 0.4398\n",
            "Epoch 9: saving model to model\\aslr_model.hdf5\n",
            "141/141 [==============================] - 0s 2ms/step - loss: 1.6174 - accuracy: 0.4414 - val_loss: 1.1494 - val_accuracy: 0.8170\n",
            "Epoch 10/1000\n",
            "122/141 [========================>.....] - ETA: 0s - loss: 1.5645 - accuracy: 0.4567\n",
            "Epoch 10: saving model to model\\aslr_model.hdf5\n",
            "141/141 [==============================] - 0s 2ms/step - loss: 1.5666 - accuracy: 0.4564 - val_loss: 1.0780 - val_accuracy: 0.8112\n",
            "Epoch 11/1000\n",
            "122/141 [========================>.....] - ETA: 0s - loss: 1.5224 - accuracy: 0.4722\n",
            "Epoch 11: saving model to model\\aslr_model.hdf5\n",
            "141/141 [==============================] - 0s 2ms/step - loss: 1.5181 - accuracy: 0.4728 - val_loss: 1.0210 - val_accuracy: 0.8265\n",
            "Epoch 12/1000\n",
            "121/141 [========================>.....] - ETA: 0s - loss: 1.4931 - accuracy: 0.4783\n",
            "Epoch 12: saving model to model\\aslr_model.hdf5\n",
            "141/141 [==============================] - 0s 2ms/step - loss: 1.4914 - accuracy: 0.4802 - val_loss: 0.9675 - val_accuracy: 0.8373\n",
            "Epoch 13/1000\n",
            "124/141 [=========================>....] - ETA: 0s - loss: 1.4694 - accuracy: 0.4802\n",
            "Epoch 13: saving model to model\\aslr_model.hdf5\n",
            "141/141 [==============================] - 0s 2ms/step - loss: 1.4633 - accuracy: 0.4827 - val_loss: 0.9397 - val_accuracy: 0.8508\n",
            "Epoch 14/1000\n",
            "139/141 [============================>.] - ETA: 0s - loss: 1.4172 - accuracy: 0.5085\n",
            "Epoch 14: saving model to model\\aslr_model.hdf5\n",
            "141/141 [==============================] - 0s 2ms/step - loss: 1.4168 - accuracy: 0.5088 - val_loss: 0.9025 - val_accuracy: 0.8485\n",
            "Epoch 15/1000\n",
            "119/141 [========================>.....] - ETA: 0s - loss: 1.4072 - accuracy: 0.5064\n",
            "Epoch 15: saving model to model\\aslr_model.hdf5\n",
            "141/141 [==============================] - 0s 2ms/step - loss: 1.4073 - accuracy: 0.5094 - val_loss: 0.8847 - val_accuracy: 0.8347\n",
            "Epoch 16/1000\n",
            "111/141 [======================>.......] - ETA: 0s - loss: 1.3849 - accuracy: 0.5202\n",
            "Epoch 16: saving model to model\\aslr_model.hdf5\n",
            "141/141 [==============================] - 0s 2ms/step - loss: 1.3780 - accuracy: 0.5207 - val_loss: 0.8592 - val_accuracy: 0.8373\n",
            "Epoch 17/1000\n",
            "116/141 [=======================>......] - ETA: 0s - loss: 1.3602 - accuracy: 0.5253\n",
            "Epoch 17: saving model to model\\aslr_model.hdf5\n",
            "141/141 [==============================] - 0s 2ms/step - loss: 1.3595 - accuracy: 0.5243 - val_loss: 0.8332 - val_accuracy: 0.8452\n",
            "Epoch 18/1000\n",
            "118/141 [========================>.....] - ETA: 0s - loss: 1.3328 - accuracy: 0.5347\n",
            "Epoch 18: saving model to model\\aslr_model.hdf5\n",
            "141/141 [==============================] - 0s 2ms/step - loss: 1.3327 - accuracy: 0.5342 - val_loss: 0.8084 - val_accuracy: 0.8683\n",
            "Epoch 19/1000\n",
            "122/141 [========================>.....] - ETA: 0s - loss: 1.3152 - accuracy: 0.5444\n",
            "Epoch 19: saving model to model\\aslr_model.hdf5\n",
            "141/141 [==============================] - 0s 2ms/step - loss: 1.3114 - accuracy: 0.5453 - val_loss: 0.7840 - val_accuracy: 0.8608\n",
            "Epoch 20/1000\n",
            "116/141 [=======================>......] - ETA: 0s - loss: 1.2944 - accuracy: 0.5512\n",
            "Epoch 20: saving model to model\\aslr_model.hdf5\n",
            "141/141 [==============================] - 0s 2ms/step - loss: 1.3031 - accuracy: 0.5498 - val_loss: 0.7773 - val_accuracy: 0.8702\n",
            "Epoch 21/1000\n",
            "119/141 [========================>.....] - ETA: 0s - loss: 1.2779 - accuracy: 0.5582\n",
            "Epoch 21: saving model to model\\aslr_model.hdf5\n",
            "141/141 [==============================] - 0s 2ms/step - loss: 1.2735 - accuracy: 0.5593 - val_loss: 0.7475 - val_accuracy: 0.8742\n",
            "Epoch 22/1000\n",
            "122/141 [========================>.....] - ETA: 0s - loss: 1.2525 - accuracy: 0.5647\n",
            "Epoch 22: saving model to model\\aslr_model.hdf5\n",
            "141/141 [==============================] - 0s 2ms/step - loss: 1.2552 - accuracy: 0.5631 - val_loss: 0.7190 - val_accuracy: 0.8765\n",
            "Epoch 23/1000\n",
            "121/141 [========================>.....] - ETA: 0s - loss: 1.2627 - accuracy: 0.5628\n",
            "Epoch 23: saving model to model\\aslr_model.hdf5\n",
            "141/141 [==============================] - 0s 2ms/step - loss: 1.2568 - accuracy: 0.5635 - val_loss: 0.7171 - val_accuracy: 0.8835\n",
            "Epoch 24/1000\n",
            "118/141 [========================>.....] - ETA: 0s - loss: 1.2283 - accuracy: 0.5697\n",
            "Epoch 24: saving model to model\\aslr_model.hdf5\n",
            "141/141 [==============================] - 0s 2ms/step - loss: 1.2378 - accuracy: 0.5682 - val_loss: 0.7078 - val_accuracy: 0.8895\n",
            "Epoch 25/1000\n",
            "114/141 [=======================>......] - ETA: 0s - loss: 1.2167 - accuracy: 0.5698\n",
            "Epoch 25: saving model to model\\aslr_model.hdf5\n",
            "141/141 [==============================] - 0s 2ms/step - loss: 1.2212 - accuracy: 0.5698 - val_loss: 0.6930 - val_accuracy: 0.9055\n",
            "Epoch 26/1000\n",
            "118/141 [========================>.....] - ETA: 0s - loss: 1.2186 - accuracy: 0.5726\n",
            "Epoch 26: saving model to model\\aslr_model.hdf5\n",
            "141/141 [==============================] - 0s 2ms/step - loss: 1.2089 - accuracy: 0.5757 - val_loss: 0.6775 - val_accuracy: 0.8945\n",
            "Epoch 27/1000\n",
            "121/141 [========================>.....] - ETA: 0s - loss: 1.2011 - accuracy: 0.5796\n",
            "Epoch 27: saving model to model\\aslr_model.hdf5\n",
            "141/141 [==============================] - 0s 2ms/step - loss: 1.1981 - accuracy: 0.5799 - val_loss: 0.6689 - val_accuracy: 0.8862\n",
            "Epoch 28/1000\n",
            "112/141 [======================>.......] - ETA: 0s - loss: 1.1846 - accuracy: 0.5865\n",
            "Epoch 28: saving model to model\\aslr_model.hdf5\n",
            "141/141 [==============================] - 0s 2ms/step - loss: 1.1875 - accuracy: 0.5863 - val_loss: 0.6461 - val_accuracy: 0.8810\n",
            "Epoch 29/1000\n",
            "118/141 [========================>.....] - ETA: 0s - loss: 1.1699 - accuracy: 0.5925\n",
            "Epoch 29: saving model to model\\aslr_model.hdf5\n",
            "141/141 [==============================] - 0s 2ms/step - loss: 1.1690 - accuracy: 0.5919 - val_loss: 0.6419 - val_accuracy: 0.8947\n",
            "Epoch 30/1000\n",
            "121/141 [========================>.....] - ETA: 0s - loss: 1.1688 - accuracy: 0.5928\n",
            "Epoch 30: saving model to model\\aslr_model.hdf5\n",
            "141/141 [==============================] - 0s 2ms/step - loss: 1.1664 - accuracy: 0.5930 - val_loss: 0.6421 - val_accuracy: 0.8743\n",
            "Epoch 31/1000\n",
            "139/141 [============================>.] - ETA: 0s - loss: 1.1587 - accuracy: 0.5957\n",
            "Epoch 31: saving model to model\\aslr_model.hdf5\n",
            "141/141 [==============================] - 0s 2ms/step - loss: 1.1593 - accuracy: 0.5950 - val_loss: 0.6249 - val_accuracy: 0.8802\n",
            "Epoch 32/1000\n",
            "117/141 [=======================>......] - ETA: 0s - loss: 1.1505 - accuracy: 0.5991\n",
            "Epoch 32: saving model to model\\aslr_model.hdf5\n",
            "141/141 [==============================] - 0s 2ms/step - loss: 1.1482 - accuracy: 0.6002 - val_loss: 0.6400 - val_accuracy: 0.8648\n",
            "Epoch 33/1000\n",
            "124/141 [=========================>....] - ETA: 0s - loss: 1.1457 - accuracy: 0.5944\n",
            "Epoch 33: saving model to model\\aslr_model.hdf5\n",
            "141/141 [==============================] - 0s 2ms/step - loss: 1.1411 - accuracy: 0.5978 - val_loss: 0.6207 - val_accuracy: 0.8685\n",
            "Epoch 34/1000\n",
            "120/141 [========================>.....] - ETA: 0s - loss: 1.1242 - accuracy: 0.6085\n",
            "Epoch 34: saving model to model\\aslr_model.hdf5\n",
            "141/141 [==============================] - 0s 2ms/step - loss: 1.1248 - accuracy: 0.6074 - val_loss: 0.6302 - val_accuracy: 0.8558\n",
            "Epoch 35/1000\n",
            "122/141 [========================>.....] - ETA: 0s - loss: 1.1189 - accuracy: 0.6102\n",
            "Epoch 35: saving model to model\\aslr_model.hdf5\n",
            "141/141 [==============================] - 0s 2ms/step - loss: 1.1211 - accuracy: 0.6098 - val_loss: 0.6153 - val_accuracy: 0.8398\n",
            "Epoch 36/1000\n",
            "115/141 [=======================>......] - ETA: 0s - loss: 1.1005 - accuracy: 0.6141\n",
            "Epoch 36: saving model to model\\aslr_model.hdf5\n",
            "141/141 [==============================] - 0s 2ms/step - loss: 1.1029 - accuracy: 0.6134 - val_loss: 0.6123 - val_accuracy: 0.8820\n",
            "Epoch 37/1000\n",
            "121/141 [========================>.....] - ETA: 0s - loss: 1.0827 - accuracy: 0.6187\n",
            "Epoch 37: saving model to model\\aslr_model.hdf5\n",
            "141/141 [==============================] - 0s 2ms/step - loss: 1.0851 - accuracy: 0.6172 - val_loss: 0.5863 - val_accuracy: 0.8922\n",
            "Epoch 38/1000\n",
            "117/141 [=======================>......] - ETA: 0s - loss: 1.1025 - accuracy: 0.6120\n",
            "Epoch 38: saving model to model\\aslr_model.hdf5\n",
            "141/141 [==============================] - 0s 2ms/step - loss: 1.1012 - accuracy: 0.6125 - val_loss: 0.6009 - val_accuracy: 0.8557\n",
            "Epoch 39/1000\n",
            "122/141 [========================>.....] - ETA: 0s - loss: 1.0987 - accuracy: 0.6178\n",
            "Epoch 39: saving model to model\\aslr_model.hdf5\n",
            "141/141 [==============================] - 0s 2ms/step - loss: 1.0969 - accuracy: 0.6178 - val_loss: 0.5957 - val_accuracy: 0.8822\n",
            "Epoch 40/1000\n",
            "120/141 [========================>.....] - ETA: 0s - loss: 1.0849 - accuracy: 0.6206\n",
            "Epoch 40: saving model to model\\aslr_model.hdf5\n",
            "141/141 [==============================] - 0s 2ms/step - loss: 1.0849 - accuracy: 0.6197 - val_loss: 0.5799 - val_accuracy: 0.8325\n",
            "Epoch 41/1000\n",
            "122/141 [========================>.....] - ETA: 0s - loss: 1.0743 - accuracy: 0.6255\n",
            "Epoch 41: saving model to model\\aslr_model.hdf5\n",
            "141/141 [==============================] - 0s 2ms/step - loss: 1.0760 - accuracy: 0.6239 - val_loss: 0.6008 - val_accuracy: 0.8605\n",
            "Epoch 42/1000\n",
            "121/141 [========================>.....] - ETA: 0s - loss: 1.0737 - accuracy: 0.6282\n",
            "Epoch 42: saving model to model\\aslr_model.hdf5\n",
            "141/141 [==============================] - 0s 2ms/step - loss: 1.0693 - accuracy: 0.6275 - val_loss: 0.5629 - val_accuracy: 0.8877\n",
            "Epoch 43/1000\n",
            "122/141 [========================>.....] - ETA: 0s - loss: 1.0705 - accuracy: 0.6286\n",
            "Epoch 43: saving model to model\\aslr_model.hdf5\n",
            "141/141 [==============================] - 0s 2ms/step - loss: 1.0675 - accuracy: 0.6289 - val_loss: 0.5856 - val_accuracy: 0.8557\n",
            "Epoch 44/1000\n",
            "123/141 [=========================>....] - ETA: 0s - loss: 1.0561 - accuracy: 0.6277\n",
            "Epoch 44: saving model to model\\aslr_model.hdf5\n",
            "141/141 [==============================] - 0s 2ms/step - loss: 1.0583 - accuracy: 0.6278 - val_loss: 0.5679 - val_accuracy: 0.8412\n",
            "Epoch 45/1000\n",
            "120/141 [========================>.....] - ETA: 0s - loss: 1.0414 - accuracy: 0.6340\n",
            "Epoch 45: saving model to model\\aslr_model.hdf5\n",
            "141/141 [==============================] - 0s 2ms/step - loss: 1.0463 - accuracy: 0.6346 - val_loss: 0.5704 - val_accuracy: 0.8668\n",
            "Epoch 46/1000\n",
            "121/141 [========================>.....] - ETA: 0s - loss: 1.0391 - accuracy: 0.6364\n",
            "Epoch 46: saving model to model\\aslr_model.hdf5\n",
            "141/141 [==============================] - 0s 2ms/step - loss: 1.0402 - accuracy: 0.6350 - val_loss: 0.5577 - val_accuracy: 0.8705\n",
            "Epoch 47/1000\n",
            "140/141 [============================>.] - ETA: 0s - loss: 1.0535 - accuracy: 0.6301\n",
            "Epoch 47: saving model to model\\aslr_model.hdf5\n",
            "141/141 [==============================] - 0s 2ms/step - loss: 1.0529 - accuracy: 0.6303 - val_loss: 0.5717 - val_accuracy: 0.8442\n",
            "Epoch 48/1000\n",
            "124/141 [=========================>....] - ETA: 0s - loss: 1.0349 - accuracy: 0.6368\n",
            "Epoch 48: saving model to model\\aslr_model.hdf5\n",
            "141/141 [==============================] - 0s 2ms/step - loss: 1.0304 - accuracy: 0.6370 - val_loss: 0.5458 - val_accuracy: 0.8647\n",
            "Epoch 49/1000\n",
            "127/141 [==========================>...] - ETA: 0s - loss: 1.0310 - accuracy: 0.6384\n",
            "Epoch 49: saving model to model\\aslr_model.hdf5\n",
            "141/141 [==============================] - 0s 2ms/step - loss: 1.0310 - accuracy: 0.6391 - val_loss: 0.5543 - val_accuracy: 0.8700\n",
            "Epoch 50/1000\n",
            "123/141 [=========================>....] - ETA: 0s - loss: 1.0354 - accuracy: 0.6355\n",
            "Epoch 50: saving model to model\\aslr_model.hdf5\n",
            "141/141 [==============================] - 0s 2ms/step - loss: 1.0353 - accuracy: 0.6364 - val_loss: 0.5654 - val_accuracy: 0.8675\n",
            "Epoch 51/1000\n",
            "119/141 [========================>.....] - ETA: 0s - loss: 1.0420 - accuracy: 0.6341\n",
            "Epoch 51: saving model to model\\aslr_model.hdf5\n",
            "141/141 [==============================] - 0s 2ms/step - loss: 1.0376 - accuracy: 0.6373 - val_loss: 0.5627 - val_accuracy: 0.8645\n",
            "Epoch 52/1000\n",
            "125/141 [=========================>....] - ETA: 0s - loss: 1.0273 - accuracy: 0.6387\n",
            "Epoch 52: saving model to model\\aslr_model.hdf5\n",
            "141/141 [==============================] - 0s 2ms/step - loss: 1.0269 - accuracy: 0.6373 - val_loss: 0.5496 - val_accuracy: 0.8725\n",
            "Epoch 53/1000\n",
            "124/141 [=========================>....] - ETA: 0s - loss: 1.0358 - accuracy: 0.6345\n",
            "Epoch 53: saving model to model\\aslr_model.hdf5\n",
            "141/141 [==============================] - 0s 2ms/step - loss: 1.0314 - accuracy: 0.6377 - val_loss: 0.5389 - val_accuracy: 0.8682\n",
            "Epoch 54/1000\n",
            "120/141 [========================>.....] - ETA: 0s - loss: 1.0134 - accuracy: 0.6440\n",
            "Epoch 54: saving model to model\\aslr_model.hdf5\n",
            "141/141 [==============================] - 0s 2ms/step - loss: 1.0091 - accuracy: 0.6459 - val_loss: 0.5456 - val_accuracy: 0.8410\n",
            "Epoch 55/1000\n",
            "110/141 [======================>.......] - ETA: 0s - loss: 0.9958 - accuracy: 0.6513\n",
            "Epoch 55: saving model to model\\aslr_model.hdf5\n",
            "141/141 [==============================] - 0s 2ms/step - loss: 0.9944 - accuracy: 0.6522 - val_loss: 0.5590 - val_accuracy: 0.8685\n",
            "Epoch 56/1000\n",
            "113/141 [=======================>......] - ETA: 0s - loss: 0.9899 - accuracy: 0.6520\n",
            "Epoch 56: saving model to model\\aslr_model.hdf5\n",
            "141/141 [==============================] - 0s 2ms/step - loss: 0.9915 - accuracy: 0.6521 - val_loss: 0.5218 - val_accuracy: 0.8447\n",
            "Epoch 57/1000\n",
            "120/141 [========================>.....] - ETA: 0s - loss: 0.9900 - accuracy: 0.6582\n",
            "Epoch 57: saving model to model\\aslr_model.hdf5\n",
            "141/141 [==============================] - 0s 2ms/step - loss: 0.9927 - accuracy: 0.6578 - val_loss: 0.5591 - val_accuracy: 0.8138\n",
            "Epoch 58/1000\n",
            "124/141 [=========================>....] - ETA: 0s - loss: 0.9862 - accuracy: 0.6593\n",
            "Epoch 58: saving model to model\\aslr_model.hdf5\n",
            "141/141 [==============================] - 0s 2ms/step - loss: 0.9867 - accuracy: 0.6571 - val_loss: 0.5422 - val_accuracy: 0.8325\n",
            "Epoch 59/1000\n",
            "116/141 [=======================>......] - ETA: 0s - loss: 0.9631 - accuracy: 0.6655\n",
            "Epoch 59: saving model to model\\aslr_model.hdf5\n",
            "141/141 [==============================] - 0s 2ms/step - loss: 0.9704 - accuracy: 0.6649 - val_loss: 0.5323 - val_accuracy: 0.8360\n",
            "Epoch 60/1000\n",
            "125/141 [=========================>....] - ETA: 0s - loss: 0.9671 - accuracy: 0.6623\n",
            "Epoch 60: saving model to model\\aslr_model.hdf5\n",
            "141/141 [==============================] - 0s 2ms/step - loss: 0.9679 - accuracy: 0.6628 - val_loss: 0.5269 - val_accuracy: 0.8327\n",
            "Epoch 61/1000\n",
            "122/141 [========================>.....] - ETA: 0s - loss: 0.9609 - accuracy: 0.6673\n",
            "Epoch 61: saving model to model\\aslr_model.hdf5\n",
            "141/141 [==============================] - 0s 2ms/step - loss: 0.9581 - accuracy: 0.6681 - val_loss: 0.5279 - val_accuracy: 0.8408\n",
            "Epoch 62/1000\n",
            "139/141 [============================>.] - ETA: 0s - loss: 0.9598 - accuracy: 0.6670\n",
            "Epoch 62: saving model to model\\aslr_model.hdf5\n",
            "141/141 [==============================] - 0s 2ms/step - loss: 0.9589 - accuracy: 0.6674 - val_loss: 0.5267 - val_accuracy: 0.8377\n",
            "Epoch 63/1000\n",
            "121/141 [========================>.....] - ETA: 0s - loss: 0.9699 - accuracy: 0.6641\n",
            "Epoch 63: saving model to model\\aslr_model.hdf5\n",
            "141/141 [==============================] - 0s 2ms/step - loss: 0.9693 - accuracy: 0.6642 - val_loss: 0.5218 - val_accuracy: 0.8418\n",
            "Epoch 64/1000\n",
            "121/141 [========================>.....] - ETA: 0s - loss: 0.9464 - accuracy: 0.6708\n",
            "Epoch 64: saving model to model\\aslr_model.hdf5\n",
            "141/141 [==============================] - 0s 2ms/step - loss: 0.9449 - accuracy: 0.6703 - val_loss: 0.5393 - val_accuracy: 0.8262\n",
            "Epoch 65/1000\n",
            "123/141 [=========================>....] - ETA: 0s - loss: 0.9588 - accuracy: 0.6719\n",
            "Epoch 65: saving model to model\\aslr_model.hdf5\n",
            "141/141 [==============================] - 0s 2ms/step - loss: 0.9561 - accuracy: 0.6707 - val_loss: 0.5238 - val_accuracy: 0.8332\n",
            "Epoch 66/1000\n",
            "123/141 [=========================>....] - ETA: 0s - loss: 0.9363 - accuracy: 0.6686\n",
            "Epoch 66: saving model to model\\aslr_model.hdf5\n",
            "141/141 [==============================] - 0s 2ms/step - loss: 0.9448 - accuracy: 0.6680 - val_loss: 0.5208 - val_accuracy: 0.8292\n",
            "Epoch 67/1000\n",
            "120/141 [========================>.....] - ETA: 0s - loss: 0.9446 - accuracy: 0.6706\n",
            "Epoch 67: saving model to model\\aslr_model.hdf5\n",
            "141/141 [==============================] - 0s 2ms/step - loss: 0.9423 - accuracy: 0.6704 - val_loss: 0.5223 - val_accuracy: 0.8215\n",
            "Epoch 68/1000\n",
            "122/141 [========================>.....] - ETA: 0s - loss: 0.9451 - accuracy: 0.6697\n",
            "Epoch 68: saving model to model\\aslr_model.hdf5\n",
            "141/141 [==============================] - 0s 2ms/step - loss: 0.9461 - accuracy: 0.6679 - val_loss: 0.5408 - val_accuracy: 0.8358\n",
            "Epoch 69/1000\n",
            "125/141 [=========================>....] - ETA: 0s - loss: 0.9502 - accuracy: 0.6749\n",
            "Epoch 69: saving model to model\\aslr_model.hdf5\n",
            "141/141 [==============================] - 0s 2ms/step - loss: 0.9433 - accuracy: 0.6756 - val_loss: 0.5270 - val_accuracy: 0.8397\n",
            "Epoch 70/1000\n",
            "116/141 [=======================>......] - ETA: 0s - loss: 0.9365 - accuracy: 0.6810\n",
            "Epoch 70: saving model to model\\aslr_model.hdf5\n",
            "141/141 [==============================] - 0s 2ms/step - loss: 0.9349 - accuracy: 0.6812 - val_loss: 0.5459 - val_accuracy: 0.8083\n",
            "Epoch 71/1000\n",
            "115/141 [=======================>......] - ETA: 0s - loss: 0.9299 - accuracy: 0.6750\n",
            "Epoch 71: saving model to model\\aslr_model.hdf5\n",
            "141/141 [==============================] - 0s 2ms/step - loss: 0.9252 - accuracy: 0.6768 - val_loss: 0.5365 - val_accuracy: 0.8303\n",
            "Epoch 72/1000\n",
            "119/141 [========================>.....] - ETA: 0s - loss: 0.9390 - accuracy: 0.6738\n",
            "Epoch 72: saving model to model\\aslr_model.hdf5\n",
            "141/141 [==============================] - 0s 2ms/step - loss: 0.9334 - accuracy: 0.6751 - val_loss: 0.5293 - val_accuracy: 0.8350\n",
            "Epoch 73/1000\n",
            "120/141 [========================>.....] - ETA: 0s - loss: 0.9130 - accuracy: 0.6850\n",
            "Epoch 73: saving model to model\\aslr_model.hdf5\n",
            "141/141 [==============================] - 0s 2ms/step - loss: 0.9135 - accuracy: 0.6854 - val_loss: 0.5345 - val_accuracy: 0.8270\n",
            "Epoch 74/1000\n",
            "119/141 [========================>.....] - ETA: 0s - loss: 0.9116 - accuracy: 0.6784\n",
            "Epoch 74: saving model to model\\aslr_model.hdf5\n",
            "141/141 [==============================] - 0s 2ms/step - loss: 0.9082 - accuracy: 0.6796 - val_loss: 0.5175 - val_accuracy: 0.8510\n",
            "Epoch 75/1000\n",
            "122/141 [========================>.....] - ETA: 0s - loss: 0.9142 - accuracy: 0.6853\n",
            "Epoch 75: saving model to model\\aslr_model.hdf5\n",
            "141/141 [==============================] - 0s 2ms/step - loss: 0.9160 - accuracy: 0.6851 - val_loss: 0.5349 - val_accuracy: 0.8215\n",
            "Epoch 76/1000\n",
            "137/141 [============================>.] - ETA: 0s - loss: 0.9073 - accuracy: 0.6851\n",
            "Epoch 76: saving model to model\\aslr_model.hdf5\n",
            "141/141 [==============================] - 0s 2ms/step - loss: 0.9061 - accuracy: 0.6851 - val_loss: 0.5170 - val_accuracy: 0.8432\n",
            "Epoch 77/1000\n",
            "118/141 [========================>.....] - ETA: 0s - loss: 0.9002 - accuracy: 0.6842\n",
            "Epoch 77: saving model to model\\aslr_model.hdf5\n",
            "141/141 [==============================] - 0s 2ms/step - loss: 0.9026 - accuracy: 0.6827 - val_loss: 0.5417 - val_accuracy: 0.8165\n",
            "Epoch 78/1000\n",
            "124/141 [=========================>....] - ETA: 0s - loss: 0.9065 - accuracy: 0.6828\n",
            "Epoch 78: saving model to model\\aslr_model.hdf5\n",
            "141/141 [==============================] - 0s 2ms/step - loss: 0.9029 - accuracy: 0.6838 - val_loss: 0.5239 - val_accuracy: 0.8367\n",
            "Epoch 79/1000\n",
            "123/141 [=========================>....] - ETA: 0s - loss: 0.8965 - accuracy: 0.6878\n",
            "Epoch 79: saving model to model\\aslr_model.hdf5\n",
            "141/141 [==============================] - 0s 2ms/step - loss: 0.8994 - accuracy: 0.6851 - val_loss: 0.5351 - val_accuracy: 0.8230\n",
            "Epoch 80/1000\n",
            "124/141 [=========================>....] - ETA: 0s - loss: 0.9128 - accuracy: 0.6805\n",
            "Epoch 80: saving model to model\\aslr_model.hdf5\n",
            "141/141 [==============================] - 0s 2ms/step - loss: 0.9070 - accuracy: 0.6823 - val_loss: 0.5438 - val_accuracy: 0.8133\n",
            "Epoch 81/1000\n",
            "112/141 [======================>.......] - ETA: 0s - loss: 0.8998 - accuracy: 0.6865\n",
            "Epoch 81: saving model to model\\aslr_model.hdf5\n",
            "141/141 [==============================] - 0s 2ms/step - loss: 0.9018 - accuracy: 0.6861 - val_loss: 0.5112 - val_accuracy: 0.8373\n",
            "Epoch 82/1000\n",
            "125/141 [=========================>....] - ETA: 0s - loss: 0.8924 - accuracy: 0.6879\n",
            "Epoch 82: saving model to model\\aslr_model.hdf5\n",
            "141/141 [==============================] - 0s 2ms/step - loss: 0.8950 - accuracy: 0.6896 - val_loss: 0.5268 - val_accuracy: 0.8235\n",
            "Epoch 83/1000\n",
            "124/141 [=========================>....] - ETA: 0s - loss: 0.8991 - accuracy: 0.6878\n",
            "Epoch 83: saving model to model\\aslr_model.hdf5\n",
            "141/141 [==============================] - 0s 2ms/step - loss: 0.8964 - accuracy: 0.6881 - val_loss: 0.5305 - val_accuracy: 0.8333\n",
            "Epoch 84/1000\n",
            "123/141 [=========================>....] - ETA: 0s - loss: 0.9049 - accuracy: 0.6825\n",
            "Epoch 84: saving model to model\\aslr_model.hdf5\n",
            "141/141 [==============================] - 0s 2ms/step - loss: 0.9033 - accuracy: 0.6838 - val_loss: 0.5101 - val_accuracy: 0.8593\n",
            "Epoch 85/1000\n",
            "123/141 [=========================>....] - ETA: 0s - loss: 0.8957 - accuracy: 0.6895\n",
            "Epoch 85: saving model to model\\aslr_model.hdf5\n",
            "141/141 [==============================] - 0s 2ms/step - loss: 0.8929 - accuracy: 0.6902 - val_loss: 0.5487 - val_accuracy: 0.8257\n",
            "Epoch 86/1000\n",
            "124/141 [=========================>....] - ETA: 0s - loss: 0.8941 - accuracy: 0.6876\n",
            "Epoch 86: saving model to model\\aslr_model.hdf5\n",
            "141/141 [==============================] - 0s 2ms/step - loss: 0.8901 - accuracy: 0.6891 - val_loss: 0.5186 - val_accuracy: 0.8410\n",
            "Epoch 87/1000\n",
            "125/141 [=========================>....] - ETA: 0s - loss: 0.8761 - accuracy: 0.6904\n",
            "Epoch 87: saving model to model\\aslr_model.hdf5\n",
            "141/141 [==============================] - 0s 2ms/step - loss: 0.8831 - accuracy: 0.6910 - val_loss: 0.5194 - val_accuracy: 0.8323\n",
            "Epoch 88/1000\n",
            "122/141 [========================>.....] - ETA: 0s - loss: 0.8788 - accuracy: 0.6960\n",
            "Epoch 88: saving model to model\\aslr_model.hdf5\n",
            "141/141 [==============================] - 0s 2ms/step - loss: 0.8834 - accuracy: 0.6943 - val_loss: 0.5072 - val_accuracy: 0.8493\n",
            "Epoch 89/1000\n",
            "130/141 [==========================>...] - ETA: 0s - loss: 0.8983 - accuracy: 0.6841\n",
            "Epoch 89: saving model to model\\aslr_model.hdf5\n",
            "141/141 [==============================] - 0s 2ms/step - loss: 0.8970 - accuracy: 0.6848 - val_loss: 0.5403 - val_accuracy: 0.8368\n",
            "Epoch 90/1000\n",
            "118/141 [========================>.....] - ETA: 0s - loss: 0.8765 - accuracy: 0.6951\n",
            "Epoch 90: saving model to model\\aslr_model.hdf5\n",
            "141/141 [==============================] - 0s 2ms/step - loss: 0.8804 - accuracy: 0.6950 - val_loss: 0.5253 - val_accuracy: 0.8495\n",
            "Epoch 91/1000\n",
            "112/141 [======================>.......] - ETA: 0s - loss: 0.8717 - accuracy: 0.6945\n",
            "Epoch 91: saving model to model\\aslr_model.hdf5\n",
            "141/141 [==============================] - 0s 2ms/step - loss: 0.8787 - accuracy: 0.6952 - val_loss: 0.5245 - val_accuracy: 0.8355\n",
            "Epoch 92/1000\n",
            "117/141 [=======================>......] - ETA: 0s - loss: 0.8765 - accuracy: 0.6980\n",
            "Epoch 92: saving model to model\\aslr_model.hdf5\n",
            "141/141 [==============================] - 0s 2ms/step - loss: 0.8753 - accuracy: 0.6973 - val_loss: 0.5218 - val_accuracy: 0.8538\n",
            "Epoch 93/1000\n",
            "120/141 [========================>.....] - ETA: 0s - loss: 0.8781 - accuracy: 0.6954\n",
            "Epoch 93: saving model to model\\aslr_model.hdf5\n",
            "141/141 [==============================] - 0s 2ms/step - loss: 0.8729 - accuracy: 0.6979 - val_loss: 0.5276 - val_accuracy: 0.8423\n",
            "Epoch 94/1000\n",
            "120/141 [========================>.....] - ETA: 0s - loss: 0.8728 - accuracy: 0.6971\n",
            "Epoch 94: saving model to model\\aslr_model.hdf5\n",
            "141/141 [==============================] - 0s 2ms/step - loss: 0.8721 - accuracy: 0.6975 - val_loss: 0.5298 - val_accuracy: 0.8557\n",
            "Epoch 95/1000\n",
            "118/141 [========================>.....] - ETA: 0s - loss: 0.8628 - accuracy: 0.7044\n",
            "Epoch 95: saving model to model\\aslr_model.hdf5\n",
            "141/141 [==============================] - 0s 2ms/step - loss: 0.8594 - accuracy: 0.7039 - val_loss: 0.5047 - val_accuracy: 0.8495\n",
            "Epoch 96/1000\n",
            "121/141 [========================>.....] - ETA: 0s - loss: 0.8667 - accuracy: 0.6971\n",
            "Epoch 96: saving model to model\\aslr_model.hdf5\n",
            "141/141 [==============================] - 0s 2ms/step - loss: 0.8730 - accuracy: 0.6972 - val_loss: 0.5247 - val_accuracy: 0.8453\n",
            "Epoch 97/1000\n",
            "121/141 [========================>.....] - ETA: 0s - loss: 0.8638 - accuracy: 0.7000\n",
            "Epoch 97: saving model to model\\aslr_model.hdf5\n",
            "141/141 [==============================] - 0s 2ms/step - loss: 0.8609 - accuracy: 0.7011 - val_loss: 0.5229 - val_accuracy: 0.8348\n",
            "Epoch 98/1000\n",
            "119/141 [========================>.....] - ETA: 0s - loss: 0.8587 - accuracy: 0.7047\n",
            "Epoch 98: saving model to model\\aslr_model.hdf5\n",
            "141/141 [==============================] - 0s 2ms/step - loss: 0.8666 - accuracy: 0.7030 - val_loss: 0.5011 - val_accuracy: 0.8470\n",
            "Epoch 99/1000\n",
            "114/141 [=======================>......] - ETA: 0s - loss: 0.8832 - accuracy: 0.6969\n",
            "Epoch 99: saving model to model\\aslr_model.hdf5\n",
            "141/141 [==============================] - 0s 2ms/step - loss: 0.8779 - accuracy: 0.6954 - val_loss: 0.5421 - val_accuracy: 0.8413\n",
            "Epoch 100/1000\n",
            "124/141 [=========================>....] - ETA: 0s - loss: 0.8644 - accuracy: 0.7039\n",
            "Epoch 100: saving model to model\\aslr_model.hdf5\n",
            "141/141 [==============================] - 0s 2ms/step - loss: 0.8643 - accuracy: 0.7037 - val_loss: 0.5156 - val_accuracy: 0.8432\n",
            "Epoch 101/1000\n",
            "131/141 [==========================>...] - ETA: 0s - loss: 0.8530 - accuracy: 0.7038\n",
            "Epoch 101: saving model to model\\aslr_model.hdf5\n",
            "141/141 [==============================] - 0s 2ms/step - loss: 0.8541 - accuracy: 0.7029 - val_loss: 0.5196 - val_accuracy: 0.8433\n",
            "Epoch 102/1000\n",
            "115/141 [=======================>......] - ETA: 0s - loss: 0.8622 - accuracy: 0.7021\n",
            "Epoch 102: saving model to model\\aslr_model.hdf5\n",
            "141/141 [==============================] - 0s 2ms/step - loss: 0.8712 - accuracy: 0.7029 - val_loss: 0.5266 - val_accuracy: 0.8528\n",
            "Epoch 103/1000\n",
            "118/141 [========================>.....] - ETA: 0s - loss: 0.8649 - accuracy: 0.7025\n",
            "Epoch 103: saving model to model\\aslr_model.hdf5\n",
            "141/141 [==============================] - 0s 2ms/step - loss: 0.8630 - accuracy: 0.7012 - val_loss: 0.5324 - val_accuracy: 0.8337\n",
            "Epoch 104/1000\n",
            "125/141 [=========================>....] - ETA: 0s - loss: 0.8700 - accuracy: 0.7006\n",
            "Epoch 104: saving model to model\\aslr_model.hdf5\n",
            "141/141 [==============================] - 0s 2ms/step - loss: 0.8691 - accuracy: 0.6996 - val_loss: 0.5657 - val_accuracy: 0.8263\n",
            "Epoch 105/1000\n",
            "113/141 [=======================>......] - ETA: 0s - loss: 0.8573 - accuracy: 0.6989\n",
            "Epoch 105: saving model to model\\aslr_model.hdf5\n",
            "141/141 [==============================] - 0s 2ms/step - loss: 0.8576 - accuracy: 0.6984 - val_loss: 0.5151 - val_accuracy: 0.8477\n",
            "Epoch 106/1000\n",
            "123/141 [=========================>....] - ETA: 0s - loss: 0.8536 - accuracy: 0.7038\n",
            "Epoch 106: saving model to model\\aslr_model.hdf5\n",
            "141/141 [==============================] - 0s 2ms/step - loss: 0.8551 - accuracy: 0.7032 - val_loss: 0.5350 - val_accuracy: 0.8463\n",
            "Epoch 107/1000\n",
            "114/141 [=======================>......] - ETA: 0s - loss: 0.8594 - accuracy: 0.7024\n",
            "Epoch 107: saving model to model\\aslr_model.hdf5\n",
            "141/141 [==============================] - 0s 2ms/step - loss: 0.8612 - accuracy: 0.6999 - val_loss: 0.5148 - val_accuracy: 0.8445\n",
            "Epoch 108/1000\n",
            "123/141 [=========================>....] - ETA: 0s - loss: 0.8449 - accuracy: 0.7066\n",
            "Epoch 108: saving model to model\\aslr_model.hdf5\n",
            "141/141 [==============================] - 0s 2ms/step - loss: 0.8489 - accuracy: 0.7082 - val_loss: 0.5167 - val_accuracy: 0.8485\n",
            "Epoch 109/1000\n",
            "115/141 [=======================>......] - ETA: 0s - loss: 0.8438 - accuracy: 0.7088\n",
            "Epoch 109: saving model to model\\aslr_model.hdf5\n",
            "141/141 [==============================] - 0s 2ms/step - loss: 0.8443 - accuracy: 0.7080 - val_loss: 0.5406 - val_accuracy: 0.8312\n",
            "Epoch 110/1000\n",
            "116/141 [=======================>......] - ETA: 0s - loss: 0.8388 - accuracy: 0.7085\n",
            "Epoch 110: saving model to model\\aslr_model.hdf5\n",
            "141/141 [==============================] - 0s 2ms/step - loss: 0.8445 - accuracy: 0.7041 - val_loss: 0.5540 - val_accuracy: 0.8078\n",
            "Epoch 111/1000\n",
            "136/141 [===========================>..] - ETA: 0s - loss: 0.8597 - accuracy: 0.7022\n",
            "Epoch 111: saving model to model\\aslr_model.hdf5\n",
            "141/141 [==============================] - 0s 2ms/step - loss: 0.8616 - accuracy: 0.7014 - val_loss: 0.5598 - val_accuracy: 0.7830\n",
            "Epoch 112/1000\n",
            "132/141 [===========================>..] - ETA: 0s - loss: 0.8454 - accuracy: 0.7040\n",
            "Epoch 112: saving model to model\\aslr_model.hdf5\n",
            "141/141 [==============================] - 0s 2ms/step - loss: 0.8417 - accuracy: 0.7053 - val_loss: 0.5249 - val_accuracy: 0.8407\n",
            "Epoch 113/1000\n",
            "122/141 [========================>.....] - ETA: 0s - loss: 0.8388 - accuracy: 0.7136\n",
            "Epoch 113: saving model to model\\aslr_model.hdf5\n",
            "141/141 [==============================] - 0s 2ms/step - loss: 0.8402 - accuracy: 0.7120 - val_loss: 0.5080 - val_accuracy: 0.8513\n",
            "Epoch 114/1000\n",
            "122/141 [========================>.....] - ETA: 0s - loss: 0.8374 - accuracy: 0.7079\n",
            "Epoch 114: saving model to model\\aslr_model.hdf5\n",
            "141/141 [==============================] - 0s 2ms/step - loss: 0.8366 - accuracy: 0.7081 - val_loss: 0.5403 - val_accuracy: 0.8235\n",
            "Epoch 115/1000\n",
            "115/141 [=======================>......] - ETA: 0s - loss: 0.8497 - accuracy: 0.7055\n",
            "Epoch 115: saving model to model\\aslr_model.hdf5\n",
            "141/141 [==============================] - 0s 2ms/step - loss: 0.8452 - accuracy: 0.7066 - val_loss: 0.5358 - val_accuracy: 0.8337\n",
            "Epoch 116/1000\n",
            "120/141 [========================>.....] - ETA: 0s - loss: 0.8478 - accuracy: 0.7057\n",
            "Epoch 116: saving model to model\\aslr_model.hdf5\n",
            "141/141 [==============================] - 0s 2ms/step - loss: 0.8499 - accuracy: 0.7051 - val_loss: 0.5293 - val_accuracy: 0.8142\n",
            "Epoch 117/1000\n",
            "109/141 [======================>.......] - ETA: 0s - loss: 0.8537 - accuracy: 0.7013\n",
            "Epoch 117: saving model to model\\aslr_model.hdf5\n",
            "141/141 [==============================] - 0s 2ms/step - loss: 0.8451 - accuracy: 0.7044 - val_loss: 0.5151 - val_accuracy: 0.8452\n",
            "Epoch 118/1000\n",
            "123/141 [=========================>....] - ETA: 0s - loss: 0.8610 - accuracy: 0.7021\n",
            "Epoch 118: saving model to model\\aslr_model.hdf5\n",
            "141/141 [==============================] - 0s 2ms/step - loss: 0.8573 - accuracy: 0.7021 - val_loss: 0.5354 - val_accuracy: 0.8250\n",
            "Epoch 118: early stopping\n"
          ]
        },
        {
          "data": {
            "text/plain": [
              "<keras.callbacks.History at 0x132c080ab60>"
            ]
          },
          "execution_count": 29,
          "metadata": {},
          "output_type": "execute_result"
        }
      ],
      "source": [
        "model.fit(\n",
        "    X_train,\n",
        "    y_train,\n",
        "    epochs=1000,\n",
        "    batch_size=128,\n",
        "    validation_data=(X_test, y_test),\n",
        "    callbacks=[cp_callback, es_callback]\n",
        ")"
      ]
    },
    {
      "cell_type": "code",
      "execution_count": 30,
      "metadata": {
        "colab": {
          "base_uri": "https://localhost:8080/"
        },
        "id": "pxvb2Y299hE3",
        "outputId": "59eb3185-2e37-4b9e-bc9d-ab1b8ac29b7f"
      },
      "outputs": [
        {
          "name": "stdout",
          "output_type": "stream",
          "text": [
            "47/47 [==============================] - 0s 813us/step - loss: 0.5354 - accuracy: 0.8250\n"
          ]
        }
      ],
      "source": [
        "# Model evaluation\n",
        "val_loss, val_acc = model.evaluate(X_test, y_test, batch_size=128)"
      ]
    },
    {
      "cell_type": "code",
      "execution_count": 31,
      "metadata": {
        "id": "RBkmDeUW9hE4"
      },
      "outputs": [],
      "source": [
        "# Loading the saved model\n",
        "model = tf.keras.models.load_model(model_save_path)"
      ]
    },
    {
      "cell_type": "code",
      "execution_count": 32,
      "metadata": {
        "colab": {
          "base_uri": "https://localhost:8080/"
        },
        "id": "tFz9Tb0I9hE4",
        "outputId": "1c3b3528-54ae-4ee2-ab04-77429211cbef"
      },
      "outputs": [
        {
          "name": "stdout",
          "output_type": "stream",
          "text": [
            "1/1 [==============================] - 0s 39ms/step\n",
            "[0.0000000e+00 4.3325134e-32 4.2244930e-15 0.0000000e+00 0.0000000e+00\n",
            " 0.0000000e+00 9.0159351e-01 9.8406449e-02 5.5142027e-34 0.0000000e+00\n",
            " 1.9613684e-36 0.0000000e+00 0.0000000e+00 4.1228179e-26 2.1470235e-11\n",
            " 1.0267948e-11 0.0000000e+00 2.8179569e-28 1.3197560e-08 0.0000000e+00\n",
            " 0.0000000e+00 0.0000000e+00 2.4419070e-14 5.0211975e-27]\n",
            "6\n"
          ]
        }
      ],
      "source": [
        "# Inference test\n",
        "predict_result = model.predict(np.array([X_test[0]]))\n",
        "print(np.squeeze(predict_result))\n",
        "print(np.argmax(np.squeeze(predict_result)))"
      ]
    },
    {
      "attachments": {},
      "cell_type": "markdown",
      "metadata": {
        "id": "S3U4yNWx9hE4"
      },
      "source": [
        "# Confusion matrix"
      ]
    },
    {
      "cell_type": "code",
      "execution_count": 33,
      "metadata": {},
      "outputs": [
        {
          "name": "stdout",
          "output_type": "stream",
          "text": [
            "188/188 [==============================] - 0s 551us/step\n"
          ]
        }
      ],
      "source": [
        "Y_pred = model.predict(X_test)\n",
        "y_pred = np.argmax(Y_pred, axis=1)\n"
      ]
    },
    {
      "cell_type": "code",
      "execution_count": 34,
      "metadata": {},
      "outputs": [
        {
          "name": "stdout",
          "output_type": "stream",
          "text": [
            "188/188 [==============================] - 0s 509us/step\n"
          ]
        },
        {
          "data": {
            "image/png": "[encoded data removed]",
            "text/plain": [
              "<Figure size 1200x900 with 2 Axes>"
            ]
          },
          "metadata": {},
          "output_type": "display_data"
        },
        {
          "name": "stdout",
          "output_type": "stream",
          "text": [
            "Accuracy   : 0.825\n"
          ]
        }
      ],
      "source": [
        "from sklearn.metrics import accuracy_score, precision_score, recall_score, f1_score\n",
        "import pandas as pd\n",
        "import seaborn as sns\n",
        "import matplotlib.pyplot as plt\n",
        "from sklearn.metrics import confusion_matrix\n",
        "\n",
        "labels = [\"A\", \"B\", \"C\", \"D\", \"E\", \"F\", \"G\", \"H\", \"I\", \"K\", \"L\", \"M\", \"N\", \"O\", \"P\", \"Q\", \"R\", \"S\", \"T\", \"U\", \"V\", \"W\", \"X\", \"Y\"]\n",
        "prediction = model.predict(X_test)\n",
        "y_pred = np.argmax(prediction, axis=1)\n",
        "\n",
        "\n",
        "cm = confusion_matrix(y_test, y_pred)\n",
        "\n",
        "#Plot the confusion matrix.\n",
        "plt.subplots(figsize=(12, 9))\n",
        "\n",
        "sns.heatmap(cm,\n",
        "            annot=True,\n",
        "            fmt='g',\n",
        "            xticklabels=labels,\n",
        "            yticklabels=labels)\n",
        "\n",
        "plt.title('Confusion Matrix',fontsize=17)\n",
        "plt.ylabel('Prediction',fontsize=13)\n",
        "plt.xlabel('Actual',fontsize=13)\n",
        "plt.show()\n",
        "\n",
        "\n",
        "# Finding precision and recall\n",
        "accuracy = accuracy_score(y_test, y_pred)\n",
        "print(\"Accuracy   :\", accuracy)\n"
      ]
    },
    {
      "attachments": {},
      "cell_type": "markdown",
      "metadata": {
        "id": "FNP6aqzc9hE5"
      },
      "source": [
        "# Convert to model for Tensorflow-Lite"
      ]
    },
    {
      "cell_type": "code",
      "execution_count": 35,
      "metadata": {
        "id": "ODjnYyld9hE6"
      },
      "outputs": [],
      "source": [
        "# Save as a model dedicated to inference\n",
        "model.save(model_save_path, include_optimizer=False)"
      ]
    },
    {
      "cell_type": "code",
      "execution_count": 36,
      "metadata": {
        "colab": {
          "base_uri": "https://localhost:8080/"
        },
        "id": "zRfuK8Y59hE6",
        "outputId": "a4ca585c-b5d5-4244-8291-8674063209bb"
      },
      "outputs": [
        {
          "name": "stderr",
          "output_type": "stream",
          "text": [
            "WARNING:absl:Found untraced functions such as _update_step_xla while saving (showing 1 of 1). These functions will not be directly callable after loading.\n"
          ]
        },
        {
          "name": "stdout",
          "output_type": "stream",
          "text": [
            "INFO:tensorflow:Assets written to: C:\\Users\\amurm\\AppData\\Local\\Temp\\tmpshd_ta8g\\assets\n"
          ]
        },
        {
          "name": "stderr",
          "output_type": "stream",
          "text": [
            "INFO:tensorflow:Assets written to: C:\\Users\\amurm\\AppData\\Local\\Temp\\tmpshd_ta8g\\assets\n"
          ]
        },
        {
          "data": {
            "text/plain": [
              "7452"
            ]
          },
          "execution_count": 36,
          "metadata": {},
          "output_type": "execute_result"
        }
      ],
      "source": [
        "# Transform model (quantization)\n",
        "\n",
        "converter = tf.lite.TFLiteConverter.from_keras_model(model)\n",
        "converter.optimizations = [tf.lite.Optimize.DEFAULT]\n",
        "tflite_quantized_model = converter.convert()\n",
        "\n",
        "open(tflite_save_path, 'wb').write(tflite_quantized_model)"
      ]
    }
  ],
  "metadata": {
    "accelerator": "GPU",
    "colab": {
      "collapsed_sections": [],
      "name": "keypoint_classification_EN.ipynb",
      "provenance": [],
      "toc_visible": true
    },
    "kernelspec": {
      "display_name": "Python 3",
      "language": "python",
      "name": "python3"
    },
    "language_info": {
      "codemirror_mode": {
        "name": "ipython",
        "version": 3
      },
      "file_extension": ".py",
      "mimetype": "text/x-python",
      "name": "python",
      "nbconvert_exporter": "python",
      "pygments_lexer": "ipython3",
      "version": "3.10.8"
    }
  },
  "nbformat": 4,
  "nbformat_minor": 0
}
