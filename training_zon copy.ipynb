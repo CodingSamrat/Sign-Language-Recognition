{
  "cells": [
    {
      "cell_type": "code",
      "execution_count": 1,
      "metadata": {
        "id": "igMyGnjE9hEp"
      },
      "outputs": [],
      "source": [
        "import csv\n",
        "\n",
        "import numpy as np\n",
        "import tensorflow as tf\n",
        "from sklearn.model_selection import train_test_split\n",
        "\n",
        "RANDOM_SEED = 42"
      ]
    },
    {
      "attachments": {},
      "cell_type": "markdown",
      "metadata": {
        "id": "t2HDvhIu9hEr"
      },
      "source": [
        "# Specify each path"
      ]
    },
    {
      "cell_type": "code",
      "execution_count": 2,
      "metadata": {
        "id": "9NvZP2Zn9hEy"
      },
      "outputs": [],
      "source": [
        "dataset = 'model/keypoint.csv'\n",
        "model_save_path = 'model/aslr_model.hdf5'\n",
        "tflite_save_path = 'model/aslr_model.tflite'"
      ]
    },
    {
      "attachments": {},
      "cell_type": "markdown",
      "metadata": {
        "id": "s5oMH7x19hEz"
      },
      "source": [
        "# Set number of classes"
      ]
    },
    {
      "cell_type": "code",
      "execution_count": 3,
      "metadata": {
        "id": "du4kodXL9hEz"
      },
      "outputs": [],
      "source": [
        "NUM_CLASSES = 24"
      ]
    },
    {
      "attachments": {},
      "cell_type": "markdown",
      "metadata": {
        "id": "XjnL0uso9hEz"
      },
      "source": [
        "# Dataset reading"
      ]
    },
    {
      "cell_type": "code",
      "execution_count": 4,
      "metadata": {
        "id": "QT5ZqtEz9hE0"
      },
      "outputs": [],
      "source": [
        "X_dataset = np.loadtxt(dataset, delimiter=',', dtype='float32', usecols=list(range(1, (21 * 2) + 1)))"
      ]
    },
    {
      "cell_type": "code",
      "execution_count": 5,
      "metadata": {
        "id": "QmoKFsp49hE0"
      },
      "outputs": [],
      "source": [
        "y_dataset = np.loadtxt(dataset, delimiter=',', dtype='int32', usecols=(0))"
      ]
    },
    {
      "cell_type": "code",
      "execution_count": 6,
      "metadata": {
        "id": "xQU7JTZ_9hE0"
      },
      "outputs": [],
      "source": [
        "X_train, X_test, y_train, y_test = train_test_split(X_dataset, y_dataset, train_size=0.75, random_state=RANDOM_SEED)"
      ]
    },
    {
      "attachments": {},
      "cell_type": "markdown",
      "metadata": {
        "id": "mxK_lETT9hE0"
      },
      "source": [
        "# Model building"
      ]
    },
    {
      "cell_type": "code",
      "execution_count": 7,
      "metadata": {
        "id": "vHBmUf1t9hE1"
      },
      "outputs": [],
      "source": [
        "model = tf.keras.models.Sequential([\n",
        "    tf.keras.layers.Input((21 * 2, )),\n",
        "    tf.keras.layers.Dropout(0.2),\n",
        "    tf.keras.layers.Dense(20, activation='relu'),\n",
        "    tf.keras.layers.Dropout(0.4),\n",
        "    tf.keras.layers.Dense(10, activation='relu'),\n",
        "    tf.keras.layers.Dense(NUM_CLASSES, activation='softmax')\n",
        "])"
      ]
    },
    {
      "cell_type": "code",
      "execution_count": 8,
      "metadata": {
        "colab": {
          "base_uri": "https://localhost:8080/"
        },
        "id": "ypqky9tc9hE1",
        "outputId": "5db082bb-30e3-4110-bf63-a1ee777ecd46"
      },
      "outputs": [
        {
          "name": "stdout",
          "output_type": "stream",
          "text": [
            "Model: \"sequential\"\n",
            "_________________________________________________________________\n",
            " Layer (type)                Output Shape              Param #   \n",
            "=================================================================\n",
            " dropout (Dropout)           (None, 42)                0         \n",
            "                                                                 \n",
            " dense (Dense)               (None, 20)                860       \n",
            "                                                                 \n",
            " dropout_1 (Dropout)         (None, 20)                0         \n",
            "                                                                 \n",
            " dense_1 (Dense)             (None, 10)                210       \n",
            "                                                                 \n",
            " dense_2 (Dense)             (None, 24)                264       \n",
            "                                                                 \n",
            "=================================================================\n",
            "Total params: 1,334\n",
            "Trainable params: 1,334\n",
            "Non-trainable params: 0\n",
            "_________________________________________________________________\n"
          ]
        }
      ],
      "source": [
        "model.summary()  # tf.keras.utils.plot_model(model, show_shapes=True)"
      ]
    },
    {
      "cell_type": "code",
      "execution_count": 9,
      "metadata": {
        "id": "MbMjOflQ9hE1"
      },
      "outputs": [],
      "source": [
        "# Model checkpoint callback\n",
        "cp_callback = tf.keras.callbacks.ModelCheckpoint(\n",
        "    model_save_path, verbose=1, save_weights_only=False)\n",
        "# Callback for early stopping\n",
        "es_callback = tf.keras.callbacks.EarlyStopping(patience=20, verbose=1)"
      ]
    },
    {
      "cell_type": "code",
      "execution_count": 10,
      "metadata": {
        "id": "c3Dac0M_9hE2"
      },
      "outputs": [],
      "source": [
        "# Model compilation\n",
        "model.compile(\n",
        "    optimizer='adam',\n",
        "    loss='sparse_categorical_crossentropy',\n",
        "    metrics=['accuracy']\n",
        ")"
      ]
    },
    {
      "attachments": {},
      "cell_type": "markdown",
      "metadata": {
        "id": "7XI0j1Iu9hE2"
      },
      "source": [
        "# Model training"
      ]
    },
    {
      "cell_type": "code",
      "execution_count": 11,
      "metadata": {
        "colab": {
          "base_uri": "https://localhost:8080/"
        },
        "id": "WirBl-JE9hE3",
        "outputId": "71b30ca2-8294-4d9d-8aa2-800d90d399de",
        "scrolled": true
      },
      "outputs": [
        {
          "name": "stdout",
          "output_type": "stream",
          "text": [
            "Epoch 1/1000\n",
            "38/71 [===============>..............] - ETA: 0s - loss: 3.1837 - accuracy: 0.0473 \n",
            "Epoch 1: saving model to model\\aslr_model.hdf5\n",
            "71/71 [==============================] - 1s 4ms/step - loss: 3.1556 - accuracy: 0.0599 - val_loss: 3.0605 - val_accuracy: 0.1683\n",
            "Epoch 2/1000\n",
            "37/71 [==============>...............] - ETA: 0s - loss: 3.0370 - accuracy: 0.1147\n",
            "Epoch 2: saving model to model\\aslr_model.hdf5\n",
            "71/71 [==============================] - 0s 2ms/step - loss: 2.9685 - accuracy: 0.1240 - val_loss: 2.7310 - val_accuracy: 0.1660\n",
            "Epoch 3/1000\n",
            "36/71 [==============>...............] - ETA: 0s - loss: 2.7200 - accuracy: 0.1519\n",
            "Epoch 3: saving model to model\\aslr_model.hdf5\n",
            "71/71 [==============================] - 0s 2ms/step - loss: 2.6614 - accuracy: 0.1641 - val_loss: 2.3921 - val_accuracy: 0.2673\n",
            "Epoch 4/1000\n",
            "37/71 [==============>...............] - ETA: 0s - loss: 2.4562 - accuracy: 0.2078\n",
            "Epoch 4: saving model to model\\aslr_model.hdf5\n",
            "71/71 [==============================] - 0s 2ms/step - loss: 2.4155 - accuracy: 0.2269 - val_loss: 2.1396 - val_accuracy: 0.4030\n",
            "Epoch 5/1000\n",
            "40/71 [===============>..............] - ETA: 0s - loss: 2.2606 - accuracy: 0.2680\n",
            "Epoch 5: saving model to model\\aslr_model.hdf5\n",
            "71/71 [==============================] - 0s 2ms/step - loss: 2.2082 - accuracy: 0.2801 - val_loss: 1.8700 - val_accuracy: 0.5583\n",
            "Epoch 6/1000\n",
            "39/71 [===============>..............] - ETA: 0s - loss: 2.0562 - accuracy: 0.3049\n",
            "Epoch 6: saving model to model\\aslr_model.hdf5\n",
            "71/71 [==============================] - 0s 2ms/step - loss: 2.0343 - accuracy: 0.3134 - val_loss: 1.6508 - val_accuracy: 0.5907\n",
            "Epoch 7/1000\n",
            "37/71 [==============>...............] - ETA: 0s - loss: 1.9256 - accuracy: 0.3370\n",
            "Epoch 7: saving model to model\\aslr_model.hdf5\n",
            "71/71 [==============================] - 0s 2ms/step - loss: 1.9044 - accuracy: 0.3424 - val_loss: 1.4888 - val_accuracy: 0.7830\n",
            "Epoch 8/1000\n",
            "35/71 [=============>................] - ETA: 0s - loss: 1.8249 - accuracy: 0.3694\n",
            "Epoch 8: saving model to model\\aslr_model.hdf5\n",
            "71/71 [==============================] - 0s 2ms/step - loss: 1.7995 - accuracy: 0.3743 - val_loss: 1.3674 - val_accuracy: 0.7780\n",
            "Epoch 9/1000\n",
            "38/71 [===============>..............] - ETA: 0s - loss: 1.7382 - accuracy: 0.3921\n",
            "Epoch 9: saving model to model\\aslr_model.hdf5\n",
            "71/71 [==============================] - 0s 2ms/step - loss: 1.7255 - accuracy: 0.3943 - val_loss: 1.2778 - val_accuracy: 0.8727\n",
            "Epoch 10/1000\n",
            "36/71 [==============>...............] - ETA: 0s - loss: 1.6713 - accuracy: 0.4162\n",
            "Epoch 10: saving model to model\\aslr_model.hdf5\n",
            "71/71 [==============================] - 0s 2ms/step - loss: 1.6412 - accuracy: 0.4254 - val_loss: 1.1895 - val_accuracy: 0.8333\n",
            "Epoch 11/1000\n",
            "40/71 [===============>..............] - ETA: 0s - loss: 1.6039 - accuracy: 0.4297\n",
            "Epoch 11: saving model to model\\aslr_model.hdf5\n",
            "71/71 [==============================] - 0s 3ms/step - loss: 1.5973 - accuracy: 0.4346 - val_loss: 1.1159 - val_accuracy: 0.8123\n",
            "Epoch 12/1000\n",
            "39/71 [===============>..............] - ETA: 0s - loss: 1.5541 - accuracy: 0.4629\n",
            "Epoch 12: saving model to model\\aslr_model.hdf5\n",
            "71/71 [==============================] - 0s 2ms/step - loss: 1.5357 - accuracy: 0.4624 - val_loss: 1.0570 - val_accuracy: 0.9180\n",
            "Epoch 13/1000\n",
            "41/71 [================>.............] - ETA: 0s - loss: 1.4963 - accuracy: 0.4678\n",
            "Epoch 13: saving model to model\\aslr_model.hdf5\n",
            "71/71 [==============================] - 0s 2ms/step - loss: 1.4944 - accuracy: 0.4674 - val_loss: 0.9989 - val_accuracy: 0.8790\n",
            "Epoch 14/1000\n",
            "38/71 [===============>..............] - ETA: 0s - loss: 1.4524 - accuracy: 0.4815\n",
            "Epoch 14: saving model to model\\aslr_model.hdf5\n",
            "71/71 [==============================] - 0s 2ms/step - loss: 1.4501 - accuracy: 0.4849 - val_loss: 0.9569 - val_accuracy: 0.9207\n",
            "Epoch 15/1000\n",
            "38/71 [===============>..............] - ETA: 0s - loss: 1.4288 - accuracy: 0.4944\n",
            "Epoch 15: saving model to model\\aslr_model.hdf5\n",
            "71/71 [==============================] - 0s 2ms/step - loss: 1.4152 - accuracy: 0.4969 - val_loss: 0.9010 - val_accuracy: 0.9553\n",
            "Epoch 16/1000\n",
            "36/71 [==============>...............] - ETA: 0s - loss: 1.3829 - accuracy: 0.5043\n",
            "Epoch 16: saving model to model\\aslr_model.hdf5\n",
            "71/71 [==============================] - 0s 2ms/step - loss: 1.3737 - accuracy: 0.5080 - val_loss: 0.8587 - val_accuracy: 0.9733\n",
            "Epoch 17/1000\n",
            "36/71 [==============>...............] - ETA: 0s - loss: 1.3562 - accuracy: 0.5171\n",
            "Epoch 17: saving model to model\\aslr_model.hdf5\n",
            "71/71 [==============================] - 0s 2ms/step - loss: 1.3592 - accuracy: 0.5191 - val_loss: 0.8339 - val_accuracy: 0.9420\n",
            "Epoch 18/1000\n",
            "35/71 [=============>................] - ETA: 0s - loss: 1.3274 - accuracy: 0.5277\n",
            "Epoch 18: saving model to model\\aslr_model.hdf5\n",
            "71/71 [==============================] - 0s 2ms/step - loss: 1.3254 - accuracy: 0.5303 - val_loss: 0.7937 - val_accuracy: 0.9977\n",
            "Epoch 19/1000\n",
            "70/71 [============================>.] - ETA: 0s - loss: 1.3018 - accuracy: 0.5458\n",
            "Epoch 19: saving model to model\\aslr_model.hdf5\n",
            "71/71 [==============================] - 0s 2ms/step - loss: 1.3023 - accuracy: 0.5460 - val_loss: 0.7674 - val_accuracy: 0.9470\n",
            "Epoch 20/1000\n",
            "42/71 [================>.............] - ETA: 0s - loss: 1.2642 - accuracy: 0.5538\n",
            "Epoch 20: saving model to model\\aslr_model.hdf5\n",
            "71/71 [==============================] - 0s 2ms/step - loss: 1.2645 - accuracy: 0.5534 - val_loss: 0.7441 - val_accuracy: 0.9393\n",
            "Epoch 21/1000\n",
            "37/71 [==============>...............] - ETA: 0s - loss: 1.2633 - accuracy: 0.5553\n",
            "Epoch 21: saving model to model\\aslr_model.hdf5\n",
            "71/71 [==============================] - 0s 2ms/step - loss: 1.2595 - accuracy: 0.5548 - val_loss: 0.7251 - val_accuracy: 1.0000\n",
            "Epoch 22/1000\n",
            "38/71 [===============>..............] - ETA: 0s - loss: 1.2335 - accuracy: 0.5604\n",
            "Epoch 22: saving model to model\\aslr_model.hdf5\n",
            "71/71 [==============================] - 0s 2ms/step - loss: 1.2348 - accuracy: 0.5630 - val_loss: 0.7049 - val_accuracy: 0.9827\n",
            "Epoch 23/1000\n",
            "40/71 [===============>..............] - ETA: 0s - loss: 1.2033 - accuracy: 0.5748\n",
            "Epoch 23: saving model to model\\aslr_model.hdf5\n",
            "71/71 [==============================] - 0s 2ms/step - loss: 1.2115 - accuracy: 0.5688 - val_loss: 0.6835 - val_accuracy: 0.9920\n",
            "Epoch 24/1000\n",
            "62/71 [=========================>....] - ETA: 0s - loss: 1.1962 - accuracy: 0.5781\n",
            "Epoch 24: saving model to model\\aslr_model.hdf5\n",
            "71/71 [==============================] - 0s 3ms/step - loss: 1.1958 - accuracy: 0.5798 - val_loss: 0.6522 - val_accuracy: 0.9613\n",
            "Epoch 25/1000\n",
            "34/71 [=============>................] - ETA: 0s - loss: 1.1755 - accuracy: 0.5784\n",
            "Epoch 25: saving model to model\\aslr_model.hdf5\n",
            "71/71 [==============================] - 0s 2ms/step - loss: 1.1654 - accuracy: 0.5809 - val_loss: 0.6313 - val_accuracy: 0.9530\n",
            "Epoch 26/1000\n",
            "38/71 [===============>..............] - ETA: 0s - loss: 1.1953 - accuracy: 0.5812\n",
            "Epoch 26: saving model to model\\aslr_model.hdf5\n",
            "71/71 [==============================] - 0s 2ms/step - loss: 1.1776 - accuracy: 0.5847 - val_loss: 0.6213 - val_accuracy: 0.9903\n",
            "Epoch 27/1000\n",
            "31/71 [============>.................] - ETA: 0s - loss: 1.1716 - accuracy: 0.5859\n",
            "Epoch 27: saving model to model\\aslr_model.hdf5\n",
            "71/71 [==============================] - 0s 2ms/step - loss: 1.1512 - accuracy: 0.5924 - val_loss: 0.5943 - val_accuracy: 0.9967\n",
            "Epoch 28/1000\n",
            "34/71 [=============>................] - ETA: 0s - loss: 1.1357 - accuracy: 0.6020\n",
            "Epoch 28: saving model to model\\aslr_model.hdf5\n",
            "71/71 [==============================] - 0s 2ms/step - loss: 1.1272 - accuracy: 0.5990 - val_loss: 0.5859 - val_accuracy: 0.9983\n",
            "Epoch 29/1000\n",
            "37/71 [==============>...............] - ETA: 0s - loss: 1.1232 - accuracy: 0.6049\n",
            "Epoch 29: saving model to model\\aslr_model.hdf5\n",
            "71/71 [==============================] - 0s 2ms/step - loss: 1.1208 - accuracy: 0.6072 - val_loss: 0.5703 - val_accuracy: 0.9973\n",
            "Epoch 30/1000\n",
            "42/71 [================>.............] - ETA: 0s - loss: 1.1099 - accuracy: 0.6031\n",
            "Epoch 30: saving model to model\\aslr_model.hdf5\n",
            "71/71 [==============================] - 0s 2ms/step - loss: 1.1063 - accuracy: 0.6066 - val_loss: 0.5617 - val_accuracy: 0.9977\n",
            "Epoch 31/1000\n",
            "40/71 [===============>..............] - ETA: 0s - loss: 1.1105 - accuracy: 0.6141\n",
            "Epoch 31: saving model to model\\aslr_model.hdf5\n",
            "71/71 [==============================] - 0s 2ms/step - loss: 1.1126 - accuracy: 0.6127 - val_loss: 0.5567 - val_accuracy: 1.0000\n",
            "Epoch 32/1000\n",
            "38/71 [===============>..............] - ETA: 0s - loss: 1.1028 - accuracy: 0.6153\n",
            "Epoch 32: saving model to model\\aslr_model.hdf5\n",
            "71/71 [==============================] - 0s 2ms/step - loss: 1.0987 - accuracy: 0.6177 - val_loss: 0.5433 - val_accuracy: 0.9987\n",
            "Epoch 33/1000\n",
            "34/71 [=============>................] - ETA: 0s - loss: 1.0839 - accuracy: 0.6156\n",
            "Epoch 33: saving model to model\\aslr_model.hdf5\n",
            "71/71 [==============================] - 0s 2ms/step - loss: 1.0823 - accuracy: 0.6168 - val_loss: 0.5376 - val_accuracy: 0.9993\n",
            "Epoch 34/1000\n",
            "38/71 [===============>..............] - ETA: 0s - loss: 1.0642 - accuracy: 0.6279\n",
            "Epoch 34: saving model to model\\aslr_model.hdf5\n",
            "71/71 [==============================] - 0s 2ms/step - loss: 1.0628 - accuracy: 0.6272 - val_loss: 0.5340 - val_accuracy: 0.9773\n",
            "Epoch 35/1000\n",
            "38/71 [===============>..............] - ETA: 0s - loss: 1.0408 - accuracy: 0.6402\n",
            "Epoch 35: saving model to model\\aslr_model.hdf5\n",
            "71/71 [==============================] - 0s 2ms/step - loss: 1.0452 - accuracy: 0.6412 - val_loss: 0.5097 - val_accuracy: 0.9990\n",
            "Epoch 36/1000\n",
            "35/71 [=============>................] - ETA: 0s - loss: 1.0652 - accuracy: 0.6243\n",
            "Epoch 36: saving model to model\\aslr_model.hdf5\n",
            "71/71 [==============================] - 0s 2ms/step - loss: 1.0554 - accuracy: 0.6278 - val_loss: 0.4887 - val_accuracy: 0.9987\n",
            "Epoch 37/1000\n",
            "35/71 [=============>................] - ETA: 0s - loss: 1.0320 - accuracy: 0.6257\n",
            "Epoch 37: saving model to model\\aslr_model.hdf5\n",
            "71/71 [==============================] - 0s 2ms/step - loss: 1.0386 - accuracy: 0.6297 - val_loss: 0.4930 - val_accuracy: 0.9993\n",
            "Epoch 38/1000\n",
            "36/71 [==============>...............] - ETA: 0s - loss: 1.0440 - accuracy: 0.6257\n",
            "Epoch 38: saving model to model\\aslr_model.hdf5\n",
            "71/71 [==============================] - 0s 2ms/step - loss: 1.0232 - accuracy: 0.6356 - val_loss: 0.4857 - val_accuracy: 0.9983\n",
            "Epoch 39/1000\n",
            "37/71 [==============>...............] - ETA: 0s - loss: 1.0327 - accuracy: 0.6404\n",
            "Epoch 39: saving model to model\\aslr_model.hdf5\n",
            "71/71 [==============================] - 0s 2ms/step - loss: 1.0359 - accuracy: 0.6381 - val_loss: 0.4897 - val_accuracy: 0.9940\n",
            "Epoch 40/1000\n",
            "35/71 [=============>................] - ETA: 0s - loss: 1.0089 - accuracy: 0.6467\n",
            "Epoch 40: saving model to model\\aslr_model.hdf5\n",
            "71/71 [==============================] - 0s 2ms/step - loss: 1.0000 - accuracy: 0.6440 - val_loss: 0.4695 - val_accuracy: 0.9987\n",
            "Epoch 41/1000\n",
            "34/71 [=============>................] - ETA: 0s - loss: 0.9933 - accuracy: 0.6560\n",
            "Epoch 41: saving model to model\\aslr_model.hdf5\n",
            "71/71 [==============================] - 0s 2ms/step - loss: 0.9993 - accuracy: 0.6509 - val_loss: 0.4540 - val_accuracy: 1.0000\n",
            "Epoch 42/1000\n",
            "37/71 [==============>...............] - ETA: 0s - loss: 1.0011 - accuracy: 0.6482\n",
            "Epoch 42: saving model to model\\aslr_model.hdf5\n",
            "71/71 [==============================] - 0s 2ms/step - loss: 1.0022 - accuracy: 0.6473 - val_loss: 0.4528 - val_accuracy: 0.9993\n",
            "Epoch 43/1000\n",
            "34/71 [=============>................] - ETA: 0s - loss: 1.0047 - accuracy: 0.6434\n",
            "Epoch 43: saving model to model\\aslr_model.hdf5\n",
            "71/71 [==============================] - 0s 2ms/step - loss: 1.0022 - accuracy: 0.6437 - val_loss: 0.4522 - val_accuracy: 0.9993\n",
            "Epoch 44/1000\n",
            "38/71 [===============>..............] - ETA: 0s - loss: 0.9979 - accuracy: 0.6503\n",
            "Epoch 44: saving model to model\\aslr_model.hdf5\n",
            "71/71 [==============================] - 0s 2ms/step - loss: 0.9938 - accuracy: 0.6547 - val_loss: 0.4538 - val_accuracy: 0.9627\n",
            "Epoch 45/1000\n",
            "40/71 [===============>..............] - ETA: 0s - loss: 0.9833 - accuracy: 0.6590\n",
            "Epoch 45: saving model to model\\aslr_model.hdf5\n",
            "71/71 [==============================] - 0s 2ms/step - loss: 0.9741 - accuracy: 0.6594 - val_loss: 0.4282 - val_accuracy: 0.9997\n",
            "Epoch 46/1000\n",
            "37/71 [==============>...............] - ETA: 0s - loss: 0.9678 - accuracy: 0.6598\n",
            "Epoch 46: saving model to model\\aslr_model.hdf5\n",
            "71/71 [==============================] - 0s 2ms/step - loss: 0.9589 - accuracy: 0.6632 - val_loss: 0.4181 - val_accuracy: 0.9997\n",
            "Epoch 47/1000\n",
            "40/71 [===============>..............] - ETA: 0s - loss: 0.9873 - accuracy: 0.6523\n",
            "Epoch 47: saving model to model\\aslr_model.hdf5\n",
            "71/71 [==============================] - 0s 2ms/step - loss: 0.9667 - accuracy: 0.6598 - val_loss: 0.4210 - val_accuracy: 0.9950\n",
            "Epoch 48/1000\n",
            "36/71 [==============>...............] - ETA: 0s - loss: 0.9754 - accuracy: 0.6565\n",
            "Epoch 48: saving model to model\\aslr_model.hdf5\n",
            "71/71 [==============================] - 0s 2ms/step - loss: 0.9673 - accuracy: 0.6573 - val_loss: 0.4188 - val_accuracy: 0.9967\n",
            "Epoch 49/1000\n",
            "40/71 [===============>..............] - ETA: 0s - loss: 0.9561 - accuracy: 0.6609\n",
            "Epoch 49: saving model to model\\aslr_model.hdf5\n",
            "71/71 [==============================] - 0s 2ms/step - loss: 0.9553 - accuracy: 0.6660 - val_loss: 0.4087 - val_accuracy: 1.0000\n",
            "Epoch 50/1000\n",
            "36/71 [==============>...............] - ETA: 0s - loss: 0.9681 - accuracy: 0.6621\n",
            "Epoch 50: saving model to model\\aslr_model.hdf5\n",
            "71/71 [==============================] - 0s 2ms/step - loss: 0.9507 - accuracy: 0.6663 - val_loss: 0.3967 - val_accuracy: 0.9993\n",
            "Epoch 51/1000\n",
            "40/71 [===============>..............] - ETA: 0s - loss: 0.9522 - accuracy: 0.6680\n",
            "Epoch 51: saving model to model\\aslr_model.hdf5\n",
            "71/71 [==============================] - 0s 2ms/step - loss: 0.9499 - accuracy: 0.6683 - val_loss: 0.4033 - val_accuracy: 0.9910\n",
            "Epoch 52/1000\n",
            "38/71 [===============>..............] - ETA: 0s - loss: 0.9211 - accuracy: 0.6844\n",
            "Epoch 52: saving model to model\\aslr_model.hdf5\n",
            "71/71 [==============================] - 0s 2ms/step - loss: 0.9394 - accuracy: 0.6829 - val_loss: 0.3993 - val_accuracy: 0.9987\n",
            "Epoch 53/1000\n",
            "37/71 [==============>...............] - ETA: 0s - loss: 0.9144 - accuracy: 0.6799\n",
            "Epoch 53: saving model to model\\aslr_model.hdf5\n",
            "71/71 [==============================] - 0s 2ms/step - loss: 0.9326 - accuracy: 0.6699 - val_loss: 0.4001 - val_accuracy: 0.9963\n",
            "Epoch 54/1000\n",
            "34/71 [=============>................] - ETA: 0s - loss: 0.9259 - accuracy: 0.6792\n",
            "Epoch 54: saving model to model\\aslr_model.hdf5\n",
            "71/71 [==============================] - 0s 2ms/step - loss: 0.9219 - accuracy: 0.6800 - val_loss: 0.3965 - val_accuracy: 0.9837\n",
            "Epoch 55/1000\n",
            "34/71 [=============>................] - ETA: 0s - loss: 0.9262 - accuracy: 0.6797\n",
            "Epoch 55: saving model to model\\aslr_model.hdf5\n",
            "71/71 [==============================] - 0s 2ms/step - loss: 0.9290 - accuracy: 0.6763 - val_loss: 0.3776 - val_accuracy: 0.9993\n",
            "Epoch 56/1000\n",
            "34/71 [=============>................] - ETA: 0s - loss: 0.9056 - accuracy: 0.6822\n",
            "Epoch 56: saving model to model\\aslr_model.hdf5\n",
            "71/71 [==============================] - 0s 2ms/step - loss: 0.9119 - accuracy: 0.6836 - val_loss: 0.3847 - val_accuracy: 0.9897\n",
            "Epoch 57/1000\n",
            "41/71 [================>.............] - ETA: 0s - loss: 0.8854 - accuracy: 0.6934\n",
            "Epoch 57: saving model to model\\aslr_model.hdf5\n",
            "71/71 [==============================] - 0s 2ms/step - loss: 0.8886 - accuracy: 0.6950 - val_loss: 0.3712 - val_accuracy: 0.9973\n",
            "Epoch 58/1000\n",
            "33/71 [============>.................] - ETA: 0s - loss: 0.9108 - accuracy: 0.6911\n",
            "Epoch 58: saving model to model\\aslr_model.hdf5\n",
            "71/71 [==============================] - 0s 2ms/step - loss: 0.8920 - accuracy: 0.6973 - val_loss: 0.3523 - val_accuracy: 0.9983\n",
            "Epoch 59/1000\n",
            "34/71 [=============>................] - ETA: 0s - loss: 0.8844 - accuracy: 0.6891\n",
            "Epoch 59: saving model to model\\aslr_model.hdf5\n",
            "71/71 [==============================] - 0s 2ms/step - loss: 0.9014 - accuracy: 0.6866 - val_loss: 0.3511 - val_accuracy: 1.0000\n",
            "Epoch 60/1000\n",
            "38/71 [===============>..............] - ETA: 0s - loss: 0.8751 - accuracy: 0.6852\n",
            "Epoch 60: saving model to model\\aslr_model.hdf5\n",
            "71/71 [==============================] - 0s 2ms/step - loss: 0.8959 - accuracy: 0.6857 - val_loss: 0.3674 - val_accuracy: 0.9887\n",
            "Epoch 61/1000\n",
            "35/71 [=============>................] - ETA: 0s - loss: 0.8932 - accuracy: 0.6868\n",
            "Epoch 61: saving model to model\\aslr_model.hdf5\n",
            "71/71 [==============================] - 0s 2ms/step - loss: 0.9039 - accuracy: 0.6873 - val_loss: 0.3604 - val_accuracy: 0.9970\n",
            "Epoch 62/1000\n",
            "50/71 [====================>.........] - ETA: 0s - loss: 0.8747 - accuracy: 0.7006\n",
            "Epoch 62: saving model to model\\aslr_model.hdf5\n",
            "71/71 [==============================] - 0s 3ms/step - loss: 0.8763 - accuracy: 0.6967 - val_loss: 0.3458 - val_accuracy: 0.9977\n",
            "Epoch 63/1000\n",
            "39/71 [===============>..............] - ETA: 0s - loss: 0.8851 - accuracy: 0.6889\n",
            "Epoch 63: saving model to model\\aslr_model.hdf5\n",
            "71/71 [==============================] - 0s 2ms/step - loss: 0.8819 - accuracy: 0.6936 - val_loss: 0.3414 - val_accuracy: 0.9993\n",
            "Epoch 64/1000\n",
            "36/71 [==============>...............] - ETA: 0s - loss: 0.9034 - accuracy: 0.6973\n",
            "Epoch 64: saving model to model\\aslr_model.hdf5\n",
            "71/71 [==============================] - 0s 2ms/step - loss: 0.8921 - accuracy: 0.6951 - val_loss: 0.3365 - val_accuracy: 0.9983\n",
            "Epoch 65/1000\n",
            "40/71 [===============>..............] - ETA: 0s - loss: 0.8597 - accuracy: 0.6986\n",
            "Epoch 65: saving model to model\\aslr_model.hdf5\n",
            "71/71 [==============================] - 0s 2ms/step - loss: 0.8685 - accuracy: 0.6983 - val_loss: 0.3353 - val_accuracy: 0.9997\n",
            "Epoch 66/1000\n",
            "36/71 [==============>...............] - ETA: 0s - loss: 0.8666 - accuracy: 0.7077\n",
            "Epoch 66: saving model to model\\aslr_model.hdf5\n",
            "71/71 [==============================] - 0s 2ms/step - loss: 0.8643 - accuracy: 0.7079 - val_loss: 0.3327 - val_accuracy: 1.0000\n",
            "Epoch 67/1000\n",
            "41/71 [================>.............] - ETA: 0s - loss: 0.8749 - accuracy: 0.6911\n",
            "Epoch 67: saving model to model\\aslr_model.hdf5\n",
            "71/71 [==============================] - 0s 2ms/step - loss: 0.8593 - accuracy: 0.7027 - val_loss: 0.3204 - val_accuracy: 1.0000\n",
            "Epoch 68/1000\n",
            "36/71 [==============>...............] - ETA: 0s - loss: 0.8428 - accuracy: 0.7053\n",
            "Epoch 68: saving model to model\\aslr_model.hdf5\n",
            "71/71 [==============================] - 0s 2ms/step - loss: 0.8519 - accuracy: 0.7032 - val_loss: 0.3292 - val_accuracy: 0.9993\n",
            "Epoch 69/1000\n",
            "35/71 [=============>................] - ETA: 0s - loss: 0.8731 - accuracy: 0.7049\n",
            "Epoch 69: saving model to model\\aslr_model.hdf5\n",
            "71/71 [==============================] - 0s 2ms/step - loss: 0.8578 - accuracy: 0.7079 - val_loss: 0.3228 - val_accuracy: 0.9993\n",
            "Epoch 70/1000\n",
            "35/71 [=============>................] - ETA: 0s - loss: 0.8572 - accuracy: 0.7051\n",
            "Epoch 70: saving model to model\\aslr_model.hdf5\n",
            "71/71 [==============================] - 0s 2ms/step - loss: 0.8486 - accuracy: 0.7051 - val_loss: 0.3152 - val_accuracy: 1.0000\n",
            "Epoch 71/1000\n",
            "41/71 [================>.............] - ETA: 0s - loss: 0.8536 - accuracy: 0.7060\n",
            "Epoch 71: saving model to model\\aslr_model.hdf5\n",
            "71/71 [==============================] - 0s 2ms/step - loss: 0.8498 - accuracy: 0.7059 - val_loss: 0.3207 - val_accuracy: 0.9990\n",
            "Epoch 72/1000\n",
            "39/71 [===============>..............] - ETA: 0s - loss: 0.8381 - accuracy: 0.7177\n",
            "Epoch 72: saving model to model\\aslr_model.hdf5\n",
            "71/71 [==============================] - 0s 2ms/step - loss: 0.8519 - accuracy: 0.7101 - val_loss: 0.3138 - val_accuracy: 0.9993\n",
            "Epoch 73/1000\n",
            "37/71 [==============>...............] - ETA: 0s - loss: 0.8415 - accuracy: 0.7063\n",
            "Epoch 73: saving model to model\\aslr_model.hdf5\n",
            "71/71 [==============================] - 0s 2ms/step - loss: 0.8353 - accuracy: 0.7089 - val_loss: 0.3181 - val_accuracy: 0.9993\n",
            "Epoch 74/1000\n",
            "41/71 [================>.............] - ETA: 0s - loss: 0.8261 - accuracy: 0.7102\n",
            "Epoch 74: saving model to model\\aslr_model.hdf5\n",
            "71/71 [==============================] - 0s 2ms/step - loss: 0.8411 - accuracy: 0.7062 - val_loss: 0.3270 - val_accuracy: 0.9993\n",
            "Epoch 75/1000\n",
            "37/71 [==============>...............] - ETA: 0s - loss: 0.8440 - accuracy: 0.7078\n",
            "Epoch 75: saving model to model\\aslr_model.hdf5\n",
            "71/71 [==============================] - 0s 2ms/step - loss: 0.8457 - accuracy: 0.7069 - val_loss: 0.3107 - val_accuracy: 0.9997\n",
            "Epoch 76/1000\n",
            "41/71 [================>.............] - ETA: 0s - loss: 0.8370 - accuracy: 0.7172\n",
            "Epoch 76: saving model to model\\aslr_model.hdf5\n",
            "71/71 [==============================] - 0s 2ms/step - loss: 0.8265 - accuracy: 0.7147 - val_loss: 0.3102 - val_accuracy: 0.9960\n",
            "Epoch 77/1000\n",
            "34/71 [=============>................] - ETA: 0s - loss: 0.8087 - accuracy: 0.7210\n",
            "Epoch 77: saving model to model\\aslr_model.hdf5\n",
            "71/71 [==============================] - 0s 2ms/step - loss: 0.8178 - accuracy: 0.7167 - val_loss: 0.3081 - val_accuracy: 0.9990\n",
            "Epoch 78/1000\n",
            "40/71 [===============>..............] - ETA: 0s - loss: 0.8127 - accuracy: 0.7182\n",
            "Epoch 78: saving model to model\\aslr_model.hdf5\n",
            "71/71 [==============================] - 0s 2ms/step - loss: 0.8264 - accuracy: 0.7151 - val_loss: 0.2969 - val_accuracy: 0.9997\n",
            "Epoch 79/1000\n",
            "35/71 [=============>................] - ETA: 0s - loss: 0.8035 - accuracy: 0.7391\n",
            "Epoch 79: saving model to model\\aslr_model.hdf5\n",
            "71/71 [==============================] - 0s 2ms/step - loss: 0.8014 - accuracy: 0.7327 - val_loss: 0.2947 - val_accuracy: 0.9997\n",
            "Epoch 80/1000\n",
            "38/71 [===============>..............] - ETA: 0s - loss: 0.8001 - accuracy: 0.7282\n",
            "Epoch 80: saving model to model\\aslr_model.hdf5\n",
            "71/71 [==============================] - 0s 2ms/step - loss: 0.8024 - accuracy: 0.7236 - val_loss: 0.2921 - val_accuracy: 0.9993\n",
            "Epoch 81/1000\n",
            "36/71 [==============>...............] - ETA: 0s - loss: 0.8002 - accuracy: 0.7242\n",
            "Epoch 81: saving model to model\\aslr_model.hdf5\n",
            "71/71 [==============================] - 0s 2ms/step - loss: 0.8015 - accuracy: 0.7227 - val_loss: 0.2911 - val_accuracy: 0.9993\n",
            "Epoch 82/1000\n",
            "59/71 [=======================>......] - ETA: 0s - loss: 0.8075 - accuracy: 0.7284\n",
            "Epoch 82: saving model to model\\aslr_model.hdf5\n",
            "71/71 [==============================] - 0s 3ms/step - loss: 0.8165 - accuracy: 0.7263 - val_loss: 0.2783 - val_accuracy: 1.0000\n",
            "Epoch 83/1000\n",
            "40/71 [===============>..............] - ETA: 0s - loss: 0.7810 - accuracy: 0.7324\n",
            "Epoch 83: saving model to model\\aslr_model.hdf5\n",
            "71/71 [==============================] - 0s 2ms/step - loss: 0.7816 - accuracy: 0.7328 - val_loss: 0.2675 - val_accuracy: 0.9997\n",
            "Epoch 84/1000\n",
            "30/71 [===========>..................] - ETA: 0s - loss: 0.7848 - accuracy: 0.7435\n",
            "Epoch 84: saving model to model\\aslr_model.hdf5\n",
            "71/71 [==============================] - 0s 2ms/step - loss: 0.7781 - accuracy: 0.7370 - val_loss: 0.2700 - val_accuracy: 0.9973\n",
            "Epoch 85/1000\n",
            "37/71 [==============>...............] - ETA: 0s - loss: 0.7880 - accuracy: 0.7327\n",
            "Epoch 85: saving model to model\\aslr_model.hdf5\n",
            "71/71 [==============================] - 0s 2ms/step - loss: 0.7888 - accuracy: 0.7323 - val_loss: 0.2585 - val_accuracy: 1.0000\n",
            "Epoch 86/1000\n",
            "37/71 [==============>...............] - ETA: 0s - loss: 0.7752 - accuracy: 0.7361\n",
            "Epoch 86: saving model to model\\aslr_model.hdf5\n",
            "71/71 [==============================] - 0s 2ms/step - loss: 0.7843 - accuracy: 0.7310 - val_loss: 0.2650 - val_accuracy: 0.9997\n",
            "Epoch 87/1000\n",
            "39/71 [===============>..............] - ETA: 0s - loss: 0.7702 - accuracy: 0.7322\n",
            "Epoch 87: saving model to model\\aslr_model.hdf5\n",
            "71/71 [==============================] - 0s 2ms/step - loss: 0.7740 - accuracy: 0.7323 - val_loss: 0.2711 - val_accuracy: 0.9990\n",
            "Epoch 88/1000\n",
            "39/71 [===============>..............] - ETA: 0s - loss: 0.7761 - accuracy: 0.7368\n",
            "Epoch 88: saving model to model\\aslr_model.hdf5\n",
            "71/71 [==============================] - 0s 2ms/step - loss: 0.7694 - accuracy: 0.7370 - val_loss: 0.2671 - val_accuracy: 0.9997\n",
            "Epoch 89/1000\n",
            "35/71 [=============>................] - ETA: 0s - loss: 0.7819 - accuracy: 0.7362\n",
            "Epoch 89: saving model to model\\aslr_model.hdf5\n",
            "71/71 [==============================] - 0s 2ms/step - loss: 0.7854 - accuracy: 0.7337 - val_loss: 0.2622 - val_accuracy: 0.9990\n",
            "Epoch 90/1000\n",
            "35/71 [=============>................] - ETA: 0s - loss: 0.7541 - accuracy: 0.7362\n",
            "Epoch 90: saving model to model\\aslr_model.hdf5\n",
            "71/71 [==============================] - 0s 2ms/step - loss: 0.7745 - accuracy: 0.7319 - val_loss: 0.2576 - val_accuracy: 0.9990\n",
            "Epoch 91/1000\n",
            "28/71 [==========>...................] - ETA: 0s - loss: 0.7778 - accuracy: 0.7400\n",
            "Epoch 91: saving model to model\\aslr_model.hdf5\n",
            "71/71 [==============================] - 0s 2ms/step - loss: 0.7757 - accuracy: 0.7378 - val_loss: 0.2539 - val_accuracy: 1.0000\n",
            "Epoch 92/1000\n",
            "38/71 [===============>..............] - ETA: 0s - loss: 0.7612 - accuracy: 0.7401\n",
            "Epoch 92: saving model to model\\aslr_model.hdf5\n",
            "71/71 [==============================] - 0s 2ms/step - loss: 0.7600 - accuracy: 0.7420 - val_loss: 0.2500 - val_accuracy: 0.9997\n",
            "Epoch 93/1000\n",
            "38/71 [===============>..............] - ETA: 0s - loss: 0.7710 - accuracy: 0.7354\n",
            "Epoch 93: saving model to model\\aslr_model.hdf5\n",
            "71/71 [==============================] - 0s 2ms/step - loss: 0.7690 - accuracy: 0.7403 - val_loss: 0.2550 - val_accuracy: 0.9993\n",
            "Epoch 94/1000\n",
            "37/71 [==============>...............] - ETA: 0s - loss: 0.7663 - accuracy: 0.7403\n",
            "Epoch 94: saving model to model\\aslr_model.hdf5\n",
            "71/71 [==============================] - 0s 2ms/step - loss: 0.7651 - accuracy: 0.7413 - val_loss: 0.2396 - val_accuracy: 0.9997\n",
            "Epoch 95/1000\n",
            "37/71 [==============>...............] - ETA: 0s - loss: 0.7774 - accuracy: 0.7348\n",
            "Epoch 95: saving model to model\\aslr_model.hdf5\n",
            "71/71 [==============================] - 0s 2ms/step - loss: 0.7648 - accuracy: 0.7393 - val_loss: 0.2488 - val_accuracy: 1.0000\n",
            "Epoch 96/1000\n",
            "40/71 [===============>..............] - ETA: 0s - loss: 0.7419 - accuracy: 0.7521\n",
            "Epoch 96: saving model to model\\aslr_model.hdf5\n",
            "71/71 [==============================] - 0s 2ms/step - loss: 0.7464 - accuracy: 0.7488 - val_loss: 0.2401 - val_accuracy: 0.9997\n",
            "Epoch 97/1000\n",
            "39/71 [===============>..............] - ETA: 0s - loss: 0.7376 - accuracy: 0.7562\n",
            "Epoch 97: saving model to model\\aslr_model.hdf5\n",
            "71/71 [==============================] - 0s 2ms/step - loss: 0.7376 - accuracy: 0.7526 - val_loss: 0.2467 - val_accuracy: 0.9990\n",
            "Epoch 98/1000\n",
            "35/71 [=============>................] - ETA: 0s - loss: 0.7630 - accuracy: 0.7357\n",
            "Epoch 98: saving model to model\\aslr_model.hdf5\n",
            "71/71 [==============================] - 0s 2ms/step - loss: 0.7417 - accuracy: 0.7434 - val_loss: 0.2304 - val_accuracy: 1.0000\n",
            "Epoch 99/1000\n",
            "34/71 [=============>................] - ETA: 0s - loss: 0.7101 - accuracy: 0.7505\n",
            "Epoch 99: saving model to model\\aslr_model.hdf5\n",
            "71/71 [==============================] - 0s 2ms/step - loss: 0.7396 - accuracy: 0.7486 - val_loss: 0.2429 - val_accuracy: 0.9997\n",
            "Epoch 100/1000\n",
            "38/71 [===============>..............] - ETA: 0s - loss: 0.7179 - accuracy: 0.7533\n",
            "Epoch 100: saving model to model\\aslr_model.hdf5\n",
            "71/71 [==============================] - 0s 2ms/step - loss: 0.7387 - accuracy: 0.7469 - val_loss: 0.2250 - val_accuracy: 0.9997\n",
            "Epoch 101/1000\n",
            "60/71 [========================>.....] - ETA: 0s - loss: 0.7225 - accuracy: 0.7583\n",
            "Epoch 101: saving model to model\\aslr_model.hdf5\n",
            "71/71 [==============================] - 0s 2ms/step - loss: 0.7214 - accuracy: 0.7597 - val_loss: 0.2314 - val_accuracy: 0.9997\n",
            "Epoch 102/1000\n",
            "37/71 [==============>...............] - ETA: 0s - loss: 0.7168 - accuracy: 0.7561\n",
            "Epoch 102: saving model to model\\aslr_model.hdf5\n",
            "71/71 [==============================] - 0s 2ms/step - loss: 0.7180 - accuracy: 0.7560 - val_loss: 0.2247 - val_accuracy: 1.0000\n",
            "Epoch 103/1000\n",
            "38/71 [===============>..............] - ETA: 0s - loss: 0.7203 - accuracy: 0.7500\n",
            "Epoch 103: saving model to model\\aslr_model.hdf5\n",
            "71/71 [==============================] - 0s 2ms/step - loss: 0.7321 - accuracy: 0.7501 - val_loss: 0.2138 - val_accuracy: 1.0000\n",
            "Epoch 104/1000\n",
            "40/71 [===============>..............] - ETA: 0s - loss: 0.7381 - accuracy: 0.7486\n",
            "Epoch 104: saving model to model\\aslr_model.hdf5\n",
            "71/71 [==============================] - 0s 2ms/step - loss: 0.7254 - accuracy: 0.7522 - val_loss: 0.2187 - val_accuracy: 0.9997\n",
            "Epoch 105/1000\n",
            "37/71 [==============>...............] - ETA: 0s - loss: 0.7513 - accuracy: 0.7439\n",
            "Epoch 105: saving model to model\\aslr_model.hdf5\n",
            "71/71 [==============================] - 0s 2ms/step - loss: 0.7427 - accuracy: 0.7471 - val_loss: 0.2295 - val_accuracy: 1.0000\n",
            "Epoch 106/1000\n",
            "39/71 [===============>..............] - ETA: 0s - loss: 0.7263 - accuracy: 0.7496\n",
            "Epoch 106: saving model to model\\aslr_model.hdf5\n",
            "71/71 [==============================] - 0s 2ms/step - loss: 0.7242 - accuracy: 0.7501 - val_loss: 0.2130 - val_accuracy: 1.0000\n",
            "Epoch 107/1000\n",
            "35/71 [=============>................] - ETA: 0s - loss: 0.7172 - accuracy: 0.7522\n",
            "Epoch 107: saving model to model\\aslr_model.hdf5\n",
            "71/71 [==============================] - 0s 2ms/step - loss: 0.7144 - accuracy: 0.7531 - val_loss: 0.2115 - val_accuracy: 0.9997\n",
            "Epoch 108/1000\n",
            "35/71 [=============>................] - ETA: 0s - loss: 0.7050 - accuracy: 0.7558\n",
            "Epoch 108: saving model to model\\aslr_model.hdf5\n",
            "71/71 [==============================] - 0s 2ms/step - loss: 0.7107 - accuracy: 0.7571 - val_loss: 0.2141 - val_accuracy: 1.0000\n",
            "Epoch 109/1000\n",
            "40/71 [===============>..............] - ETA: 0s - loss: 0.7056 - accuracy: 0.7627\n",
            "Epoch 109: saving model to model\\aslr_model.hdf5\n",
            "71/71 [==============================] - 0s 2ms/step - loss: 0.7098 - accuracy: 0.7590 - val_loss: 0.2145 - val_accuracy: 1.0000\n",
            "Epoch 110/1000\n",
            "36/71 [==============>...............] - ETA: 0s - loss: 0.7159 - accuracy: 0.7517\n",
            "Epoch 110: saving model to model\\aslr_model.hdf5\n",
            "71/71 [==============================] - 0s 2ms/step - loss: 0.7165 - accuracy: 0.7508 - val_loss: 0.2101 - val_accuracy: 1.0000\n",
            "Epoch 111/1000\n",
            "35/71 [=============>................] - ETA: 0s - loss: 0.7234 - accuracy: 0.7473\n",
            "Epoch 111: saving model to model\\aslr_model.hdf5\n",
            "71/71 [==============================] - 0s 2ms/step - loss: 0.7272 - accuracy: 0.7479 - val_loss: 0.2173 - val_accuracy: 0.9997\n",
            "Epoch 112/1000\n",
            "38/71 [===============>..............] - ETA: 0s - loss: 0.7022 - accuracy: 0.7535\n",
            "Epoch 112: saving model to model\\aslr_model.hdf5\n",
            "71/71 [==============================] - 0s 2ms/step - loss: 0.6936 - accuracy: 0.7594 - val_loss: 0.2031 - val_accuracy: 1.0000\n",
            "Epoch 113/1000\n",
            "36/71 [==============>...............] - ETA: 0s - loss: 0.7148 - accuracy: 0.7593\n",
            "Epoch 113: saving model to model\\aslr_model.hdf5\n",
            "71/71 [==============================] - 0s 2ms/step - loss: 0.7085 - accuracy: 0.7571 - val_loss: 0.2065 - val_accuracy: 0.9997\n",
            "Epoch 114/1000\n",
            "40/71 [===============>..............] - ETA: 0s - loss: 0.6986 - accuracy: 0.7646\n",
            "Epoch 114: saving model to model\\aslr_model.hdf5\n",
            "71/71 [==============================] - 0s 2ms/step - loss: 0.6896 - accuracy: 0.7696 - val_loss: 0.2026 - val_accuracy: 0.9993\n",
            "Epoch 115/1000\n",
            "36/71 [==============>...............] - ETA: 0s - loss: 0.7136 - accuracy: 0.7480\n",
            "Epoch 115: saving model to model\\aslr_model.hdf5\n",
            "71/71 [==============================] - 0s 2ms/step - loss: 0.7090 - accuracy: 0.7522 - val_loss: 0.2027 - val_accuracy: 1.0000\n",
            "Epoch 116/1000\n",
            "34/71 [=============>................] - ETA: 0s - loss: 0.6969 - accuracy: 0.7677\n",
            "Epoch 116: saving model to model\\aslr_model.hdf5\n",
            "71/71 [==============================] - 0s 2ms/step - loss: 0.6911 - accuracy: 0.7688 - val_loss: 0.2011 - val_accuracy: 1.0000\n",
            "Epoch 117/1000\n",
            "51/71 [====================>.........] - ETA: 0s - loss: 0.6940 - accuracy: 0.7639\n",
            "Epoch 117: saving model to model\\aslr_model.hdf5\n",
            "71/71 [==============================] - 0s 3ms/step - loss: 0.6897 - accuracy: 0.7656 - val_loss: 0.1990 - val_accuracy: 0.9997\n",
            "Epoch 118/1000\n",
            "35/71 [=============>................] - ETA: 0s - loss: 0.7074 - accuracy: 0.7623\n",
            "Epoch 118: saving model to model\\aslr_model.hdf5\n",
            "71/71 [==============================] - 0s 2ms/step - loss: 0.7110 - accuracy: 0.7598 - val_loss: 0.1993 - val_accuracy: 1.0000\n",
            "Epoch 119/1000\n",
            "39/71 [===============>..............] - ETA: 0s - loss: 0.7050 - accuracy: 0.7578\n",
            "Epoch 119: saving model to model\\aslr_model.hdf5\n",
            "71/71 [==============================] - 0s 2ms/step - loss: 0.6927 - accuracy: 0.7612 - val_loss: 0.2000 - val_accuracy: 1.0000\n",
            "Epoch 120/1000\n",
            "38/71 [===============>..............] - ETA: 0s - loss: 0.7107 - accuracy: 0.7588\n",
            "Epoch 120: saving model to model\\aslr_model.hdf5\n",
            "71/71 [==============================] - 0s 2ms/step - loss: 0.6953 - accuracy: 0.7634 - val_loss: 0.1956 - val_accuracy: 0.9997\n",
            "Epoch 121/1000\n",
            "37/71 [==============>...............] - ETA: 0s - loss: 0.6692 - accuracy: 0.7743\n",
            "Epoch 121: saving model to model\\aslr_model.hdf5\n",
            "71/71 [==============================] - 0s 2ms/step - loss: 0.6904 - accuracy: 0.7658 - val_loss: 0.1954 - val_accuracy: 0.9997\n",
            "Epoch 122/1000\n",
            "35/71 [=============>................] - ETA: 0s - loss: 0.6799 - accuracy: 0.7723\n",
            "Epoch 122: saving model to model\\aslr_model.hdf5\n",
            "71/71 [==============================] - 0s 2ms/step - loss: 0.6888 - accuracy: 0.7639 - val_loss: 0.1958 - val_accuracy: 1.0000\n",
            "Epoch 123/1000\n",
            "38/71 [===============>..............] - ETA: 0s - loss: 0.6985 - accuracy: 0.7671\n",
            "Epoch 123: saving model to model\\aslr_model.hdf5\n",
            "71/71 [==============================] - 0s 2ms/step - loss: 0.7004 - accuracy: 0.7639 - val_loss: 0.1963 - val_accuracy: 1.0000\n",
            "Epoch 124/1000\n",
            "37/71 [==============>...............] - ETA: 0s - loss: 0.6900 - accuracy: 0.7593\n",
            "Epoch 124: saving model to model\\aslr_model.hdf5\n",
            "71/71 [==============================] - 0s 2ms/step - loss: 0.6811 - accuracy: 0.7627 - val_loss: 0.1823 - val_accuracy: 1.0000\n",
            "Epoch 125/1000\n",
            "37/71 [==============>...............] - ETA: 0s - loss: 0.6887 - accuracy: 0.7652\n",
            "Epoch 125: saving model to model\\aslr_model.hdf5\n",
            "71/71 [==============================] - 0s 2ms/step - loss: 0.6862 - accuracy: 0.7622 - val_loss: 0.1942 - val_accuracy: 0.9993\n",
            "Epoch 126/1000\n",
            "39/71 [===============>..............] - ETA: 0s - loss: 0.6917 - accuracy: 0.7516\n",
            "Epoch 126: saving model to model\\aslr_model.hdf5\n",
            "71/71 [==============================] - 0s 2ms/step - loss: 0.6913 - accuracy: 0.7600 - val_loss: 0.1864 - val_accuracy: 0.9993\n",
            "Epoch 127/1000\n",
            "32/71 [============>.................] - ETA: 0s - loss: 0.6753 - accuracy: 0.7705\n",
            "Epoch 127: saving model to model\\aslr_model.hdf5\n",
            "71/71 [==============================] - 0s 2ms/step - loss: 0.6672 - accuracy: 0.7714 - val_loss: 0.1834 - val_accuracy: 1.0000\n",
            "Epoch 128/1000\n",
            "29/71 [===========>..................] - ETA: 0s - loss: 0.6895 - accuracy: 0.7702\n",
            "Epoch 128: saving model to model\\aslr_model.hdf5\n",
            "71/71 [==============================] - 0s 2ms/step - loss: 0.6817 - accuracy: 0.7703 - val_loss: 0.1842 - val_accuracy: 0.9997\n",
            "Epoch 129/1000\n",
            "34/71 [=============>................] - ETA: 0s - loss: 0.6934 - accuracy: 0.7587\n",
            "Epoch 129: saving model to model\\aslr_model.hdf5\n",
            "71/71 [==============================] - 0s 2ms/step - loss: 0.6842 - accuracy: 0.7662 - val_loss: 0.1773 - val_accuracy: 1.0000\n",
            "Epoch 130/1000\n",
            "36/71 [==============>...............] - ETA: 0s - loss: 0.6721 - accuracy: 0.7687\n",
            "Epoch 130: saving model to model\\aslr_model.hdf5\n",
            "71/71 [==============================] - 0s 2ms/step - loss: 0.6716 - accuracy: 0.7702 - val_loss: 0.1811 - val_accuracy: 1.0000\n",
            "Epoch 131/1000\n",
            "40/71 [===============>..............] - ETA: 0s - loss: 0.6506 - accuracy: 0.7752\n",
            "Epoch 131: saving model to model\\aslr_model.hdf5\n",
            "71/71 [==============================] - 0s 2ms/step - loss: 0.6483 - accuracy: 0.7743 - val_loss: 0.1796 - val_accuracy: 1.0000\n",
            "Epoch 132/1000\n",
            "39/71 [===============>..............] - ETA: 0s - loss: 0.6818 - accuracy: 0.7668\n",
            "Epoch 132: saving model to model\\aslr_model.hdf5\n",
            "71/71 [==============================] - 0s 2ms/step - loss: 0.6846 - accuracy: 0.7664 - val_loss: 0.1726 - val_accuracy: 1.0000\n",
            "Epoch 133/1000\n",
            "69/71 [============================>.] - ETA: 0s - loss: 0.6926 - accuracy: 0.7629\n",
            "Epoch 133: saving model to model\\aslr_model.hdf5\n",
            "71/71 [==============================] - 0s 2ms/step - loss: 0.6931 - accuracy: 0.7633 - val_loss: 0.1868 - val_accuracy: 1.0000\n",
            "Epoch 134/1000\n",
            "35/71 [=============>................] - ETA: 0s - loss: 0.6944 - accuracy: 0.7658\n",
            "Epoch 134: saving model to model\\aslr_model.hdf5\n",
            "71/71 [==============================] - 0s 2ms/step - loss: 0.6825 - accuracy: 0.7686 - val_loss: 0.1811 - val_accuracy: 1.0000\n",
            "Epoch 135/1000\n",
            "37/71 [==============>...............] - ETA: 0s - loss: 0.6645 - accuracy: 0.7713\n",
            "Epoch 135: saving model to model\\aslr_model.hdf5\n",
            "71/71 [==============================] - 0s 2ms/step - loss: 0.6617 - accuracy: 0.7718 - val_loss: 0.1725 - val_accuracy: 1.0000\n",
            "Epoch 136/1000\n",
            "37/71 [==============>...............] - ETA: 0s - loss: 0.6911 - accuracy: 0.7593\n",
            "Epoch 136: saving model to model\\aslr_model.hdf5\n",
            "71/71 [==============================] - 0s 2ms/step - loss: 0.6728 - accuracy: 0.7687 - val_loss: 0.1788 - val_accuracy: 0.9993\n",
            "Epoch 137/1000\n",
            "37/71 [==============>...............] - ETA: 0s - loss: 0.6546 - accuracy: 0.7815\n",
            "Epoch 137: saving model to model\\aslr_model.hdf5\n",
            "71/71 [==============================] - 0s 2ms/step - loss: 0.6584 - accuracy: 0.7809 - val_loss: 0.1747 - val_accuracy: 0.9997\n",
            "Epoch 138/1000\n",
            "34/71 [=============>................] - ETA: 0s - loss: 0.6651 - accuracy: 0.7771\n",
            "Epoch 138: saving model to model\\aslr_model.hdf5\n",
            "71/71 [==============================] - 0s 2ms/step - loss: 0.6740 - accuracy: 0.7728 - val_loss: 0.1792 - val_accuracy: 0.9997\n",
            "Epoch 139/1000\n",
            "36/71 [==============>...............] - ETA: 0s - loss: 0.7043 - accuracy: 0.7593\n",
            "Epoch 139: saving model to model\\aslr_model.hdf5\n",
            "71/71 [==============================] - 0s 2ms/step - loss: 0.6807 - accuracy: 0.7676 - val_loss: 0.1737 - val_accuracy: 0.9997\n",
            "Epoch 140/1000\n",
            "36/71 [==============>...............] - ETA: 0s - loss: 0.6634 - accuracy: 0.7737\n",
            "Epoch 140: saving model to model\\aslr_model.hdf5\n",
            "71/71 [==============================] - 0s 2ms/step - loss: 0.6529 - accuracy: 0.7788 - val_loss: 0.1772 - val_accuracy: 0.9997\n",
            "Epoch 141/1000\n",
            "35/71 [=============>................] - ETA: 0s - loss: 0.6563 - accuracy: 0.7779\n",
            "Epoch 141: saving model to model\\aslr_model.hdf5\n",
            "71/71 [==============================] - 0s 2ms/step - loss: 0.6595 - accuracy: 0.7747 - val_loss: 0.1699 - val_accuracy: 0.9993\n",
            "Epoch 142/1000\n",
            "39/71 [===============>..............] - ETA: 0s - loss: 0.6430 - accuracy: 0.7806\n",
            "Epoch 142: saving model to model\\aslr_model.hdf5\n",
            "71/71 [==============================] - 0s 2ms/step - loss: 0.6627 - accuracy: 0.7724 - val_loss: 0.1744 - val_accuracy: 1.0000\n",
            "Epoch 143/1000\n",
            "34/71 [=============>................] - ETA: 0s - loss: 0.6597 - accuracy: 0.7672\n",
            "Epoch 143: saving model to model\\aslr_model.hdf5\n",
            "71/71 [==============================] - 0s 2ms/step - loss: 0.6774 - accuracy: 0.7667 - val_loss: 0.1706 - val_accuracy: 0.9997\n",
            "Epoch 144/1000\n",
            "37/71 [==============>...............] - ETA: 0s - loss: 0.6586 - accuracy: 0.7802\n",
            "Epoch 144: saving model to model\\aslr_model.hdf5\n",
            "71/71 [==============================] - 0s 2ms/step - loss: 0.6666 - accuracy: 0.7821 - val_loss: 0.1691 - val_accuracy: 0.9997\n",
            "Epoch 145/1000\n",
            "40/71 [===============>..............] - ETA: 0s - loss: 0.6595 - accuracy: 0.7770\n",
            "Epoch 145: saving model to model\\aslr_model.hdf5\n",
            "71/71 [==============================] - 0s 2ms/step - loss: 0.6551 - accuracy: 0.7756 - val_loss: 0.1714 - val_accuracy: 0.9997\n",
            "Epoch 146/1000\n",
            "33/71 [============>.................] - ETA: 0s - loss: 0.6359 - accuracy: 0.7848\n",
            "Epoch 146: saving model to model\\aslr_model.hdf5\n",
            "71/71 [==============================] - 0s 2ms/step - loss: 0.6354 - accuracy: 0.7838 - val_loss: 0.1653 - val_accuracy: 0.9997\n",
            "Epoch 147/1000\n",
            "59/71 [=======================>......] - ETA: 0s - loss: 0.6533 - accuracy: 0.7815\n",
            "Epoch 147: saving model to model\\aslr_model.hdf5\n",
            "71/71 [==============================] - 0s 2ms/step - loss: 0.6490 - accuracy: 0.7832 - val_loss: 0.1630 - val_accuracy: 0.9997\n",
            "Epoch 148/1000\n",
            "40/71 [===============>..............] - ETA: 0s - loss: 0.6474 - accuracy: 0.7773\n",
            "Epoch 148: saving model to model\\aslr_model.hdf5\n",
            "71/71 [==============================] - 0s 2ms/step - loss: 0.6501 - accuracy: 0.7801 - val_loss: 0.1735 - val_accuracy: 0.9993\n",
            "Epoch 149/1000\n",
            "34/71 [=============>................] - ETA: 0s - loss: 0.6493 - accuracy: 0.7776\n",
            "Epoch 149: saving model to model\\aslr_model.hdf5\n",
            "71/71 [==============================] - 0s 2ms/step - loss: 0.6527 - accuracy: 0.7752 - val_loss: 0.1755 - val_accuracy: 0.9997\n",
            "Epoch 150/1000\n",
            "39/71 [===============>..............] - ETA: 0s - loss: 0.6516 - accuracy: 0.7804\n",
            "Epoch 150: saving model to model\\aslr_model.hdf5\n",
            "71/71 [==============================] - 0s 2ms/step - loss: 0.6472 - accuracy: 0.7807 - val_loss: 0.1656 - val_accuracy: 0.9997\n",
            "Epoch 151/1000\n",
            "40/71 [===============>..............] - ETA: 0s - loss: 0.6697 - accuracy: 0.7730\n",
            "Epoch 151: saving model to model\\aslr_model.hdf5\n",
            "71/71 [==============================] - 0s 2ms/step - loss: 0.6648 - accuracy: 0.7766 - val_loss: 0.1649 - val_accuracy: 0.9997\n",
            "Epoch 152/1000\n",
            "30/71 [===========>..................] - ETA: 0s - loss: 0.6770 - accuracy: 0.7734\n",
            "Epoch 152: saving model to model\\aslr_model.hdf5\n",
            "71/71 [==============================] - 0s 2ms/step - loss: 0.6588 - accuracy: 0.7797 - val_loss: 0.1727 - val_accuracy: 0.9997\n",
            "Epoch 153/1000\n",
            "35/71 [=============>................] - ETA: 0s - loss: 0.6362 - accuracy: 0.7902\n",
            "Epoch 153: saving model to model\\aslr_model.hdf5\n",
            "71/71 [==============================] - 0s 2ms/step - loss: 0.6425 - accuracy: 0.7818 - val_loss: 0.1661 - val_accuracy: 0.9997\n",
            "Epoch 154/1000\n",
            "69/71 [============================>.] - ETA: 0s - loss: 0.6428 - accuracy: 0.7792\n",
            "Epoch 154: saving model to model\\aslr_model.hdf5\n",
            "71/71 [==============================] - 0s 2ms/step - loss: 0.6417 - accuracy: 0.7794 - val_loss: 0.1732 - val_accuracy: 0.9993\n",
            "Epoch 155/1000\n",
            "35/71 [=============>................] - ETA: 0s - loss: 0.6203 - accuracy: 0.7913\n",
            "Epoch 155: saving model to model\\aslr_model.hdf5\n",
            "71/71 [==============================] - 0s 2ms/step - loss: 0.6427 - accuracy: 0.7829 - val_loss: 0.1659 - val_accuracy: 0.9997\n",
            "Epoch 156/1000\n",
            "29/71 [===========>..................] - ETA: 0s - loss: 0.6130 - accuracy: 0.7909\n",
            "Epoch 156: saving model to model\\aslr_model.hdf5\n",
            "71/71 [==============================] - 0s 2ms/step - loss: 0.6373 - accuracy: 0.7808 - val_loss: 0.1610 - val_accuracy: 0.9997\n",
            "Epoch 157/1000\n",
            "36/71 [==============>...............] - ETA: 0s - loss: 0.6325 - accuracy: 0.7802\n",
            "Epoch 157: saving model to model\\aslr_model.hdf5\n",
            "71/71 [==============================] - 0s 2ms/step - loss: 0.6351 - accuracy: 0.7786 - val_loss: 0.1647 - val_accuracy: 0.9997\n",
            "Epoch 158/1000\n",
            "38/71 [===============>..............] - ETA: 0s - loss: 0.6619 - accuracy: 0.7757\n",
            "Epoch 158: saving model to model\\aslr_model.hdf5\n",
            "71/71 [==============================] - 0s 2ms/step - loss: 0.6408 - accuracy: 0.7832 - val_loss: 0.1604 - val_accuracy: 0.9990\n",
            "Epoch 159/1000\n",
            "39/71 [===============>..............] - ETA: 0s - loss: 0.6256 - accuracy: 0.7812\n",
            "Epoch 159: saving model to model\\aslr_model.hdf5\n",
            "71/71 [==============================] - 0s 2ms/step - loss: 0.6304 - accuracy: 0.7828 - val_loss: 0.1653 - val_accuracy: 0.9997\n",
            "Epoch 160/1000\n",
            "60/71 [========================>.....] - ETA: 0s - loss: 0.6314 - accuracy: 0.7846\n",
            "Epoch 160: saving model to model\\aslr_model.hdf5\n",
            "71/71 [==============================] - 0s 2ms/step - loss: 0.6296 - accuracy: 0.7864 - val_loss: 0.1599 - val_accuracy: 0.9943\n",
            "Epoch 161/1000\n",
            "38/71 [===============>..............] - ETA: 0s - loss: 0.6335 - accuracy: 0.7798\n",
            "Epoch 161: saving model to model\\aslr_model.hdf5\n",
            "71/71 [==============================] - 0s 2ms/step - loss: 0.6263 - accuracy: 0.7886 - val_loss: 0.1583 - val_accuracy: 0.9997\n",
            "Epoch 162/1000\n",
            "39/71 [===============>..............] - ETA: 0s - loss: 0.6368 - accuracy: 0.7883\n",
            "Epoch 162: saving model to model\\aslr_model.hdf5\n",
            "71/71 [==============================] - 0s 2ms/step - loss: 0.6208 - accuracy: 0.7912 - val_loss: 0.1604 - val_accuracy: 0.9997\n",
            "Epoch 163/1000\n",
            "34/71 [=============>................] - ETA: 0s - loss: 0.6347 - accuracy: 0.7868\n",
            "Epoch 163: saving model to model\\aslr_model.hdf5\n",
            "71/71 [==============================] - 0s 2ms/step - loss: 0.6370 - accuracy: 0.7810 - val_loss: 0.1767 - val_accuracy: 0.9997\n",
            "Epoch 164/1000\n",
            "71/71 [==============================] - ETA: 0s - loss: 0.6240 - accuracy: 0.7907\n",
            "Epoch 164: saving model to model\\aslr_model.hdf5\n",
            "71/71 [==============================] - 0s 2ms/step - loss: 0.6240 - accuracy: 0.7907 - val_loss: 0.1676 - val_accuracy: 0.9993\n",
            "Epoch 165/1000\n",
            "37/71 [==============>...............] - ETA: 0s - loss: 0.6471 - accuracy: 0.7840\n",
            "Epoch 165: saving model to model\\aslr_model.hdf5\n",
            "71/71 [==============================] - 0s 2ms/step - loss: 0.6434 - accuracy: 0.7822 - val_loss: 0.1669 - val_accuracy: 0.9997\n",
            "Epoch 166/1000\n",
            "40/71 [===============>..............] - ETA: 0s - loss: 0.6140 - accuracy: 0.7889\n",
            "Epoch 166: saving model to model\\aslr_model.hdf5\n",
            "71/71 [==============================] - 0s 2ms/step - loss: 0.6158 - accuracy: 0.7890 - val_loss: 0.1545 - val_accuracy: 0.9997\n",
            "Epoch 167/1000\n",
            "37/71 [==============>...............] - ETA: 0s - loss: 0.6443 - accuracy: 0.7867\n",
            "Epoch 167: saving model to model\\aslr_model.hdf5\n",
            "71/71 [==============================] - 0s 2ms/step - loss: 0.6332 - accuracy: 0.7846 - val_loss: 0.1588 - val_accuracy: 0.9990\n",
            "Epoch 168/1000\n",
            "37/71 [==============>...............] - ETA: 0s - loss: 0.5882 - accuracy: 0.7998\n",
            "Epoch 168: saving model to model\\aslr_model.hdf5\n",
            "71/71 [==============================] - 0s 2ms/step - loss: 0.6086 - accuracy: 0.7926 - val_loss: 0.1746 - val_accuracy: 0.9930\n",
            "Epoch 169/1000\n",
            "32/71 [============>.................] - ETA: 0s - loss: 0.5912 - accuracy: 0.7983\n",
            "Epoch 169: saving model to model\\aslr_model.hdf5\n",
            "71/71 [==============================] - 0s 2ms/step - loss: 0.6086 - accuracy: 0.7936 - val_loss: 0.1682 - val_accuracy: 0.9997\n",
            "Epoch 170/1000\n",
            "42/71 [================>.............] - ETA: 0s - loss: 0.6194 - accuracy: 0.7906\n",
            "Epoch 170: saving model to model\\aslr_model.hdf5\n",
            "71/71 [==============================] - 0s 2ms/step - loss: 0.6176 - accuracy: 0.7907 - val_loss: 0.1773 - val_accuracy: 0.9940\n",
            "Epoch 171/1000\n",
            "38/71 [===============>..............] - ETA: 0s - loss: 0.6145 - accuracy: 0.7932\n",
            "Epoch 171: saving model to model\\aslr_model.hdf5\n",
            "71/71 [==============================] - 0s 2ms/step - loss: 0.6125 - accuracy: 0.7919 - val_loss: 0.1524 - val_accuracy: 0.9997\n",
            "Epoch 172/1000\n",
            "49/71 [===================>..........] - ETA: 0s - loss: 0.6026 - accuracy: 0.7950\n",
            "Epoch 172: saving model to model\\aslr_model.hdf5\n",
            "71/71 [==============================] - 0s 3ms/step - loss: 0.5979 - accuracy: 0.7937 - val_loss: 0.1594 - val_accuracy: 0.9990\n",
            "Epoch 173/1000\n",
            "34/71 [=============>................] - ETA: 0s - loss: 0.6417 - accuracy: 0.7769\n",
            "Epoch 173: saving model to model\\aslr_model.hdf5\n",
            "71/71 [==============================] - 0s 2ms/step - loss: 0.6195 - accuracy: 0.7884 - val_loss: 0.1696 - val_accuracy: 0.9923\n",
            "Epoch 174/1000\n",
            "71/71 [==============================] - ETA: 0s - loss: 0.5915 - accuracy: 0.8003\n",
            "Epoch 174: saving model to model\\aslr_model.hdf5\n",
            "71/71 [==============================] - 0s 2ms/step - loss: 0.5915 - accuracy: 0.8003 - val_loss: 0.1488 - val_accuracy: 0.9997\n",
            "Epoch 175/1000\n",
            "32/71 [============>.................] - ETA: 0s - loss: 0.6194 - accuracy: 0.7820\n",
            "Epoch 175: saving model to model\\aslr_model.hdf5\n",
            "71/71 [==============================] - 0s 2ms/step - loss: 0.6143 - accuracy: 0.7877 - val_loss: 0.1553 - val_accuracy: 0.9997\n",
            "Epoch 176/1000\n",
            "36/71 [==============>...............] - ETA: 0s - loss: 0.5873 - accuracy: 0.8051\n",
            "Epoch 176: saving model to model\\aslr_model.hdf5\n",
            "71/71 [==============================] - 0s 2ms/step - loss: 0.5998 - accuracy: 0.8014 - val_loss: 0.1574 - val_accuracy: 0.9997\n",
            "Epoch 177/1000\n",
            "71/71 [==============================] - ETA: 0s - loss: 0.6132 - accuracy: 0.7901\n",
            "Epoch 177: saving model to model\\aslr_model.hdf5\n",
            "71/71 [==============================] - 0s 2ms/step - loss: 0.6132 - accuracy: 0.7901 - val_loss: 0.1699 - val_accuracy: 0.9977\n",
            "Epoch 178/1000\n",
            "35/71 [=============>................] - ETA: 0s - loss: 0.6003 - accuracy: 0.7935\n",
            "Epoch 178: saving model to model\\aslr_model.hdf5\n",
            "71/71 [==============================] - 0s 2ms/step - loss: 0.6028 - accuracy: 0.7943 - val_loss: 0.1667 - val_accuracy: 0.9993\n",
            "Epoch 179/1000\n",
            "30/71 [===========>..................] - ETA: 0s - loss: 0.6161 - accuracy: 0.7961\n",
            "Epoch 179: saving model to model\\aslr_model.hdf5\n",
            "71/71 [==============================] - 0s 2ms/step - loss: 0.6088 - accuracy: 0.7992 - val_loss: 0.1531 - val_accuracy: 0.9997\n",
            "Epoch 180/1000\n",
            "38/71 [===============>..............] - ETA: 0s - loss: 0.6041 - accuracy: 0.7936\n",
            "Epoch 180: saving model to model\\aslr_model.hdf5\n",
            "71/71 [==============================] - 0s 2ms/step - loss: 0.5985 - accuracy: 0.7969 - val_loss: 0.1651 - val_accuracy: 0.9990\n",
            "Epoch 181/1000\n",
            "34/71 [=============>................] - ETA: 0s - loss: 0.6201 - accuracy: 0.7904\n",
            "Epoch 181: saving model to model\\aslr_model.hdf5\n",
            "71/71 [==============================] - 0s 2ms/step - loss: 0.6032 - accuracy: 0.7968 - val_loss: 0.1519 - val_accuracy: 0.9997\n",
            "Epoch 182/1000\n",
            "35/71 [=============>................] - ETA: 0s - loss: 0.6021 - accuracy: 0.7944\n",
            "Epoch 182: saving model to model\\aslr_model.hdf5\n",
            "71/71 [==============================] - 0s 2ms/step - loss: 0.6055 - accuracy: 0.7954 - val_loss: 0.1556 - val_accuracy: 0.9997\n",
            "Epoch 183/1000\n",
            "37/71 [==============>...............] - ETA: 0s - loss: 0.5803 - accuracy: 0.8045\n",
            "Epoch 183: saving model to model\\aslr_model.hdf5\n",
            "71/71 [==============================] - 0s 2ms/step - loss: 0.5940 - accuracy: 0.7970 - val_loss: 0.1578 - val_accuracy: 0.9997\n",
            "Epoch 184/1000\n",
            "54/71 [=====================>........] - ETA: 0s - loss: 0.5930 - accuracy: 0.8005\n",
            "Epoch 184: saving model to model\\aslr_model.hdf5\n",
            "71/71 [==============================] - 0s 3ms/step - loss: 0.5933 - accuracy: 0.8014 - val_loss: 0.1620 - val_accuracy: 0.9963\n",
            "Epoch 185/1000\n",
            "34/71 [=============>................] - ETA: 0s - loss: 0.5970 - accuracy: 0.7911\n",
            "Epoch 185: saving model to model\\aslr_model.hdf5\n",
            "71/71 [==============================] - 0s 2ms/step - loss: 0.5893 - accuracy: 0.7972 - val_loss: 0.1550 - val_accuracy: 0.9983\n",
            "Epoch 186/1000\n",
            "36/71 [==============>...............] - ETA: 0s - loss: 0.5955 - accuracy: 0.8021\n",
            "Epoch 186: saving model to model\\aslr_model.hdf5\n",
            "71/71 [==============================] - 0s 2ms/step - loss: 0.5992 - accuracy: 0.8013 - val_loss: 0.1655 - val_accuracy: 0.9980\n",
            "Epoch 187/1000\n",
            "38/71 [===============>..............] - ETA: 0s - loss: 0.6186 - accuracy: 0.7936\n",
            "Epoch 187: saving model to model\\aslr_model.hdf5\n",
            "71/71 [==============================] - 0s 2ms/step - loss: 0.6107 - accuracy: 0.7933 - val_loss: 0.1638 - val_accuracy: 0.9997\n",
            "Epoch 188/1000\n",
            "34/71 [=============>................] - ETA: 0s - loss: 0.6088 - accuracy: 0.7916\n",
            "Epoch 188: saving model to model\\aslr_model.hdf5\n",
            "71/71 [==============================] - 0s 2ms/step - loss: 0.6070 - accuracy: 0.7883 - val_loss: 0.1655 - val_accuracy: 0.9977\n",
            "Epoch 189/1000\n",
            "33/71 [============>.................] - ETA: 0s - loss: 0.5978 - accuracy: 0.8021\n",
            "Epoch 189: saving model to model\\aslr_model.hdf5\n",
            "71/71 [==============================] - 0s 2ms/step - loss: 0.5923 - accuracy: 0.8016 - val_loss: 0.1552 - val_accuracy: 0.9997\n",
            "Epoch 190/1000\n",
            "35/71 [=============>................] - ETA: 0s - loss: 0.6017 - accuracy: 0.7904\n",
            "Epoch 190: saving model to model\\aslr_model.hdf5\n",
            "71/71 [==============================] - 0s 2ms/step - loss: 0.5898 - accuracy: 0.7958 - val_loss: 0.1554 - val_accuracy: 0.9983\n",
            "Epoch 191/1000\n",
            "36/71 [==============>...............] - ETA: 0s - loss: 0.5801 - accuracy: 0.8099\n",
            "Epoch 191: saving model to model\\aslr_model.hdf5\n",
            "71/71 [==============================] - 0s 2ms/step - loss: 0.5777 - accuracy: 0.8079 - val_loss: 0.1567 - val_accuracy: 0.9997\n",
            "Epoch 192/1000\n",
            "35/71 [=============>................] - ETA: 0s - loss: 0.5643 - accuracy: 0.8051\n",
            "Epoch 192: saving model to model\\aslr_model.hdf5\n",
            "71/71 [==============================] - 0s 2ms/step - loss: 0.5928 - accuracy: 0.7978 - val_loss: 0.1523 - val_accuracy: 0.9983\n",
            "Epoch 193/1000\n",
            "71/71 [==============================] - ETA: 0s - loss: 0.5964 - accuracy: 0.7992\n",
            "Epoch 193: saving model to model\\aslr_model.hdf5\n",
            "71/71 [==============================] - 0s 2ms/step - loss: 0.5964 - accuracy: 0.7992 - val_loss: 0.1721 - val_accuracy: 0.9943\n",
            "Epoch 194/1000\n",
            "33/71 [============>.................] - ETA: 0s - loss: 0.6091 - accuracy: 0.7966\n",
            "Epoch 194: saving model to model\\aslr_model.hdf5\n",
            "71/71 [==============================] - 0s 2ms/step - loss: 0.5913 - accuracy: 0.7978 - val_loss: 0.1510 - val_accuracy: 0.9993\n",
            "Epoch 194: early stopping\n"
          ]
        },
        {
          "data": {
            "text/plain": [
              "<keras.callbacks.History at 0x26a549d72b0>"
            ]
          },
          "execution_count": 11,
          "metadata": {},
          "output_type": "execute_result"
        }
      ],
      "source": [
        "model.fit(\n",
        "    X_train,\n",
        "    y_train,\n",
        "    epochs=1000,\n",
        "    batch_size=128,\n",
        "    validation_data=(X_test, y_test),\n",
        "    callbacks=[cp_callback, es_callback]\n",
        ")"
      ]
    },
    {
      "cell_type": "code",
      "execution_count": 12,
      "metadata": {
        "colab": {
          "base_uri": "https://localhost:8080/"
        },
        "id": "pxvb2Y299hE3",
        "outputId": "59eb3185-2e37-4b9e-bc9d-ab1b8ac29b7f"
      },
      "outputs": [
        {
          "name": "stdout",
          "output_type": "stream",
          "text": [
            "24/24 [==============================] - 0s 900us/step - loss: 0.1510 - accuracy: 0.9993\n"
          ]
        }
      ],
      "source": [
        "# Model evaluation\n",
        "val_loss, val_acc = model.evaluate(X_test, y_test, batch_size=128)"
      ]
    },
    {
      "cell_type": "code",
      "execution_count": 13,
      "metadata": {
        "id": "RBkmDeUW9hE4"
      },
      "outputs": [],
      "source": [
        "# Loading the saved model\n",
        "model = tf.keras.models.load_model(model_save_path)"
      ]
    },
    {
      "cell_type": "code",
      "execution_count": 14,
      "metadata": {
        "colab": {
          "base_uri": "https://localhost:8080/"
        },
        "id": "tFz9Tb0I9hE4",
        "outputId": "1c3b3528-54ae-4ee2-ab04-77429211cbef"
      },
      "outputs": [
        {
          "name": "stdout",
          "output_type": "stream",
          "text": [
            "1/1 [==============================] - 0s 61ms/step\n",
            "[5.79403713e-03 3.01012257e-03 1.34622405e-05 7.46596456e-01\n",
            " 3.62919900e-03 4.20672586e-03 1.89111834e-05 7.55049841e-05\n",
            " 2.15001521e-03 3.86370766e-06 6.61238702e-03 1.80152074e-05\n",
            " 1.77463647e-02 3.04956455e-04 2.35436664e-06 7.05669736e-05\n",
            " 5.30749167e-05 2.70895772e-02 1.45108934e-04 1.75044268e-01\n",
            " 1.02919716e-04 2.63370430e-06 5.39403001e-04 6.77008275e-03]\n",
            "3\n"
          ]
        }
      ],
      "source": [
        "# Inference test\n",
        "predict_result = model.predict(np.array([X_test[0]]))\n",
        "print(np.squeeze(predict_result))\n",
        "print(np.argmax(np.squeeze(predict_result)))"
      ]
    },
    {
      "attachments": {},
      "cell_type": "markdown",
      "metadata": {
        "id": "S3U4yNWx9hE4"
      },
      "source": [
        "# Confusion matrix"
      ]
    },
    {
      "cell_type": "code",
      "execution_count": 15,
      "metadata": {
        "colab": {
          "base_uri": "https://localhost:8080/",
          "height": 582
        },
        "id": "AP1V6SCk9hE5",
        "outputId": "08e41a80-7a4a-4619-8125-ecc371368d19"
      },
      "outputs": [],
      "source": [
        "# import pandas as pd\n",
        "# import seaborn as sns\n",
        "# import matplotlib.pyplot as plt\n",
        "# from sklearn.metrics import confusion_matrix, classification_report\n",
        "\n",
        "# def print_confusion_matrix(y_true, y_pred, report=True):\n",
        "#     labels = sorted(list(set(y_true)))\n",
        "#     cmx_data = confusion_matrix(y_true, y_pred, labels=labels)\n",
        "    \n",
        "#     df_cmx = pd.DataFrame(cmx_data, index=labels, columns=labels)\n",
        " \n",
        "#     fig, ax = plt.subplots(figsize=(10, 9))\n",
        "#     sns.heatmap(df_cmx, annot=True, fmt='g' ,square=False)\n",
        "#     ax.set_ylim(len(set(y_true)), 0)\n",
        "    \n",
        "#     plt.ylabel('Prediction',fontsize=13)\n",
        "#     plt.xlabel('Actual',fontsize=13)\n",
        "#     plt.title('Confusion Matrix',fontsize=17)\n",
        "#     plt.show()\n",
        "    \n",
        "#     if report:\n",
        "#         print('Classification Report')\n",
        "#         print(classification_report(y_test, y_pred))\n",
        "\n",
        "# Y_pred = model.predict(X_test)\n",
        "# y_pred = np.argmax(Y_pred, axis=1)\n",
        "\n",
        "# print_confusion_matrix(y_test, y_pred)"
      ]
    },
    {
      "cell_type": "code",
      "execution_count": 16,
      "metadata": {},
      "outputs": [
        {
          "name": "stdout",
          "output_type": "stream",
          "text": [
            "94/94 [==============================] - 0s 579us/step\n"
          ]
        }
      ],
      "source": [
        "Y_pred = model.predict(X_test)\n",
        "y_pred = np.argmax(Y_pred, axis=1)\n"
      ]
    },
    {
      "cell_type": "code",
      "execution_count": 17,
      "metadata": {},
      "outputs": [
        {
          "name": "stdout",
          "output_type": "stream",
          "text": [
            "94/94 [==============================] - 0s 524us/step\n"
          ]
        },
        {
          "data": {
            "image/png": "[encoded data removed]",
            "text/plain": [
              "<Figure size 1200x900 with 2 Axes>"
            ]
          },
          "metadata": {},
          "output_type": "display_data"
        },
        {
          "name": "stdout",
          "output_type": "stream",
          "text": [
            "Accuracy   : 0.9993333333333333\n"
          ]
        }
      ],
      "source": [
        "from sklearn.metrics import accuracy_score, precision_score, recall_score, f1_score\n",
        "import pandas as pd\n",
        "import seaborn as sns\n",
        "import matplotlib.pyplot as plt\n",
        "from sklearn.metrics import confusion_matrix\n",
        "\n",
        "labels = [\"A\", \"B\", \"C\", \"D\", \"E\", \"F\", \"G\", \"H\", \"I\", \"K\", \"L\", \"M\", \"N\", \"O\", \"P\", \"Q\", \"R\", \"S\", \"T\", \"U\", \"V\", \"W\", \"X\", \"Y\"]\n",
        "prediction = model.predict(X_test)\n",
        "y_pred = np.argmax(prediction, axis=1)\n",
        "\n",
        "\n",
        "cm = confusion_matrix(y_test, y_pred)\n",
        "\n",
        "#Plot the confusion matrix.\n",
        "plt.subplots(figsize=(12, 9))\n",
        "\n",
        "sns.heatmap(cm,\n",
        "            annot=True,\n",
        "            fmt='g',\n",
        "            xticklabels=labels,\n",
        "            yticklabels=labels)\n",
        "\n",
        "plt.title('Confusion Matrix',fontsize=17)\n",
        "plt.ylabel('Prediction',fontsize=13)\n",
        "plt.xlabel('Actual',fontsize=13)\n",
        "plt.show()\n",
        "\n",
        "\n",
        "# Finding precision and recall\n",
        "accuracy = accuracy_score(y_test, y_pred)\n",
        "print(\"Accuracy   :\", accuracy)\n"
      ]
    },
    {
      "attachments": {},
      "cell_type": "markdown",
      "metadata": {
        "id": "FNP6aqzc9hE5"
      },
      "source": [
        "# Convert to model for Tensorflow-Lite"
      ]
    },
    {
      "cell_type": "code",
      "execution_count": 18,
      "metadata": {
        "id": "ODjnYyld9hE6"
      },
      "outputs": [],
      "source": [
        "# Save as a model dedicated to inference\n",
        "model.save(model_save_path, include_optimizer=False)"
      ]
    },
    {
      "cell_type": "code",
      "execution_count": 19,
      "metadata": {
        "colab": {
          "base_uri": "https://localhost:8080/"
        },
        "id": "zRfuK8Y59hE6",
        "outputId": "a4ca585c-b5d5-4244-8291-8674063209bb"
      },
      "outputs": [
        {
          "name": "stderr",
          "output_type": "stream",
          "text": [
            "WARNING:absl:Found untraced functions such as _update_step_xla while saving (showing 1 of 1). These functions will not be directly callable after loading.\n"
          ]
        },
        {
          "name": "stdout",
          "output_type": "stream",
          "text": [
            "INFO:tensorflow:Assets written to: C:\\Users\\amurm\\AppData\\Local\\Temp\\tmplf1egbl1\\assets\n"
          ]
        },
        {
          "name": "stderr",
          "output_type": "stream",
          "text": [
            "INFO:tensorflow:Assets written to: C:\\Users\\amurm\\AppData\\Local\\Temp\\tmplf1egbl1\\assets\n"
          ]
        },
        {
          "data": {
            "text/plain": [
              "7424"
            ]
          },
          "execution_count": 19,
          "metadata": {},
          "output_type": "execute_result"
        }
      ],
      "source": [
        "# Transform model (quantization)\n",
        "\n",
        "converter = tf.lite.TFLiteConverter.from_keras_model(model)\n",
        "converter.optimizations = [tf.lite.Optimize.DEFAULT]\n",
        "tflite_quantized_model = converter.convert()\n",
        "\n",
        "open(tflite_save_path, 'wb').write(tflite_quantized_model)"
      ]
    },
    {
      "attachments": {},
      "cell_type": "markdown",
      "metadata": {
        "id": "CHBPBXdx9hE6"
      },
      "source": [
        "# Inference test"
      ]
    },
    {
      "cell_type": "code",
      "execution_count": 20,
      "metadata": {
        "id": "mGAzLocO9hE7"
      },
      "outputs": [],
      "source": [
        "interpreter = tf.lite.Interpreter(model_path=tflite_save_path)\n",
        "interpreter.allocate_tensors()"
      ]
    },
    {
      "cell_type": "code",
      "execution_count": 21,
      "metadata": {
        "id": "oQuDK8YS9hE7"
      },
      "outputs": [],
      "source": [
        "# Get I / O tensor\n",
        "input_details = interpreter.get_input_details()\n",
        "output_details = interpreter.get_output_details()"
      ]
    },
    {
      "cell_type": "code",
      "execution_count": 22,
      "metadata": {
        "id": "2_ixAf_l9hE7"
      },
      "outputs": [],
      "source": [
        "interpreter.set_tensor(input_details[0]['index'], np.array([X_test[0]]))"
      ]
    },
    {
      "cell_type": "code",
      "execution_count": 23,
      "metadata": {
        "colab": {
          "base_uri": "https://localhost:8080/"
        },
        "id": "s4FoAnuc9hE7",
        "outputId": "91f18257-8d8b-4ef3-c558-e9b5f94fabbf",
        "scrolled": true
      },
      "outputs": [
        {
          "name": "stdout",
          "output_type": "stream",
          "text": [
            "CPU times: total: 0 ns\n",
            "Wall time: 0 ns\n"
          ]
        }
      ],
      "source": [
        "%%time\n",
        "# Inference implementation\n",
        "interpreter.invoke()\n",
        "tflite_results = interpreter.get_tensor(output_details[0]['index'])"
      ]
    },
    {
      "cell_type": "code",
      "execution_count": 24,
      "metadata": {
        "colab": {
          "base_uri": "https://localhost:8080/"
        },
        "id": "vONjp19J9hE8",
        "outputId": "77205e24-fd00-42c4-f7b6-e06e527c2cba"
      },
      "outputs": [
        {
          "name": "stdout",
          "output_type": "stream",
          "text": [
            "[5.7940418e-03 3.0101202e-03 1.3462257e-05 7.4659669e-01 3.6291985e-03\n",
            " 4.2067273e-03 1.8911152e-05 7.5504933e-05 2.1500159e-03 3.8636913e-06\n",
            " 6.6123884e-03 1.8015178e-05 1.7746363e-02 3.0495712e-04 2.3543648e-06\n",
            " 7.0566930e-05 5.3074775e-05 2.7089598e-02 1.4510869e-04 1.7504399e-01\n",
            " 1.0291944e-04 2.6337002e-06 5.3940294e-04 6.7700841e-03]\n",
            "3\n"
          ]
        }
      ],
      "source": [
        "print(np.squeeze(tflite_results))\n",
        "print(np.argmax(np.squeeze(tflite_results)))"
      ]
    }
  ],
  "metadata": {
    "accelerator": "GPU",
    "colab": {
      "collapsed_sections": [],
      "name": "keypoint_classification_EN.ipynb",
      "provenance": [],
      "toc_visible": true
    },
    "kernelspec": {
      "display_name": "Python 3",
      "language": "python",
      "name": "python3"
    },
    "language_info": {
      "codemirror_mode": {
        "name": "ipython",
        "version": 3
      },
      "file_extension": ".py",
      "mimetype": "text/x-python",
      "name": "python",
      "nbconvert_exporter": "python",
      "pygments_lexer": "ipython3",
      "version": "3.10.8"
    }
  },
  "nbformat": 4,
  "nbformat_minor": 0
}
