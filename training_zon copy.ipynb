{
  "cells": [
    {
      "cell_type": "code",
      "execution_count": 2,
      "metadata": {
        "id": "igMyGnjE9hEp"
      },
      "outputs": [],
      "source": [
        "import csv\n",
        "\n",
        "import numpy as np\n",
        "import tensorflow as tf\n",
        "from sklearn.model_selection import train_test_split\n",
        "\n",
        "RANDOM_SEED = 42"
      ]
    },
    {
      "attachments": {},
      "cell_type": "markdown",
      "metadata": {
        "id": "t2HDvhIu9hEr"
      },
      "source": [
        "# Specify each path"
      ]
    },
    {
      "cell_type": "code",
      "execution_count": 1,
      "metadata": {
        "id": "9NvZP2Zn9hEy"
      },
      "outputs": [],
      "source": [
        "dataset = 'model/keypoint.csv'\n",
        "model_save_path = 'model/aslr_model.hdf5'\n",
        "tflite_save_path = 'model/aslr_model.tflite'"
      ]
    },
    {
      "attachments": {},
      "cell_type": "markdown",
      "metadata": {
        "id": "s5oMH7x19hEz"
      },
      "source": [
        "# Set number of classes"
      ]
    },
    {
      "cell_type": "code",
      "execution_count": 3,
      "metadata": {
        "id": "du4kodXL9hEz"
      },
      "outputs": [],
      "source": [
        "NUM_CLASSES = 24"
      ]
    },
    {
      "attachments": {},
      "cell_type": "markdown",
      "metadata": {
        "id": "XjnL0uso9hEz"
      },
      "source": [
        "# Dataset reading"
      ]
    },
    {
      "cell_type": "code",
      "execution_count": 4,
      "metadata": {
        "id": "QT5ZqtEz9hE0"
      },
      "outputs": [],
      "source": [
        "X_dataset = np.loadtxt(dataset, delimiter=',', dtype='float32', usecols=list(range(1, (21 * 2) + 1)))"
      ]
    },
    {
      "cell_type": "code",
      "execution_count": 5,
      "metadata": {
        "id": "QmoKFsp49hE0"
      },
      "outputs": [],
      "source": [
        "y_dataset = np.loadtxt(dataset, delimiter=',', dtype='int32', usecols=(0))"
      ]
    },
    {
      "cell_type": "code",
      "execution_count": 6,
      "metadata": {
        "id": "xQU7JTZ_9hE0"
      },
      "outputs": [],
      "source": [
        "X_train, X_test, y_train, y_test = train_test_split(X_dataset, y_dataset, train_size=0.75, random_state=RANDOM_SEED)"
      ]
    },
    {
      "attachments": {},
      "cell_type": "markdown",
      "metadata": {
        "id": "mxK_lETT9hE0"
      },
      "source": [
        "# Model building"
      ]
    },
    {
      "cell_type": "code",
      "execution_count": 7,
      "metadata": {
        "id": "vHBmUf1t9hE1"
      },
      "outputs": [],
      "source": [
        "model = tf.keras.models.Sequential([\n",
        "    tf.keras.layers.Input((21 * 2, )),\n",
        "    tf.keras.layers.Dropout(0.2),\n",
        "    tf.keras.layers.Dense(20, activation='relu'),\n",
        "    tf.keras.layers.Dropout(0.4),\n",
        "    tf.keras.layers.Dense(10, activation='relu'),\n",
        "    tf.keras.layers.Dense(NUM_CLASSES, activation='softmax')\n",
        "])"
      ]
    },
    {
      "cell_type": "code",
      "execution_count": 8,
      "metadata": {
        "colab": {
          "base_uri": "https://localhost:8080/"
        },
        "id": "ypqky9tc9hE1",
        "outputId": "5db082bb-30e3-4110-bf63-a1ee777ecd46"
      },
      "outputs": [
        {
          "name": "stdout",
          "output_type": "stream",
          "text": [
            "Model: \"sequential\"\n",
            "_________________________________________________________________\n",
            " Layer (type)                Output Shape              Param #   \n",
            "=================================================================\n",
            " dropout (Dropout)           (None, 42)                0         \n",
            "                                                                 \n",
            " dense (Dense)               (None, 20)                860       \n",
            "                                                                 \n",
            " dropout_1 (Dropout)         (None, 20)                0         \n",
            "                                                                 \n",
            " dense_1 (Dense)             (None, 10)                210       \n",
            "                                                                 \n",
            " dense_2 (Dense)             (None, 24)                264       \n",
            "                                                                 \n",
            "=================================================================\n",
            "Total params: 1,334\n",
            "Trainable params: 1,334\n",
            "Non-trainable params: 0\n",
            "_________________________________________________________________\n"
          ]
        }
      ],
      "source": [
        "model.summary()  # tf.keras.utils.plot_model(model, show_shapes=True)"
      ]
    },
    {
      "cell_type": "code",
      "execution_count": 9,
      "metadata": {
        "id": "MbMjOflQ9hE1"
      },
      "outputs": [],
      "source": [
        "# Model checkpoint callback\n",
        "cp_callback = tf.keras.callbacks.ModelCheckpoint(\n",
        "    model_save_path, verbose=1, save_weights_only=False)\n",
        "# Callback for early stopping\n",
        "es_callback = tf.keras.callbacks.EarlyStopping(patience=20, verbose=1)"
      ]
    },
    {
      "cell_type": "code",
      "execution_count": 10,
      "metadata": {
        "id": "c3Dac0M_9hE2"
      },
      "outputs": [],
      "source": [
        "# Model compilation\n",
        "model.compile(\n",
        "    optimizer='adam',\n",
        "    loss='sparse_categorical_crossentropy',\n",
        "    metrics=['accuracy']\n",
        ")"
      ]
    },
    {
      "attachments": {},
      "cell_type": "markdown",
      "metadata": {
        "id": "7XI0j1Iu9hE2"
      },
      "source": [
        "# Model training"
      ]
    },
    {
      "cell_type": "code",
      "execution_count": 11,
      "metadata": {
        "colab": {
          "base_uri": "https://localhost:8080/"
        },
        "id": "WirBl-JE9hE3",
        "outputId": "71b30ca2-8294-4d9d-8aa2-800d90d399de",
        "scrolled": true
      },
      "outputs": [
        {
          "name": "stdout",
          "output_type": "stream",
          "text": [
            "Epoch 1/1000\n",
            "128/141 [==========================>...] - ETA: 0s - loss: 3.0529 - accuracy: 0.0914\n",
            "Epoch 1: saving model to model\\aslr_model.hdf5\n",
            "141/141 [==============================] - 2s 5ms/step - loss: 3.0310 - accuracy: 0.0958 - val_loss: 2.6762 - val_accuracy: 0.1550\n",
            "Epoch 2/1000\n",
            "131/141 [==========================>...] - ETA: 0s - loss: 2.5699 - accuracy: 0.1704\n",
            "Epoch 2: saving model to model\\aslr_model.hdf5\n",
            "141/141 [==============================] - 0s 3ms/step - loss: 2.5573 - accuracy: 0.1737 - val_loss: 2.2180 - val_accuracy: 0.3197\n",
            "Epoch 3/1000\n",
            "130/141 [==========================>...] - ETA: 0s - loss: 2.2075 - accuracy: 0.2778\n",
            "Epoch 3: saving model to model\\aslr_model.hdf5\n",
            "141/141 [==============================] - 0s 4ms/step - loss: 2.1963 - accuracy: 0.2802 - val_loss: 1.7757 - val_accuracy: 0.5642\n",
            "Epoch 4/1000\n",
            "129/141 [==========================>...] - ETA: 0s - loss: 1.9466 - accuracy: 0.3371\n",
            "Epoch 4: saving model to model\\aslr_model.hdf5\n",
            "141/141 [==============================] - 0s 3ms/step - loss: 1.9402 - accuracy: 0.3389 - val_loss: 1.4884 - val_accuracy: 0.6913\n",
            "Epoch 5/1000\n",
            "126/141 [=========================>....] - ETA: 0s - loss: 1.7883 - accuracy: 0.3852\n",
            "Epoch 5: saving model to model\\aslr_model.hdf5\n",
            "141/141 [==============================] - 1s 4ms/step - loss: 1.7827 - accuracy: 0.3852 - val_loss: 1.3072 - val_accuracy: 0.7248\n",
            "Epoch 6/1000\n",
            "125/141 [=========================>....] - ETA: 0s - loss: 1.6784 - accuracy: 0.4101\n",
            "Epoch 6: saving model to model\\aslr_model.hdf5\n",
            "141/141 [==============================] - 0s 3ms/step - loss: 1.6715 - accuracy: 0.4134 - val_loss: 1.1728 - val_accuracy: 0.7922\n",
            "Epoch 7/1000\n",
            "137/141 [============================>.] - ETA: 0s - loss: 1.6000 - accuracy: 0.4361\n",
            "Epoch 7: saving model to model\\aslr_model.hdf5\n",
            "141/141 [==============================] - 0s 3ms/step - loss: 1.5995 - accuracy: 0.4353 - val_loss: 1.0945 - val_accuracy: 0.7818\n",
            "Epoch 8/1000\n",
            "136/141 [===========================>..] - ETA: 0s - loss: 1.5358 - accuracy: 0.4567\n",
            "Epoch 8: saving model to model\\aslr_model.hdf5\n",
            "141/141 [==============================] - 0s 3ms/step - loss: 1.5338 - accuracy: 0.4564 - val_loss: 1.0246 - val_accuracy: 0.7963\n",
            "Epoch 9/1000\n",
            "134/141 [===========================>..] - ETA: 0s - loss: 1.4802 - accuracy: 0.4759\n",
            "Epoch 9: saving model to model\\aslr_model.hdf5\n",
            "141/141 [==============================] - 1s 4ms/step - loss: 1.4795 - accuracy: 0.4759 - val_loss: 0.9611 - val_accuracy: 0.8458\n",
            "Epoch 10/1000\n",
            "125/141 [=========================>....] - ETA: 0s - loss: 1.4413 - accuracy: 0.4848\n",
            "Epoch 10: saving model to model\\aslr_model.hdf5\n",
            "141/141 [==============================] - 0s 3ms/step - loss: 1.4444 - accuracy: 0.4853 - val_loss: 0.9223 - val_accuracy: 0.8290\n",
            "Epoch 11/1000\n",
            "138/141 [============================>.] - ETA: 0s - loss: 1.4120 - accuracy: 0.4960\n",
            "Epoch 11: saving model to model\\aslr_model.hdf5\n",
            "141/141 [==============================] - 0s 3ms/step - loss: 1.4096 - accuracy: 0.4971 - val_loss: 0.8890 - val_accuracy: 0.8358\n",
            "Epoch 12/1000\n",
            "135/141 [===========================>..] - ETA: 0s - loss: 1.3724 - accuracy: 0.5051\n",
            "Epoch 12: saving model to model\\aslr_model.hdf5\n",
            "141/141 [==============================] - 0s 3ms/step - loss: 1.3704 - accuracy: 0.5062 - val_loss: 0.8503 - val_accuracy: 0.8210\n",
            "Epoch 13/1000\n",
            "137/141 [============================>.] - ETA: 0s - loss: 1.3503 - accuracy: 0.5145\n",
            "Epoch 13: saving model to model\\aslr_model.hdf5\n",
            "141/141 [==============================] - 0s 3ms/step - loss: 1.3496 - accuracy: 0.5150 - val_loss: 0.8150 - val_accuracy: 0.8135\n",
            "Epoch 14/1000\n",
            "137/141 [============================>.] - ETA: 0s - loss: 1.3282 - accuracy: 0.5214\n",
            "Epoch 14: saving model to model\\aslr_model.hdf5\n",
            "141/141 [==============================] - 0s 3ms/step - loss: 1.3290 - accuracy: 0.5212 - val_loss: 0.7997 - val_accuracy: 0.8192\n",
            "Epoch 15/1000\n",
            "136/141 [===========================>..] - ETA: 0s - loss: 1.3038 - accuracy: 0.5303\n",
            "Epoch 15: saving model to model\\aslr_model.hdf5\n",
            "141/141 [==============================] - 0s 3ms/step - loss: 1.3024 - accuracy: 0.5316 - val_loss: 0.7845 - val_accuracy: 0.8462\n",
            "Epoch 16/1000\n",
            "135/141 [===========================>..] - ETA: 0s - loss: 1.2943 - accuracy: 0.5308\n",
            "Epoch 16: saving model to model\\aslr_model.hdf5\n",
            "141/141 [==============================] - 0s 3ms/step - loss: 1.2940 - accuracy: 0.5306 - val_loss: 0.7529 - val_accuracy: 0.8607\n",
            "Epoch 17/1000\n",
            "135/141 [===========================>..] - ETA: 0s - loss: 1.2705 - accuracy: 0.5407\n",
            "Epoch 17: saving model to model\\aslr_model.hdf5\n",
            "141/141 [==============================] - 0s 3ms/step - loss: 1.2716 - accuracy: 0.5413 - val_loss: 0.7322 - val_accuracy: 0.8692\n",
            "Epoch 18/1000\n",
            "138/141 [============================>.] - ETA: 0s - loss: 1.2621 - accuracy: 0.5460\n",
            "Epoch 18: saving model to model\\aslr_model.hdf5\n",
            "141/141 [==============================] - 0s 3ms/step - loss: 1.2613 - accuracy: 0.5458 - val_loss: 0.7325 - val_accuracy: 0.8397\n",
            "Epoch 19/1000\n",
            "136/141 [===========================>..] - ETA: 0s - loss: 1.2510 - accuracy: 0.5501\n",
            "Epoch 19: saving model to model\\aslr_model.hdf5\n",
            "141/141 [==============================] - 0s 3ms/step - loss: 1.2546 - accuracy: 0.5489 - val_loss: 0.7123 - val_accuracy: 0.8685\n",
            "Epoch 20/1000\n",
            "137/141 [============================>.] - ETA: 0s - loss: 1.2365 - accuracy: 0.5538\n",
            "Epoch 20: saving model to model\\aslr_model.hdf5\n",
            "141/141 [==============================] - 1s 4ms/step - loss: 1.2362 - accuracy: 0.5538 - val_loss: 0.7037 - val_accuracy: 0.8807\n",
            "Epoch 21/1000\n",
            "138/141 [============================>.] - ETA: 0s - loss: 1.2328 - accuracy: 0.5547\n",
            "Epoch 21: saving model to model\\aslr_model.hdf5\n",
            "141/141 [==============================] - 0s 3ms/step - loss: 1.2324 - accuracy: 0.5549 - val_loss: 0.6914 - val_accuracy: 0.8302\n",
            "Epoch 22/1000\n",
            "141/141 [==============================] - ETA: 0s - loss: 1.2147 - accuracy: 0.5604\n",
            "Epoch 22: saving model to model\\aslr_model.hdf5\n",
            "141/141 [==============================] - 0s 3ms/step - loss: 1.2147 - accuracy: 0.5604 - val_loss: 0.6785 - val_accuracy: 0.8757\n",
            "Epoch 23/1000\n",
            "138/141 [============================>.] - ETA: 0s - loss: 1.2100 - accuracy: 0.5626\n",
            "Epoch 23: saving model to model\\aslr_model.hdf5\n",
            "141/141 [==============================] - 0s 3ms/step - loss: 1.2097 - accuracy: 0.5629 - val_loss: 0.6787 - val_accuracy: 0.8585\n",
            "Epoch 24/1000\n",
            "138/141 [============================>.] - ETA: 0s - loss: 1.1906 - accuracy: 0.5760\n",
            "Epoch 24: saving model to model\\aslr_model.hdf5\n",
            "141/141 [==============================] - 0s 3ms/step - loss: 1.1916 - accuracy: 0.5753 - val_loss: 0.6734 - val_accuracy: 0.8295\n",
            "Epoch 25/1000\n",
            "138/141 [============================>.] - ETA: 0s - loss: 1.1812 - accuracy: 0.5721\n",
            "Epoch 25: saving model to model\\aslr_model.hdf5\n",
            "141/141 [==============================] - 0s 3ms/step - loss: 1.1827 - accuracy: 0.5711 - val_loss: 0.6635 - val_accuracy: 0.8512\n",
            "Epoch 26/1000\n",
            "136/141 [===========================>..] - ETA: 0s - loss: 1.1613 - accuracy: 0.5817\n",
            "Epoch 26: saving model to model\\aslr_model.hdf5\n",
            "141/141 [==============================] - 0s 3ms/step - loss: 1.1599 - accuracy: 0.5819 - val_loss: 0.6441 - val_accuracy: 0.8748\n",
            "Epoch 27/1000\n",
            "135/141 [===========================>..] - ETA: 0s - loss: 1.1728 - accuracy: 0.5720\n",
            "Epoch 27: saving model to model\\aslr_model.hdf5\n",
            "141/141 [==============================] - 0s 3ms/step - loss: 1.1752 - accuracy: 0.5725 - val_loss: 0.6543 - val_accuracy: 0.8158\n",
            "Epoch 28/1000\n",
            "138/141 [============================>.] - ETA: 0s - loss: 1.1622 - accuracy: 0.5777\n",
            "Epoch 28: saving model to model\\aslr_model.hdf5\n",
            "141/141 [==============================] - 0s 3ms/step - loss: 1.1622 - accuracy: 0.5774 - val_loss: 0.6353 - val_accuracy: 0.8850\n",
            "Epoch 29/1000\n",
            "140/141 [============================>.] - ETA: 0s - loss: 1.1538 - accuracy: 0.5795\n",
            "Epoch 29: saving model to model\\aslr_model.hdf5\n",
            "141/141 [==============================] - 0s 3ms/step - loss: 1.1527 - accuracy: 0.5797 - val_loss: 0.6337 - val_accuracy: 0.8787\n",
            "Epoch 30/1000\n",
            "126/141 [=========================>....] - ETA: 0s - loss: 1.1561 - accuracy: 0.5854\n",
            "Epoch 30: saving model to model\\aslr_model.hdf5\n",
            "141/141 [==============================] - 0s 3ms/step - loss: 1.1539 - accuracy: 0.5865 - val_loss: 0.6151 - val_accuracy: 0.8635\n",
            "Epoch 31/1000\n",
            "139/141 [============================>.] - ETA: 0s - loss: 1.1368 - accuracy: 0.5885\n",
            "Epoch 31: saving model to model\\aslr_model.hdf5\n",
            "141/141 [==============================] - 0s 3ms/step - loss: 1.1367 - accuracy: 0.5884 - val_loss: 0.6050 - val_accuracy: 0.8862\n",
            "Epoch 32/1000\n",
            "138/141 [============================>.] - ETA: 0s - loss: 1.1319 - accuracy: 0.5934\n",
            "Epoch 32: saving model to model\\aslr_model.hdf5\n",
            "141/141 [==============================] - 0s 3ms/step - loss: 1.1320 - accuracy: 0.5940 - val_loss: 0.6050 - val_accuracy: 0.8653\n",
            "Epoch 33/1000\n",
            "138/141 [============================>.] - ETA: 0s - loss: 1.1295 - accuracy: 0.5894\n",
            "Epoch 33: saving model to model\\aslr_model.hdf5\n",
            "141/141 [==============================] - 0s 3ms/step - loss: 1.1297 - accuracy: 0.5894 - val_loss: 0.5934 - val_accuracy: 0.8905\n",
            "Epoch 34/1000\n",
            "136/141 [===========================>..] - ETA: 0s - loss: 1.1260 - accuracy: 0.5964\n",
            "Epoch 34: saving model to model\\aslr_model.hdf5\n",
            "141/141 [==============================] - 0s 3ms/step - loss: 1.1250 - accuracy: 0.5959 - val_loss: 0.5947 - val_accuracy: 0.8680\n",
            "Epoch 35/1000\n",
            "138/141 [============================>.] - ETA: 0s - loss: 1.1084 - accuracy: 0.6013\n",
            "Epoch 35: saving model to model\\aslr_model.hdf5\n",
            "141/141 [==============================] - 0s 3ms/step - loss: 1.1091 - accuracy: 0.6011 - val_loss: 0.5855 - val_accuracy: 0.8787\n",
            "Epoch 36/1000\n",
            "137/141 [============================>.] - ETA: 0s - loss: 1.1067 - accuracy: 0.6021\n",
            "Epoch 36: saving model to model\\aslr_model.hdf5\n",
            "141/141 [==============================] - 0s 3ms/step - loss: 1.1052 - accuracy: 0.6028 - val_loss: 0.5795 - val_accuracy: 0.8930\n",
            "Epoch 37/1000\n",
            "139/141 [============================>.] - ETA: 0s - loss: 1.0927 - accuracy: 0.6039\n",
            "Epoch 37: saving model to model\\aslr_model.hdf5\n",
            "141/141 [==============================] - 0s 3ms/step - loss: 1.0932 - accuracy: 0.6034 - val_loss: 0.5594 - val_accuracy: 0.8958\n",
            "Epoch 38/1000\n",
            "136/141 [===========================>..] - ETA: 0s - loss: 1.0830 - accuracy: 0.6076\n",
            "Epoch 38: saving model to model\\aslr_model.hdf5\n",
            "141/141 [==============================] - 0s 3ms/step - loss: 1.0808 - accuracy: 0.6083 - val_loss: 0.5645 - val_accuracy: 0.8952\n",
            "Epoch 39/1000\n",
            "137/141 [============================>.] - ETA: 0s - loss: 1.0798 - accuracy: 0.6070\n",
            "Epoch 39: saving model to model\\aslr_model.hdf5\n",
            "141/141 [==============================] - 0s 3ms/step - loss: 1.0801 - accuracy: 0.6069 - val_loss: 0.5685 - val_accuracy: 0.8503\n",
            "Epoch 40/1000\n",
            "126/141 [=========================>....] - ETA: 0s - loss: 1.0759 - accuracy: 0.6137\n",
            "Epoch 40: saving model to model\\aslr_model.hdf5\n",
            "141/141 [==============================] - 0s 3ms/step - loss: 1.0740 - accuracy: 0.6152 - val_loss: 0.5549 - val_accuracy: 0.8803\n",
            "Epoch 41/1000\n",
            "139/141 [============================>.] - ETA: 0s - loss: 1.0693 - accuracy: 0.6152\n",
            "Epoch 41: saving model to model\\aslr_model.hdf5\n",
            "141/141 [==============================] - 0s 3ms/step - loss: 1.0677 - accuracy: 0.6158 - val_loss: 0.5456 - val_accuracy: 0.8740\n",
            "Epoch 42/1000\n",
            "136/141 [===========================>..] - ETA: 0s - loss: 1.0661 - accuracy: 0.6150\n",
            "Epoch 42: saving model to model\\aslr_model.hdf5\n",
            "141/141 [==============================] - 0s 3ms/step - loss: 1.0656 - accuracy: 0.6156 - val_loss: 0.5451 - val_accuracy: 0.8980\n",
            "Epoch 43/1000\n",
            "124/141 [=========================>....] - ETA: 0s - loss: 1.0589 - accuracy: 0.6190\n",
            "Epoch 43: saving model to model\\aslr_model.hdf5\n",
            "141/141 [==============================] - 0s 3ms/step - loss: 1.0589 - accuracy: 0.6183 - val_loss: 0.5267 - val_accuracy: 0.9120\n",
            "Epoch 44/1000\n",
            "126/141 [=========================>....] - ETA: 0s - loss: 1.0510 - accuracy: 0.6252\n",
            "Epoch 44: saving model to model\\aslr_model.hdf5\n",
            "141/141 [==============================] - 0s 3ms/step - loss: 1.0505 - accuracy: 0.6259 - val_loss: 0.5202 - val_accuracy: 0.9088\n",
            "Epoch 45/1000\n",
            "127/141 [==========================>...] - ETA: 0s - loss: 1.0494 - accuracy: 0.6212\n",
            "Epoch 45: saving model to model\\aslr_model.hdf5\n",
            "141/141 [==============================] - 0s 3ms/step - loss: 1.0482 - accuracy: 0.6209 - val_loss: 0.5103 - val_accuracy: 0.8880\n",
            "Epoch 46/1000\n",
            "125/141 [=========================>....] - ETA: 0s - loss: 1.0499 - accuracy: 0.6195\n",
            "Epoch 46: saving model to model\\aslr_model.hdf5\n",
            "141/141 [==============================] - 0s 3ms/step - loss: 1.0490 - accuracy: 0.6193 - val_loss: 0.5154 - val_accuracy: 0.9098\n",
            "Epoch 47/1000\n",
            "125/141 [=========================>....] - ETA: 0s - loss: 1.0459 - accuracy: 0.6219\n",
            "Epoch 47: saving model to model\\aslr_model.hdf5\n",
            "141/141 [==============================] - 0s 3ms/step - loss: 1.0439 - accuracy: 0.6233 - val_loss: 0.5306 - val_accuracy: 0.8690\n",
            "Epoch 48/1000\n",
            "124/141 [=========================>....] - ETA: 0s - loss: 1.0356 - accuracy: 0.6241\n",
            "Epoch 48: saving model to model\\aslr_model.hdf5\n",
            "141/141 [==============================] - 1s 4ms/step - loss: 1.0340 - accuracy: 0.6252 - val_loss: 0.5167 - val_accuracy: 0.9015\n",
            "Epoch 49/1000\n",
            "125/141 [=========================>....] - ETA: 0s - loss: 1.0372 - accuracy: 0.6251\n",
            "Epoch 49: saving model to model\\aslr_model.hdf5\n",
            "141/141 [==============================] - 0s 3ms/step - loss: 1.0407 - accuracy: 0.6233 - val_loss: 0.5095 - val_accuracy: 0.9168\n",
            "Epoch 50/1000\n",
            "127/141 [==========================>...] - ETA: 0s - loss: 1.0265 - accuracy: 0.6313\n",
            "Epoch 50: saving model to model\\aslr_model.hdf5\n",
            "141/141 [==============================] - 0s 3ms/step - loss: 1.0256 - accuracy: 0.6316 - val_loss: 0.4909 - val_accuracy: 0.9192\n",
            "Epoch 51/1000\n",
            "125/141 [=========================>....] - ETA: 0s - loss: 1.0245 - accuracy: 0.6278\n",
            "Epoch 51: saving model to model\\aslr_model.hdf5\n",
            "141/141 [==============================] - 0s 3ms/step - loss: 1.0231 - accuracy: 0.6278 - val_loss: 0.5022 - val_accuracy: 0.9073\n",
            "Epoch 52/1000\n",
            "126/141 [=========================>....] - ETA: 0s - loss: 1.0198 - accuracy: 0.6362\n",
            "Epoch 52: saving model to model\\aslr_model.hdf5\n",
            "141/141 [==============================] - 0s 3ms/step - loss: 1.0161 - accuracy: 0.6360 - val_loss: 0.4812 - val_accuracy: 0.9067\n",
            "Epoch 53/1000\n",
            "125/141 [=========================>....] - ETA: 0s - loss: 1.0201 - accuracy: 0.6293\n",
            "Epoch 53: saving model to model\\aslr_model.hdf5\n",
            "141/141 [==============================] - 0s 3ms/step - loss: 1.0195 - accuracy: 0.6301 - val_loss: 0.4812 - val_accuracy: 0.9103\n",
            "Epoch 54/1000\n",
            "141/141 [==============================] - ETA: 0s - loss: 1.0113 - accuracy: 0.6360\n",
            "Epoch 54: saving model to model\\aslr_model.hdf5\n",
            "141/141 [==============================] - 1s 4ms/step - loss: 1.0113 - accuracy: 0.6360 - val_loss: 0.4803 - val_accuracy: 0.9243\n",
            "Epoch 55/1000\n",
            "128/141 [==========================>...] - ETA: 0s - loss: 1.0048 - accuracy: 0.6342\n",
            "Epoch 55: saving model to model\\aslr_model.hdf5\n",
            "141/141 [==============================] - 0s 3ms/step - loss: 1.0048 - accuracy: 0.6341 - val_loss: 0.4627 - val_accuracy: 0.9298\n",
            "Epoch 56/1000\n",
            "124/141 [=========================>....] - ETA: 0s - loss: 1.0037 - accuracy: 0.6387\n",
            "Epoch 56: saving model to model\\aslr_model.hdf5\n",
            "141/141 [==============================] - 0s 3ms/step - loss: 1.0025 - accuracy: 0.6384 - val_loss: 0.4702 - val_accuracy: 0.9108\n",
            "Epoch 57/1000\n",
            "138/141 [============================>.] - ETA: 0s - loss: 1.0039 - accuracy: 0.6364\n",
            "Epoch 57: saving model to model\\aslr_model.hdf5\n",
            "141/141 [==============================] - 1s 4ms/step - loss: 1.0032 - accuracy: 0.6364 - val_loss: 0.4717 - val_accuracy: 0.9233\n",
            "Epoch 58/1000\n",
            "126/141 [=========================>....] - ETA: 0s - loss: 1.0020 - accuracy: 0.6404\n",
            "Epoch 58: saving model to model\\aslr_model.hdf5\n",
            "141/141 [==============================] - 0s 3ms/step - loss: 1.0030 - accuracy: 0.6409 - val_loss: 0.4659 - val_accuracy: 0.9245\n",
            "Epoch 59/1000\n",
            "124/141 [=========================>....] - ETA: 0s - loss: 0.9989 - accuracy: 0.6402\n",
            "Epoch 59: saving model to model\\aslr_model.hdf5\n",
            "141/141 [==============================] - 0s 3ms/step - loss: 0.9934 - accuracy: 0.6423 - val_loss: 0.4681 - val_accuracy: 0.9152\n",
            "Epoch 60/1000\n",
            "123/141 [=========================>....] - ETA: 0s - loss: 0.9904 - accuracy: 0.6448\n",
            "Epoch 60: saving model to model\\aslr_model.hdf5\n",
            "141/141 [==============================] - 0s 3ms/step - loss: 0.9957 - accuracy: 0.6446 - val_loss: 0.4496 - val_accuracy: 0.9270\n",
            "Epoch 61/1000\n",
            "124/141 [=========================>....] - ETA: 0s - loss: 0.9874 - accuracy: 0.6437\n",
            "Epoch 61: saving model to model\\aslr_model.hdf5\n",
            "141/141 [==============================] - 0s 3ms/step - loss: 0.9868 - accuracy: 0.6444 - val_loss: 0.4608 - val_accuracy: 0.9142\n",
            "Epoch 62/1000\n",
            "127/141 [==========================>...] - ETA: 0s - loss: 0.9849 - accuracy: 0.6415\n",
            "Epoch 62: saving model to model\\aslr_model.hdf5\n",
            "141/141 [==============================] - 0s 3ms/step - loss: 0.9870 - accuracy: 0.6414 - val_loss: 0.4568 - val_accuracy: 0.9168\n",
            "Epoch 63/1000\n",
            "124/141 [=========================>....] - ETA: 0s - loss: 0.9691 - accuracy: 0.6508\n",
            "Epoch 63: saving model to model\\aslr_model.hdf5\n",
            "141/141 [==============================] - 0s 3ms/step - loss: 0.9699 - accuracy: 0.6504 - val_loss: 0.4626 - val_accuracy: 0.9123\n",
            "Epoch 64/1000\n",
            "138/141 [============================>.] - ETA: 0s - loss: 0.9796 - accuracy: 0.6478\n",
            "Epoch 64: saving model to model\\aslr_model.hdf5\n",
            "141/141 [==============================] - 1s 4ms/step - loss: 0.9818 - accuracy: 0.6471 - val_loss: 0.4378 - val_accuracy: 0.9233\n",
            "Epoch 65/1000\n",
            "127/141 [==========================>...] - ETA: 0s - loss: 0.9681 - accuracy: 0.6530\n",
            "Epoch 65: saving model to model\\aslr_model.hdf5\n",
            "141/141 [==============================] - 1s 4ms/step - loss: 0.9643 - accuracy: 0.6535 - val_loss: 0.4261 - val_accuracy: 0.9302\n",
            "Epoch 66/1000\n",
            "125/141 [=========================>....] - ETA: 0s - loss: 0.9708 - accuracy: 0.6511\n",
            "Epoch 66: saving model to model\\aslr_model.hdf5\n",
            "141/141 [==============================] - 0s 3ms/step - loss: 0.9724 - accuracy: 0.6517 - val_loss: 0.4185 - val_accuracy: 0.9232\n",
            "Epoch 67/1000\n",
            "123/141 [=========================>....] - ETA: 0s - loss: 0.9640 - accuracy: 0.6540\n",
            "Epoch 67: saving model to model\\aslr_model.hdf5\n",
            "141/141 [==============================] - 0s 3ms/step - loss: 0.9648 - accuracy: 0.6549 - val_loss: 0.4287 - val_accuracy: 0.9240\n",
            "Epoch 68/1000\n",
            "126/141 [=========================>....] - ETA: 0s - loss: 0.9610 - accuracy: 0.6555\n",
            "Epoch 68: saving model to model\\aslr_model.hdf5\n",
            "141/141 [==============================] - 0s 3ms/step - loss: 0.9628 - accuracy: 0.6552 - val_loss: 0.4189 - val_accuracy: 0.9338\n",
            "Epoch 69/1000\n",
            "123/141 [=========================>....] - ETA: 0s - loss: 0.9528 - accuracy: 0.6628\n",
            "Epoch 69: saving model to model\\aslr_model.hdf5\n",
            "141/141 [==============================] - 0s 3ms/step - loss: 0.9525 - accuracy: 0.6611 - val_loss: 0.4236 - val_accuracy: 0.9408\n",
            "Epoch 70/1000\n",
            "126/141 [=========================>....] - ETA: 0s - loss: 0.9554 - accuracy: 0.6568\n",
            "Epoch 70: saving model to model\\aslr_model.hdf5\n",
            "141/141 [==============================] - 0s 3ms/step - loss: 0.9546 - accuracy: 0.6576 - val_loss: 0.4227 - val_accuracy: 0.9295\n",
            "Epoch 71/1000\n",
            "125/141 [=========================>....] - ETA: 0s - loss: 0.9565 - accuracy: 0.6509\n",
            "Epoch 71: saving model to model\\aslr_model.hdf5\n",
            "141/141 [==============================] - 0s 3ms/step - loss: 0.9520 - accuracy: 0.6537 - val_loss: 0.4188 - val_accuracy: 0.9182\n",
            "Epoch 72/1000\n",
            "139/141 [============================>.] - ETA: 0s - loss: 0.9581 - accuracy: 0.6560\n",
            "Epoch 72: saving model to model\\aslr_model.hdf5\n",
            "141/141 [==============================] - 1s 4ms/step - loss: 0.9579 - accuracy: 0.6556 - val_loss: 0.4222 - val_accuracy: 0.9240\n",
            "Epoch 73/1000\n",
            "136/141 [===========================>..] - ETA: 0s - loss: 0.9448 - accuracy: 0.6623\n",
            "Epoch 73: saving model to model\\aslr_model.hdf5\n",
            "141/141 [==============================] - 1s 4ms/step - loss: 0.9430 - accuracy: 0.6632 - val_loss: 0.4110 - val_accuracy: 0.9242\n",
            "Epoch 74/1000\n",
            "128/141 [==========================>...] - ETA: 0s - loss: 0.9337 - accuracy: 0.6611\n",
            "Epoch 74: saving model to model\\aslr_model.hdf5\n",
            "141/141 [==============================] - 1s 4ms/step - loss: 0.9367 - accuracy: 0.6606 - val_loss: 0.4121 - val_accuracy: 0.9278\n",
            "Epoch 75/1000\n",
            "139/141 [============================>.] - ETA: 0s - loss: 0.9353 - accuracy: 0.6606\n",
            "Epoch 75: saving model to model\\aslr_model.hdf5\n",
            "141/141 [==============================] - 1s 5ms/step - loss: 0.9364 - accuracy: 0.6601 - val_loss: 0.4142 - val_accuracy: 0.9143\n",
            "Epoch 76/1000\n",
            "139/141 [============================>.] - ETA: 0s - loss: 0.9507 - accuracy: 0.6615\n",
            "Epoch 76: saving model to model\\aslr_model.hdf5\n",
            "141/141 [==============================] - 1s 4ms/step - loss: 0.9518 - accuracy: 0.6608 - val_loss: 0.4181 - val_accuracy: 0.9190\n",
            "Epoch 77/1000\n",
            "134/141 [===========================>..] - ETA: 0s - loss: 0.9200 - accuracy: 0.6691\n",
            "Epoch 77: saving model to model\\aslr_model.hdf5\n",
            "141/141 [==============================] - 1s 6ms/step - loss: 0.9238 - accuracy: 0.6686 - val_loss: 0.4087 - val_accuracy: 0.9158\n",
            "Epoch 78/1000\n",
            "131/141 [==========================>...] - ETA: 0s - loss: 0.9428 - accuracy: 0.6628\n",
            "Epoch 78: saving model to model\\aslr_model.hdf5\n",
            "141/141 [==============================] - 1s 5ms/step - loss: 0.9394 - accuracy: 0.6639 - val_loss: 0.4014 - val_accuracy: 0.9107\n",
            "Epoch 79/1000\n",
            "137/141 [============================>.] - ETA: 0s - loss: 0.9258 - accuracy: 0.6693\n",
            "Epoch 79: saving model to model\\aslr_model.hdf5\n",
            "141/141 [==============================] - 1s 4ms/step - loss: 0.9259 - accuracy: 0.6689 - val_loss: 0.4135 - val_accuracy: 0.9267\n",
            "Epoch 80/1000\n",
            "125/141 [=========================>....] - ETA: 0s - loss: 0.9359 - accuracy: 0.6625\n",
            "Epoch 80: saving model to model\\aslr_model.hdf5\n",
            "141/141 [==============================] - 0s 3ms/step - loss: 0.9357 - accuracy: 0.6611 - val_loss: 0.3911 - val_accuracy: 0.9372\n",
            "Epoch 81/1000\n",
            "127/141 [==========================>...] - ETA: 0s - loss: 0.9239 - accuracy: 0.6691\n",
            "Epoch 81: saving model to model\\aslr_model.hdf5\n",
            "141/141 [==============================] - 0s 3ms/step - loss: 0.9221 - accuracy: 0.6693 - val_loss: 0.3942 - val_accuracy: 0.9213\n",
            "Epoch 82/1000\n",
            "124/141 [=========================>....] - ETA: 0s - loss: 0.9225 - accuracy: 0.6687\n",
            "Epoch 82: saving model to model\\aslr_model.hdf5\n",
            "141/141 [==============================] - 0s 3ms/step - loss: 0.9217 - accuracy: 0.6681 - val_loss: 0.4029 - val_accuracy: 0.9340\n",
            "Epoch 83/1000\n",
            "122/141 [========================>.....] - ETA: 0s - loss: 0.9160 - accuracy: 0.6709\n",
            "Epoch 83: saving model to model\\aslr_model.hdf5\n",
            "141/141 [==============================] - 0s 3ms/step - loss: 0.9167 - accuracy: 0.6712 - val_loss: 0.3978 - val_accuracy: 0.9398\n",
            "Epoch 84/1000\n",
            "123/141 [=========================>....] - ETA: 0s - loss: 0.9195 - accuracy: 0.6676\n",
            "Epoch 84: saving model to model\\aslr_model.hdf5\n",
            "141/141 [==============================] - 0s 3ms/step - loss: 0.9211 - accuracy: 0.6664 - val_loss: 0.3908 - val_accuracy: 0.9180\n",
            "Epoch 85/1000\n",
            "127/141 [==========================>...] - ETA: 0s - loss: 0.9042 - accuracy: 0.6754\n",
            "Epoch 85: saving model to model\\aslr_model.hdf5\n",
            "141/141 [==============================] - 1s 4ms/step - loss: 0.9050 - accuracy: 0.6751 - val_loss: 0.4011 - val_accuracy: 0.9167\n",
            "Epoch 86/1000\n",
            "138/141 [============================>.] - ETA: 0s - loss: 0.9032 - accuracy: 0.6773\n",
            "Epoch 86: saving model to model\\aslr_model.hdf5\n",
            "141/141 [==============================] - 1s 4ms/step - loss: 0.9048 - accuracy: 0.6762 - val_loss: 0.3832 - val_accuracy: 0.9335\n",
            "Epoch 87/1000\n",
            "123/141 [=========================>....] - ETA: 0s - loss: 0.9043 - accuracy: 0.6774\n",
            "Epoch 87: saving model to model\\aslr_model.hdf5\n",
            "141/141 [==============================] - 0s 3ms/step - loss: 0.9061 - accuracy: 0.6754 - val_loss: 0.3842 - val_accuracy: 0.9312\n",
            "Epoch 88/1000\n",
            "122/141 [========================>.....] - ETA: 0s - loss: 0.8931 - accuracy: 0.6835\n",
            "Epoch 88: saving model to model\\aslr_model.hdf5\n",
            "141/141 [==============================] - 0s 3ms/step - loss: 0.8949 - accuracy: 0.6808 - val_loss: 0.3684 - val_accuracy: 0.9303\n",
            "Epoch 89/1000\n",
            "122/141 [========================>.....] - ETA: 0s - loss: 0.9094 - accuracy: 0.6744\n",
            "Epoch 89: saving model to model\\aslr_model.hdf5\n",
            "141/141 [==============================] - 0s 4ms/step - loss: 0.9104 - accuracy: 0.6754 - val_loss: 0.3757 - val_accuracy: 0.9298\n",
            "Epoch 90/1000\n",
            "137/141 [============================>.] - ETA: 0s - loss: 0.8956 - accuracy: 0.6793\n",
            "Epoch 90: saving model to model\\aslr_model.hdf5\n",
            "141/141 [==============================] - 1s 4ms/step - loss: 0.8943 - accuracy: 0.6799 - val_loss: 0.3705 - val_accuracy: 0.9308\n",
            "Epoch 91/1000\n",
            "126/141 [=========================>....] - ETA: 0s - loss: 0.9071 - accuracy: 0.6714\n",
            "Epoch 91: saving model to model\\aslr_model.hdf5\n",
            "141/141 [==============================] - 1s 4ms/step - loss: 0.9088 - accuracy: 0.6712 - val_loss: 0.3832 - val_accuracy: 0.9440\n",
            "Epoch 92/1000\n",
            "127/141 [==========================>...] - ETA: 0s - loss: 0.9048 - accuracy: 0.6772\n",
            "Epoch 92: saving model to model\\aslr_model.hdf5\n",
            "141/141 [==============================] - 1s 4ms/step - loss: 0.9063 - accuracy: 0.6767 - val_loss: 0.3860 - val_accuracy: 0.9433\n",
            "Epoch 93/1000\n",
            "134/141 [===========================>..] - ETA: 0s - loss: 0.8899 - accuracy: 0.6844\n",
            "Epoch 93: saving model to model\\aslr_model.hdf5\n",
            "141/141 [==============================] - 1s 4ms/step - loss: 0.8896 - accuracy: 0.6842 - val_loss: 0.3765 - val_accuracy: 0.9268\n",
            "Epoch 94/1000\n",
            "127/141 [==========================>...] - ETA: 0s - loss: 0.9066 - accuracy: 0.6700\n",
            "Epoch 94: saving model to model\\aslr_model.hdf5\n",
            "141/141 [==============================] - 0s 3ms/step - loss: 0.9032 - accuracy: 0.6719 - val_loss: 0.3697 - val_accuracy: 0.9255\n",
            "Epoch 95/1000\n",
            "122/141 [========================>.....] - ETA: 0s - loss: 0.9018 - accuracy: 0.6762\n",
            "Epoch 95: saving model to model\\aslr_model.hdf5\n",
            "141/141 [==============================] - 1s 4ms/step - loss: 0.8971 - accuracy: 0.6788 - val_loss: 0.3742 - val_accuracy: 0.9293\n",
            "Epoch 96/1000\n",
            "127/141 [==========================>...] - ETA: 0s - loss: 0.8884 - accuracy: 0.6825\n",
            "Epoch 96: saving model to model\\aslr_model.hdf5\n",
            "141/141 [==============================] - 0s 3ms/step - loss: 0.8873 - accuracy: 0.6833 - val_loss: 0.3694 - val_accuracy: 0.9367\n",
            "Epoch 97/1000\n",
            "124/141 [=========================>....] - ETA: 0s - loss: 0.8866 - accuracy: 0.6767\n",
            "Epoch 97: saving model to model\\aslr_model.hdf5\n",
            "141/141 [==============================] - 1s 4ms/step - loss: 0.8872 - accuracy: 0.6767 - val_loss: 0.3670 - val_accuracy: 0.9140\n",
            "Epoch 98/1000\n",
            "141/141 [==============================] - ETA: 0s - loss: 0.8893 - accuracy: 0.6799\n",
            "Epoch 98: saving model to model\\aslr_model.hdf5\n",
            "141/141 [==============================] - 1s 4ms/step - loss: 0.8893 - accuracy: 0.6799 - val_loss: 0.3844 - val_accuracy: 0.9023\n",
            "Epoch 99/1000\n",
            "139/141 [============================>.] - ETA: 0s - loss: 0.8728 - accuracy: 0.6905\n",
            "Epoch 99: saving model to model\\aslr_model.hdf5\n",
            "141/141 [==============================] - 1s 4ms/step - loss: 0.8724 - accuracy: 0.6903 - val_loss: 0.3721 - val_accuracy: 0.9393\n",
            "Epoch 100/1000\n",
            "123/141 [=========================>....] - ETA: 0s - loss: 0.8732 - accuracy: 0.6818\n",
            "Epoch 100: saving model to model\\aslr_model.hdf5\n",
            "141/141 [==============================] - 0s 3ms/step - loss: 0.8800 - accuracy: 0.6811 - val_loss: 0.3836 - val_accuracy: 0.9220\n",
            "Epoch 101/1000\n",
            "140/141 [============================>.] - ETA: 0s - loss: 0.8852 - accuracy: 0.6842\n",
            "Epoch 101: saving model to model\\aslr_model.hdf5\n",
            "141/141 [==============================] - 1s 4ms/step - loss: 0.8849 - accuracy: 0.6844 - val_loss: 0.3666 - val_accuracy: 0.9403\n",
            "Epoch 102/1000\n",
            "123/141 [=========================>....] - ETA: 0s - loss: 0.8713 - accuracy: 0.6880\n",
            "Epoch 102: saving model to model\\aslr_model.hdf5\n",
            "141/141 [==============================] - 0s 3ms/step - loss: 0.8722 - accuracy: 0.6869 - val_loss: 0.3777 - val_accuracy: 0.9157\n",
            "Epoch 103/1000\n",
            "141/141 [==============================] - ETA: 0s - loss: 0.8723 - accuracy: 0.6860\n",
            "Epoch 103: saving model to model\\aslr_model.hdf5\n",
            "141/141 [==============================] - 1s 4ms/step - loss: 0.8723 - accuracy: 0.6860 - val_loss: 0.3739 - val_accuracy: 0.9135\n",
            "Epoch 104/1000\n",
            "126/141 [=========================>....] - ETA: 0s - loss: 0.8754 - accuracy: 0.6828\n",
            "Epoch 104: saving model to model\\aslr_model.hdf5\n",
            "141/141 [==============================] - 1s 4ms/step - loss: 0.8770 - accuracy: 0.6834 - val_loss: 0.3669 - val_accuracy: 0.9097\n",
            "Epoch 105/1000\n",
            "126/141 [=========================>....] - ETA: 0s - loss: 0.8699 - accuracy: 0.6857\n",
            "Epoch 105: saving model to model\\aslr_model.hdf5\n",
            "141/141 [==============================] - 1s 4ms/step - loss: 0.8697 - accuracy: 0.6862 - val_loss: 0.3762 - val_accuracy: 0.9058\n",
            "Epoch 106/1000\n",
            "122/141 [========================>.....] - ETA: 0s - loss: 0.8722 - accuracy: 0.6887\n",
            "Epoch 106: saving model to model\\aslr_model.hdf5\n",
            "141/141 [==============================] - 0s 4ms/step - loss: 0.8770 - accuracy: 0.6874 - val_loss: 0.3572 - val_accuracy: 0.9272\n",
            "Epoch 107/1000\n",
            "138/141 [============================>.] - ETA: 0s - loss: 0.8696 - accuracy: 0.6886\n",
            "Epoch 107: saving model to model\\aslr_model.hdf5\n",
            "141/141 [==============================] - 1s 4ms/step - loss: 0.8704 - accuracy: 0.6878 - val_loss: 0.3530 - val_accuracy: 0.9378\n",
            "Epoch 108/1000\n",
            "131/141 [==========================>...] - ETA: 0s - loss: 0.8688 - accuracy: 0.6845\n",
            "Epoch 108: saving model to model\\aslr_model.hdf5\n",
            "141/141 [==============================] - 1s 4ms/step - loss: 0.8694 - accuracy: 0.6839 - val_loss: 0.3630 - val_accuracy: 0.9028\n",
            "Epoch 109/1000\n",
            "124/141 [=========================>....] - ETA: 0s - loss: 0.8483 - accuracy: 0.6900\n",
            "Epoch 109: saving model to model\\aslr_model.hdf5\n",
            "141/141 [==============================] - 1s 4ms/step - loss: 0.8485 - accuracy: 0.6907 - val_loss: 0.3555 - val_accuracy: 0.9175\n",
            "Epoch 110/1000\n",
            "135/141 [===========================>..] - ETA: 0s - loss: 0.8595 - accuracy: 0.6889\n",
            "Epoch 110: saving model to model\\aslr_model.hdf5\n",
            "141/141 [==============================] - 1s 4ms/step - loss: 0.8590 - accuracy: 0.6891 - val_loss: 0.3595 - val_accuracy: 0.9072\n",
            "Epoch 111/1000\n",
            "140/141 [============================>.] - ETA: 0s - loss: 0.8581 - accuracy: 0.6896\n",
            "Epoch 111: saving model to model\\aslr_model.hdf5\n",
            "141/141 [==============================] - 0s 4ms/step - loss: 0.8589 - accuracy: 0.6893 - val_loss: 0.3606 - val_accuracy: 0.9157\n",
            "Epoch 112/1000\n",
            "139/141 [============================>.] - ETA: 0s - loss: 0.8562 - accuracy: 0.6933\n",
            "Epoch 112: saving model to model\\aslr_model.hdf5\n",
            "141/141 [==============================] - 1s 4ms/step - loss: 0.8578 - accuracy: 0.6927 - val_loss: 0.3619 - val_accuracy: 0.9143\n",
            "Epoch 113/1000\n",
            "123/141 [=========================>....] - ETA: 0s - loss: 0.8646 - accuracy: 0.6857\n",
            "Epoch 113: saving model to model\\aslr_model.hdf5\n",
            "141/141 [==============================] - 0s 3ms/step - loss: 0.8599 - accuracy: 0.6871 - val_loss: 0.3761 - val_accuracy: 0.9058\n",
            "Epoch 114/1000\n",
            "140/141 [============================>.] - ETA: 0s - loss: 0.8556 - accuracy: 0.6922\n",
            "Epoch 114: saving model to model\\aslr_model.hdf5\n",
            "141/141 [==============================] - 1s 4ms/step - loss: 0.8554 - accuracy: 0.6922 - val_loss: 0.3644 - val_accuracy: 0.9285\n",
            "Epoch 115/1000\n",
            "126/141 [=========================>....] - ETA: 0s - loss: 0.8532 - accuracy: 0.6949\n",
            "Epoch 115: saving model to model\\aslr_model.hdf5\n",
            "141/141 [==============================] - 1s 4ms/step - loss: 0.8506 - accuracy: 0.6967 - val_loss: 0.3562 - val_accuracy: 0.9368\n",
            "Epoch 116/1000\n",
            "137/141 [============================>.] - ETA: 0s - loss: 0.8565 - accuracy: 0.6912\n",
            "Epoch 116: saving model to model\\aslr_model.hdf5\n",
            "141/141 [==============================] - 1s 4ms/step - loss: 0.8559 - accuracy: 0.6915 - val_loss: 0.3625 - val_accuracy: 0.9228\n",
            "Epoch 117/1000\n",
            "141/141 [==============================] - ETA: 0s - loss: 0.8543 - accuracy: 0.6908\n",
            "Epoch 117: saving model to model\\aslr_model.hdf5\n",
            "141/141 [==============================] - 1s 4ms/step - loss: 0.8543 - accuracy: 0.6908 - val_loss: 0.3584 - val_accuracy: 0.9263\n",
            "Epoch 118/1000\n",
            "123/141 [=========================>....] - ETA: 0s - loss: 0.8401 - accuracy: 0.6975\n",
            "Epoch 118: saving model to model\\aslr_model.hdf5\n",
            "141/141 [==============================] - 0s 4ms/step - loss: 0.8397 - accuracy: 0.6976 - val_loss: 0.3672 - val_accuracy: 0.9043\n",
            "Epoch 119/1000\n",
            "123/141 [=========================>....] - ETA: 0s - loss: 0.8523 - accuracy: 0.6923\n",
            "Epoch 119: saving model to model\\aslr_model.hdf5\n",
            "141/141 [==============================] - 0s 4ms/step - loss: 0.8520 - accuracy: 0.6909 - val_loss: 0.3538 - val_accuracy: 0.9267\n",
            "Epoch 120/1000\n",
            "140/141 [============================>.] - ETA: 0s - loss: 0.8393 - accuracy: 0.6954\n",
            "Epoch 120: saving model to model\\aslr_model.hdf5\n",
            "141/141 [==============================] - 1s 4ms/step - loss: 0.8392 - accuracy: 0.6956 - val_loss: 0.3453 - val_accuracy: 0.9305\n",
            "Epoch 121/1000\n",
            "139/141 [============================>.] - ETA: 0s - loss: 0.8486 - accuracy: 0.6916\n",
            "Epoch 121: saving model to model\\aslr_model.hdf5\n",
            "141/141 [==============================] - 1s 4ms/step - loss: 0.8487 - accuracy: 0.6912 - val_loss: 0.3535 - val_accuracy: 0.9157\n",
            "Epoch 122/1000\n",
            "122/141 [========================>.....] - ETA: 0s - loss: 0.8428 - accuracy: 0.6970\n",
            "Epoch 122: saving model to model\\aslr_model.hdf5\n",
            "141/141 [==============================] - 0s 4ms/step - loss: 0.8406 - accuracy: 0.6986 - val_loss: 0.3525 - val_accuracy: 0.9443\n",
            "Epoch 123/1000\n",
            "122/141 [========================>.....] - ETA: 0s - loss: 0.8423 - accuracy: 0.6969\n",
            "Epoch 123: saving model to model\\aslr_model.hdf5\n",
            "141/141 [==============================] - 0s 3ms/step - loss: 0.8392 - accuracy: 0.6978 - val_loss: 0.3505 - val_accuracy: 0.9165\n",
            "Epoch 124/1000\n",
            "121/141 [========================>.....] - ETA: 0s - loss: 0.8388 - accuracy: 0.6993\n",
            "Epoch 124: saving model to model\\aslr_model.hdf5\n",
            "141/141 [==============================] - 0s 3ms/step - loss: 0.8362 - accuracy: 0.7001 - val_loss: 0.3575 - val_accuracy: 0.9202\n",
            "Epoch 125/1000\n",
            "123/141 [=========================>....] - ETA: 0s - loss: 0.8402 - accuracy: 0.6992\n",
            "Epoch 125: saving model to model\\aslr_model.hdf5\n",
            "141/141 [==============================] - 0s 4ms/step - loss: 0.8386 - accuracy: 0.6987 - val_loss: 0.3565 - val_accuracy: 0.9015\n",
            "Epoch 126/1000\n",
            "137/141 [============================>.] - ETA: 0s - loss: 0.8372 - accuracy: 0.7006\n",
            "Epoch 126: saving model to model\\aslr_model.hdf5\n",
            "141/141 [==============================] - 1s 4ms/step - loss: 0.8369 - accuracy: 0.6999 - val_loss: 0.3436 - val_accuracy: 0.9447\n",
            "Epoch 127/1000\n",
            "122/141 [========================>.....] - ETA: 0s - loss: 0.8320 - accuracy: 0.7015\n",
            "Epoch 127: saving model to model\\aslr_model.hdf5\n",
            "141/141 [==============================] - 0s 4ms/step - loss: 0.8364 - accuracy: 0.7002 - val_loss: 0.3519 - val_accuracy: 0.9305\n",
            "Epoch 128/1000\n",
            "124/141 [=========================>....] - ETA: 0s - loss: 0.8443 - accuracy: 0.6944\n",
            "Epoch 128: saving model to model\\aslr_model.hdf5\n",
            "141/141 [==============================] - 0s 4ms/step - loss: 0.8420 - accuracy: 0.6957 - val_loss: 0.3636 - val_accuracy: 0.8968\n",
            "Epoch 129/1000\n",
            "121/141 [========================>.....] - ETA: 0s - loss: 0.8343 - accuracy: 0.6996\n",
            "Epoch 129: saving model to model\\aslr_model.hdf5\n",
            "141/141 [==============================] - 0s 4ms/step - loss: 0.8348 - accuracy: 0.6989 - val_loss: 0.3409 - val_accuracy: 0.9338\n",
            "Epoch 130/1000\n",
            "140/141 [============================>.] - ETA: 0s - loss: 0.8337 - accuracy: 0.6953\n",
            "Epoch 130: saving model to model\\aslr_model.hdf5\n",
            "141/141 [==============================] - 1s 4ms/step - loss: 0.8327 - accuracy: 0.6958 - val_loss: 0.3513 - val_accuracy: 0.9203\n",
            "Epoch 131/1000\n",
            "122/141 [========================>.....] - ETA: 0s - loss: 0.8443 - accuracy: 0.6953\n",
            "Epoch 131: saving model to model\\aslr_model.hdf5\n",
            "141/141 [==============================] - 0s 4ms/step - loss: 0.8434 - accuracy: 0.6969 - val_loss: 0.3398 - val_accuracy: 0.9183\n",
            "Epoch 132/1000\n",
            "132/141 [===========================>..] - ETA: 0s - loss: 0.8287 - accuracy: 0.7003\n",
            "Epoch 132: saving model to model\\aslr_model.hdf5\n",
            "141/141 [==============================] - 1s 4ms/step - loss: 0.8328 - accuracy: 0.6987 - val_loss: 0.3640 - val_accuracy: 0.9050\n",
            "Epoch 133/1000\n",
            "139/141 [============================>.] - ETA: 0s - loss: 0.8323 - accuracy: 0.6994\n",
            "Epoch 133: saving model to model\\aslr_model.hdf5\n",
            "141/141 [==============================] - 1s 4ms/step - loss: 0.8316 - accuracy: 0.6997 - val_loss: 0.3658 - val_accuracy: 0.9068\n",
            "Epoch 134/1000\n",
            "140/141 [============================>.] - ETA: 0s - loss: 0.8225 - accuracy: 0.7077\n",
            "Epoch 134: saving model to model\\aslr_model.hdf5\n",
            "141/141 [==============================] - 1s 4ms/step - loss: 0.8228 - accuracy: 0.7077 - val_loss: 0.3553 - val_accuracy: 0.9043\n",
            "Epoch 135/1000\n",
            "139/141 [============================>.] - ETA: 0s - loss: 0.8242 - accuracy: 0.7041\n",
            "Epoch 135: saving model to model\\aslr_model.hdf5\n",
            "141/141 [==============================] - 1s 4ms/step - loss: 0.8241 - accuracy: 0.7038 - val_loss: 0.3479 - val_accuracy: 0.9280\n",
            "Epoch 136/1000\n",
            "121/141 [========================>.....] - ETA: 0s - loss: 0.8319 - accuracy: 0.7012\n",
            "Epoch 136: saving model to model\\aslr_model.hdf5\n",
            "141/141 [==============================] - 0s 3ms/step - loss: 0.8263 - accuracy: 0.7037 - val_loss: 0.3330 - val_accuracy: 0.9263\n",
            "Epoch 137/1000\n",
            "122/141 [========================>.....] - ETA: 0s - loss: 0.8343 - accuracy: 0.6958\n",
            "Epoch 137: saving model to model\\aslr_model.hdf5\n",
            "141/141 [==============================] - 1s 4ms/step - loss: 0.8303 - accuracy: 0.6980 - val_loss: 0.3446 - val_accuracy: 0.9165\n",
            "Epoch 138/1000\n",
            "141/141 [==============================] - ETA: 0s - loss: 0.8237 - accuracy: 0.6961\n",
            "Epoch 138: saving model to model\\aslr_model.hdf5\n",
            "141/141 [==============================] - 1s 4ms/step - loss: 0.8237 - accuracy: 0.6961 - val_loss: 0.3607 - val_accuracy: 0.8968\n",
            "Epoch 139/1000\n",
            "138/141 [============================>.] - ETA: 0s - loss: 0.8363 - accuracy: 0.6976\n",
            "Epoch 139: saving model to model\\aslr_model.hdf5\n",
            "141/141 [==============================] - 1s 4ms/step - loss: 0.8385 - accuracy: 0.6972 - val_loss: 0.3390 - val_accuracy: 0.9428\n",
            "Epoch 140/1000\n",
            "121/141 [========================>.....] - ETA: 0s - loss: 0.8150 - accuracy: 0.7057\n",
            "Epoch 140: saving model to model\\aslr_model.hdf5\n",
            "141/141 [==============================] - 0s 3ms/step - loss: 0.8213 - accuracy: 0.7041 - val_loss: 0.3685 - val_accuracy: 0.8850\n",
            "Epoch 141/1000\n",
            "122/141 [========================>.....] - ETA: 0s - loss: 0.8195 - accuracy: 0.7039\n",
            "Epoch 141: saving model to model\\aslr_model.hdf5\n",
            "141/141 [==============================] - 0s 3ms/step - loss: 0.8209 - accuracy: 0.7049 - val_loss: 0.3705 - val_accuracy: 0.8777\n",
            "Epoch 142/1000\n",
            "136/141 [===========================>..] - ETA: 0s - loss: 0.8116 - accuracy: 0.7093\n",
            "Epoch 142: saving model to model\\aslr_model.hdf5\n",
            "141/141 [==============================] - 1s 4ms/step - loss: 0.8118 - accuracy: 0.7093 - val_loss: 0.3444 - val_accuracy: 0.8980\n",
            "Epoch 143/1000\n",
            "130/141 [==========================>...] - ETA: 0s - loss: 0.8206 - accuracy: 0.7035\n",
            "Epoch 143: saving model to model\\aslr_model.hdf5\n",
            "141/141 [==============================] - 1s 4ms/step - loss: 0.8195 - accuracy: 0.7047 - val_loss: 0.3522 - val_accuracy: 0.9100\n",
            "Epoch 144/1000\n",
            "121/141 [========================>.....] - ETA: 0s - loss: 0.8164 - accuracy: 0.7008\n",
            "Epoch 144: saving model to model\\aslr_model.hdf5\n",
            "141/141 [==============================] - 0s 3ms/step - loss: 0.8177 - accuracy: 0.7024 - val_loss: 0.3595 - val_accuracy: 0.9110\n",
            "Epoch 145/1000\n",
            "122/141 [========================>.....] - ETA: 0s - loss: 0.8194 - accuracy: 0.7061\n",
            "Epoch 145: saving model to model\\aslr_model.hdf5\n",
            "141/141 [==============================] - 0s 3ms/step - loss: 0.8173 - accuracy: 0.7072 - val_loss: 0.3550 - val_accuracy: 0.9112\n",
            "Epoch 146/1000\n",
            "121/141 [========================>.....] - ETA: 0s - loss: 0.8015 - accuracy: 0.7115\n",
            "Epoch 146: saving model to model\\aslr_model.hdf5\n",
            "141/141 [==============================] - 0s 3ms/step - loss: 0.8078 - accuracy: 0.7081 - val_loss: 0.3725 - val_accuracy: 0.9033\n",
            "Epoch 147/1000\n",
            "130/141 [==========================>...] - ETA: 0s - loss: 0.8092 - accuracy: 0.7108\n",
            "Epoch 147: saving model to model\\aslr_model.hdf5\n",
            "141/141 [==============================] - 1s 4ms/step - loss: 0.8115 - accuracy: 0.7093 - val_loss: 0.3595 - val_accuracy: 0.9332\n",
            "Epoch 148/1000\n",
            "135/141 [===========================>..] - ETA: 0s - loss: 0.8072 - accuracy: 0.7090\n",
            "Epoch 148: saving model to model\\aslr_model.hdf5\n",
            "141/141 [==============================] - 1s 4ms/step - loss: 0.8056 - accuracy: 0.7099 - val_loss: 0.3680 - val_accuracy: 0.8842\n",
            "Epoch 149/1000\n",
            "122/141 [========================>.....] - ETA: 0s - loss: 0.8089 - accuracy: 0.7098\n",
            "Epoch 149: saving model to model\\aslr_model.hdf5\n",
            "141/141 [==============================] - 0s 4ms/step - loss: 0.8060 - accuracy: 0.7122 - val_loss: 0.3423 - val_accuracy: 0.9303\n",
            "Epoch 150/1000\n",
            "141/141 [==============================] - ETA: 0s - loss: 0.8084 - accuracy: 0.7105\n",
            "Epoch 150: saving model to model\\aslr_model.hdf5\n",
            "141/141 [==============================] - 1s 4ms/step - loss: 0.8084 - accuracy: 0.7105 - val_loss: 0.3546 - val_accuracy: 0.9085\n",
            "Epoch 151/1000\n",
            "121/141 [========================>.....] - ETA: 0s - loss: 0.8067 - accuracy: 0.7096\n",
            "Epoch 151: saving model to model\\aslr_model.hdf5\n",
            "141/141 [==============================] - 0s 4ms/step - loss: 0.8088 - accuracy: 0.7091 - val_loss: 0.3635 - val_accuracy: 0.9118\n",
            "Epoch 152/1000\n",
            "124/141 [=========================>....] - ETA: 0s - loss: 0.7950 - accuracy: 0.7118\n",
            "Epoch 152: saving model to model\\aslr_model.hdf5\n",
            "141/141 [==============================] - 1s 4ms/step - loss: 0.8007 - accuracy: 0.7112 - val_loss: 0.3534 - val_accuracy: 0.9270\n",
            "Epoch 153/1000\n",
            "125/141 [=========================>....] - ETA: 0s - loss: 0.8022 - accuracy: 0.7115\n",
            "Epoch 153: saving model to model\\aslr_model.hdf5\n",
            "141/141 [==============================] - 0s 3ms/step - loss: 0.8010 - accuracy: 0.7131 - val_loss: 0.3558 - val_accuracy: 0.9370\n",
            "Epoch 154/1000\n",
            "141/141 [==============================] - ETA: 0s - loss: 0.7803 - accuracy: 0.7153\n",
            "Epoch 154: saving model to model\\aslr_model.hdf5\n",
            "141/141 [==============================] - 1s 4ms/step - loss: 0.7803 - accuracy: 0.7153 - val_loss: 0.3406 - val_accuracy: 0.9505\n",
            "Epoch 155/1000\n",
            "121/141 [========================>.....] - ETA: 0s - loss: 0.7993 - accuracy: 0.7113\n",
            "Epoch 155: saving model to model\\aslr_model.hdf5\n",
            "141/141 [==============================] - 0s 4ms/step - loss: 0.7988 - accuracy: 0.7127 - val_loss: 0.3580 - val_accuracy: 0.9123\n",
            "Epoch 156/1000\n",
            "138/141 [============================>.] - ETA: 0s - loss: 0.8045 - accuracy: 0.7105\n",
            "Epoch 156: saving model to model\\aslr_model.hdf5\n",
            "141/141 [==============================] - 1s 4ms/step - loss: 0.8032 - accuracy: 0.7112 - val_loss: 0.3697 - val_accuracy: 0.9060\n",
            "Epoch 156: early stopping\n"
          ]
        },
        {
          "data": {
            "text/plain": [
              "<keras.callbacks.History at 0x1725dbe7df0>"
            ]
          },
          "execution_count": 11,
          "metadata": {},
          "output_type": "execute_result"
        }
      ],
      "source": [
        "model.fit(\n",
        "    X_train,\n",
        "    y_train,\n",
        "    epochs=1000,\n",
        "    batch_size=128,\n",
        "    validation_data=(X_test, y_test),\n",
        "    callbacks=[cp_callback, es_callback]\n",
        ")"
      ]
    },
    {
      "cell_type": "code",
      "execution_count": 12,
      "metadata": {
        "colab": {
          "base_uri": "https://localhost:8080/"
        },
        "id": "pxvb2Y299hE3",
        "outputId": "59eb3185-2e37-4b9e-bc9d-ab1b8ac29b7f"
      },
      "outputs": [
        {
          "name": "stdout",
          "output_type": "stream",
          "text": [
            "47/47 [==============================] - 0s 2ms/step - loss: 0.3697 - accuracy: 0.9060\n"
          ]
        }
      ],
      "source": [
        "# Model evaluation\n",
        "val_loss, val_acc = model.evaluate(X_test, y_test, batch_size=128)"
      ]
    },
    {
      "cell_type": "code",
      "execution_count": 11,
      "metadata": {
        "id": "RBkmDeUW9hE4"
      },
      "outputs": [
        {
          "name": "stdout",
          "output_type": "stream",
          "text": [
            "WARNING:tensorflow:No training configuration found in the save file, so the model was *not* compiled. Compile it manually.\n"
          ]
        }
      ],
      "source": [
        "# Loading the saved model\n",
        "model = tf.keras.models.load_model(model_save_path)"
      ]
    },
    {
      "cell_type": "code",
      "execution_count": 12,
      "metadata": {
        "colab": {
          "base_uri": "https://localhost:8080/"
        },
        "id": "tFz9Tb0I9hE4",
        "outputId": "1c3b3528-54ae-4ee2-ab04-77429211cbef"
      },
      "outputs": [
        {
          "name": "stdout",
          "output_type": "stream",
          "text": [
            "1/1 [==============================] - 0s 149ms/step\n",
            "[3.4802593e-26 2.5774004e-30 2.7448538e-11 0.0000000e+00 0.0000000e+00\n",
            " 4.5171960e-25 7.7261937e-01 2.2700307e-01 4.0605151e-23 0.0000000e+00\n",
            " 1.2179091e-16 0.0000000e+00 0.0000000e+00 1.4575846e-13 1.2987860e-28\n",
            " 1.8029776e-15 0.0000000e+00 2.5583276e-38 3.6833601e-04 1.2633084e-38\n",
            " 9.2131096e-29 0.0000000e+00 9.2166110e-06 4.2925330e-26]\n",
            "6\n"
          ]
        }
      ],
      "source": [
        "# Inference test\n",
        "predict_result = model.predict(np.array([X_test[0]]))\n",
        "print(np.squeeze(predict_result))\n",
        "print(np.argmax(np.squeeze(predict_result)))"
      ]
    },
    {
      "attachments": {},
      "cell_type": "markdown",
      "metadata": {
        "id": "S3U4yNWx9hE4"
      },
      "source": [
        "# Confusion matrix"
      ]
    },
    {
      "cell_type": "code",
      "execution_count": 13,
      "metadata": {},
      "outputs": [
        {
          "name": "stdout",
          "output_type": "stream",
          "text": [
            "188/188 [==============================] - 1s 5ms/step\n"
          ]
        }
      ],
      "source": [
        "Y_pred = model.predict(X_test)\n",
        "y_pred = np.argmax(Y_pred, axis=1)\n"
      ]
    },
    {
      "cell_type": "code",
      "execution_count": 14,
      "metadata": {},
      "outputs": [
        {
          "name": "stdout",
          "output_type": "stream",
          "text": [
            "188/188 [==============================] - 1s 4ms/step\n"
          ]
        },
        {
          "data": {
            "image/png": "[encoded data removed]",
            "text/plain": [
              "<Figure size 1200x900 with 2 Axes>"
            ]
          },
          "metadata": {},
          "output_type": "display_data"
        },
        {
          "name": "stdout",
          "output_type": "stream",
          "text": [
            "Accuracy   : 0.9603333333333334\n"
          ]
        }
      ],
      "source": [
        "from sklearn.metrics import accuracy_score, precision_score, recall_score, f1_score\n",
        "import pandas as pd\n",
        "import seaborn as sns\n",
        "import matplotlib.pyplot as plt\n",
        "from sklearn.metrics import confusion_matrix\n",
        "\n",
        "labels = [\"A\", \"B\", \"C\", \"D\", \"E\", \"F\", \"G\", \"H\", \"I\", \"K\", \"L\", \"M\", \"N\", \"O\", \"P\", \"Q\", \"R\", \"S\", \"T\", \"U\", \"V\", \"W\", \"X\", \"Y\"]\n",
        "prediction = model.predict(X_test)\n",
        "y_pred = np.argmax(prediction, axis=1)\n",
        "\n",
        "\n",
        "cm = confusion_matrix(y_test, y_pred)\n",
        "\n",
        "#Plot the confusion matrix.\n",
        "plt.subplots(figsize=(12, 9))\n",
        "\n",
        "sns.heatmap(cm,\n",
        "            annot=True,\n",
        "            fmt='g',\n",
        "            xticklabels=labels,\n",
        "            yticklabels=labels)\n",
        "\n",
        "plt.title('Confusion Matrix',fontsize=17)\n",
        "plt.ylabel('Prediction',fontsize=13)\n",
        "plt.xlabel('Actual',fontsize=13)\n",
        "plt.show()\n",
        "\n",
        "\n",
        "# Finding precision and recall\n",
        "accuracy = accuracy_score(y_test, y_pred)\n",
        "print(\"Accuracy   :\", accuracy)\n"
      ]
    },
    {
      "attachments": {},
      "cell_type": "markdown",
      "metadata": {
        "id": "FNP6aqzc9hE5"
      },
      "source": [
        "# Convert to model for Tensorflow-Lite"
      ]
    },
    {
      "cell_type": "code",
      "execution_count": 18,
      "metadata": {
        "id": "ODjnYyld9hE6"
      },
      "outputs": [],
      "source": [
        "# Save as a model dedicated to inference\n",
        "model.save(model_save_path, include_optimizer=False)"
      ]
    },
    {
      "cell_type": "code",
      "execution_count": 19,
      "metadata": {
        "colab": {
          "base_uri": "https://localhost:8080/"
        },
        "id": "zRfuK8Y59hE6",
        "outputId": "a4ca585c-b5d5-4244-8291-8674063209bb"
      },
      "outputs": [
        {
          "name": "stderr",
          "output_type": "stream",
          "text": [
            "WARNING:absl:Found untraced functions such as _update_step_xla while saving (showing 1 of 1). These functions will not be directly callable after loading.\n"
          ]
        },
        {
          "name": "stdout",
          "output_type": "stream",
          "text": [
            "INFO:tensorflow:Assets written to: C:\\Users\\Sam\\AppData\\Local\\Temp\\tmp2h1caq25\\assets\n"
          ]
        },
        {
          "name": "stderr",
          "output_type": "stream",
          "text": [
            "INFO:tensorflow:Assets written to: C:\\Users\\Sam\\AppData\\Local\\Temp\\tmp2h1caq25\\assets\n"
          ]
        },
        {
          "data": {
            "text/plain": [
              "7424"
            ]
          },
          "execution_count": 19,
          "metadata": {},
          "output_type": "execute_result"
        }
      ],
      "source": [
        "# Transform model (quantization)\n",
        "\n",
        "converter = tf.lite.TFLiteConverter.from_keras_model(model)\n",
        "converter.optimizations = [tf.lite.Optimize.DEFAULT]\n",
        "tflite_quantized_model = converter.convert()\n",
        "\n",
        "open(tflite_save_path, 'wb').write(tflite_quantized_model)"
      ]
    }
  ],
  "metadata": {
    "accelerator": "GPU",
    "colab": {
      "collapsed_sections": [],
      "name": "keypoint_classification_EN.ipynb",
      "provenance": [],
      "toc_visible": true
    },
    "kernelspec": {
      "display_name": "Python 3",
      "language": "python",
      "name": "python3"
    },
    "language_info": {
      "codemirror_mode": {
        "name": "ipython",
        "version": 3
      },
      "file_extension": ".py",
      "mimetype": "text/x-python",
      "name": "python",
      "nbconvert_exporter": "python",
      "pygments_lexer": "ipython3",
      "version": "3.10.10"
    }
  },
  "nbformat": 4,
  "nbformat_minor": 0
}
