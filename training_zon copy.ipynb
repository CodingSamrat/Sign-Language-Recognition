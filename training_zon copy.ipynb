{
  "cells": [
    {
      "cell_type": "code",
      "execution_count": 1,
      "metadata": {
        "id": "igMyGnjE9hEp"
      },
      "outputs": [],
      "source": [
        "import csv\n",
        "\n",
        "import numpy as np\n",
        "import tensorflow as tf\n",
        "from sklearn.model_selection import train_test_split\n",
        "\n",
        "RANDOM_SEED = 42"
      ]
    },
    {
      "attachments": {},
      "cell_type": "markdown",
      "metadata": {
        "id": "t2HDvhIu9hEr"
      },
      "source": [
        "# Specify each path"
      ]
    },
    {
      "cell_type": "code",
      "execution_count": 2,
      "metadata": {
        "id": "9NvZP2Zn9hEy"
      },
      "outputs": [],
      "source": [
        "dataset = 'model/keypoint.csv'\n",
        "model_save_path = 'model/aslr_model.hdf5'\n",
        "tflite_save_path = 'model/aslr_model.tflite'"
      ]
    },
    {
      "attachments": {},
      "cell_type": "markdown",
      "metadata": {
        "id": "s5oMH7x19hEz"
      },
      "source": [
        "# Set number of classes"
      ]
    },
    {
      "cell_type": "code",
      "execution_count": 3,
      "metadata": {
        "id": "du4kodXL9hEz"
      },
      "outputs": [],
      "source": [
        "NUM_CLASSES = 24"
      ]
    },
    {
      "attachments": {},
      "cell_type": "markdown",
      "metadata": {
        "id": "XjnL0uso9hEz"
      },
      "source": [
        "# Dataset reading"
      ]
    },
    {
      "cell_type": "code",
      "execution_count": 4,
      "metadata": {
        "id": "QT5ZqtEz9hE0"
      },
      "outputs": [],
      "source": [
        "X_dataset = np.loadtxt(dataset, delimiter=',', dtype='float32', usecols=list(range(1, (21 * 2) + 1)))"
      ]
    },
    {
      "cell_type": "code",
      "execution_count": 5,
      "metadata": {
        "id": "QmoKFsp49hE0"
      },
      "outputs": [],
      "source": [
        "y_dataset = np.loadtxt(dataset, delimiter=',', dtype='int32', usecols=(0))"
      ]
    },
    {
      "cell_type": "code",
      "execution_count": 6,
      "metadata": {
        "id": "xQU7JTZ_9hE0"
      },
      "outputs": [],
      "source": [
        "X_train, X_test, y_train, y_test = train_test_split(X_dataset, y_dataset, train_size=0.75, random_state=RANDOM_SEED)"
      ]
    },
    {
      "cell_type": "code",
      "execution_count": 7,
      "metadata": {},
      "outputs": [
        {
          "data": {
            "text/plain": [
              "array([ 0,  0,  0, ..., 16, 16, 16])"
            ]
          },
          "execution_count": 7,
          "metadata": {},
          "output_type": "execute_result"
        }
      ],
      "source": [
        "y_dataset"
      ]
    },
    {
      "attachments": {},
      "cell_type": "markdown",
      "metadata": {
        "id": "mxK_lETT9hE0"
      },
      "source": [
        "# Model building"
      ]
    },
    {
      "cell_type": "code",
      "execution_count": 8,
      "metadata": {
        "id": "vHBmUf1t9hE1"
      },
      "outputs": [],
      "source": [
        "model = tf.keras.models.Sequential([\n",
        "    tf.keras.layers.Input((21 * 2, )),\n",
        "    tf.keras.layers.Dropout(0.2),\n",
        "    tf.keras.layers.Dense(20, activation='relu'),\n",
        "    tf.keras.layers.Dropout(0.4),\n",
        "    tf.keras.layers.Dense(10, activation='relu'),\n",
        "    tf.keras.layers.Dense(NUM_CLASSES, activation='softmax')\n",
        "])"
      ]
    },
    {
      "cell_type": "code",
      "execution_count": 9,
      "metadata": {
        "colab": {
          "base_uri": "https://localhost:8080/"
        },
        "id": "ypqky9tc9hE1",
        "outputId": "5db082bb-30e3-4110-bf63-a1ee777ecd46"
      },
      "outputs": [
        {
          "name": "stdout",
          "output_type": "stream",
          "text": [
            "Model: \"sequential\"\n",
            "_________________________________________________________________\n",
            " Layer (type)                Output Shape              Param #   \n",
            "=================================================================\n",
            " dropout (Dropout)           (None, 42)                0         \n",
            "                                                                 \n",
            " dense (Dense)               (None, 20)                860       \n",
            "                                                                 \n",
            " dropout_1 (Dropout)         (None, 20)                0         \n",
            "                                                                 \n",
            " dense_1 (Dense)             (None, 10)                210       \n",
            "                                                                 \n",
            " dense_2 (Dense)             (None, 24)                264       \n",
            "                                                                 \n",
            "=================================================================\n",
            "Total params: 1,334\n",
            "Trainable params: 1,334\n",
            "Non-trainable params: 0\n",
            "_________________________________________________________________\n"
          ]
        }
      ],
      "source": [
        "model.summary()  # tf.keras.utils.plot_model(model, show_shapes=True)"
      ]
    },
    {
      "cell_type": "code",
      "execution_count": 10,
      "metadata": {
        "id": "MbMjOflQ9hE1"
      },
      "outputs": [],
      "source": [
        "# Model checkpoint callback\n",
        "cp_callback = tf.keras.callbacks.ModelCheckpoint(\n",
        "    model_save_path, verbose=1, save_weights_only=False)\n",
        "# Callback for early stopping\n",
        "es_callback = tf.keras.callbacks.EarlyStopping(patience=20, verbose=1)"
      ]
    },
    {
      "cell_type": "code",
      "execution_count": 11,
      "metadata": {
        "id": "c3Dac0M_9hE2"
      },
      "outputs": [],
      "source": [
        "# Model compilation\n",
        "model.compile(\n",
        "    optimizer='adam',\n",
        "    loss='sparse_categorical_crossentropy',\n",
        "    metrics=['accuracy']\n",
        ")"
      ]
    },
    {
      "attachments": {},
      "cell_type": "markdown",
      "metadata": {
        "id": "7XI0j1Iu9hE2"
      },
      "source": [
        "# Model training"
      ]
    },
    {
      "cell_type": "code",
      "execution_count": 12,
      "metadata": {
        "colab": {
          "base_uri": "https://localhost:8080/"
        },
        "id": "WirBl-JE9hE3",
        "outputId": "71b30ca2-8294-4d9d-8aa2-800d90d399de",
        "scrolled": true
      },
      "outputs": [
        {
          "name": "stdout",
          "output_type": "stream",
          "text": [
            "Epoch 1/1000\n",
            "128/141 [==========================>...] - ETA: 0s - loss: 3.0525 - accuracy: 0.1022\n",
            "Epoch 1: saving model to model\\test-aslr_model.hdf5\n",
            "141/141 [==============================] - 2s 5ms/step - loss: 3.0319 - accuracy: 0.1074 - val_loss: 2.7401 - val_accuracy: 0.2038\n",
            "Epoch 2/1000\n",
            "120/141 [========================>.....] - ETA: 0s - loss: 2.6319 - accuracy: 0.1893\n",
            "Epoch 2: saving model to model\\test-aslr_model.hdf5\n",
            "141/141 [==============================] - 0s 3ms/step - loss: 2.6016 - accuracy: 0.1969 - val_loss: 2.2563 - val_accuracy: 0.3720\n",
            "Epoch 3/1000\n",
            "138/141 [============================>.] - ETA: 0s - loss: 2.2459 - accuracy: 0.2666\n",
            "Epoch 3: saving model to model\\test-aslr_model.hdf5\n",
            "141/141 [==============================] - 0s 3ms/step - loss: 2.2410 - accuracy: 0.2673 - val_loss: 1.7797 - val_accuracy: 0.5235\n",
            "Epoch 4/1000\n",
            "136/141 [===========================>..] - ETA: 0s - loss: 1.9506 - accuracy: 0.3316\n",
            "Epoch 4: saving model to model\\test-aslr_model.hdf5\n",
            "141/141 [==============================] - 0s 3ms/step - loss: 1.9477 - accuracy: 0.3324 - val_loss: 1.4806 - val_accuracy: 0.6472\n",
            "Epoch 5/1000\n",
            "118/141 [========================>.....] - ETA: 0s - loss: 1.8012 - accuracy: 0.3689\n",
            "Epoch 5: saving model to model\\test-aslr_model.hdf5\n",
            "141/141 [==============================] - 0s 3ms/step - loss: 1.7939 - accuracy: 0.3729 - val_loss: 1.3368 - val_accuracy: 0.7078\n",
            "Epoch 6/1000\n",
            "120/141 [========================>.....] - ETA: 0s - loss: 1.7187 - accuracy: 0.3908\n",
            "Epoch 6: saving model to model\\test-aslr_model.hdf5\n",
            "141/141 [==============================] - 0s 3ms/step - loss: 1.7129 - accuracy: 0.3932 - val_loss: 1.2461 - val_accuracy: 0.6752\n",
            "Epoch 7/1000\n",
            "121/141 [========================>.....] - ETA: 0s - loss: 1.6440 - accuracy: 0.4136\n",
            "Epoch 7: saving model to model\\test-aslr_model.hdf5\n",
            "141/141 [==============================] - 0s 3ms/step - loss: 1.6420 - accuracy: 0.4140 - val_loss: 1.1790 - val_accuracy: 0.7480\n",
            "Epoch 8/1000\n",
            "120/141 [========================>.....] - ETA: 0s - loss: 1.5982 - accuracy: 0.4302\n",
            "Epoch 8: saving model to model\\test-aslr_model.hdf5\n",
            "141/141 [==============================] - 0s 3ms/step - loss: 1.5999 - accuracy: 0.4318 - val_loss: 1.1089 - val_accuracy: 0.7455\n",
            "Epoch 9/1000\n",
            "120/141 [========================>.....] - ETA: 0s - loss: 1.5562 - accuracy: 0.4421\n",
            "Epoch 9: saving model to model\\test-aslr_model.hdf5\n",
            "141/141 [==============================] - 0s 3ms/step - loss: 1.5589 - accuracy: 0.4422 - val_loss: 1.0557 - val_accuracy: 0.7537\n",
            "Epoch 10/1000\n",
            "120/141 [========================>.....] - ETA: 0s - loss: 1.5133 - accuracy: 0.4585\n",
            "Epoch 10: saving model to model\\test-aslr_model.hdf5\n",
            "141/141 [==============================] - 0s 3ms/step - loss: 1.5102 - accuracy: 0.4594 - val_loss: 1.0071 - val_accuracy: 0.8012\n",
            "Epoch 11/1000\n",
            "119/141 [========================>.....] - ETA: 0s - loss: 1.4749 - accuracy: 0.4769\n",
            "Epoch 11: saving model to model\\test-aslr_model.hdf5\n",
            "141/141 [==============================] - 0s 3ms/step - loss: 1.4735 - accuracy: 0.4793 - val_loss: 0.9552 - val_accuracy: 0.8337\n",
            "Epoch 12/1000\n",
            "139/141 [============================>.] - ETA: 0s - loss: 1.4532 - accuracy: 0.4796\n",
            "Epoch 12: saving model to model\\test-aslr_model.hdf5\n",
            "141/141 [==============================] - 0s 3ms/step - loss: 1.4526 - accuracy: 0.4794 - val_loss: 0.9325 - val_accuracy: 0.8332\n",
            "Epoch 13/1000\n",
            "120/141 [========================>.....] - ETA: 0s - loss: 1.4372 - accuracy: 0.4908\n",
            "Epoch 13: saving model to model\\test-aslr_model.hdf5\n",
            "141/141 [==============================] - 0s 3ms/step - loss: 1.4292 - accuracy: 0.4928 - val_loss: 0.8992 - val_accuracy: 0.7795\n",
            "Epoch 14/1000\n",
            "126/141 [=========================>....] - ETA: 0s - loss: 1.4058 - accuracy: 0.4924\n",
            "Epoch 14: saving model to model\\test-aslr_model.hdf5\n",
            "141/141 [==============================] - 0s 3ms/step - loss: 1.4061 - accuracy: 0.4919 - val_loss: 0.8804 - val_accuracy: 0.7992\n",
            "Epoch 15/1000\n",
            "122/141 [========================>.....] - ETA: 0s - loss: 1.3822 - accuracy: 0.5027\n",
            "Epoch 15: saving model to model\\test-aslr_model.hdf5\n",
            "141/141 [==============================] - 0s 3ms/step - loss: 1.3777 - accuracy: 0.5051 - val_loss: 0.8531 - val_accuracy: 0.8515\n",
            "Epoch 16/1000\n",
            "118/141 [========================>.....] - ETA: 0s - loss: 1.3674 - accuracy: 0.5056\n",
            "Epoch 16: saving model to model\\test-aslr_model.hdf5\n",
            "141/141 [==============================] - 0s 3ms/step - loss: 1.3655 - accuracy: 0.5069 - val_loss: 0.8355 - val_accuracy: 0.8540\n",
            "Epoch 17/1000\n",
            "129/141 [==========================>...] - ETA: 0s - loss: 1.3380 - accuracy: 0.5213\n",
            "Epoch 17: saving model to model\\test-aslr_model.hdf5\n",
            "141/141 [==============================] - 0s 3ms/step - loss: 1.3374 - accuracy: 0.5204 - val_loss: 0.7947 - val_accuracy: 0.8875\n",
            "Epoch 18/1000\n",
            "118/141 [========================>.....] - ETA: 0s - loss: 1.3235 - accuracy: 0.5287\n",
            "Epoch 18: saving model to model\\test-aslr_model.hdf5\n",
            "141/141 [==============================] - 0s 3ms/step - loss: 1.3213 - accuracy: 0.5291 - val_loss: 0.7825 - val_accuracy: 0.8538\n",
            "Epoch 19/1000\n",
            "138/141 [============================>.] - ETA: 0s - loss: 1.3042 - accuracy: 0.5294\n",
            "Epoch 19: saving model to model\\test-aslr_model.hdf5\n",
            "141/141 [==============================] - 0s 3ms/step - loss: 1.3051 - accuracy: 0.5291 - val_loss: 0.7654 - val_accuracy: 0.8985\n",
            "Epoch 20/1000\n",
            "141/141 [==============================] - ETA: 0s - loss: 1.2832 - accuracy: 0.5453\n",
            "Epoch 20: saving model to model\\test-aslr_model.hdf5\n",
            "141/141 [==============================] - 0s 3ms/step - loss: 1.2832 - accuracy: 0.5453 - val_loss: 0.7491 - val_accuracy: 0.8627\n",
            "Epoch 21/1000\n",
            "123/141 [=========================>....] - ETA: 0s - loss: 1.2635 - accuracy: 0.5484\n",
            "Epoch 21: saving model to model\\test-aslr_model.hdf5\n",
            "141/141 [==============================] - 0s 3ms/step - loss: 1.2683 - accuracy: 0.5458 - val_loss: 0.7355 - val_accuracy: 0.8700\n",
            "Epoch 22/1000\n",
            "141/141 [==============================] - ETA: 0s - loss: 1.2533 - accuracy: 0.5488\n",
            "Epoch 22: saving model to model\\test-aslr_model.hdf5\n",
            "141/141 [==============================] - 0s 3ms/step - loss: 1.2533 - accuracy: 0.5488 - val_loss: 0.7288 - val_accuracy: 0.9022\n",
            "Epoch 23/1000\n",
            "117/141 [=======================>......] - ETA: 0s - loss: 1.2433 - accuracy: 0.5608\n",
            "Epoch 23: saving model to model\\test-aslr_model.hdf5\n",
            "141/141 [==============================] - 0s 3ms/step - loss: 1.2433 - accuracy: 0.5598 - val_loss: 0.6936 - val_accuracy: 0.9090\n",
            "Epoch 24/1000\n",
            "123/141 [=========================>....] - ETA: 0s - loss: 1.2185 - accuracy: 0.5605\n",
            "Epoch 24: saving model to model\\test-aslr_model.hdf5\n",
            "141/141 [==============================] - 0s 3ms/step - loss: 1.2247 - accuracy: 0.5604 - val_loss: 0.6794 - val_accuracy: 0.9017\n",
            "Epoch 25/1000\n",
            "122/141 [========================>.....] - ETA: 0s - loss: 1.2159 - accuracy: 0.5649\n",
            "Epoch 25: saving model to model\\test-aslr_model.hdf5\n",
            "141/141 [==============================] - 0s 3ms/step - loss: 1.2116 - accuracy: 0.5661 - val_loss: 0.6716 - val_accuracy: 0.9005\n",
            "Epoch 26/1000\n",
            "133/141 [===========================>..] - ETA: 0s - loss: 1.2042 - accuracy: 0.5711\n",
            "Epoch 26: saving model to model\\test-aslr_model.hdf5\n",
            "141/141 [==============================] - 0s 3ms/step - loss: 1.2047 - accuracy: 0.5709 - val_loss: 0.6728 - val_accuracy: 0.8518\n",
            "Epoch 27/1000\n",
            "120/141 [========================>.....] - ETA: 0s - loss: 1.1744 - accuracy: 0.5746\n",
            "Epoch 27: saving model to model\\test-aslr_model.hdf5\n",
            "141/141 [==============================] - 0s 3ms/step - loss: 1.1770 - accuracy: 0.5729 - val_loss: 0.6438 - val_accuracy: 0.9027\n",
            "Epoch 28/1000\n",
            "137/141 [============================>.] - ETA: 0s - loss: 1.1700 - accuracy: 0.5760\n",
            "Epoch 28: saving model to model\\test-aslr_model.hdf5\n",
            "141/141 [==============================] - 0s 3ms/step - loss: 1.1698 - accuracy: 0.5758 - val_loss: 0.6332 - val_accuracy: 0.9107\n",
            "Epoch 29/1000\n",
            "117/141 [=======================>......] - ETA: 0s - loss: 1.1673 - accuracy: 0.5840\n",
            "Epoch 29: saving model to model\\test-aslr_model.hdf5\n",
            "141/141 [==============================] - 0s 3ms/step - loss: 1.1663 - accuracy: 0.5817 - val_loss: 0.6306 - val_accuracy: 0.9517\n",
            "Epoch 30/1000\n",
            "120/141 [========================>.....] - ETA: 0s - loss: 1.1500 - accuracy: 0.5834\n",
            "Epoch 30: saving model to model\\test-aslr_model.hdf5\n",
            "141/141 [==============================] - 0s 3ms/step - loss: 1.1471 - accuracy: 0.5826 - val_loss: 0.6297 - val_accuracy: 0.9045\n",
            "Epoch 31/1000\n",
            "122/141 [========================>.....] - ETA: 0s - loss: 1.1449 - accuracy: 0.5895\n",
            "Epoch 31: saving model to model\\test-aslr_model.hdf5\n",
            "141/141 [==============================] - 0s 3ms/step - loss: 1.1403 - accuracy: 0.5903 - val_loss: 0.6235 - val_accuracy: 0.9073\n",
            "Epoch 32/1000\n",
            "120/141 [========================>.....] - ETA: 0s - loss: 1.1245 - accuracy: 0.5895\n",
            "Epoch 32: saving model to model\\test-aslr_model.hdf5\n",
            "141/141 [==============================] - 0s 3ms/step - loss: 1.1238 - accuracy: 0.5904 - val_loss: 0.6027 - val_accuracy: 0.9262\n",
            "Epoch 33/1000\n",
            "121/141 [========================>.....] - ETA: 0s - loss: 1.1248 - accuracy: 0.5925\n",
            "Epoch 33: saving model to model\\test-aslr_model.hdf5\n",
            "141/141 [==============================] - 0s 3ms/step - loss: 1.1231 - accuracy: 0.5949 - val_loss: 0.5954 - val_accuracy: 0.9198\n",
            "Epoch 34/1000\n",
            "120/141 [========================>.....] - ETA: 0s - loss: 1.1001 - accuracy: 0.6049\n",
            "Epoch 34: saving model to model\\test-aslr_model.hdf5\n",
            "141/141 [==============================] - 0s 3ms/step - loss: 1.1032 - accuracy: 0.6046 - val_loss: 0.5986 - val_accuracy: 0.9058\n",
            "Epoch 35/1000\n",
            "119/141 [========================>.....] - ETA: 0s - loss: 1.1085 - accuracy: 0.6029\n",
            "Epoch 35: saving model to model\\test-aslr_model.hdf5\n",
            "141/141 [==============================] - 0s 3ms/step - loss: 1.1080 - accuracy: 0.6034 - val_loss: 0.5830 - val_accuracy: 0.9062\n",
            "Epoch 36/1000\n",
            "118/141 [========================>.....] - ETA: 0s - loss: 1.1009 - accuracy: 0.6029\n",
            "Epoch 36: saving model to model\\test-aslr_model.hdf5\n",
            "141/141 [==============================] - 0s 3ms/step - loss: 1.1024 - accuracy: 0.6023 - val_loss: 0.5778 - val_accuracy: 0.9430\n",
            "Epoch 37/1000\n",
            "121/141 [========================>.....] - ETA: 0s - loss: 1.0835 - accuracy: 0.6118\n",
            "Epoch 37: saving model to model\\test-aslr_model.hdf5\n",
            "141/141 [==============================] - 0s 3ms/step - loss: 1.0864 - accuracy: 0.6121 - val_loss: 0.5826 - val_accuracy: 0.9093\n",
            "Epoch 38/1000\n",
            "120/141 [========================>.....] - ETA: 0s - loss: 1.0701 - accuracy: 0.6132\n",
            "Epoch 38: saving model to model\\test-aslr_model.hdf5\n",
            "141/141 [==============================] - 0s 3ms/step - loss: 1.0763 - accuracy: 0.6105 - val_loss: 0.5725 - val_accuracy: 0.9340\n",
            "Epoch 39/1000\n",
            "121/141 [========================>.....] - ETA: 0s - loss: 1.0829 - accuracy: 0.6120\n",
            "Epoch 39: saving model to model\\test-aslr_model.hdf5\n",
            "141/141 [==============================] - 0s 3ms/step - loss: 1.0741 - accuracy: 0.6134 - val_loss: 0.5686 - val_accuracy: 0.9492\n",
            "Epoch 40/1000\n",
            "120/141 [========================>.....] - ETA: 0s - loss: 1.0663 - accuracy: 0.6135\n",
            "Epoch 40: saving model to model\\test-aslr_model.hdf5\n",
            "141/141 [==============================] - 0s 3ms/step - loss: 1.0632 - accuracy: 0.6143 - val_loss: 0.5580 - val_accuracy: 0.9130\n",
            "Epoch 41/1000\n",
            "121/141 [========================>.....] - ETA: 0s - loss: 1.0666 - accuracy: 0.6143\n",
            "Epoch 41: saving model to model\\test-aslr_model.hdf5\n",
            "141/141 [==============================] - 0s 3ms/step - loss: 1.0715 - accuracy: 0.6129 - val_loss: 0.5820 - val_accuracy: 0.9025\n",
            "Epoch 42/1000\n",
            "120/141 [========================>.....] - ETA: 0s - loss: 1.0287 - accuracy: 0.6350\n",
            "Epoch 42: saving model to model\\test-aslr_model.hdf5\n",
            "141/141 [==============================] - 0s 3ms/step - loss: 1.0270 - accuracy: 0.6349 - val_loss: 0.5422 - val_accuracy: 0.9535\n",
            "Epoch 43/1000\n",
            "120/141 [========================>.....] - ETA: 0s - loss: 1.0320 - accuracy: 0.6298\n",
            "Epoch 43: saving model to model\\test-aslr_model.hdf5\n",
            "141/141 [==============================] - 0s 3ms/step - loss: 1.0333 - accuracy: 0.6309 - val_loss: 0.5557 - val_accuracy: 0.9273\n",
            "Epoch 44/1000\n",
            "120/141 [========================>.....] - ETA: 0s - loss: 1.0375 - accuracy: 0.6279\n",
            "Epoch 44: saving model to model\\test-aslr_model.hdf5\n",
            "141/141 [==============================] - 0s 3ms/step - loss: 1.0331 - accuracy: 0.6288 - val_loss: 0.5391 - val_accuracy: 0.9055\n",
            "Epoch 45/1000\n",
            "120/141 [========================>.....] - ETA: 0s - loss: 1.0231 - accuracy: 0.6356\n",
            "Epoch 45: saving model to model\\test-aslr_model.hdf5\n",
            "141/141 [==============================] - 0s 3ms/step - loss: 1.0178 - accuracy: 0.6361 - val_loss: 0.5455 - val_accuracy: 0.9173\n",
            "Epoch 46/1000\n",
            "121/141 [========================>.....] - ETA: 0s - loss: 1.0170 - accuracy: 0.6347\n",
            "Epoch 46: saving model to model\\test-aslr_model.hdf5\n",
            "141/141 [==============================] - 0s 3ms/step - loss: 1.0130 - accuracy: 0.6353 - val_loss: 0.5468 - val_accuracy: 0.9522\n",
            "Epoch 47/1000\n",
            "121/141 [========================>.....] - ETA: 0s - loss: 1.0238 - accuracy: 0.6297\n",
            "Epoch 47: saving model to model\\test-aslr_model.hdf5\n",
            "141/141 [==============================] - 0s 3ms/step - loss: 1.0147 - accuracy: 0.6324 - val_loss: 0.5309 - val_accuracy: 0.9578\n",
            "Epoch 48/1000\n",
            "138/141 [============================>.] - ETA: 0s - loss: 1.0158 - accuracy: 0.6338\n",
            "Epoch 48: saving model to model\\test-aslr_model.hdf5\n",
            "141/141 [==============================] - 0s 3ms/step - loss: 1.0146 - accuracy: 0.6343 - val_loss: 0.5671 - val_accuracy: 0.9345\n",
            "Epoch 49/1000\n",
            "119/141 [========================>.....] - ETA: 0s - loss: 1.0044 - accuracy: 0.6425\n",
            "Epoch 49: saving model to model\\test-aslr_model.hdf5\n",
            "141/141 [==============================] - 0s 3ms/step - loss: 1.0051 - accuracy: 0.6407 - val_loss: 0.5505 - val_accuracy: 0.9443\n",
            "Epoch 50/1000\n",
            "121/141 [========================>.....] - ETA: 0s - loss: 1.0215 - accuracy: 0.6398\n",
            "Epoch 50: saving model to model\\test-aslr_model.hdf5\n",
            "141/141 [==============================] - 0s 3ms/step - loss: 1.0109 - accuracy: 0.6432 - val_loss: 0.5500 - val_accuracy: 0.9565\n",
            "Epoch 51/1000\n",
            "133/141 [===========================>..] - ETA: 0s - loss: 0.9942 - accuracy: 0.6462\n",
            "Epoch 51: saving model to model\\test-aslr_model.hdf5\n",
            "141/141 [==============================] - 0s 3ms/step - loss: 0.9999 - accuracy: 0.6458 - val_loss: 0.5322 - val_accuracy: 0.9487\n",
            "Epoch 52/1000\n",
            "122/141 [========================>.....] - ETA: 0s - loss: 0.9939 - accuracy: 0.6445\n",
            "Epoch 52: saving model to model\\test-aslr_model.hdf5\n",
            "141/141 [==============================] - 0s 3ms/step - loss: 0.9895 - accuracy: 0.6459 - val_loss: 0.5275 - val_accuracy: 0.9577\n",
            "Epoch 53/1000\n",
            "122/141 [========================>.....] - ETA: 0s - loss: 0.9907 - accuracy: 0.6436\n",
            "Epoch 53: saving model to model\\test-aslr_model.hdf5\n",
            "141/141 [==============================] - 0s 3ms/step - loss: 0.9917 - accuracy: 0.6432 - val_loss: 0.5370 - val_accuracy: 0.9560\n",
            "Epoch 54/1000\n",
            "123/141 [=========================>....] - ETA: 0s - loss: 0.9844 - accuracy: 0.6488\n",
            "Epoch 54: saving model to model\\test-aslr_model.hdf5\n",
            "141/141 [==============================] - 0s 3ms/step - loss: 0.9814 - accuracy: 0.6499 - val_loss: 0.5275 - val_accuracy: 0.9418\n",
            "Epoch 55/1000\n",
            "120/141 [========================>.....] - ETA: 0s - loss: 0.9693 - accuracy: 0.6533\n",
            "Epoch 55: saving model to model\\test-aslr_model.hdf5\n",
            "141/141 [==============================] - 0s 3ms/step - loss: 0.9671 - accuracy: 0.6541 - val_loss: 0.5061 - val_accuracy: 0.9175\n",
            "Epoch 56/1000\n",
            "120/141 [========================>.....] - ETA: 0s - loss: 0.9768 - accuracy: 0.6457\n",
            "Epoch 56: saving model to model\\test-aslr_model.hdf5\n",
            "141/141 [==============================] - 0s 3ms/step - loss: 0.9752 - accuracy: 0.6472 - val_loss: 0.5247 - val_accuracy: 0.9220\n",
            "Epoch 57/1000\n",
            "120/141 [========================>.....] - ETA: 0s - loss: 0.9644 - accuracy: 0.6514\n",
            "Epoch 57: saving model to model\\test-aslr_model.hdf5\n",
            "141/141 [==============================] - 0s 3ms/step - loss: 0.9758 - accuracy: 0.6526 - val_loss: 0.5301 - val_accuracy: 0.9443\n",
            "Epoch 58/1000\n",
            "121/141 [========================>.....] - ETA: 0s - loss: 0.9671 - accuracy: 0.6551\n",
            "Epoch 58: saving model to model\\test-aslr_model.hdf5\n",
            "141/141 [==============================] - 0s 3ms/step - loss: 0.9623 - accuracy: 0.6565 - val_loss: 0.5321 - val_accuracy: 0.9233\n",
            "Epoch 59/1000\n",
            "121/141 [========================>.....] - ETA: 0s - loss: 0.9508 - accuracy: 0.6557\n",
            "Epoch 59: saving model to model\\test-aslr_model.hdf5\n",
            "141/141 [==============================] - 0s 3ms/step - loss: 0.9514 - accuracy: 0.6562 - val_loss: 0.5232 - val_accuracy: 0.9350\n",
            "Epoch 60/1000\n",
            "135/141 [===========================>..] - ETA: 0s - loss: 0.9547 - accuracy: 0.6539\n",
            "Epoch 60: saving model to model\\test-aslr_model.hdf5\n",
            "141/141 [==============================] - 0s 3ms/step - loss: 0.9548 - accuracy: 0.6533 - val_loss: 0.5302 - val_accuracy: 0.9278\n",
            "Epoch 61/1000\n",
            "122/141 [========================>.....] - ETA: 0s - loss: 0.9647 - accuracy: 0.6563\n",
            "Epoch 61: saving model to model\\test-aslr_model.hdf5\n",
            "141/141 [==============================] - 0s 3ms/step - loss: 0.9620 - accuracy: 0.6572 - val_loss: 0.5230 - val_accuracy: 0.9233\n",
            "Epoch 62/1000\n",
            "129/141 [==========================>...] - ETA: 0s - loss: 0.9555 - accuracy: 0.6628\n",
            "Epoch 62: saving model to model\\test-aslr_model.hdf5\n",
            "141/141 [==============================] - 0s 3ms/step - loss: 0.9552 - accuracy: 0.6631 - val_loss: 0.5143 - val_accuracy: 0.9530\n",
            "Epoch 63/1000\n",
            "119/141 [========================>.....] - ETA: 0s - loss: 0.9466 - accuracy: 0.6590\n",
            "Epoch 63: saving model to model\\test-aslr_model.hdf5\n",
            "141/141 [==============================] - 0s 3ms/step - loss: 0.9488 - accuracy: 0.6577 - val_loss: 0.5214 - val_accuracy: 0.9375\n",
            "Epoch 64/1000\n",
            "119/141 [========================>.....] - ETA: 0s - loss: 0.9460 - accuracy: 0.6655\n",
            "Epoch 64: saving model to model\\test-aslr_model.hdf5\n",
            "141/141 [==============================] - 0s 3ms/step - loss: 0.9441 - accuracy: 0.6648 - val_loss: 0.5208 - val_accuracy: 0.8980\n",
            "Epoch 65/1000\n",
            "120/141 [========================>.....] - ETA: 0s - loss: 0.9325 - accuracy: 0.6647\n",
            "Epoch 65: saving model to model\\test-aslr_model.hdf5\n",
            "141/141 [==============================] - 0s 3ms/step - loss: 0.9271 - accuracy: 0.6669 - val_loss: 0.5020 - val_accuracy: 0.9330\n",
            "Epoch 66/1000\n",
            "122/141 [========================>.....] - ETA: 0s - loss: 0.9470 - accuracy: 0.6558\n",
            "Epoch 66: saving model to model\\test-aslr_model.hdf5\n",
            "141/141 [==============================] - 0s 3ms/step - loss: 0.9515 - accuracy: 0.6554 - val_loss: 0.5243 - val_accuracy: 0.9035\n",
            "Epoch 67/1000\n",
            "120/141 [========================>.....] - ETA: 0s - loss: 0.9456 - accuracy: 0.6604\n",
            "Epoch 67: saving model to model\\test-aslr_model.hdf5\n",
            "141/141 [==============================] - 0s 3ms/step - loss: 0.9424 - accuracy: 0.6618 - val_loss: 0.4998 - val_accuracy: 0.9453\n",
            "Epoch 68/1000\n",
            "119/141 [========================>.....] - ETA: 0s - loss: 0.9295 - accuracy: 0.6760\n",
            "Epoch 68: saving model to model\\test-aslr_model.hdf5\n",
            "141/141 [==============================] - 0s 3ms/step - loss: 0.9298 - accuracy: 0.6745 - val_loss: 0.5069 - val_accuracy: 0.9518\n",
            "Epoch 69/1000\n",
            "122/141 [========================>.....] - ETA: 0s - loss: 0.9496 - accuracy: 0.6608\n",
            "Epoch 69: saving model to model\\test-aslr_model.hdf5\n",
            "141/141 [==============================] - 0s 3ms/step - loss: 0.9468 - accuracy: 0.6614 - val_loss: 0.4967 - val_accuracy: 0.9270\n",
            "Epoch 70/1000\n",
            "139/141 [============================>.] - ETA: 0s - loss: 0.9271 - accuracy: 0.6665\n",
            "Epoch 70: saving model to model\\test-aslr_model.hdf5\n",
            "141/141 [==============================] - 0s 3ms/step - loss: 0.9263 - accuracy: 0.6672 - val_loss: 0.5094 - val_accuracy: 0.9303\n",
            "Epoch 71/1000\n",
            "120/141 [========================>.....] - ETA: 0s - loss: 0.9216 - accuracy: 0.6753\n",
            "Epoch 71: saving model to model\\test-aslr_model.hdf5\n",
            "141/141 [==============================] - 0s 3ms/step - loss: 0.9188 - accuracy: 0.6762 - val_loss: 0.4903 - val_accuracy: 0.9345\n",
            "Epoch 72/1000\n",
            "130/141 [==========================>...] - ETA: 0s - loss: 0.9164 - accuracy: 0.6772\n",
            "Epoch 72: saving model to model\\test-aslr_model.hdf5\n",
            "141/141 [==============================] - 0s 3ms/step - loss: 0.9196 - accuracy: 0.6751 - val_loss: 0.5001 - val_accuracy: 0.9242\n",
            "Epoch 73/1000\n",
            "122/141 [========================>.....] - ETA: 0s - loss: 0.9177 - accuracy: 0.6750\n",
            "Epoch 73: saving model to model\\test-aslr_model.hdf5\n",
            "141/141 [==============================] - 0s 3ms/step - loss: 0.9200 - accuracy: 0.6722 - val_loss: 0.5051 - val_accuracy: 0.9150\n",
            "Epoch 74/1000\n",
            "120/141 [========================>.....] - ETA: 0s - loss: 0.9220 - accuracy: 0.6734\n",
            "Epoch 74: saving model to model\\test-aslr_model.hdf5\n",
            "141/141 [==============================] - 0s 3ms/step - loss: 0.9202 - accuracy: 0.6760 - val_loss: 0.4923 - val_accuracy: 0.9353\n",
            "Epoch 75/1000\n",
            "122/141 [========================>.....] - ETA: 0s - loss: 0.9119 - accuracy: 0.6730\n",
            "Epoch 75: saving model to model\\test-aslr_model.hdf5\n",
            "141/141 [==============================] - 0s 3ms/step - loss: 0.9116 - accuracy: 0.6738 - val_loss: 0.4937 - val_accuracy: 0.9210\n",
            "Epoch 76/1000\n",
            "121/141 [========================>.....] - ETA: 0s - loss: 0.9257 - accuracy: 0.6729\n",
            "Epoch 76: saving model to model\\test-aslr_model.hdf5\n",
            "141/141 [==============================] - 0s 3ms/step - loss: 0.9204 - accuracy: 0.6741 - val_loss: 0.5062 - val_accuracy: 0.9212\n",
            "Epoch 77/1000\n",
            "121/141 [========================>.....] - ETA: 0s - loss: 0.9219 - accuracy: 0.6756\n",
            "Epoch 77: saving model to model\\test-aslr_model.hdf5\n",
            "141/141 [==============================] - 0s 3ms/step - loss: 0.9230 - accuracy: 0.6749 - val_loss: 0.5028 - val_accuracy: 0.8848\n",
            "Epoch 78/1000\n",
            "137/141 [============================>.] - ETA: 0s - loss: 0.8920 - accuracy: 0.6843\n",
            "Epoch 78: saving model to model\\test-aslr_model.hdf5\n",
            "141/141 [==============================] - 0s 3ms/step - loss: 0.8912 - accuracy: 0.6851 - val_loss: 0.4815 - val_accuracy: 0.9195\n",
            "Epoch 79/1000\n",
            "120/141 [========================>.....] - ETA: 0s - loss: 0.9093 - accuracy: 0.6771\n",
            "Epoch 79: saving model to model\\test-aslr_model.hdf5\n",
            "141/141 [==============================] - 0s 3ms/step - loss: 0.9056 - accuracy: 0.6772 - val_loss: 0.4831 - val_accuracy: 0.9275\n",
            "Epoch 80/1000\n",
            "118/141 [========================>.....] - ETA: 0s - loss: 0.9145 - accuracy: 0.6745\n",
            "Epoch 80: saving model to model\\test-aslr_model.hdf5\n",
            "141/141 [==============================] - 0s 3ms/step - loss: 0.9090 - accuracy: 0.6769 - val_loss: 0.5010 - val_accuracy: 0.9062\n",
            "Epoch 81/1000\n",
            "139/141 [============================>.] - ETA: 0s - loss: 0.9006 - accuracy: 0.6836\n",
            "Epoch 81: saving model to model\\test-aslr_model.hdf5\n",
            "141/141 [==============================] - 0s 3ms/step - loss: 0.8999 - accuracy: 0.6839 - val_loss: 0.4937 - val_accuracy: 0.9010\n",
            "Epoch 82/1000\n",
            "122/141 [========================>.....] - ETA: 0s - loss: 0.9085 - accuracy: 0.6828\n",
            "Epoch 82: saving model to model\\test-aslr_model.hdf5\n",
            "141/141 [==============================] - 0s 3ms/step - loss: 0.9048 - accuracy: 0.6835 - val_loss: 0.4990 - val_accuracy: 0.8768\n",
            "Epoch 83/1000\n",
            "121/141 [========================>.....] - ETA: 0s - loss: 0.9091 - accuracy: 0.6806\n",
            "Epoch 83: saving model to model\\test-aslr_model.hdf5\n",
            "141/141 [==============================] - 0s 3ms/step - loss: 0.9071 - accuracy: 0.6817 - val_loss: 0.4612 - val_accuracy: 0.9243\n",
            "Epoch 84/1000\n",
            "120/141 [========================>.....] - ETA: 0s - loss: 0.8993 - accuracy: 0.6821\n",
            "Epoch 84: saving model to model\\test-aslr_model.hdf5\n",
            "141/141 [==============================] - 0s 3ms/step - loss: 0.8984 - accuracy: 0.6820 - val_loss: 0.4864 - val_accuracy: 0.9073\n",
            "Epoch 85/1000\n",
            "119/141 [========================>.....] - ETA: 0s - loss: 0.8921 - accuracy: 0.6830\n",
            "Epoch 85: saving model to model\\test-aslr_model.hdf5\n",
            "141/141 [==============================] - 0s 3ms/step - loss: 0.8925 - accuracy: 0.6844 - val_loss: 0.4721 - val_accuracy: 0.9118\n",
            "Epoch 86/1000\n",
            "140/141 [============================>.] - ETA: 0s - loss: 0.8924 - accuracy: 0.6869\n",
            "Epoch 86: saving model to model\\test-aslr_model.hdf5\n",
            "141/141 [==============================] - 0s 3ms/step - loss: 0.8922 - accuracy: 0.6867 - val_loss: 0.4694 - val_accuracy: 0.9210\n",
            "Epoch 87/1000\n",
            "122/141 [========================>.....] - ETA: 0s - loss: 0.8822 - accuracy: 0.6904\n",
            "Epoch 87: saving model to model\\test-aslr_model.hdf5\n",
            "141/141 [==============================] - 0s 3ms/step - loss: 0.8914 - accuracy: 0.6892 - val_loss: 0.4654 - val_accuracy: 0.9148\n",
            "Epoch 88/1000\n",
            "120/141 [========================>.....] - ETA: 0s - loss: 0.8834 - accuracy: 0.6906\n",
            "Epoch 88: saving model to model\\test-aslr_model.hdf5\n",
            "141/141 [==============================] - 0s 3ms/step - loss: 0.8826 - accuracy: 0.6901 - val_loss: 0.4822 - val_accuracy: 0.9115\n",
            "Epoch 89/1000\n",
            "121/141 [========================>.....] - ETA: 0s - loss: 0.8811 - accuracy: 0.6913\n",
            "Epoch 89: saving model to model\\test-aslr_model.hdf5\n",
            "141/141 [==============================] - 0s 3ms/step - loss: 0.8804 - accuracy: 0.6913 - val_loss: 0.4909 - val_accuracy: 0.9100\n",
            "Epoch 90/1000\n",
            "130/141 [==========================>...] - ETA: 0s - loss: 0.8778 - accuracy: 0.6950\n",
            "Epoch 90: saving model to model\\test-aslr_model.hdf5\n",
            "141/141 [==============================] - 0s 3ms/step - loss: 0.8729 - accuracy: 0.6949 - val_loss: 0.4673 - val_accuracy: 0.9145\n",
            "Epoch 91/1000\n",
            "118/141 [========================>.....] - ETA: 0s - loss: 0.8884 - accuracy: 0.6895\n",
            "Epoch 91: saving model to model\\test-aslr_model.hdf5\n",
            "141/141 [==============================] - 0s 3ms/step - loss: 0.8887 - accuracy: 0.6889 - val_loss: 0.4894 - val_accuracy: 0.8978\n",
            "Epoch 92/1000\n",
            "120/141 [========================>.....] - ETA: 0s - loss: 0.8709 - accuracy: 0.6898\n",
            "Epoch 92: saving model to model\\test-aslr_model.hdf5\n",
            "141/141 [==============================] - 0s 3ms/step - loss: 0.8681 - accuracy: 0.6913 - val_loss: 0.4786 - val_accuracy: 0.9040\n",
            "Epoch 93/1000\n",
            "140/141 [============================>.] - ETA: 0s - loss: 0.8481 - accuracy: 0.7010\n",
            "Epoch 93: saving model to model\\test-aslr_model.hdf5\n",
            "141/141 [==============================] - 0s 3ms/step - loss: 0.8476 - accuracy: 0.7012 - val_loss: 0.4598 - val_accuracy: 0.9165\n",
            "Epoch 94/1000\n",
            "121/141 [========================>.....] - ETA: 0s - loss: 0.8653 - accuracy: 0.6967\n",
            "Epoch 94: saving model to model\\test-aslr_model.hdf5\n",
            "141/141 [==============================] - 0s 3ms/step - loss: 0.8690 - accuracy: 0.6939 - val_loss: 0.4721 - val_accuracy: 0.9128\n",
            "Epoch 95/1000\n",
            "120/141 [========================>.....] - ETA: 0s - loss: 0.8538 - accuracy: 0.7016\n",
            "Epoch 95: saving model to model\\test-aslr_model.hdf5\n",
            "141/141 [==============================] - 0s 3ms/step - loss: 0.8533 - accuracy: 0.7019 - val_loss: 0.4650 - val_accuracy: 0.8872\n",
            "Epoch 96/1000\n",
            "119/141 [========================>.....] - ETA: 0s - loss: 0.8538 - accuracy: 0.7028\n",
            "Epoch 96: saving model to model\\test-aslr_model.hdf5\n",
            "141/141 [==============================] - 0s 3ms/step - loss: 0.8549 - accuracy: 0.7038 - val_loss: 0.4725 - val_accuracy: 0.8657\n",
            "Epoch 97/1000\n",
            "121/141 [========================>.....] - ETA: 0s - loss: 0.8714 - accuracy: 0.6952\n",
            "Epoch 97: saving model to model\\test-aslr_model.hdf5\n",
            "141/141 [==============================] - 0s 3ms/step - loss: 0.8661 - accuracy: 0.6983 - val_loss: 0.4542 - val_accuracy: 0.8948\n",
            "Epoch 98/1000\n",
            "122/141 [========================>.....] - ETA: 0s - loss: 0.8568 - accuracy: 0.7025\n",
            "Epoch 98: saving model to model\\test-aslr_model.hdf5\n",
            "141/141 [==============================] - 0s 3ms/step - loss: 0.8576 - accuracy: 0.7021 - val_loss: 0.4700 - val_accuracy: 0.8845\n",
            "Epoch 99/1000\n",
            "129/141 [==========================>...] - ETA: 0s - loss: 0.8451 - accuracy: 0.7032\n",
            "Epoch 99: saving model to model\\test-aslr_model.hdf5\n",
            "141/141 [==============================] - 0s 3ms/step - loss: 0.8453 - accuracy: 0.7044 - val_loss: 0.4658 - val_accuracy: 0.8885\n",
            "Epoch 100/1000\n",
            "139/141 [============================>.] - ETA: 0s - loss: 0.8448 - accuracy: 0.7058\n",
            "Epoch 100: saving model to model\\test-aslr_model.hdf5\n",
            "141/141 [==============================] - 0s 3ms/step - loss: 0.8446 - accuracy: 0.7054 - val_loss: 0.4608 - val_accuracy: 0.8813\n",
            "Epoch 101/1000\n",
            "121/141 [========================>.....] - ETA: 0s - loss: 0.8522 - accuracy: 0.7018\n",
            "Epoch 101: saving model to model\\test-aslr_model.hdf5\n",
            "141/141 [==============================] - 0s 3ms/step - loss: 0.8496 - accuracy: 0.7039 - val_loss: 0.4686 - val_accuracy: 0.8567\n",
            "Epoch 102/1000\n",
            "119/141 [========================>.....] - ETA: 0s - loss: 0.8526 - accuracy: 0.7038\n",
            "Epoch 102: saving model to model\\test-aslr_model.hdf5\n",
            "141/141 [==============================] - 0s 3ms/step - loss: 0.8494 - accuracy: 0.7041 - val_loss: 0.4706 - val_accuracy: 0.8888\n",
            "Epoch 103/1000\n",
            "122/141 [========================>.....] - ETA: 0s - loss: 0.8368 - accuracy: 0.7081\n",
            "Epoch 103: saving model to model\\test-aslr_model.hdf5\n",
            "141/141 [==============================] - 0s 3ms/step - loss: 0.8367 - accuracy: 0.7062 - val_loss: 0.4503 - val_accuracy: 0.8753\n",
            "Epoch 104/1000\n",
            "121/141 [========================>.....] - ETA: 0s - loss: 0.8397 - accuracy: 0.7047\n",
            "Epoch 104: saving model to model\\test-aslr_model.hdf5\n",
            "141/141 [==============================] - 0s 3ms/step - loss: 0.8478 - accuracy: 0.7062 - val_loss: 0.4908 - val_accuracy: 0.8595\n",
            "Epoch 105/1000\n",
            "119/141 [========================>.....] - ETA: 0s - loss: 0.8486 - accuracy: 0.7047\n",
            "Epoch 105: saving model to model\\test-aslr_model.hdf5\n",
            "141/141 [==============================] - 0s 3ms/step - loss: 0.8469 - accuracy: 0.7053 - val_loss: 0.4428 - val_accuracy: 0.8980\n",
            "Epoch 106/1000\n",
            "120/141 [========================>.....] - ETA: 0s - loss: 0.8308 - accuracy: 0.7058\n",
            "Epoch 106: saving model to model\\test-aslr_model.hdf5\n",
            "141/141 [==============================] - 0s 3ms/step - loss: 0.8297 - accuracy: 0.7068 - val_loss: 0.4610 - val_accuracy: 0.8747\n",
            "Epoch 107/1000\n",
            "124/141 [=========================>....] - ETA: 0s - loss: 0.8383 - accuracy: 0.7033\n",
            "Epoch 107: saving model to model\\test-aslr_model.hdf5\n",
            "141/141 [==============================] - 0s 3ms/step - loss: 0.8383 - accuracy: 0.7035 - val_loss: 0.4687 - val_accuracy: 0.8913\n",
            "Epoch 108/1000\n",
            "134/141 [===========================>..] - ETA: 0s - loss: 0.8330 - accuracy: 0.7084\n",
            "Epoch 108: saving model to model\\test-aslr_model.hdf5\n",
            "141/141 [==============================] - 0s 3ms/step - loss: 0.8329 - accuracy: 0.7090 - val_loss: 0.4696 - val_accuracy: 0.8513\n",
            "Epoch 109/1000\n",
            "122/141 [========================>.....] - ETA: 0s - loss: 0.8340 - accuracy: 0.7090\n",
            "Epoch 109: saving model to model\\test-aslr_model.hdf5\n",
            "141/141 [==============================] - 0s 3ms/step - loss: 0.8329 - accuracy: 0.7106 - val_loss: 0.4675 - val_accuracy: 0.8898\n",
            "Epoch 110/1000\n",
            "119/141 [========================>.....] - ETA: 0s - loss: 0.8414 - accuracy: 0.7079\n",
            "Epoch 110: saving model to model\\test-aslr_model.hdf5\n",
            "141/141 [==============================] - 0s 3ms/step - loss: 0.8386 - accuracy: 0.7074 - val_loss: 0.4730 - val_accuracy: 0.8497\n",
            "Epoch 111/1000\n",
            "120/141 [========================>.....] - ETA: 0s - loss: 0.8280 - accuracy: 0.7036\n",
            "Epoch 111: saving model to model\\test-aslr_model.hdf5\n",
            "141/141 [==============================] - 0s 3ms/step - loss: 0.8283 - accuracy: 0.7049 - val_loss: 0.4509 - val_accuracy: 0.8665\n",
            "Epoch 112/1000\n",
            "122/141 [========================>.....] - ETA: 0s - loss: 0.8266 - accuracy: 0.7160\n",
            "Epoch 112: saving model to model\\test-aslr_model.hdf5\n",
            "141/141 [==============================] - 0s 3ms/step - loss: 0.8267 - accuracy: 0.7146 - val_loss: 0.4633 - val_accuracy: 0.8365\n",
            "Epoch 113/1000\n",
            "139/141 [============================>.] - ETA: 0s - loss: 0.8415 - accuracy: 0.7069\n",
            "Epoch 113: saving model to model\\test-aslr_model.hdf5\n",
            "141/141 [==============================] - 0s 3ms/step - loss: 0.8404 - accuracy: 0.7076 - val_loss: 0.4798 - val_accuracy: 0.8713\n",
            "Epoch 114/1000\n",
            "126/141 [=========================>....] - ETA: 0s - loss: 0.8115 - accuracy: 0.7153\n",
            "Epoch 114: saving model to model\\test-aslr_model.hdf5\n",
            "141/141 [==============================] - 0s 3ms/step - loss: 0.8079 - accuracy: 0.7169 - val_loss: 0.4752 - val_accuracy: 0.8508\n",
            "Epoch 115/1000\n",
            "118/141 [========================>.....] - ETA: 0s - loss: 0.8083 - accuracy: 0.7148\n",
            "Epoch 115: saving model to model\\test-aslr_model.hdf5\n",
            "141/141 [==============================] - 0s 3ms/step - loss: 0.8134 - accuracy: 0.7124 - val_loss: 0.4628 - val_accuracy: 0.8765\n",
            "Epoch 116/1000\n",
            "121/141 [========================>.....] - ETA: 0s - loss: 0.8264 - accuracy: 0.7124\n",
            "Epoch 116: saving model to model\\test-aslr_model.hdf5\n",
            "141/141 [==============================] - 0s 3ms/step - loss: 0.8208 - accuracy: 0.7152 - val_loss: 0.4510 - val_accuracy: 0.8775\n",
            "Epoch 117/1000\n",
            "121/141 [========================>.....] - ETA: 0s - loss: 0.8198 - accuracy: 0.7134\n",
            "Epoch 117: saving model to model\\test-aslr_model.hdf5\n",
            "141/141 [==============================] - 0s 3ms/step - loss: 0.8190 - accuracy: 0.7135 - val_loss: 0.4735 - val_accuracy: 0.8467\n",
            "Epoch 118/1000\n",
            "139/141 [============================>.] - ETA: 0s - loss: 0.8080 - accuracy: 0.7199\n",
            "Epoch 118: saving model to model\\test-aslr_model.hdf5\n",
            "141/141 [==============================] - 0s 3ms/step - loss: 0.8078 - accuracy: 0.7198 - val_loss: 0.4673 - val_accuracy: 0.8732\n",
            "Epoch 119/1000\n",
            "118/141 [========================>.....] - ETA: 0s - loss: 0.8215 - accuracy: 0.7155\n",
            "Epoch 119: saving model to model\\test-aslr_model.hdf5\n",
            "141/141 [==============================] - 0s 3ms/step - loss: 0.8162 - accuracy: 0.7176 - val_loss: 0.4294 - val_accuracy: 0.8807\n",
            "Epoch 120/1000\n",
            "119/141 [========================>.....] - ETA: 0s - loss: 0.8116 - accuracy: 0.7154\n",
            "Epoch 120: saving model to model\\test-aslr_model.hdf5\n",
            "141/141 [==============================] - 0s 3ms/step - loss: 0.8218 - accuracy: 0.7145 - val_loss: 0.4717 - val_accuracy: 0.8213\n",
            "Epoch 121/1000\n",
            "119/141 [========================>.....] - ETA: 0s - loss: 0.8286 - accuracy: 0.7107\n",
            "Epoch 121: saving model to model\\test-aslr_model.hdf5\n",
            "141/141 [==============================] - 0s 3ms/step - loss: 0.8219 - accuracy: 0.7135 - val_loss: 0.4592 - val_accuracy: 0.8742\n",
            "Epoch 122/1000\n",
            "138/141 [============================>.] - ETA: 0s - loss: 0.8069 - accuracy: 0.7156\n",
            "Epoch 122: saving model to model\\test-aslr_model.hdf5\n",
            "141/141 [==============================] - 0s 3ms/step - loss: 0.8070 - accuracy: 0.7161 - val_loss: 0.4747 - val_accuracy: 0.8415\n",
            "Epoch 123/1000\n",
            "120/141 [========================>.....] - ETA: 0s - loss: 0.8130 - accuracy: 0.7192\n",
            "Epoch 123: saving model to model\\test-aslr_model.hdf5\n",
            "141/141 [==============================] - 0s 3ms/step - loss: 0.8099 - accuracy: 0.7207 - val_loss: 0.4428 - val_accuracy: 0.8683\n",
            "Epoch 124/1000\n",
            "138/141 [============================>.] - ETA: 0s - loss: 0.8057 - accuracy: 0.7191\n",
            "Epoch 124: saving model to model\\test-aslr_model.hdf5\n",
            "141/141 [==============================] - 0s 3ms/step - loss: 0.8059 - accuracy: 0.7192 - val_loss: 0.4406 - val_accuracy: 0.8830\n",
            "Epoch 125/1000\n",
            "122/141 [========================>.....] - ETA: 0s - loss: 0.8047 - accuracy: 0.7192\n",
            "Epoch 125: saving model to model\\test-aslr_model.hdf5\n",
            "141/141 [==============================] - 0s 3ms/step - loss: 0.8106 - accuracy: 0.7178 - val_loss: 0.4589 - val_accuracy: 0.8580\n",
            "Epoch 126/1000\n",
            "141/141 [==============================] - ETA: 0s - loss: 0.8103 - accuracy: 0.7207\n",
            "Epoch 126: saving model to model\\test-aslr_model.hdf5\n",
            "141/141 [==============================] - 0s 3ms/step - loss: 0.8103 - accuracy: 0.7207 - val_loss: 0.4593 - val_accuracy: 0.8493\n",
            "Epoch 127/1000\n",
            "122/141 [========================>.....] - ETA: 0s - loss: 0.8084 - accuracy: 0.7163\n",
            "Epoch 127: saving model to model\\test-aslr_model.hdf5\n",
            "141/141 [==============================] - 0s 3ms/step - loss: 0.8063 - accuracy: 0.7168 - val_loss: 0.4749 - val_accuracy: 0.8447\n",
            "Epoch 128/1000\n",
            "121/141 [========================>.....] - ETA: 0s - loss: 0.8163 - accuracy: 0.7127\n",
            "Epoch 128: saving model to model\\test-aslr_model.hdf5\n",
            "141/141 [==============================] - 0s 3ms/step - loss: 0.8126 - accuracy: 0.7138 - val_loss: 0.4536 - val_accuracy: 0.8762\n",
            "Epoch 129/1000\n",
            "117/141 [=======================>......] - ETA: 0s - loss: 0.8100 - accuracy: 0.7198\n",
            "Epoch 129: saving model to model\\test-aslr_model.hdf5\n",
            "141/141 [==============================] - 0s 3ms/step - loss: 0.8116 - accuracy: 0.7197 - val_loss: 0.4675 - val_accuracy: 0.8517\n",
            "Epoch 130/1000\n",
            "119/141 [========================>.....] - ETA: 0s - loss: 0.8054 - accuracy: 0.7174\n",
            "Epoch 130: saving model to model\\test-aslr_model.hdf5\n",
            "141/141 [==============================] - 0s 3ms/step - loss: 0.8058 - accuracy: 0.7172 - val_loss: 0.4439 - val_accuracy: 0.8680\n",
            "Epoch 131/1000\n",
            "118/141 [========================>.....] - ETA: 0s - loss: 0.7956 - accuracy: 0.7182\n",
            "Epoch 131: saving model to model\\test-aslr_model.hdf5\n",
            "141/141 [==============================] - 0s 3ms/step - loss: 0.8048 - accuracy: 0.7182 - val_loss: 0.4527 - val_accuracy: 0.8487\n",
            "Epoch 132/1000\n",
            "121/141 [========================>.....] - ETA: 0s - loss: 0.7947 - accuracy: 0.7240\n",
            "Epoch 132: saving model to model\\test-aslr_model.hdf5\n",
            "141/141 [==============================] - 0s 3ms/step - loss: 0.7965 - accuracy: 0.7244 - val_loss: 0.4603 - val_accuracy: 0.8440\n",
            "Epoch 133/1000\n",
            "118/141 [========================>.....] - ETA: 0s - loss: 0.8078 - accuracy: 0.7172\n",
            "Epoch 133: saving model to model\\test-aslr_model.hdf5\n",
            "141/141 [==============================] - 0s 3ms/step - loss: 0.8057 - accuracy: 0.7187 - val_loss: 0.4595 - val_accuracy: 0.8630\n",
            "Epoch 134/1000\n",
            "139/141 [============================>.] - ETA: 0s - loss: 0.8041 - accuracy: 0.7192\n",
            "Epoch 134: saving model to model\\test-aslr_model.hdf5\n",
            "141/141 [==============================] - 0s 3ms/step - loss: 0.8025 - accuracy: 0.7198 - val_loss: 0.4661 - val_accuracy: 0.8622\n",
            "Epoch 135/1000\n",
            "130/141 [==========================>...] - ETA: 0s - loss: 0.7985 - accuracy: 0.7234\n",
            "Epoch 135: saving model to model\\test-aslr_model.hdf5\n",
            "141/141 [==============================] - 0s 3ms/step - loss: 0.7987 - accuracy: 0.7228 - val_loss: 0.4792 - val_accuracy: 0.8427\n",
            "Epoch 136/1000\n",
            "139/141 [============================>.] - ETA: 0s - loss: 0.7844 - accuracy: 0.7263\n",
            "Epoch 136: saving model to model\\test-aslr_model.hdf5\n",
            "141/141 [==============================] - 0s 3ms/step - loss: 0.7854 - accuracy: 0.7259 - val_loss: 0.4676 - val_accuracy: 0.8317\n",
            "Epoch 137/1000\n",
            "118/141 [========================>.....] - ETA: 0s - loss: 0.8027 - accuracy: 0.7182\n",
            "Epoch 137: saving model to model\\test-aslr_model.hdf5\n",
            "141/141 [==============================] - 0s 3ms/step - loss: 0.7986 - accuracy: 0.7195 - val_loss: 0.4551 - val_accuracy: 0.8877\n",
            "Epoch 138/1000\n",
            "119/141 [========================>.....] - ETA: 0s - loss: 0.7881 - accuracy: 0.7226\n",
            "Epoch 138: saving model to model\\test-aslr_model.hdf5\n",
            "141/141 [==============================] - 0s 3ms/step - loss: 0.7881 - accuracy: 0.7231 - val_loss: 0.4719 - val_accuracy: 0.8550\n",
            "Epoch 139/1000\n",
            "140/141 [============================>.] - ETA: 0s - loss: 0.7994 - accuracy: 0.7264\n",
            "Epoch 139: saving model to model\\test-aslr_model.hdf5\n",
            "141/141 [==============================] - 0s 3ms/step - loss: 0.7997 - accuracy: 0.7265 - val_loss: 0.4310 - val_accuracy: 0.8632\n",
            "Epoch 139: early stopping\n"
          ]
        },
        {
          "data": {
            "text/plain": [
              "<keras.callbacks.History at 0x23242bd3910>"
            ]
          },
          "execution_count": 12,
          "metadata": {},
          "output_type": "execute_result"
        }
      ],
      "source": [
        "model.fit(\n",
        "    X_train,\n",
        "    y_train,\n",
        "    epochs=1000,\n",
        "    batch_size=128,\n",
        "    validation_data=(X_test, y_test),\n",
        "    callbacks=[cp_callback, es_callback]\n",
        ")"
      ]
    },
    {
      "cell_type": "code",
      "execution_count": 13,
      "metadata": {
        "colab": {
          "base_uri": "https://localhost:8080/"
        },
        "id": "pxvb2Y299hE3",
        "outputId": "59eb3185-2e37-4b9e-bc9d-ab1b8ac29b7f"
      },
      "outputs": [
        {
          "name": "stdout",
          "output_type": "stream",
          "text": [
            "47/47 [==============================] - 0s 2ms/step - loss: 0.4310 - accuracy: 0.8632\n"
          ]
        }
      ],
      "source": [
        "# Model evaluation\n",
        "val_loss, val_acc = model.evaluate(X_test, y_test, batch_size=128)"
      ]
    },
    {
      "cell_type": "code",
      "execution_count": 14,
      "metadata": {
        "id": "RBkmDeUW9hE4"
      },
      "outputs": [],
      "source": [
        "# Loading the saved model\n",
        "model = tf.keras.models.load_model(model_save_path)"
      ]
    },
    {
      "cell_type": "code",
      "execution_count": 15,
      "metadata": {
        "colab": {
          "base_uri": "https://localhost:8080/"
        },
        "id": "tFz9Tb0I9hE4",
        "outputId": "1c3b3528-54ae-4ee2-ab04-77429211cbef"
      },
      "outputs": [
        {
          "name": "stdout",
          "output_type": "stream",
          "text": [
            "1/1 [==============================] - 0s 103ms/step\n",
            "[2.0440075e-30 4.6989371e-08 9.9994218e-01 0.0000000e+00 0.0000000e+00\n",
            " 2.8033337e-19 1.0000000e+00 1.0000000e+00 1.8767435e-14 7.4331364e-36\n",
            " 7.8054103e-15 0.0000000e+00 0.0000000e+00 7.4803400e-01 2.3781386e-06\n",
            " 9.9999946e-01 0.0000000e+00 0.0000000e+00 1.0000000e+00 6.8913225e-31\n",
            " 2.1604797e-19 0.0000000e+00 9.9999946e-01 2.1557693e-09]\n",
            "6\n"
          ]
        }
      ],
      "source": [
        "# Inference test\n",
        "predict_result = model.predict(np.array([X_test[0]]))\n",
        "print(np.squeeze(predict_result))\n",
        "print(np.argmax(np.squeeze(predict_result)))"
      ]
    },
    {
      "attachments": {},
      "cell_type": "markdown",
      "metadata": {
        "id": "S3U4yNWx9hE4"
      },
      "source": [
        "# Confusion matrix"
      ]
    },
    {
      "cell_type": "code",
      "execution_count": 16,
      "metadata": {},
      "outputs": [
        {
          "name": "stdout",
          "output_type": "stream",
          "text": [
            "188/188 [==============================] - 0s 1ms/step\n"
          ]
        }
      ],
      "source": [
        "Y_pred = model.predict(X_test)\n",
        "y_pred = np.argmax(Y_pred, axis=1)\n"
      ]
    },
    {
      "cell_type": "code",
      "execution_count": 17,
      "metadata": {},
      "outputs": [
        {
          "name": "stdout",
          "output_type": "stream",
          "text": [
            "188/188 [==============================] - 0s 1ms/step\n"
          ]
        },
        {
          "data": {
            "image/png": "[encoded data removed]",
            "text/plain": [
              "<Figure size 1200x900 with 2 Axes>"
            ]
          },
          "metadata": {},
          "output_type": "display_data"
        },
        {
          "name": "stdout",
          "output_type": "stream",
          "text": [
            "Accuracy   : 0.786\n"
          ]
        }
      ],
      "source": [
        "from sklearn.metrics import accuracy_score\n",
        "import pandas as pd\n",
        "import seaborn as sns\n",
        "import matplotlib.pyplot as plt\n",
        "from sklearn.metrics import confusion_matrix\n",
        "\n",
        "labels = [\"A\", \"B\", \"C\", \"D\", \"E\", \"F\", \"G\", \"H\", \"I\", \"K\", \"L\", \"M\", \"N\", \"O\", \"P\", \"Q\", \"R\", \"S\", \"T\", \"U\", \"V\", \"W\", \"X\", \"Y\"]\n",
        "prediction = model.predict(X_test)\n",
        "y_pred = np.argmax(prediction, axis=1)\n",
        "\n",
        "\n",
        "cm = confusion_matrix(y_test, y_pred)\n",
        "\n",
        "#Plot the confusion matrix.\n",
        "plt.subplots(figsize=(12, 9))\n",
        "\n",
        "sns.heatmap(cm,\n",
        "            annot=True,\n",
        "            fmt='g',\n",
        "            xticklabels=labels,\n",
        "            yticklabels=labels)\n",
        "\n",
        "plt.title('Confusion Matrix',fontsize=17)\n",
        "# plt.ylabel('Prediction',fontsize=13)\n",
        "# plt.xlabel('Actual',fontsize=13)\n",
        "plt.show()\n",
        "\n",
        "\n",
        "# Finding precision and recall\n",
        "accuracy = accuracy_score(y_test, y_pred)\n",
        "print(\"Accuracy   :\", accuracy)\n"
      ]
    },
    {
      "attachments": {},
      "cell_type": "markdown",
      "metadata": {
        "id": "FNP6aqzc9hE5"
      },
      "source": [
        "# Convert to model for Tensorflow-Lite"
      ]
    },
    {
      "cell_type": "code",
      "execution_count": 18,
      "metadata": {
        "id": "ODjnYyld9hE6"
      },
      "outputs": [],
      "source": [
        "# Save as a model dedicated to inference\n",
        "model.save(model_save_path, include_optimizer=False)"
      ]
    },
    {
      "cell_type": "code",
      "execution_count": 19,
      "metadata": {
        "colab": {
          "base_uri": "https://localhost:8080/"
        },
        "id": "zRfuK8Y59hE6",
        "outputId": "a4ca585c-b5d5-4244-8291-8674063209bb"
      },
      "outputs": [
        {
          "name": "stderr",
          "output_type": "stream",
          "text": [
            "WARNING:absl:Found untraced functions such as _update_step_xla while saving (showing 1 of 1). These functions will not be directly callable after loading.\n"
          ]
        },
        {
          "name": "stdout",
          "output_type": "stream",
          "text": [
            "INFO:tensorflow:Assets written to: C:\\Users\\Sam\\AppData\\Local\\Temp\\tmpkap03ukg\\assets\n"
          ]
        },
        {
          "name": "stderr",
          "output_type": "stream",
          "text": [
            "INFO:tensorflow:Assets written to: C:\\Users\\Sam\\AppData\\Local\\Temp\\tmpkap03ukg\\assets\n"
          ]
        },
        {
          "data": {
            "text/plain": [
              "7392"
            ]
          },
          "execution_count": 19,
          "metadata": {},
          "output_type": "execute_result"
        }
      ],
      "source": [
        "# Transform model (quantization)\n",
        "\n",
        "converter = tf.lite.TFLiteConverter.from_keras_model(model)\n",
        "converter.optimizations = [tf.lite.Optimize.DEFAULT]\n",
        "tflite_quantized_model = converter.convert()\n",
        "\n",
        "open(tflite_save_path, 'wb').write(tflite_quantized_model)"
      ]
    }
  ],
  "metadata": {
    "accelerator": "GPU",
    "colab": {
      "collapsed_sections": [],
      "name": "keypoint_classification_EN.ipynb",
      "provenance": [],
      "toc_visible": true
    },
    "kernelspec": {
      "display_name": "Python 3",
      "language": "python",
      "name": "python3"
    },
    "language_info": {
      "codemirror_mode": {
        "name": "ipython",
        "version": 3
      },
      "file_extension": ".py",
      "mimetype": "text/x-python",
      "name": "python",
      "nbconvert_exporter": "python",
      "pygments_lexer": "ipython3",
      "version": "3.10.10"
    }
  },
  "nbformat": 4,
  "nbformat_minor": 0
}
