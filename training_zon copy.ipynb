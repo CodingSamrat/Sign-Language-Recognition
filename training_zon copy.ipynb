{
  "cells": [
    {
      "cell_type": "code",
      "execution_count": 1,
      "metadata": {
        "id": "igMyGnjE9hEp"
      },
      "outputs": [],
      "source": [
        "import csv\n",
        "\n",
        "import numpy as np\n",
        "import tensorflow as tf\n",
        "from sklearn.model_selection import train_test_split\n",
        "\n",
        "RANDOM_SEED = 42"
      ]
    },
    {
      "cell_type": "markdown",
      "metadata": {
        "id": "t2HDvhIu9hEr"
      },
      "source": [
        "# Specify each path"
      ]
    },
    {
      "cell_type": "code",
      "execution_count": 2,
      "metadata": {
        "id": "9NvZP2Zn9hEy"
      },
      "outputs": [],
      "source": [
        "dataset = 'model/keypoint.csv'\n",
        "model_save_path = 'model/aslr_model.hdf5'\n",
        "tflite_save_path = 'model/aslr_model.tflite'"
      ]
    },
    {
      "cell_type": "markdown",
      "metadata": {
        "id": "s5oMH7x19hEz"
      },
      "source": [
        "# Set number of classes"
      ]
    },
    {
      "cell_type": "code",
      "execution_count": 3,
      "metadata": {
        "id": "du4kodXL9hEz"
      },
      "outputs": [],
      "source": [
        "NUM_CLASSES = 24"
      ]
    },
    {
      "cell_type": "markdown",
      "metadata": {
        "id": "XjnL0uso9hEz"
      },
      "source": [
        "# Dataset reading"
      ]
    },
    {
      "cell_type": "code",
      "execution_count": 4,
      "metadata": {
        "id": "QT5ZqtEz9hE0"
      },
      "outputs": [],
      "source": [
        "X_dataset = np.loadtxt(dataset, delimiter=',', dtype='float32', usecols=list(range(1, (21 * 2) + 1)))"
      ]
    },
    {
      "cell_type": "code",
      "execution_count": 5,
      "metadata": {
        "id": "QmoKFsp49hE0"
      },
      "outputs": [],
      "source": [
        "y_dataset = np.loadtxt(dataset, delimiter=',', dtype='int32', usecols=(0))"
      ]
    },
    {
      "cell_type": "code",
      "execution_count": 6,
      "metadata": {
        "id": "xQU7JTZ_9hE0"
      },
      "outputs": [],
      "source": [
        "X_train, X_test, y_train, y_test = train_test_split(X_dataset, y_dataset, train_size=0.75, random_state=RANDOM_SEED)"
      ]
    },
    {
      "cell_type": "markdown",
      "metadata": {
        "id": "mxK_lETT9hE0"
      },
      "source": [
        "# Model building"
      ]
    },
    {
      "cell_type": "code",
      "execution_count": 7,
      "metadata": {
        "id": "vHBmUf1t9hE1"
      },
      "outputs": [],
      "source": [
        "model = tf.keras.models.Sequential([\n",
        "    tf.keras.layers.Input((21 * 2, )),\n",
        "    tf.keras.layers.Dropout(0.2),\n",
        "    tf.keras.layers.Dense(20, activation='relu'),\n",
        "    tf.keras.layers.Dropout(0.4),\n",
        "    tf.keras.layers.Dense(10, activation='relu'),\n",
        "    tf.keras.layers.Dense(NUM_CLASSES, activation='softmax')\n",
        "])"
      ]
    },
    {
      "cell_type": "code",
      "execution_count": 8,
      "metadata": {
        "colab": {
          "base_uri": "https://localhost:8080/"
        },
        "id": "ypqky9tc9hE1",
        "outputId": "5db082bb-30e3-4110-bf63-a1ee777ecd46"
      },
      "outputs": [
        {
          "name": "stdout",
          "output_type": "stream",
          "text": [
            "Model: \"sequential\"\n",
            "_________________________________________________________________\n",
            " Layer (type)                Output Shape              Param #   \n",
            "=================================================================\n",
            " dropout (Dropout)           (None, 42)                0         \n",
            "                                                                 \n",
            " dense (Dense)               (None, 20)                860       \n",
            "                                                                 \n",
            " dropout_1 (Dropout)         (None, 20)                0         \n",
            "                                                                 \n",
            " dense_1 (Dense)             (None, 10)                210       \n",
            "                                                                 \n",
            " dense_2 (Dense)             (None, 24)                264       \n",
            "                                                                 \n",
            "=================================================================\n",
            "Total params: 1,334\n",
            "Trainable params: 1,334\n",
            "Non-trainable params: 0\n",
            "_________________________________________________________________\n"
          ]
        }
      ],
      "source": [
        "model.summary()  # tf.keras.utils.plot_model(model, show_shapes=True)"
      ]
    },
    {
      "cell_type": "code",
      "execution_count": 9,
      "metadata": {
        "id": "MbMjOflQ9hE1"
      },
      "outputs": [],
      "source": [
        "# Model checkpoint callback\n",
        "cp_callback = tf.keras.callbacks.ModelCheckpoint(\n",
        "    model_save_path, verbose=1, save_weights_only=False)\n",
        "# Callback for early stopping\n",
        "es_callback = tf.keras.callbacks.EarlyStopping(patience=20, verbose=1)"
      ]
    },
    {
      "cell_type": "code",
      "execution_count": 10,
      "metadata": {
        "id": "c3Dac0M_9hE2"
      },
      "outputs": [],
      "source": [
        "# Model compilation\n",
        "model.compile(\n",
        "    optimizer='adam',\n",
        "    loss='sparse_categorical_crossentropy',\n",
        "    metrics=['accuracy']\n",
        ")"
      ]
    },
    {
      "cell_type": "markdown",
      "metadata": {
        "id": "7XI0j1Iu9hE2"
      },
      "source": [
        "# Model training"
      ]
    },
    {
      "cell_type": "code",
      "execution_count": 11,
      "metadata": {
        "colab": {
          "base_uri": "https://localhost:8080/"
        },
        "id": "WirBl-JE9hE3",
        "outputId": "71b30ca2-8294-4d9d-8aa2-800d90d399de",
        "scrolled": true
      },
      "outputs": [
        {
          "name": "stdout",
          "output_type": "stream",
          "text": [
            "Epoch 1/1000\n",
            "71/71 [==============================] - ETA: 0s - loss: 3.1400 - accuracy: 0.0622\n",
            "Epoch 1: saving model to model\\aslr_model.hdf5\n",
            "71/71 [==============================] - 1s 7ms/step - loss: 3.1400 - accuracy: 0.0622 - val_loss: 3.0434 - val_accuracy: 0.1070\n",
            "Epoch 2/1000\n",
            "69/71 [============================>.] - ETA: 0s - loss: 2.9366 - accuracy: 0.1377\n",
            "Epoch 2: saving model to model\\aslr_model.hdf5\n",
            "71/71 [==============================] - 0s 4ms/step - loss: 2.9348 - accuracy: 0.1383 - val_loss: 2.6936 - val_accuracy: 0.2277\n",
            "Epoch 3/1000\n",
            "65/71 [==========================>...] - ETA: 0s - loss: 2.6457 - accuracy: 0.1876\n",
            "Epoch 3: saving model to model\\aslr_model.hdf5\n",
            "71/71 [==============================] - 0s 4ms/step - loss: 2.6364 - accuracy: 0.1888 - val_loss: 2.3808 - val_accuracy: 0.2783\n",
            "Epoch 4/1000\n",
            "65/71 [==========================>...] - ETA: 0s - loss: 2.4230 - accuracy: 0.2190\n",
            "Epoch 4: saving model to model\\aslr_model.hdf5\n",
            "71/71 [==============================] - 0s 4ms/step - loss: 2.4189 - accuracy: 0.2203 - val_loss: 2.1353 - val_accuracy: 0.4313\n",
            "Epoch 5/1000\n",
            "70/71 [============================>.] - ETA: 0s - loss: 2.2680 - accuracy: 0.2470\n",
            "Epoch 5: saving model to model\\aslr_model.hdf5\n",
            "71/71 [==============================] - 0s 4ms/step - loss: 2.2689 - accuracy: 0.2467 - val_loss: 1.9800 - val_accuracy: 0.4597\n",
            "Epoch 6/1000\n",
            "71/71 [==============================] - ETA: 0s - loss: 2.1620 - accuracy: 0.2703\n",
            "Epoch 6: saving model to model\\aslr_model.hdf5\n",
            "71/71 [==============================] - 0s 4ms/step - loss: 2.1620 - accuracy: 0.2703 - val_loss: 1.8587 - val_accuracy: 0.5343\n",
            "Epoch 7/1000\n",
            "62/71 [=========================>....] - ETA: 0s - loss: 2.0713 - accuracy: 0.2991\n",
            "Epoch 7: saving model to model\\aslr_model.hdf5\n",
            "71/71 [==============================] - 0s 4ms/step - loss: 2.0632 - accuracy: 0.3009 - val_loss: 1.7396 - val_accuracy: 0.6240\n",
            "Epoch 8/1000\n",
            "68/71 [===========================>..] - ETA: 0s - loss: 1.9770 - accuracy: 0.3317\n",
            "Epoch 8: saving model to model\\aslr_model.hdf5\n",
            "71/71 [==============================] - 0s 4ms/step - loss: 1.9755 - accuracy: 0.3326 - val_loss: 1.6251 - val_accuracy: 0.6807\n",
            "Epoch 9/1000\n",
            "69/71 [============================>.] - ETA: 0s - loss: 1.8970 - accuracy: 0.3560\n",
            "Epoch 9: saving model to model\\aslr_model.hdf5\n",
            "71/71 [==============================] - 0s 4ms/step - loss: 1.8943 - accuracy: 0.3564 - val_loss: 1.5124 - val_accuracy: 0.6780\n",
            "Epoch 10/1000\n",
            "66/71 [==========================>...] - ETA: 0s - loss: 1.8426 - accuracy: 0.3711\n",
            "Epoch 10: saving model to model\\aslr_model.hdf5\n",
            "71/71 [==============================] - 0s 4ms/step - loss: 1.8402 - accuracy: 0.3728 - val_loss: 1.4187 - val_accuracy: 0.7250\n",
            "Epoch 11/1000\n",
            "71/71 [==============================] - ETA: 0s - loss: 1.7855 - accuracy: 0.3889\n",
            "Epoch 11: saving model to model\\aslr_model.hdf5\n",
            "71/71 [==============================] - 0s 3ms/step - loss: 1.7855 - accuracy: 0.3889 - val_loss: 1.3303 - val_accuracy: 0.7940\n",
            "Epoch 12/1000\n",
            "49/71 [===================>..........] - ETA: 0s - loss: 1.7426 - accuracy: 0.4027\n",
            "Epoch 12: saving model to model\\aslr_model.hdf5\n",
            "71/71 [==============================] - 0s 3ms/step - loss: 1.7321 - accuracy: 0.4087 - val_loss: 1.2398 - val_accuracy: 0.7547\n",
            "Epoch 13/1000\n",
            "71/71 [==============================] - ETA: 0s - loss: 1.6565 - accuracy: 0.4253\n",
            "Epoch 13: saving model to model\\aslr_model.hdf5\n",
            "71/71 [==============================] - 0s 3ms/step - loss: 1.6565 - accuracy: 0.4253 - val_loss: 1.1674 - val_accuracy: 0.8197\n",
            "Epoch 14/1000\n",
            "71/71 [==============================] - ETA: 0s - loss: 1.6287 - accuracy: 0.4308\n",
            "Epoch 14: saving model to model\\aslr_model.hdf5\n",
            "71/71 [==============================] - 0s 4ms/step - loss: 1.6287 - accuracy: 0.4308 - val_loss: 1.1026 - val_accuracy: 0.8067\n",
            "Epoch 15/1000\n",
            "46/71 [==================>...........] - ETA: 0s - loss: 1.5906 - accuracy: 0.4475\n",
            "Epoch 15: saving model to model\\aslr_model.hdf5\n",
            "71/71 [==============================] - 0s 3ms/step - loss: 1.5822 - accuracy: 0.4482 - val_loss: 1.0445 - val_accuracy: 0.7787\n",
            "Epoch 16/1000\n",
            "48/71 [===================>..........] - ETA: 0s - loss: 1.5426 - accuracy: 0.4500\n",
            "Epoch 16: saving model to model\\aslr_model.hdf5\n",
            "71/71 [==============================] - 0s 3ms/step - loss: 1.5493 - accuracy: 0.4486 - val_loss: 0.9889 - val_accuracy: 0.8180\n",
            "Epoch 17/1000\n",
            "69/71 [============================>.] - ETA: 0s - loss: 1.5089 - accuracy: 0.4714\n",
            "Epoch 17: saving model to model\\aslr_model.hdf5\n",
            "71/71 [==============================] - 0s 4ms/step - loss: 1.5097 - accuracy: 0.4714 - val_loss: 0.9491 - val_accuracy: 0.8763\n",
            "Epoch 18/1000\n",
            "57/71 [=======================>......] - ETA: 0s - loss: 1.4900 - accuracy: 0.4693\n",
            "Epoch 18: saving model to model\\aslr_model.hdf5\n",
            "71/71 [==============================] - 0s 5ms/step - loss: 1.4854 - accuracy: 0.4719 - val_loss: 0.9096 - val_accuracy: 0.8250\n",
            "Epoch 19/1000\n",
            "55/71 [======================>.......] - ETA: 0s - loss: 1.4660 - accuracy: 0.4818\n",
            "Epoch 19: saving model to model\\aslr_model.hdf5\n",
            "71/71 [==============================] - 0s 4ms/step - loss: 1.4701 - accuracy: 0.4754 - val_loss: 0.9027 - val_accuracy: 0.8457\n",
            "Epoch 20/1000\n",
            "67/71 [===========================>..] - ETA: 0s - loss: 1.4460 - accuracy: 0.4899\n",
            "Epoch 20: saving model to model\\aslr_model.hdf5\n",
            "71/71 [==============================] - 0s 3ms/step - loss: 1.4419 - accuracy: 0.4900 - val_loss: 0.8679 - val_accuracy: 0.8560\n",
            "Epoch 21/1000\n",
            "71/71 [==============================] - ETA: 0s - loss: 1.4073 - accuracy: 0.4969\n",
            "Epoch 21: saving model to model\\aslr_model.hdf5\n",
            "71/71 [==============================] - 0s 3ms/step - loss: 1.4073 - accuracy: 0.4969 - val_loss: 0.8361 - val_accuracy: 0.8673\n",
            "Epoch 22/1000\n",
            "65/71 [==========================>...] - ETA: 0s - loss: 1.4117 - accuracy: 0.4989\n",
            "Epoch 22: saving model to model\\aslr_model.hdf5\n",
            "71/71 [==============================] - 0s 4ms/step - loss: 1.4062 - accuracy: 0.5010 - val_loss: 0.8175 - val_accuracy: 0.8630\n",
            "Epoch 23/1000\n",
            "69/71 [============================>.] - ETA: 0s - loss: 1.3902 - accuracy: 0.5036\n",
            "Epoch 23: saving model to model\\aslr_model.hdf5\n",
            "71/71 [==============================] - 0s 4ms/step - loss: 1.3910 - accuracy: 0.5034 - val_loss: 0.7956 - val_accuracy: 0.8683\n",
            "Epoch 24/1000\n",
            "66/71 [==========================>...] - ETA: 0s - loss: 1.3892 - accuracy: 0.5026\n",
            "Epoch 24: saving model to model\\aslr_model.hdf5\n",
            "71/71 [==============================] - 0s 4ms/step - loss: 1.3898 - accuracy: 0.5010 - val_loss: 0.7915 - val_accuracy: 0.8773\n",
            "Epoch 25/1000\n",
            "62/71 [=========================>....] - ETA: 0s - loss: 1.3710 - accuracy: 0.5083\n",
            "Epoch 25: saving model to model\\aslr_model.hdf5\n",
            "71/71 [==============================] - 0s 4ms/step - loss: 1.3721 - accuracy: 0.5063 - val_loss: 0.7642 - val_accuracy: 0.8890\n",
            "Epoch 26/1000\n",
            "69/71 [============================>.] - ETA: 0s - loss: 1.3468 - accuracy: 0.5127\n",
            "Epoch 26: saving model to model\\aslr_model.hdf5\n",
            "71/71 [==============================] - 0s 3ms/step - loss: 1.3478 - accuracy: 0.5124 - val_loss: 0.7602 - val_accuracy: 0.8793\n",
            "Epoch 27/1000\n",
            "46/71 [==================>...........] - ETA: 0s - loss: 1.3359 - accuracy: 0.5221\n",
            "Epoch 27: saving model to model\\aslr_model.hdf5\n",
            "71/71 [==============================] - 0s 3ms/step - loss: 1.3322 - accuracy: 0.5240 - val_loss: 0.7451 - val_accuracy: 0.8650\n",
            "Epoch 28/1000\n",
            "63/71 [=========================>....] - ETA: 0s - loss: 1.3363 - accuracy: 0.5207\n",
            "Epoch 28: saving model to model\\aslr_model.hdf5\n",
            "71/71 [==============================] - 0s 4ms/step - loss: 1.3365 - accuracy: 0.5208 - val_loss: 0.7246 - val_accuracy: 0.8670\n",
            "Epoch 29/1000\n",
            "48/71 [===================>..........] - ETA: 0s - loss: 1.3167 - accuracy: 0.5249\n",
            "Epoch 29: saving model to model\\aslr_model.hdf5\n",
            "71/71 [==============================] - 0s 3ms/step - loss: 1.3090 - accuracy: 0.5284 - val_loss: 0.7088 - val_accuracy: 0.8610\n",
            "Epoch 30/1000\n",
            "47/71 [==================>...........] - ETA: 0s - loss: 1.3051 - accuracy: 0.5326\n",
            "Epoch 30: saving model to model\\aslr_model.hdf5\n",
            "71/71 [==============================] - 0s 3ms/step - loss: 1.3020 - accuracy: 0.5294 - val_loss: 0.6985 - val_accuracy: 0.8783\n",
            "Epoch 31/1000\n",
            "47/71 [==================>...........] - ETA: 0s - loss: 1.3051 - accuracy: 0.5276\n",
            "Epoch 31: saving model to model\\aslr_model.hdf5\n",
            "71/71 [==============================] - 0s 3ms/step - loss: 1.3056 - accuracy: 0.5276 - val_loss: 0.6935 - val_accuracy: 0.8747\n",
            "Epoch 32/1000\n",
            "47/71 [==================>...........] - ETA: 0s - loss: 1.2898 - accuracy: 0.5401\n",
            "Epoch 32: saving model to model\\aslr_model.hdf5\n",
            "71/71 [==============================] - 0s 3ms/step - loss: 1.2844 - accuracy: 0.5383 - val_loss: 0.6889 - val_accuracy: 0.9030\n",
            "Epoch 33/1000\n",
            "48/71 [===================>..........] - ETA: 0s - loss: 1.2873 - accuracy: 0.5244\n",
            "Epoch 33: saving model to model\\aslr_model.hdf5\n",
            "71/71 [==============================] - 0s 3ms/step - loss: 1.2889 - accuracy: 0.5241 - val_loss: 0.6837 - val_accuracy: 0.8690\n",
            "Epoch 34/1000\n",
            "49/71 [===================>..........] - ETA: 0s - loss: 1.2807 - accuracy: 0.5312\n",
            "Epoch 34: saving model to model\\aslr_model.hdf5\n",
            "71/71 [==============================] - 0s 3ms/step - loss: 1.2869 - accuracy: 0.5309 - val_loss: 0.6689 - val_accuracy: 0.8900\n",
            "Epoch 35/1000\n",
            "48/71 [===================>..........] - ETA: 0s - loss: 1.2571 - accuracy: 0.5382\n",
            "Epoch 35: saving model to model\\aslr_model.hdf5\n",
            "71/71 [==============================] - 0s 3ms/step - loss: 1.2612 - accuracy: 0.5420 - val_loss: 0.6479 - val_accuracy: 0.8880\n",
            "Epoch 36/1000\n",
            "67/71 [===========================>..] - ETA: 0s - loss: 1.2632 - accuracy: 0.5420\n",
            "Epoch 36: saving model to model\\aslr_model.hdf5\n",
            "71/71 [==============================] - 0s 4ms/step - loss: 1.2639 - accuracy: 0.5422 - val_loss: 0.6588 - val_accuracy: 0.8790\n",
            "Epoch 37/1000\n",
            "67/71 [===========================>..] - ETA: 0s - loss: 1.2589 - accuracy: 0.5476\n",
            "Epoch 37: saving model to model\\aslr_model.hdf5\n",
            "71/71 [==============================] - 0s 4ms/step - loss: 1.2645 - accuracy: 0.5461 - val_loss: 0.6558 - val_accuracy: 0.8797\n",
            "Epoch 38/1000\n",
            "48/71 [===================>..........] - ETA: 0s - loss: 1.2391 - accuracy: 0.5640\n",
            "Epoch 38: saving model to model\\aslr_model.hdf5\n",
            "71/71 [==============================] - 0s 3ms/step - loss: 1.2328 - accuracy: 0.5644 - val_loss: 0.6456 - val_accuracy: 0.8897\n",
            "Epoch 39/1000\n",
            "71/71 [==============================] - ETA: 0s - loss: 1.2402 - accuracy: 0.5520\n",
            "Epoch 39: saving model to model\\aslr_model.hdf5\n",
            "71/71 [==============================] - 0s 3ms/step - loss: 1.2402 - accuracy: 0.5520 - val_loss: 0.6315 - val_accuracy: 0.8860\n",
            "Epoch 40/1000\n",
            "48/71 [===================>..........] - ETA: 0s - loss: 1.2062 - accuracy: 0.5635\n",
            "Epoch 40: saving model to model\\aslr_model.hdf5\n",
            "71/71 [==============================] - 0s 3ms/step - loss: 1.2136 - accuracy: 0.5642 - val_loss: 0.6187 - val_accuracy: 0.8850\n",
            "Epoch 41/1000\n",
            "71/71 [==============================] - ETA: 0s - loss: 1.2405 - accuracy: 0.5531\n",
            "Epoch 41: saving model to model\\aslr_model.hdf5\n",
            "71/71 [==============================] - 0s 3ms/step - loss: 1.2405 - accuracy: 0.5531 - val_loss: 0.6231 - val_accuracy: 0.8890\n",
            "Epoch 42/1000\n",
            "48/71 [===================>..........] - ETA: 0s - loss: 1.2254 - accuracy: 0.5622\n",
            "Epoch 42: saving model to model\\aslr_model.hdf5\n",
            "71/71 [==============================] - 0s 3ms/step - loss: 1.2255 - accuracy: 0.5590 - val_loss: 0.6167 - val_accuracy: 0.8937\n",
            "Epoch 43/1000\n",
            "47/71 [==================>...........] - ETA: 0s - loss: 1.1837 - accuracy: 0.5698\n",
            "Epoch 43: saving model to model\\aslr_model.hdf5\n",
            "71/71 [==============================] - 0s 3ms/step - loss: 1.1860 - accuracy: 0.5703 - val_loss: 0.6038 - val_accuracy: 0.8617\n",
            "Epoch 44/1000\n",
            "48/71 [===================>..........] - ETA: 0s - loss: 1.2251 - accuracy: 0.5609\n",
            "Epoch 44: saving model to model\\aslr_model.hdf5\n",
            "71/71 [==============================] - 0s 3ms/step - loss: 1.2056 - accuracy: 0.5697 - val_loss: 0.6010 - val_accuracy: 0.8683\n",
            "Epoch 45/1000\n",
            "57/71 [=======================>......] - ETA: 0s - loss: 1.2021 - accuracy: 0.5626\n",
            "Epoch 45: saving model to model\\aslr_model.hdf5\n",
            "71/71 [==============================] - 0s 4ms/step - loss: 1.2018 - accuracy: 0.5632 - val_loss: 0.5874 - val_accuracy: 0.8953\n",
            "Epoch 46/1000\n",
            "70/71 [============================>.] - ETA: 0s - loss: 1.2072 - accuracy: 0.5676\n",
            "Epoch 46: saving model to model\\aslr_model.hdf5\n",
            "71/71 [==============================] - 0s 3ms/step - loss: 1.2070 - accuracy: 0.5678 - val_loss: 0.5973 - val_accuracy: 0.8857\n",
            "Epoch 47/1000\n",
            "48/71 [===================>..........] - ETA: 0s - loss: 1.1731 - accuracy: 0.5879\n",
            "Epoch 47: saving model to model\\aslr_model.hdf5\n",
            "71/71 [==============================] - 0s 3ms/step - loss: 1.1826 - accuracy: 0.5802 - val_loss: 0.5837 - val_accuracy: 0.8910\n",
            "Epoch 48/1000\n",
            "48/71 [===================>..........] - ETA: 0s - loss: 1.2083 - accuracy: 0.5726\n",
            "Epoch 48: saving model to model\\aslr_model.hdf5\n",
            "71/71 [==============================] - 0s 3ms/step - loss: 1.1967 - accuracy: 0.5792 - val_loss: 0.5920 - val_accuracy: 0.8713\n",
            "Epoch 49/1000\n",
            "70/71 [============================>.] - ETA: 0s - loss: 1.1862 - accuracy: 0.5819\n",
            "Epoch 49: saving model to model\\aslr_model.hdf5\n",
            "71/71 [==============================] - 0s 3ms/step - loss: 1.1853 - accuracy: 0.5826 - val_loss: 0.5842 - val_accuracy: 0.9027\n",
            "Epoch 50/1000\n",
            "70/71 [============================>.] - ETA: 0s - loss: 1.1784 - accuracy: 0.5787\n",
            "Epoch 50: saving model to model\\aslr_model.hdf5\n",
            "71/71 [==============================] - 0s 3ms/step - loss: 1.1782 - accuracy: 0.5788 - val_loss: 0.5803 - val_accuracy: 0.8670\n",
            "Epoch 51/1000\n",
            "70/71 [============================>.] - ETA: 0s - loss: 1.1571 - accuracy: 0.5829\n",
            "Epoch 51: saving model to model\\aslr_model.hdf5\n",
            "71/71 [==============================] - 0s 3ms/step - loss: 1.1568 - accuracy: 0.5829 - val_loss: 0.5540 - val_accuracy: 0.8920\n",
            "Epoch 52/1000\n",
            "47/71 [==================>...........] - ETA: 0s - loss: 1.1851 - accuracy: 0.5746\n",
            "Epoch 52: saving model to model\\aslr_model.hdf5\n",
            "71/71 [==============================] - 0s 3ms/step - loss: 1.1880 - accuracy: 0.5706 - val_loss: 0.5755 - val_accuracy: 0.8860\n",
            "Epoch 53/1000\n",
            "47/71 [==================>...........] - ETA: 0s - loss: 1.1597 - accuracy: 0.5800\n",
            "Epoch 53: saving model to model\\aslr_model.hdf5\n",
            "71/71 [==============================] - 0s 3ms/step - loss: 1.1594 - accuracy: 0.5840 - val_loss: 0.5626 - val_accuracy: 0.8937\n",
            "Epoch 54/1000\n",
            "48/71 [===================>..........] - ETA: 0s - loss: 1.1703 - accuracy: 0.5833\n",
            "Epoch 54: saving model to model\\aslr_model.hdf5\n",
            "71/71 [==============================] - 0s 3ms/step - loss: 1.1618 - accuracy: 0.5878 - val_loss: 0.5547 - val_accuracy: 0.8973\n",
            "Epoch 55/1000\n",
            "48/71 [===================>..........] - ETA: 0s - loss: 1.1515 - accuracy: 0.5835\n",
            "Epoch 55: saving model to model\\aslr_model.hdf5\n",
            "71/71 [==============================] - 0s 3ms/step - loss: 1.1414 - accuracy: 0.5882 - val_loss: 0.5540 - val_accuracy: 0.8877\n",
            "Epoch 56/1000\n",
            "70/71 [============================>.] - ETA: 0s - loss: 1.1446 - accuracy: 0.5895\n",
            "Epoch 56: saving model to model\\aslr_model.hdf5\n",
            "71/71 [==============================] - 0s 3ms/step - loss: 1.1452 - accuracy: 0.5894 - val_loss: 0.5501 - val_accuracy: 0.8847\n",
            "Epoch 57/1000\n",
            "66/71 [==========================>...] - ETA: 0s - loss: 1.1532 - accuracy: 0.5885\n",
            "Epoch 57: saving model to model\\aslr_model.hdf5\n",
            "71/71 [==============================] - 0s 4ms/step - loss: 1.1561 - accuracy: 0.5881 - val_loss: 0.5514 - val_accuracy: 0.8990\n",
            "Epoch 58/1000\n",
            "48/71 [===================>..........] - ETA: 0s - loss: 1.1341 - accuracy: 0.5954\n",
            "Epoch 58: saving model to model\\aslr_model.hdf5\n",
            "71/71 [==============================] - 0s 3ms/step - loss: 1.1299 - accuracy: 0.5942 - val_loss: 0.5480 - val_accuracy: 0.8927\n",
            "Epoch 59/1000\n",
            "49/71 [===================>..........] - ETA: 0s - loss: 1.1241 - accuracy: 0.5976\n",
            "Epoch 59: saving model to model\\aslr_model.hdf5\n",
            "71/71 [==============================] - 0s 3ms/step - loss: 1.1350 - accuracy: 0.5968 - val_loss: 0.5354 - val_accuracy: 0.8873\n",
            "Epoch 60/1000\n",
            "48/71 [===================>..........] - ETA: 0s - loss: 1.1208 - accuracy: 0.5962\n",
            "Epoch 60: saving model to model\\aslr_model.hdf5\n",
            "71/71 [==============================] - 0s 3ms/step - loss: 1.1307 - accuracy: 0.5963 - val_loss: 0.5397 - val_accuracy: 0.8883\n",
            "Epoch 61/1000\n",
            "48/71 [===================>..........] - ETA: 0s - loss: 1.1237 - accuracy: 0.6035\n",
            "Epoch 61: saving model to model\\aslr_model.hdf5\n",
            "71/71 [==============================] - 0s 3ms/step - loss: 1.1298 - accuracy: 0.6014 - val_loss: 0.5263 - val_accuracy: 0.9033\n",
            "Epoch 62/1000\n",
            "55/71 [======================>.......] - ETA: 0s - loss: 1.1156 - accuracy: 0.6023\n",
            "Epoch 62: saving model to model\\aslr_model.hdf5\n",
            "71/71 [==============================] - 0s 4ms/step - loss: 1.1178 - accuracy: 0.5997 - val_loss: 0.5341 - val_accuracy: 0.8920\n",
            "Epoch 63/1000\n",
            "47/71 [==================>...........] - ETA: 0s - loss: 1.1085 - accuracy: 0.5992\n",
            "Epoch 63: saving model to model\\aslr_model.hdf5\n",
            "71/71 [==============================] - 0s 3ms/step - loss: 1.1176 - accuracy: 0.5988 - val_loss: 0.5210 - val_accuracy: 0.8967\n",
            "Epoch 64/1000\n",
            "48/71 [===================>..........] - ETA: 0s - loss: 1.1363 - accuracy: 0.5957\n",
            "Epoch 64: saving model to model\\aslr_model.hdf5\n",
            "71/71 [==============================] - 0s 3ms/step - loss: 1.1200 - accuracy: 0.6012 - val_loss: 0.5301 - val_accuracy: 0.8823\n",
            "Epoch 65/1000\n",
            "46/71 [==================>...........] - ETA: 0s - loss: 1.1228 - accuracy: 0.5932\n",
            "Epoch 65: saving model to model\\aslr_model.hdf5\n",
            "71/71 [==============================] - 0s 3ms/step - loss: 1.1219 - accuracy: 0.5957 - val_loss: 0.5279 - val_accuracy: 0.8990\n",
            "Epoch 66/1000\n",
            "48/71 [===================>..........] - ETA: 0s - loss: 1.1216 - accuracy: 0.5991\n",
            "Epoch 66: saving model to model\\aslr_model.hdf5\n",
            "71/71 [==============================] - 0s 3ms/step - loss: 1.1076 - accuracy: 0.6016 - val_loss: 0.5146 - val_accuracy: 0.8733\n",
            "Epoch 67/1000\n",
            "47/71 [==================>...........] - ETA: 0s - loss: 1.1141 - accuracy: 0.5969\n",
            "Epoch 67: saving model to model\\aslr_model.hdf5\n",
            "71/71 [==============================] - 0s 3ms/step - loss: 1.1071 - accuracy: 0.6017 - val_loss: 0.5215 - val_accuracy: 0.8797\n",
            "Epoch 68/1000\n",
            "46/71 [==================>...........] - ETA: 0s - loss: 1.0870 - accuracy: 0.6116\n",
            "Epoch 68: saving model to model\\aslr_model.hdf5\n",
            "71/71 [==============================] - 0s 3ms/step - loss: 1.0963 - accuracy: 0.6124 - val_loss: 0.5097 - val_accuracy: 0.8913\n",
            "Epoch 69/1000\n",
            "70/71 [============================>.] - ETA: 0s - loss: 1.0750 - accuracy: 0.6223\n",
            "Epoch 69: saving model to model\\aslr_model.hdf5\n",
            "71/71 [==============================] - 0s 3ms/step - loss: 1.0748 - accuracy: 0.6223 - val_loss: 0.5093 - val_accuracy: 0.8553\n",
            "Epoch 70/1000\n",
            "66/71 [==========================>...] - ETA: 0s - loss: 1.0726 - accuracy: 0.6094\n",
            "Epoch 70: saving model to model\\aslr_model.hdf5\n",
            "71/71 [==============================] - 0s 4ms/step - loss: 1.0726 - accuracy: 0.6098 - val_loss: 0.5100 - val_accuracy: 0.8917\n",
            "Epoch 71/1000\n",
            "68/71 [===========================>..] - ETA: 0s - loss: 1.0835 - accuracy: 0.6162\n",
            "Epoch 71: saving model to model\\aslr_model.hdf5\n",
            "71/71 [==============================] - 0s 3ms/step - loss: 1.0835 - accuracy: 0.6164 - val_loss: 0.5034 - val_accuracy: 0.9037\n",
            "Epoch 72/1000\n",
            "65/71 [==========================>...] - ETA: 0s - loss: 1.0829 - accuracy: 0.6120\n",
            "Epoch 72: saving model to model\\aslr_model.hdf5\n",
            "71/71 [==============================] - 0s 4ms/step - loss: 1.0792 - accuracy: 0.6123 - val_loss: 0.5045 - val_accuracy: 0.8817\n",
            "Epoch 73/1000\n",
            "48/71 [===================>..........] - ETA: 0s - loss: 1.0818 - accuracy: 0.6165\n",
            "Epoch 73: saving model to model\\aslr_model.hdf5\n",
            "71/71 [==============================] - 0s 3ms/step - loss: 1.0788 - accuracy: 0.6172 - val_loss: 0.4958 - val_accuracy: 0.8943\n",
            "Epoch 74/1000\n",
            "71/71 [==============================] - ETA: 0s - loss: 1.0753 - accuracy: 0.6196\n",
            "Epoch 74: saving model to model\\aslr_model.hdf5\n",
            "71/71 [==============================] - 0s 3ms/step - loss: 1.0753 - accuracy: 0.6196 - val_loss: 0.4828 - val_accuracy: 0.8947\n",
            "Epoch 75/1000\n",
            "71/71 [==============================] - ETA: 0s - loss: 1.0761 - accuracy: 0.6191\n",
            "Epoch 75: saving model to model\\aslr_model.hdf5\n",
            "71/71 [==============================] - 0s 3ms/step - loss: 1.0761 - accuracy: 0.6191 - val_loss: 0.4969 - val_accuracy: 0.8917\n",
            "Epoch 76/1000\n",
            "47/71 [==================>...........] - ETA: 0s - loss: 1.0660 - accuracy: 0.6180\n",
            "Epoch 76: saving model to model\\aslr_model.hdf5\n",
            "71/71 [==============================] - 0s 3ms/step - loss: 1.0605 - accuracy: 0.6164 - val_loss: 0.4883 - val_accuracy: 0.8867\n",
            "Epoch 77/1000\n",
            "58/71 [=======================>......] - ETA: 0s - loss: 1.0654 - accuracy: 0.6223\n",
            "Epoch 77: saving model to model\\aslr_model.hdf5\n",
            "71/71 [==============================] - 0s 4ms/step - loss: 1.0668 - accuracy: 0.6177 - val_loss: 0.4929 - val_accuracy: 0.8797\n",
            "Epoch 78/1000\n",
            "47/71 [==================>...........] - ETA: 0s - loss: 1.0783 - accuracy: 0.6122\n",
            "Epoch 78: saving model to model\\aslr_model.hdf5\n",
            "71/71 [==============================] - 0s 3ms/step - loss: 1.0718 - accuracy: 0.6153 - val_loss: 0.4743 - val_accuracy: 0.9000\n",
            "Epoch 79/1000\n",
            "48/71 [===================>..........] - ETA: 0s - loss: 1.0751 - accuracy: 0.6133\n",
            "Epoch 79: saving model to model\\aslr_model.hdf5\n",
            "71/71 [==============================] - 0s 3ms/step - loss: 1.0757 - accuracy: 0.6149 - val_loss: 0.4815 - val_accuracy: 0.8913\n",
            "Epoch 80/1000\n",
            "48/71 [===================>..........] - ETA: 0s - loss: 1.0598 - accuracy: 0.6160\n",
            "Epoch 80: saving model to model\\aslr_model.hdf5\n",
            "71/71 [==============================] - 0s 3ms/step - loss: 1.0580 - accuracy: 0.6142 - val_loss: 0.4912 - val_accuracy: 0.8740\n",
            "Epoch 81/1000\n",
            "71/71 [==============================] - ETA: 0s - loss: 1.0578 - accuracy: 0.6228\n",
            "Epoch 81: saving model to model\\aslr_model.hdf5\n",
            "71/71 [==============================] - 0s 3ms/step - loss: 1.0578 - accuracy: 0.6228 - val_loss: 0.4838 - val_accuracy: 0.9030\n",
            "Epoch 82/1000\n",
            "70/71 [============================>.] - ETA: 0s - loss: 1.0455 - accuracy: 0.6266\n",
            "Epoch 82: saving model to model\\aslr_model.hdf5\n",
            "71/71 [==============================] - 0s 3ms/step - loss: 1.0454 - accuracy: 0.6267 - val_loss: 0.4683 - val_accuracy: 0.9020\n",
            "Epoch 83/1000\n",
            "47/71 [==================>...........] - ETA: 0s - loss: 1.0399 - accuracy: 0.6273\n",
            "Epoch 83: saving model to model\\aslr_model.hdf5\n",
            "71/71 [==============================] - 0s 3ms/step - loss: 1.0490 - accuracy: 0.6234 - val_loss: 0.4832 - val_accuracy: 0.8813\n",
            "Epoch 84/1000\n",
            "67/71 [===========================>..] - ETA: 0s - loss: 1.0468 - accuracy: 0.6370\n",
            "Epoch 84: saving model to model\\aslr_model.hdf5\n",
            "71/71 [==============================] - 0s 4ms/step - loss: 1.0468 - accuracy: 0.6361 - val_loss: 0.4744 - val_accuracy: 0.9057\n",
            "Epoch 85/1000\n",
            "47/71 [==================>...........] - ETA: 0s - loss: 1.0542 - accuracy: 0.6190\n",
            "Epoch 85: saving model to model\\aslr_model.hdf5\n",
            "71/71 [==============================] - 0s 3ms/step - loss: 1.0547 - accuracy: 0.6223 - val_loss: 0.4669 - val_accuracy: 0.8963\n",
            "Epoch 86/1000\n",
            "47/71 [==================>...........] - ETA: 0s - loss: 1.0535 - accuracy: 0.6230\n",
            "Epoch 86: saving model to model\\aslr_model.hdf5\n",
            "71/71 [==============================] - 0s 3ms/step - loss: 1.0532 - accuracy: 0.6220 - val_loss: 0.4740 - val_accuracy: 0.8847\n",
            "Epoch 87/1000\n",
            "71/71 [==============================] - ETA: 0s - loss: 1.0382 - accuracy: 0.6334\n",
            "Epoch 87: saving model to model\\aslr_model.hdf5\n",
            "71/71 [==============================] - 0s 3ms/step - loss: 1.0382 - accuracy: 0.6334 - val_loss: 0.4673 - val_accuracy: 0.8897\n",
            "Epoch 88/1000\n",
            "47/71 [==================>...........] - ETA: 0s - loss: 1.0388 - accuracy: 0.6305\n",
            "Epoch 88: saving model to model\\aslr_model.hdf5\n",
            "71/71 [==============================] - 0s 3ms/step - loss: 1.0353 - accuracy: 0.6356 - val_loss: 0.4732 - val_accuracy: 0.9050\n",
            "Epoch 89/1000\n",
            "48/71 [===================>..........] - ETA: 0s - loss: 1.0284 - accuracy: 0.6349\n",
            "Epoch 89: saving model to model\\aslr_model.hdf5\n",
            "71/71 [==============================] - 0s 3ms/step - loss: 1.0224 - accuracy: 0.6364 - val_loss: 0.4601 - val_accuracy: 0.8987\n",
            "Epoch 90/1000\n",
            "47/71 [==================>...........] - ETA: 0s - loss: 1.0405 - accuracy: 0.6302\n",
            "Epoch 90: saving model to model\\aslr_model.hdf5\n",
            "71/71 [==============================] - 0s 3ms/step - loss: 1.0340 - accuracy: 0.6308 - val_loss: 0.4552 - val_accuracy: 0.8997\n",
            "Epoch 91/1000\n",
            "70/71 [============================>.] - ETA: 0s - loss: 1.0277 - accuracy: 0.6331\n",
            "Epoch 91: saving model to model\\aslr_model.hdf5\n",
            "71/71 [==============================] - 0s 3ms/step - loss: 1.0281 - accuracy: 0.6334 - val_loss: 0.4540 - val_accuracy: 0.8987\n",
            "Epoch 92/1000\n",
            "70/71 [============================>.] - ETA: 0s - loss: 1.0401 - accuracy: 0.6301\n",
            "Epoch 92: saving model to model\\aslr_model.hdf5\n",
            "71/71 [==============================] - 0s 4ms/step - loss: 1.0394 - accuracy: 0.6304 - val_loss: 0.4728 - val_accuracy: 0.8900\n",
            "Epoch 93/1000\n",
            "48/71 [===================>..........] - ETA: 0s - loss: 1.0155 - accuracy: 0.6343\n",
            "Epoch 93: saving model to model\\aslr_model.hdf5\n",
            "71/71 [==============================] - 0s 3ms/step - loss: 1.0059 - accuracy: 0.6367 - val_loss: 0.4500 - val_accuracy: 0.8990\n",
            "Epoch 94/1000\n",
            "68/71 [===========================>..] - ETA: 0s - loss: 1.0257 - accuracy: 0.6434\n",
            "Epoch 94: saving model to model\\aslr_model.hdf5\n",
            "71/71 [==============================] - 0s 4ms/step - loss: 1.0262 - accuracy: 0.6437 - val_loss: 0.4515 - val_accuracy: 0.8957\n",
            "Epoch 95/1000\n",
            "58/71 [=======================>......] - ETA: 0s - loss: 1.0294 - accuracy: 0.6364\n",
            "Epoch 95: saving model to model\\aslr_model.hdf5\n",
            "71/71 [==============================] - 0s 4ms/step - loss: 1.0256 - accuracy: 0.6374 - val_loss: 0.4481 - val_accuracy: 0.8960\n",
            "Epoch 96/1000\n",
            "66/71 [==========================>...] - ETA: 0s - loss: 1.0362 - accuracy: 0.6213\n",
            "Epoch 96: saving model to model\\aslr_model.hdf5\n",
            "71/71 [==============================] - 0s 4ms/step - loss: 1.0369 - accuracy: 0.6228 - val_loss: 0.4522 - val_accuracy: 0.9250\n",
            "Epoch 97/1000\n",
            "65/71 [==========================>...] - ETA: 0s - loss: 1.0284 - accuracy: 0.6364\n",
            "Epoch 97: saving model to model\\aslr_model.hdf5\n",
            "71/71 [==============================] - 0s 4ms/step - loss: 1.0265 - accuracy: 0.6353 - val_loss: 0.4420 - val_accuracy: 0.9307\n",
            "Epoch 98/1000\n",
            "67/71 [===========================>..] - ETA: 0s - loss: 1.0097 - accuracy: 0.6349\n",
            "Epoch 98: saving model to model\\aslr_model.hdf5\n",
            "71/71 [==============================] - 0s 4ms/step - loss: 1.0107 - accuracy: 0.6350 - val_loss: 0.4479 - val_accuracy: 0.9097\n",
            "Epoch 99/1000\n",
            "61/71 [========================>.....] - ETA: 0s - loss: 1.0229 - accuracy: 0.6396\n",
            "Epoch 99: saving model to model\\aslr_model.hdf5\n",
            "71/71 [==============================] - 0s 4ms/step - loss: 1.0236 - accuracy: 0.6384 - val_loss: 0.4411 - val_accuracy: 0.9140\n",
            "Epoch 100/1000\n",
            "64/71 [==========================>...] - ETA: 0s - loss: 1.0410 - accuracy: 0.6383\n",
            "Epoch 100: saving model to model\\aslr_model.hdf5\n",
            "71/71 [==============================] - 0s 4ms/step - loss: 1.0361 - accuracy: 0.6367 - val_loss: 0.4475 - val_accuracy: 0.9037\n",
            "Epoch 101/1000\n",
            "66/71 [==========================>...] - ETA: 0s - loss: 0.9952 - accuracy: 0.6470\n",
            "Epoch 101: saving model to model\\aslr_model.hdf5\n",
            "71/71 [==============================] - 0s 4ms/step - loss: 0.9951 - accuracy: 0.6476 - val_loss: 0.4427 - val_accuracy: 0.9123\n",
            "Epoch 102/1000\n",
            "66/71 [==========================>...] - ETA: 0s - loss: 0.9983 - accuracy: 0.6432\n",
            "Epoch 102: saving model to model\\aslr_model.hdf5\n",
            "71/71 [==============================] - 0s 4ms/step - loss: 0.9980 - accuracy: 0.6434 - val_loss: 0.4414 - val_accuracy: 0.9027\n",
            "Epoch 103/1000\n",
            "66/71 [==========================>...] - ETA: 0s - loss: 0.9929 - accuracy: 0.6500\n",
            "Epoch 103: saving model to model\\aslr_model.hdf5\n",
            "71/71 [==============================] - 0s 4ms/step - loss: 0.9987 - accuracy: 0.6484 - val_loss: 0.4273 - val_accuracy: 0.9193\n",
            "Epoch 104/1000\n",
            "66/71 [==========================>...] - ETA: 0s - loss: 0.9742 - accuracy: 0.6602\n",
            "Epoch 104: saving model to model\\aslr_model.hdf5\n",
            "71/71 [==============================] - 0s 4ms/step - loss: 0.9785 - accuracy: 0.6598 - val_loss: 0.4256 - val_accuracy: 0.9143\n",
            "Epoch 105/1000\n",
            "66/71 [==========================>...] - ETA: 0s - loss: 0.9900 - accuracy: 0.6446\n",
            "Epoch 105: saving model to model\\aslr_model.hdf5\n",
            "71/71 [==============================] - 0s 4ms/step - loss: 0.9923 - accuracy: 0.6430 - val_loss: 0.4286 - val_accuracy: 0.9123\n",
            "Epoch 106/1000\n",
            "68/71 [===========================>..] - ETA: 0s - loss: 1.0002 - accuracy: 0.6467\n",
            "Epoch 106: saving model to model\\aslr_model.hdf5\n",
            "71/71 [==============================] - 0s 4ms/step - loss: 1.0000 - accuracy: 0.6453 - val_loss: 0.4330 - val_accuracy: 0.9133\n",
            "Epoch 107/1000\n",
            "66/71 [==========================>...] - ETA: 0s - loss: 0.9957 - accuracy: 0.6501\n",
            "Epoch 107: saving model to model\\aslr_model.hdf5\n",
            "71/71 [==============================] - 0s 4ms/step - loss: 0.9936 - accuracy: 0.6490 - val_loss: 0.4306 - val_accuracy: 0.9103\n",
            "Epoch 108/1000\n",
            "65/71 [==========================>...] - ETA: 0s - loss: 0.9821 - accuracy: 0.6496\n",
            "Epoch 108: saving model to model\\aslr_model.hdf5\n",
            "71/71 [==============================] - 0s 4ms/step - loss: 0.9816 - accuracy: 0.6497 - val_loss: 0.4182 - val_accuracy: 0.9273\n",
            "Epoch 109/1000\n",
            "66/71 [==========================>...] - ETA: 0s - loss: 1.0080 - accuracy: 0.6462\n",
            "Epoch 109: saving model to model\\aslr_model.hdf5\n",
            "71/71 [==============================] - 0s 4ms/step - loss: 1.0105 - accuracy: 0.6461 - val_loss: 0.4279 - val_accuracy: 0.9120\n",
            "Epoch 110/1000\n",
            "65/71 [==========================>...] - ETA: 0s - loss: 1.0132 - accuracy: 0.6429\n",
            "Epoch 110: saving model to model\\aslr_model.hdf5\n",
            "71/71 [==============================] - 0s 4ms/step - loss: 1.0089 - accuracy: 0.6429 - val_loss: 0.4278 - val_accuracy: 0.9050\n",
            "Epoch 111/1000\n",
            "66/71 [==========================>...] - ETA: 0s - loss: 0.9942 - accuracy: 0.6474\n",
            "Epoch 111: saving model to model\\aslr_model.hdf5\n",
            "71/71 [==============================] - 0s 4ms/step - loss: 0.9976 - accuracy: 0.6459 - val_loss: 0.4250 - val_accuracy: 0.9093\n",
            "Epoch 112/1000\n",
            "67/71 [===========================>..] - ETA: 0s - loss: 0.9939 - accuracy: 0.6442\n",
            "Epoch 112: saving model to model\\aslr_model.hdf5\n",
            "71/71 [==============================] - 0s 4ms/step - loss: 0.9943 - accuracy: 0.6453 - val_loss: 0.4228 - val_accuracy: 0.9437\n",
            "Epoch 113/1000\n",
            "64/71 [==========================>...] - ETA: 0s - loss: 0.9971 - accuracy: 0.6458\n",
            "Epoch 113: saving model to model\\aslr_model.hdf5\n",
            "71/71 [==============================] - 0s 4ms/step - loss: 0.9960 - accuracy: 0.6459 - val_loss: 0.4240 - val_accuracy: 0.9217\n",
            "Epoch 114/1000\n",
            "65/71 [==========================>...] - ETA: 0s - loss: 0.9639 - accuracy: 0.6538\n",
            "Epoch 114: saving model to model\\aslr_model.hdf5\n",
            "71/71 [==============================] - 0s 5ms/step - loss: 0.9689 - accuracy: 0.6528 - val_loss: 0.4195 - val_accuracy: 0.8893\n",
            "Epoch 115/1000\n",
            "65/71 [==========================>...] - ETA: 0s - loss: 1.0188 - accuracy: 0.6433\n",
            "Epoch 115: saving model to model\\aslr_model.hdf5\n",
            "71/71 [==============================] - 0s 4ms/step - loss: 1.0117 - accuracy: 0.6479 - val_loss: 0.4387 - val_accuracy: 0.9077\n",
            "Epoch 116/1000\n",
            "64/71 [==========================>...] - ETA: 0s - loss: 1.0013 - accuracy: 0.6505\n",
            "Epoch 116: saving model to model\\aslr_model.hdf5\n",
            "71/71 [==============================] - 0s 4ms/step - loss: 1.0008 - accuracy: 0.6493 - val_loss: 0.4197 - val_accuracy: 0.9113\n",
            "Epoch 117/1000\n",
            "63/71 [=========================>....] - ETA: 0s - loss: 0.9885 - accuracy: 0.6549\n",
            "Epoch 117: saving model to model\\aslr_model.hdf5\n",
            "71/71 [==============================] - 0s 4ms/step - loss: 0.9824 - accuracy: 0.6548 - val_loss: 0.4197 - val_accuracy: 0.9160\n",
            "Epoch 118/1000\n",
            "59/71 [=======================>......] - ETA: 0s - loss: 1.0030 - accuracy: 0.6422\n",
            "Epoch 118: saving model to model\\aslr_model.hdf5\n",
            "71/71 [==============================] - 0s 4ms/step - loss: 1.0038 - accuracy: 0.6432 - val_loss: 0.4152 - val_accuracy: 0.9277\n",
            "Epoch 119/1000\n",
            "64/71 [==========================>...] - ETA: 0s - loss: 0.9963 - accuracy: 0.6434\n",
            "Epoch 119: saving model to model\\aslr_model.hdf5\n",
            "71/71 [==============================] - 0s 4ms/step - loss: 0.9909 - accuracy: 0.6452 - val_loss: 0.4128 - val_accuracy: 0.9137\n",
            "Epoch 120/1000\n",
            "64/71 [==========================>...] - ETA: 0s - loss: 0.9823 - accuracy: 0.6522\n",
            "Epoch 120: saving model to model\\aslr_model.hdf5\n",
            "71/71 [==============================] - 0s 4ms/step - loss: 0.9730 - accuracy: 0.6540 - val_loss: 0.4086 - val_accuracy: 0.9353\n",
            "Epoch 121/1000\n",
            "65/71 [==========================>...] - ETA: 0s - loss: 0.9853 - accuracy: 0.6430\n",
            "Epoch 121: saving model to model\\aslr_model.hdf5\n",
            "71/71 [==============================] - 0s 4ms/step - loss: 0.9792 - accuracy: 0.6460 - val_loss: 0.4083 - val_accuracy: 0.9147\n",
            "Epoch 122/1000\n",
            "66/71 [==========================>...] - ETA: 0s - loss: 0.9904 - accuracy: 0.6518\n",
            "Epoch 122: saving model to model\\aslr_model.hdf5\n",
            "71/71 [==============================] - 0s 4ms/step - loss: 0.9877 - accuracy: 0.6522 - val_loss: 0.4176 - val_accuracy: 0.9140\n",
            "Epoch 123/1000\n",
            "65/71 [==========================>...] - ETA: 0s - loss: 0.9672 - accuracy: 0.6606\n",
            "Epoch 123: saving model to model\\aslr_model.hdf5\n",
            "71/71 [==============================] - 0s 4ms/step - loss: 0.9667 - accuracy: 0.6600 - val_loss: 0.4140 - val_accuracy: 0.9157\n",
            "Epoch 124/1000\n",
            "65/71 [==========================>...] - ETA: 0s - loss: 0.9624 - accuracy: 0.6589\n",
            "Epoch 124: saving model to model\\aslr_model.hdf5\n",
            "71/71 [==============================] - 0s 4ms/step - loss: 0.9634 - accuracy: 0.6601 - val_loss: 0.4141 - val_accuracy: 0.9197\n",
            "Epoch 125/1000\n",
            "65/71 [==========================>...] - ETA: 0s - loss: 0.9700 - accuracy: 0.6591\n",
            "Epoch 125: saving model to model\\aslr_model.hdf5\n",
            "71/71 [==============================] - 0s 5ms/step - loss: 0.9639 - accuracy: 0.6609 - val_loss: 0.4151 - val_accuracy: 0.9267\n",
            "Epoch 126/1000\n",
            "67/71 [===========================>..] - ETA: 0s - loss: 0.9765 - accuracy: 0.6537\n",
            "Epoch 126: saving model to model\\aslr_model.hdf5\n",
            "71/71 [==============================] - 0s 4ms/step - loss: 0.9753 - accuracy: 0.6539 - val_loss: 0.4134 - val_accuracy: 0.9273\n",
            "Epoch 127/1000\n",
            "68/71 [===========================>..] - ETA: 0s - loss: 0.9709 - accuracy: 0.6581\n",
            "Epoch 127: saving model to model\\aslr_model.hdf5\n",
            "71/71 [==============================] - 0s 4ms/step - loss: 0.9714 - accuracy: 0.6576 - val_loss: 0.4092 - val_accuracy: 0.9140\n",
            "Epoch 128/1000\n",
            "60/71 [========================>.....] - ETA: 0s - loss: 0.9768 - accuracy: 0.6493\n",
            "Epoch 128: saving model to model\\aslr_model.hdf5\n",
            "71/71 [==============================] - 0s 4ms/step - loss: 0.9788 - accuracy: 0.6497 - val_loss: 0.4148 - val_accuracy: 0.9160\n",
            "Epoch 129/1000\n",
            "67/71 [===========================>..] - ETA: 0s - loss: 0.9840 - accuracy: 0.6489\n",
            "Epoch 129: saving model to model\\aslr_model.hdf5\n",
            "71/71 [==============================] - 0s 4ms/step - loss: 0.9828 - accuracy: 0.6490 - val_loss: 0.4213 - val_accuracy: 0.9023\n",
            "Epoch 130/1000\n",
            "65/71 [==========================>...] - ETA: 0s - loss: 0.9482 - accuracy: 0.6644\n",
            "Epoch 130: saving model to model\\aslr_model.hdf5\n",
            "71/71 [==============================] - 0s 4ms/step - loss: 0.9543 - accuracy: 0.6616 - val_loss: 0.4024 - val_accuracy: 0.9317\n",
            "Epoch 131/1000\n",
            "65/71 [==========================>...] - ETA: 0s - loss: 0.9681 - accuracy: 0.6621\n",
            "Epoch 131: saving model to model\\aslr_model.hdf5\n",
            "71/71 [==============================] - 0s 4ms/step - loss: 0.9667 - accuracy: 0.6622 - val_loss: 0.3961 - val_accuracy: 0.9317\n",
            "Epoch 132/1000\n",
            "66/71 [==========================>...] - ETA: 0s - loss: 0.9604 - accuracy: 0.6597\n",
            "Epoch 132: saving model to model\\aslr_model.hdf5\n",
            "71/71 [==============================] - 0s 4ms/step - loss: 0.9594 - accuracy: 0.6596 - val_loss: 0.4066 - val_accuracy: 0.9230\n",
            "Epoch 133/1000\n",
            "67/71 [===========================>..] - ETA: 0s - loss: 0.9629 - accuracy: 0.6559\n",
            "Epoch 133: saving model to model\\aslr_model.hdf5\n",
            "71/71 [==============================] - 0s 4ms/step - loss: 0.9648 - accuracy: 0.6548 - val_loss: 0.4102 - val_accuracy: 0.9210\n",
            "Epoch 134/1000\n",
            "57/71 [=======================>......] - ETA: 0s - loss: 0.9646 - accuracy: 0.6587\n",
            "Epoch 134: saving model to model\\aslr_model.hdf5\n",
            "71/71 [==============================] - 0s 4ms/step - loss: 0.9645 - accuracy: 0.6592 - val_loss: 0.4058 - val_accuracy: 0.9320\n",
            "Epoch 135/1000\n",
            "62/71 [=========================>....] - ETA: 0s - loss: 0.9443 - accuracy: 0.6677\n",
            "Epoch 135: saving model to model\\aslr_model.hdf5\n",
            "71/71 [==============================] - 0s 4ms/step - loss: 0.9528 - accuracy: 0.6624 - val_loss: 0.4065 - val_accuracy: 0.9187\n",
            "Epoch 136/1000\n",
            "66/71 [==========================>...] - ETA: 0s - loss: 0.9683 - accuracy: 0.6597\n",
            "Epoch 136: saving model to model\\aslr_model.hdf5\n",
            "71/71 [==============================] - 0s 4ms/step - loss: 0.9708 - accuracy: 0.6590 - val_loss: 0.3996 - val_accuracy: 0.9283\n",
            "Epoch 137/1000\n",
            "66/71 [==========================>...] - ETA: 0s - loss: 0.9711 - accuracy: 0.6483\n",
            "Epoch 137: saving model to model\\aslr_model.hdf5\n",
            "71/71 [==============================] - 0s 4ms/step - loss: 0.9741 - accuracy: 0.6469 - val_loss: 0.4115 - val_accuracy: 0.9270\n",
            "Epoch 138/1000\n",
            "66/71 [==========================>...] - ETA: 0s - loss: 0.9493 - accuracy: 0.6662\n",
            "Epoch 138: saving model to model\\aslr_model.hdf5\n",
            "71/71 [==============================] - 0s 4ms/step - loss: 0.9535 - accuracy: 0.6644 - val_loss: 0.3867 - val_accuracy: 0.9273\n",
            "Epoch 139/1000\n",
            "66/71 [==========================>...] - ETA: 0s - loss: 0.9536 - accuracy: 0.6686\n",
            "Epoch 139: saving model to model\\aslr_model.hdf5\n",
            "71/71 [==============================] - 0s 4ms/step - loss: 0.9557 - accuracy: 0.6666 - val_loss: 0.3947 - val_accuracy: 0.9423\n",
            "Epoch 140/1000\n",
            "65/71 [==========================>...] - ETA: 0s - loss: 0.9584 - accuracy: 0.6650\n",
            "Epoch 140: saving model to model\\aslr_model.hdf5\n",
            "71/71 [==============================] - 0s 4ms/step - loss: 0.9546 - accuracy: 0.6643 - val_loss: 0.3916 - val_accuracy: 0.9440\n",
            "Epoch 141/1000\n",
            "63/71 [=========================>....] - ETA: 0s - loss: 0.9566 - accuracy: 0.6622\n",
            "Epoch 141: saving model to model\\aslr_model.hdf5\n",
            "71/71 [==============================] - 0s 4ms/step - loss: 0.9558 - accuracy: 0.6628 - val_loss: 0.3885 - val_accuracy: 0.9347\n",
            "Epoch 142/1000\n",
            "60/71 [========================>.....] - ETA: 0s - loss: 0.9536 - accuracy: 0.6673\n",
            "Epoch 142: saving model to model\\aslr_model.hdf5\n",
            "71/71 [==============================] - 0s 4ms/step - loss: 0.9528 - accuracy: 0.6664 - val_loss: 0.4020 - val_accuracy: 0.9183\n",
            "Epoch 143/1000\n",
            "65/71 [==========================>...] - ETA: 0s - loss: 0.9496 - accuracy: 0.6653\n",
            "Epoch 143: saving model to model\\aslr_model.hdf5\n",
            "71/71 [==============================] - 0s 4ms/step - loss: 0.9450 - accuracy: 0.6688 - val_loss: 0.3931 - val_accuracy: 0.9440\n",
            "Epoch 144/1000\n",
            "69/71 [============================>.] - ETA: 0s - loss: 0.9432 - accuracy: 0.6655\n",
            "Epoch 144: saving model to model\\aslr_model.hdf5\n",
            "71/71 [==============================] - 0s 5ms/step - loss: 0.9418 - accuracy: 0.6662 - val_loss: 0.3914 - val_accuracy: 0.9430\n",
            "Epoch 145/1000\n",
            "64/71 [==========================>...] - ETA: 0s - loss: 0.9502 - accuracy: 0.6664\n",
            "Epoch 145: saving model to model\\aslr_model.hdf5\n",
            "71/71 [==============================] - 0s 4ms/step - loss: 0.9484 - accuracy: 0.6688 - val_loss: 0.3953 - val_accuracy: 0.9197\n",
            "Epoch 146/1000\n",
            "65/71 [==========================>...] - ETA: 0s - loss: 0.9586 - accuracy: 0.6601\n",
            "Epoch 146: saving model to model\\aslr_model.hdf5\n",
            "71/71 [==============================] - 0s 4ms/step - loss: 0.9611 - accuracy: 0.6606 - val_loss: 0.3973 - val_accuracy: 0.9060\n",
            "Epoch 147/1000\n",
            "66/71 [==========================>...] - ETA: 0s - loss: 0.9473 - accuracy: 0.6671\n",
            "Epoch 147: saving model to model\\aslr_model.hdf5\n",
            "71/71 [==============================] - 0s 4ms/step - loss: 0.9503 - accuracy: 0.6653 - val_loss: 0.3921 - val_accuracy: 0.9483\n",
            "Epoch 148/1000\n",
            "61/71 [========================>.....] - ETA: 0s - loss: 0.9512 - accuracy: 0.6612\n",
            "Epoch 148: saving model to model\\aslr_model.hdf5\n",
            "71/71 [==============================] - 0s 4ms/step - loss: 0.9579 - accuracy: 0.6621 - val_loss: 0.3950 - val_accuracy: 0.9197\n",
            "Epoch 149/1000\n",
            "66/71 [==========================>...] - ETA: 0s - loss: 0.9335 - accuracy: 0.6663\n",
            "Epoch 149: saving model to model\\aslr_model.hdf5\n",
            "71/71 [==============================] - 0s 4ms/step - loss: 0.9345 - accuracy: 0.6656 - val_loss: 0.3855 - val_accuracy: 0.9423\n",
            "Epoch 150/1000\n",
            "65/71 [==========================>...] - ETA: 0s - loss: 0.9438 - accuracy: 0.6653\n",
            "Epoch 150: saving model to model\\aslr_model.hdf5\n",
            "71/71 [==============================] - 0s 4ms/step - loss: 0.9383 - accuracy: 0.6688 - val_loss: 0.3857 - val_accuracy: 0.9340\n",
            "Epoch 151/1000\n",
            "64/71 [==========================>...] - ETA: 0s - loss: 0.9397 - accuracy: 0.6683\n",
            "Epoch 151: saving model to model\\aslr_model.hdf5\n",
            "71/71 [==============================] - 0s 4ms/step - loss: 0.9412 - accuracy: 0.6681 - val_loss: 0.3994 - val_accuracy: 0.9343\n",
            "Epoch 152/1000\n",
            "66/71 [==========================>...] - ETA: 0s - loss: 0.9296 - accuracy: 0.6648\n",
            "Epoch 152: saving model to model\\aslr_model.hdf5\n",
            "71/71 [==============================] - 0s 4ms/step - loss: 0.9255 - accuracy: 0.6672 - val_loss: 0.3935 - val_accuracy: 0.9133\n",
            "Epoch 153/1000\n",
            "69/71 [============================>.] - ETA: 0s - loss: 0.9398 - accuracy: 0.6714\n",
            "Epoch 153: saving model to model\\aslr_model.hdf5\n",
            "71/71 [==============================] - 0s 5ms/step - loss: 0.9418 - accuracy: 0.6706 - val_loss: 0.3733 - val_accuracy: 0.9303\n",
            "Epoch 154/1000\n",
            "60/71 [========================>.....] - ETA: 0s - loss: 0.9357 - accuracy: 0.6659\n",
            "Epoch 154: saving model to model\\aslr_model.hdf5\n",
            "71/71 [==============================] - 0s 4ms/step - loss: 0.9373 - accuracy: 0.6674 - val_loss: 0.3824 - val_accuracy: 0.9430\n",
            "Epoch 155/1000\n",
            "65/71 [==========================>...] - ETA: 0s - loss: 0.9450 - accuracy: 0.6673\n",
            "Epoch 155: saving model to model\\aslr_model.hdf5\n",
            "71/71 [==============================] - 0s 4ms/step - loss: 0.9466 - accuracy: 0.6656 - val_loss: 0.4000 - val_accuracy: 0.9243\n",
            "Epoch 156/1000\n",
            "65/71 [==========================>...] - ETA: 0s - loss: 0.9583 - accuracy: 0.6596\n",
            "Epoch 156: saving model to model\\aslr_model.hdf5\n",
            "71/71 [==============================] - 0s 4ms/step - loss: 0.9594 - accuracy: 0.6593 - val_loss: 0.3797 - val_accuracy: 0.9483\n",
            "Epoch 157/1000\n",
            "65/71 [==========================>...] - ETA: 0s - loss: 0.9489 - accuracy: 0.6643\n",
            "Epoch 157: saving model to model\\aslr_model.hdf5\n",
            "71/71 [==============================] - 0s 4ms/step - loss: 0.9456 - accuracy: 0.6662 - val_loss: 0.3781 - val_accuracy: 0.9427\n",
            "Epoch 158/1000\n",
            "64/71 [==========================>...] - ETA: 0s - loss: 0.9381 - accuracy: 0.6691\n",
            "Epoch 158: saving model to model\\aslr_model.hdf5\n",
            "71/71 [==============================] - 0s 4ms/step - loss: 0.9380 - accuracy: 0.6686 - val_loss: 0.4009 - val_accuracy: 0.8863\n",
            "Epoch 159/1000\n",
            "67/71 [===========================>..] - ETA: 0s - loss: 0.9485 - accuracy: 0.6569\n",
            "Epoch 159: saving model to model\\aslr_model.hdf5\n",
            "71/71 [==============================] - 0s 4ms/step - loss: 0.9508 - accuracy: 0.6563 - val_loss: 0.3835 - val_accuracy: 0.9417\n",
            "Epoch 160/1000\n",
            "62/71 [=========================>....] - ETA: 0s - loss: 0.9423 - accuracy: 0.6584\n",
            "Epoch 160: saving model to model\\aslr_model.hdf5\n",
            "71/71 [==============================] - 0s 4ms/step - loss: 0.9399 - accuracy: 0.6594 - val_loss: 0.3984 - val_accuracy: 0.9200\n",
            "Epoch 161/1000\n",
            "64/71 [==========================>...] - ETA: 0s - loss: 0.9420 - accuracy: 0.6661\n",
            "Epoch 161: saving model to model\\aslr_model.hdf5\n",
            "71/71 [==============================] - 0s 4ms/step - loss: 0.9359 - accuracy: 0.6672 - val_loss: 0.3780 - val_accuracy: 0.9467\n",
            "Epoch 162/1000\n",
            "62/71 [=========================>....] - ETA: 0s - loss: 0.9236 - accuracy: 0.6720\n",
            "Epoch 162: saving model to model\\aslr_model.hdf5\n",
            "71/71 [==============================] - 0s 5ms/step - loss: 0.9289 - accuracy: 0.6703 - val_loss: 0.4019 - val_accuracy: 0.9103\n",
            "Epoch 163/1000\n",
            "65/71 [==========================>...] - ETA: 0s - loss: 0.9448 - accuracy: 0.6655\n",
            "Epoch 163: saving model to model\\aslr_model.hdf5\n",
            "71/71 [==============================] - 0s 4ms/step - loss: 0.9426 - accuracy: 0.6668 - val_loss: 0.3926 - val_accuracy: 0.9353\n",
            "Epoch 164/1000\n",
            "64/71 [==========================>...] - ETA: 0s - loss: 0.9193 - accuracy: 0.6825\n",
            "Epoch 164: saving model to model\\aslr_model.hdf5\n",
            "71/71 [==============================] - 0s 4ms/step - loss: 0.9260 - accuracy: 0.6791 - val_loss: 0.3807 - val_accuracy: 0.9353\n",
            "Epoch 165/1000\n",
            "64/71 [==========================>...] - ETA: 0s - loss: 0.9433 - accuracy: 0.6660\n",
            "Epoch 165: saving model to model\\aslr_model.hdf5\n",
            "71/71 [==============================] - 0s 4ms/step - loss: 0.9404 - accuracy: 0.6670 - val_loss: 0.3812 - val_accuracy: 0.9457\n",
            "Epoch 166/1000\n",
            "66/71 [==========================>...] - ETA: 0s - loss: 0.9398 - accuracy: 0.6760\n",
            "Epoch 166: saving model to model\\aslr_model.hdf5\n",
            "71/71 [==============================] - 0s 4ms/step - loss: 0.9449 - accuracy: 0.6736 - val_loss: 0.3853 - val_accuracy: 0.9363\n",
            "Epoch 167/1000\n",
            "66/71 [==========================>...] - ETA: 0s - loss: 0.9272 - accuracy: 0.6758\n",
            "Epoch 167: saving model to model\\aslr_model.hdf5\n",
            "71/71 [==============================] - 0s 4ms/step - loss: 0.9260 - accuracy: 0.6771 - val_loss: 0.3741 - val_accuracy: 0.9467\n",
            "Epoch 168/1000\n",
            "66/71 [==========================>...] - ETA: 0s - loss: 0.9183 - accuracy: 0.6733\n",
            "Epoch 168: saving model to model\\aslr_model.hdf5\n",
            "71/71 [==============================] - 0s 4ms/step - loss: 0.9243 - accuracy: 0.6709 - val_loss: 0.3788 - val_accuracy: 0.9343\n",
            "Epoch 169/1000\n",
            "65/71 [==========================>...] - ETA: 0s - loss: 0.9328 - accuracy: 0.6714\n",
            "Epoch 169: saving model to model\\aslr_model.hdf5\n",
            "71/71 [==============================] - 0s 4ms/step - loss: 0.9326 - accuracy: 0.6700 - val_loss: 0.3955 - val_accuracy: 0.9300\n",
            "Epoch 170/1000\n",
            "67/71 [===========================>..] - ETA: 0s - loss: 0.9325 - accuracy: 0.6660\n",
            "Epoch 170: saving model to model\\aslr_model.hdf5\n",
            "71/71 [==============================] - 0s 4ms/step - loss: 0.9322 - accuracy: 0.6666 - val_loss: 0.3743 - val_accuracy: 0.9483\n",
            "Epoch 171/1000\n",
            "64/71 [==========================>...] - ETA: 0s - loss: 0.9140 - accuracy: 0.6755\n",
            "Epoch 171: saving model to model\\aslr_model.hdf5\n",
            "71/71 [==============================] - 0s 5ms/step - loss: 0.9157 - accuracy: 0.6737 - val_loss: 0.3761 - val_accuracy: 0.9440\n",
            "Epoch 172/1000\n",
            "63/71 [=========================>....] - ETA: 0s - loss: 0.9269 - accuracy: 0.6696\n",
            "Epoch 172: saving model to model\\aslr_model.hdf5\n",
            "71/71 [==============================] - 0s 4ms/step - loss: 0.9301 - accuracy: 0.6700 - val_loss: 0.3741 - val_accuracy: 0.9327\n",
            "Epoch 173/1000\n",
            "65/71 [==========================>...] - ETA: 0s - loss: 0.9259 - accuracy: 0.6665\n",
            "Epoch 173: saving model to model\\aslr_model.hdf5\n",
            "71/71 [==============================] - 0s 4ms/step - loss: 0.9234 - accuracy: 0.6669 - val_loss: 0.3696 - val_accuracy: 0.9447\n",
            "Epoch 174/1000\n",
            "66/71 [==========================>...] - ETA: 0s - loss: 0.9100 - accuracy: 0.6763\n",
            "Epoch 174: saving model to model\\aslr_model.hdf5\n",
            "71/71 [==============================] - 0s 4ms/step - loss: 0.9095 - accuracy: 0.6769 - val_loss: 0.3635 - val_accuracy: 0.9413\n",
            "Epoch 175/1000\n",
            "66/71 [==========================>...] - ETA: 0s - loss: 0.9245 - accuracy: 0.6774\n",
            "Epoch 175: saving model to model\\aslr_model.hdf5\n",
            "71/71 [==============================] - 0s 4ms/step - loss: 0.9288 - accuracy: 0.6738 - val_loss: 0.3721 - val_accuracy: 0.9480\n",
            "Epoch 176/1000\n",
            "66/71 [==========================>...] - ETA: 0s - loss: 0.9116 - accuracy: 0.6802\n",
            "Epoch 176: saving model to model\\aslr_model.hdf5\n",
            "71/71 [==============================] - 0s 4ms/step - loss: 0.9078 - accuracy: 0.6820 - val_loss: 0.3682 - val_accuracy: 0.9317\n",
            "Epoch 177/1000\n",
            "61/71 [========================>.....] - ETA: 0s - loss: 0.9152 - accuracy: 0.6706\n",
            "Epoch 177: saving model to model\\aslr_model.hdf5\n",
            "71/71 [==============================] - 0s 4ms/step - loss: 0.9120 - accuracy: 0.6733 - val_loss: 0.3644 - val_accuracy: 0.9460\n",
            "Epoch 178/1000\n",
            "66/71 [==========================>...] - ETA: 0s - loss: 0.9241 - accuracy: 0.6708\n",
            "Epoch 178: saving model to model\\aslr_model.hdf5\n",
            "71/71 [==============================] - 0s 4ms/step - loss: 0.9180 - accuracy: 0.6733 - val_loss: 0.3725 - val_accuracy: 0.9273\n",
            "Epoch 179/1000\n",
            "67/71 [===========================>..] - ETA: 0s - loss: 0.9133 - accuracy: 0.6776\n",
            "Epoch 179: saving model to model\\aslr_model.hdf5\n",
            "71/71 [==============================] - 0s 4ms/step - loss: 0.9182 - accuracy: 0.6762 - val_loss: 0.3661 - val_accuracy: 0.9480\n",
            "Epoch 180/1000\n",
            "59/71 [=======================>......] - ETA: 0s - loss: 0.9244 - accuracy: 0.6655\n",
            "Epoch 180: saving model to model\\aslr_model.hdf5\n",
            "71/71 [==============================] - 0s 4ms/step - loss: 0.9207 - accuracy: 0.6662 - val_loss: 0.3703 - val_accuracy: 0.9493\n",
            "Epoch 181/1000\n",
            "65/71 [==========================>...] - ETA: 0s - loss: 0.9042 - accuracy: 0.6772\n",
            "Epoch 181: saving model to model\\aslr_model.hdf5\n",
            "71/71 [==============================] - 0s 4ms/step - loss: 0.9077 - accuracy: 0.6776 - val_loss: 0.3662 - val_accuracy: 0.9377\n",
            "Epoch 182/1000\n",
            "58/71 [=======================>......] - ETA: 0s - loss: 0.9271 - accuracy: 0.6759\n",
            "Epoch 182: saving model to model\\aslr_model.hdf5\n",
            "71/71 [==============================] - 0s 4ms/step - loss: 0.9162 - accuracy: 0.6762 - val_loss: 0.3777 - val_accuracy: 0.9420\n",
            "Epoch 183/1000\n",
            "64/71 [==========================>...] - ETA: 0s - loss: 0.9126 - accuracy: 0.6794\n",
            "Epoch 183: saving model to model\\aslr_model.hdf5\n",
            "71/71 [==============================] - 0s 4ms/step - loss: 0.9110 - accuracy: 0.6789 - val_loss: 0.3744 - val_accuracy: 0.9097\n",
            "Epoch 184/1000\n",
            "65/71 [==========================>...] - ETA: 0s - loss: 0.9054 - accuracy: 0.6799\n",
            "Epoch 184: saving model to model\\aslr_model.hdf5\n",
            "71/71 [==============================] - 0s 4ms/step - loss: 0.9028 - accuracy: 0.6796 - val_loss: 0.3871 - val_accuracy: 0.9267\n",
            "Epoch 185/1000\n",
            "65/71 [==========================>...] - ETA: 0s - loss: 0.9196 - accuracy: 0.6758\n",
            "Epoch 185: saving model to model\\aslr_model.hdf5\n",
            "71/71 [==============================] - 0s 4ms/step - loss: 0.9162 - accuracy: 0.6770 - val_loss: 0.3839 - val_accuracy: 0.9103\n",
            "Epoch 186/1000\n",
            "66/71 [==========================>...] - ETA: 0s - loss: 0.9069 - accuracy: 0.6774\n",
            "Epoch 186: saving model to model\\aslr_model.hdf5\n",
            "71/71 [==============================] - 0s 4ms/step - loss: 0.9074 - accuracy: 0.6780 - val_loss: 0.3767 - val_accuracy: 0.9240\n",
            "Epoch 187/1000\n",
            "60/71 [========================>.....] - ETA: 0s - loss: 0.9229 - accuracy: 0.6701\n",
            "Epoch 187: saving model to model\\aslr_model.hdf5\n",
            "71/71 [==============================] - 0s 4ms/step - loss: 0.9160 - accuracy: 0.6741 - val_loss: 0.3706 - val_accuracy: 0.9303\n",
            "Epoch 188/1000\n",
            "60/71 [========================>.....] - ETA: 0s - loss: 0.9273 - accuracy: 0.6736\n",
            "Epoch 188: saving model to model\\aslr_model.hdf5\n",
            "71/71 [==============================] - 0s 5ms/step - loss: 0.9276 - accuracy: 0.6747 - val_loss: 0.3760 - val_accuracy: 0.9223\n",
            "Epoch 189/1000\n",
            "66/71 [==========================>...] - ETA: 0s - loss: 0.9146 - accuracy: 0.6744\n",
            "Epoch 189: saving model to model\\aslr_model.hdf5\n",
            "71/71 [==============================] - 0s 4ms/step - loss: 0.9127 - accuracy: 0.6758 - val_loss: 0.3784 - val_accuracy: 0.9440\n",
            "Epoch 190/1000\n",
            "66/71 [==========================>...] - ETA: 0s - loss: 0.9192 - accuracy: 0.6699\n",
            "Epoch 190: saving model to model\\aslr_model.hdf5\n",
            "71/71 [==============================] - 0s 4ms/step - loss: 0.9178 - accuracy: 0.6700 - val_loss: 0.3736 - val_accuracy: 0.9453\n",
            "Epoch 191/1000\n",
            "67/71 [===========================>..] - ETA: 0s - loss: 0.9014 - accuracy: 0.6809\n",
            "Epoch 191: saving model to model\\aslr_model.hdf5\n",
            "71/71 [==============================] - 0s 4ms/step - loss: 0.9025 - accuracy: 0.6821 - val_loss: 0.3718 - val_accuracy: 0.9300\n",
            "Epoch 192/1000\n",
            "61/71 [========================>.....] - ETA: 0s - loss: 0.9153 - accuracy: 0.6778\n",
            "Epoch 192: saving model to model\\aslr_model.hdf5\n",
            "71/71 [==============================] - 0s 4ms/step - loss: 0.9158 - accuracy: 0.6787 - val_loss: 0.3909 - val_accuracy: 0.8793\n",
            "Epoch 193/1000\n",
            "66/71 [==========================>...] - ETA: 0s - loss: 0.8886 - accuracy: 0.6905\n",
            "Epoch 193: saving model to model\\aslr_model.hdf5\n",
            "71/71 [==============================] - 0s 4ms/step - loss: 0.8904 - accuracy: 0.6901 - val_loss: 0.3668 - val_accuracy: 0.9453\n",
            "Epoch 194/1000\n",
            "64/71 [==========================>...] - ETA: 0s - loss: 0.8998 - accuracy: 0.6781\n",
            "Epoch 194: saving model to model\\aslr_model.hdf5\n",
            "71/71 [==============================] - 0s 4ms/step - loss: 0.9033 - accuracy: 0.6774 - val_loss: 0.3725 - val_accuracy: 0.9433\n",
            "Epoch 194: early stopping\n"
          ]
        },
        {
          "data": {
            "text/plain": [
              "<keras.callbacks.History at 0x16cda663df0>"
            ]
          },
          "execution_count": 11,
          "metadata": {},
          "output_type": "execute_result"
        }
      ],
      "source": [
        "model.fit(\n",
        "    X_train,\n",
        "    y_train,\n",
        "    epochs=1000,\n",
        "    batch_size=128,\n",
        "    validation_data=(X_test, y_test),\n",
        "    callbacks=[cp_callback, es_callback]\n",
        ")"
      ]
    },
    {
      "cell_type": "code",
      "execution_count": 12,
      "metadata": {
        "colab": {
          "base_uri": "https://localhost:8080/"
        },
        "id": "pxvb2Y299hE3",
        "outputId": "59eb3185-2e37-4b9e-bc9d-ab1b8ac29b7f"
      },
      "outputs": [
        {
          "name": "stdout",
          "output_type": "stream",
          "text": [
            "24/24 [==============================] - 0s 2ms/step - loss: 0.3725 - accuracy: 0.9433\n"
          ]
        }
      ],
      "source": [
        "# Model evaluation\n",
        "val_loss, val_acc = model.evaluate(X_test, y_test, batch_size=128)"
      ]
    },
    {
      "cell_type": "code",
      "execution_count": 13,
      "metadata": {
        "id": "RBkmDeUW9hE4"
      },
      "outputs": [],
      "source": [
        "# Loading the saved model\n",
        "model = tf.keras.models.load_model(model_save_path)"
      ]
    },
    {
      "cell_type": "code",
      "execution_count": 14,
      "metadata": {
        "colab": {
          "base_uri": "https://localhost:8080/"
        },
        "id": "tFz9Tb0I9hE4",
        "outputId": "1c3b3528-54ae-4ee2-ab04-77429211cbef"
      },
      "outputs": [
        {
          "name": "stdout",
          "output_type": "stream",
          "text": [
            "1/1 [==============================] - 0s 94ms/step\n",
            "[1.74800287e-17 1.17356759e-16 1.41197934e-05 5.92397189e-21\n",
            " 1.06863110e-31 3.23378273e-14 1.09044604e-01 8.36947203e-01\n",
            " 3.09956292e-08 1.89533606e-30 1.16002286e-06 2.15090782e-18\n",
            " 5.37098968e-12 2.84488033e-06 2.58538693e-21 6.58580412e-10\n",
            " 5.39966177e-22 1.08592593e-34 2.41769087e-02 1.91140680e-12\n",
            " 8.59452676e-24 8.94598215e-28 2.98131015e-02 3.51032601e-25]\n",
            "7\n"
          ]
        }
      ],
      "source": [
        "# Inference test\n",
        "predict_result = model.predict(np.array([X_test[0]]))\n",
        "print(np.squeeze(predict_result))\n",
        "print(np.argmax(np.squeeze(predict_result)))"
      ]
    },
    {
      "cell_type": "markdown",
      "metadata": {
        "id": "S3U4yNWx9hE4"
      },
      "source": [
        "# Confusion matrix"
      ]
    },
    {
      "cell_type": "code",
      "execution_count": 15,
      "metadata": {
        "colab": {
          "base_uri": "https://localhost:8080/",
          "height": 582
        },
        "id": "AP1V6SCk9hE5",
        "outputId": "08e41a80-7a4a-4619-8125-ecc371368d19"
      },
      "outputs": [],
      "source": [
        "# import pandas as pd\n",
        "# import seaborn as sns\n",
        "# import matplotlib.pyplot as plt\n",
        "# from sklearn.metrics import confusion_matrix, classification_report\n",
        "\n",
        "# def print_confusion_matrix(y_true, y_pred, report=True):\n",
        "#     labels = sorted(list(set(y_true)))\n",
        "#     cmx_data = confusion_matrix(y_true, y_pred, labels=labels)\n",
        "    \n",
        "#     df_cmx = pd.DataFrame(cmx_data, index=labels, columns=labels)\n",
        " \n",
        "#     fig, ax = plt.subplots(figsize=(10, 9))\n",
        "#     sns.heatmap(df_cmx, annot=True, fmt='g' ,square=False)\n",
        "#     ax.set_ylim(len(set(y_true)), 0)\n",
        "    \n",
        "#     plt.ylabel('Prediction',fontsize=13)\n",
        "#     plt.xlabel('Actual',fontsize=13)\n",
        "#     plt.title('Confusion Matrix',fontsize=17)\n",
        "#     plt.show()\n",
        "    \n",
        "#     if report:\n",
        "#         print('Classification Report')\n",
        "#         print(classification_report(y_test, y_pred))\n",
        "\n",
        "# Y_pred = model.predict(X_test)\n",
        "# y_pred = np.argmax(Y_pred, axis=1)\n",
        "\n",
        "# print_confusion_matrix(y_test, y_pred)"
      ]
    },
    {
      "cell_type": "code",
      "execution_count": 16,
      "metadata": {},
      "outputs": [
        {
          "name": "stdout",
          "output_type": "stream",
          "text": [
            "94/94 [==============================] - 0s 1ms/step\n"
          ]
        }
      ],
      "source": [
        "Y_pred = model.predict(X_test)\n",
        "y_pred = np.argmax(Y_pred, axis=1)\n"
      ]
    },
    {
      "cell_type": "code",
      "execution_count": 17,
      "metadata": {},
      "outputs": [
        {
          "name": "stdout",
          "output_type": "stream",
          "text": [
            "94/94 [==============================] - 0s 1ms/step\n"
          ]
        },
        {
          "data": {
            "image/png": "[encoded data removed]",
            "text/plain": [
              "<Figure size 1200x900 with 2 Axes>"
            ]
          },
          "metadata": {},
          "output_type": "display_data"
        },
        {
          "name": "stdout",
          "output_type": "stream",
          "text": [
            "Accuracy   : 0.9433333333333334\n"
          ]
        }
      ],
      "source": [
        "from sklearn.metrics import accuracy_score, precision_score, recall_score, f1_score\n",
        "import pandas as pd\n",
        "import seaborn as sns\n",
        "import matplotlib.pyplot as plt\n",
        "from sklearn.metrics import confusion_matrix\n",
        "\n",
        "labels = [\"A\", \"B\", \"C\", \"D\", \"E\", \"F\", \"G\", \"H\", \"I\", \"K\", \"L\", \"M\", \"N\", \"O\", \"P\", \"Q\", \"R\", \"S\", \"T\", \"U\", \"V\", \"W\", \"X\", \"Y\"]\n",
        "prediction = model.predict(X_test)\n",
        "y_pred = np.argmax(prediction, axis=1)\n",
        "\n",
        "\n",
        "cm = confusion_matrix(y_test, y_pred)\n",
        "\n",
        "#Plot the confusion matrix.\n",
        "plt.subplots(figsize=(12, 9))\n",
        "\n",
        "sns.heatmap(cm,\n",
        "            annot=True,\n",
        "            fmt='g',\n",
        "            xticklabels=labels,\n",
        "            yticklabels=labels)\n",
        "\n",
        "plt.title('Confusion Matrix',fontsize=17)\n",
        "plt.ylabel('Prediction',fontsize=13)\n",
        "plt.xlabel('Actual',fontsize=13)\n",
        "plt.show()\n",
        "\n",
        "\n",
        "# Finding precision and recall\n",
        "accuracy = accuracy_score(y_test, y_pred)\n",
        "print(\"Accuracy   :\", accuracy)\n"
      ]
    },
    {
      "cell_type": "markdown",
      "metadata": {
        "id": "FNP6aqzc9hE5"
      },
      "source": [
        "# Convert to model for Tensorflow-Lite"
      ]
    },
    {
      "cell_type": "code",
      "execution_count": 18,
      "metadata": {
        "id": "ODjnYyld9hE6"
      },
      "outputs": [],
      "source": [
        "# Save as a model dedicated to inference\n",
        "model.save(model_save_path, include_optimizer=False)"
      ]
    },
    {
      "cell_type": "code",
      "execution_count": 19,
      "metadata": {
        "colab": {
          "base_uri": "https://localhost:8080/"
        },
        "id": "zRfuK8Y59hE6",
        "outputId": "a4ca585c-b5d5-4244-8291-8674063209bb"
      },
      "outputs": [
        {
          "name": "stderr",
          "output_type": "stream",
          "text": [
            "WARNING:absl:Found untraced functions such as _update_step_xla while saving (showing 1 of 1). These functions will not be directly callable after loading.\n"
          ]
        },
        {
          "name": "stdout",
          "output_type": "stream",
          "text": [
            "INFO:tensorflow:Assets written to: C:\\Users\\Sam\\AppData\\Local\\Temp\\tmp7nfm_axt\\assets\n"
          ]
        },
        {
          "name": "stderr",
          "output_type": "stream",
          "text": [
            "INFO:tensorflow:Assets written to: C:\\Users\\Sam\\AppData\\Local\\Temp\\tmp7nfm_axt\\assets\n"
          ]
        },
        {
          "data": {
            "text/plain": [
              "7424"
            ]
          },
          "execution_count": 19,
          "metadata": {},
          "output_type": "execute_result"
        }
      ],
      "source": [
        "# Transform model (quantization)\n",
        "\n",
        "converter = tf.lite.TFLiteConverter.from_keras_model(model)\n",
        "converter.optimizations = [tf.lite.Optimize.DEFAULT]\n",
        "tflite_quantized_model = converter.convert()\n",
        "\n",
        "open(tflite_save_path, 'wb').write(tflite_quantized_model)"
      ]
    },
    {
      "cell_type": "markdown",
      "metadata": {
        "id": "CHBPBXdx9hE6"
      },
      "source": [
        "# Inference test"
      ]
    },
    {
      "cell_type": "code",
      "execution_count": 20,
      "metadata": {
        "id": "mGAzLocO9hE7"
      },
      "outputs": [],
      "source": [
        "interpreter = tf.lite.Interpreter(model_path=tflite_save_path)\n",
        "interpreter.allocate_tensors()"
      ]
    },
    {
      "cell_type": "code",
      "execution_count": 21,
      "metadata": {
        "id": "oQuDK8YS9hE7"
      },
      "outputs": [],
      "source": [
        "# Get I / O tensor\n",
        "input_details = interpreter.get_input_details()\n",
        "output_details = interpreter.get_output_details()"
      ]
    },
    {
      "cell_type": "code",
      "execution_count": 22,
      "metadata": {
        "id": "2_ixAf_l9hE7"
      },
      "outputs": [],
      "source": [
        "interpreter.set_tensor(input_details[0]['index'], np.array([X_test[0]]))"
      ]
    },
    {
      "cell_type": "code",
      "execution_count": 23,
      "metadata": {
        "colab": {
          "base_uri": "https://localhost:8080/"
        },
        "id": "s4FoAnuc9hE7",
        "outputId": "91f18257-8d8b-4ef3-c558-e9b5f94fabbf",
        "scrolled": true
      },
      "outputs": [
        {
          "name": "stdout",
          "output_type": "stream",
          "text": [
            "CPU times: total: 0 ns\n",
            "Wall time: 988 µs\n"
          ]
        }
      ],
      "source": [
        "%%time\n",
        "# Inference implementation\n",
        "interpreter.invoke()\n",
        "tflite_results = interpreter.get_tensor(output_details[0]['index'])"
      ]
    },
    {
      "cell_type": "code",
      "execution_count": 24,
      "metadata": {
        "colab": {
          "base_uri": "https://localhost:8080/"
        },
        "id": "vONjp19J9hE8",
        "outputId": "77205e24-fd00-42c4-f7b6-e06e527c2cba"
      },
      "outputs": [
        {
          "name": "stdout",
          "output_type": "stream",
          "text": [
            "[1.7479971e-17 1.1735638e-16 1.4119798e-05 5.9238838e-21 1.0686235e-31\n",
            " 3.2337722e-14 1.0904434e-01 8.3694756e-01 3.0995523e-08 1.8953080e-30\n",
            " 1.1600167e-06 2.1508923e-18 5.3709710e-12 2.8448815e-06 2.5853780e-21\n",
            " 6.5857814e-10 5.3996022e-22 1.0859182e-34 2.4176896e-02 1.9113860e-12\n",
            " 8.5944321e-24 8.9459186e-28 2.9812995e-02 3.5103001e-25]\n",
            "7\n"
          ]
        }
      ],
      "source": [
        "print(np.squeeze(tflite_results))\n",
        "print(np.argmax(np.squeeze(tflite_results)))"
      ]
    }
  ],
  "metadata": {
    "accelerator": "GPU",
    "colab": {
      "collapsed_sections": [],
      "name": "keypoint_classification_EN.ipynb",
      "provenance": [],
      "toc_visible": true
    },
    "kernelspec": {
      "display_name": "Python 3",
      "language": "python",
      "name": "python3"
    },
    "language_info": {
      "codemirror_mode": {
        "name": "ipython",
        "version": 3
      },
      "file_extension": ".py",
      "mimetype": "text/x-python",
      "name": "python",
      "nbconvert_exporter": "python",
      "pygments_lexer": "ipython3",
      "version": "3.10.10"
    }
  },
  "nbformat": 4,
  "nbformat_minor": 0
}
