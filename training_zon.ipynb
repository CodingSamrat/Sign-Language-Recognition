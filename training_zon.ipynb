{
  "cells": [
    {
      "cell_type": "code",
      "execution_count": 1,
      "metadata": {
        "id": "igMyGnjE9hEp"
      },
      "outputs": [],
      "source": [
        "import csv\n",
        "\n",
        "import numpy as np\n",
        "import tensorflow as tf\n",
        "from sklearn.model_selection import train_test_split\n",
        "\n",
        "RANDOM_SEED = 42"
      ]
    },
    {
      "cell_type": "markdown",
      "metadata": {
        "id": "t2HDvhIu9hEr"
      },
      "source": [
        "# Specify each path"
      ]
    },
    {
      "cell_type": "code",
      "execution_count": 2,
      "metadata": {
        "id": "9NvZP2Zn9hEy"
      },
      "outputs": [],
      "source": [
        "dataset = 'model/keypoint.csv'\n",
        "model_save_path = 'model/aslr_model.hdf5'\n",
        "tflite_save_path = 'model/aslr_model.tflite'"
      ]
    },
    {
      "cell_type": "markdown",
      "metadata": {
        "id": "s5oMH7x19hEz"
      },
      "source": [
        "# Set number of classes"
      ]
    },
    {
      "cell_type": "code",
      "execution_count": 3,
      "metadata": {
        "id": "du4kodXL9hEz"
      },
      "outputs": [],
      "source": [
        "NUM_CLASSES = 24"
      ]
    },
    {
      "cell_type": "markdown",
      "metadata": {
        "id": "XjnL0uso9hEz"
      },
      "source": [
        "# Dataset reading"
      ]
    },
    {
      "cell_type": "code",
      "execution_count": 4,
      "metadata": {
        "id": "QT5ZqtEz9hE0"
      },
      "outputs": [],
      "source": [
        "X_dataset = np.loadtxt(dataset, delimiter=',', dtype='float32', usecols=list(range(1, (21 * 2) + 1)))"
      ]
    },
    {
      "cell_type": "code",
      "execution_count": 5,
      "metadata": {
        "id": "QmoKFsp49hE0"
      },
      "outputs": [],
      "source": [
        "y_dataset = np.loadtxt(dataset, delimiter=',', dtype='int32', usecols=(0))"
      ]
    },
    {
      "cell_type": "code",
      "execution_count": 6,
      "metadata": {
        "id": "xQU7JTZ_9hE0"
      },
      "outputs": [],
      "source": [
        "X_train, X_test, y_train, y_test = train_test_split(X_dataset, y_dataset, train_size=0.75, random_state=RANDOM_SEED)"
      ]
    },
    {
      "cell_type": "markdown",
      "metadata": {
        "id": "mxK_lETT9hE0"
      },
      "source": [
        "# Model building"
      ]
    },
    {
      "cell_type": "code",
      "execution_count": 7,
      "metadata": {
        "id": "vHBmUf1t9hE1"
      },
      "outputs": [],
      "source": [
        "model = tf.keras.models.Sequential([\n",
        "    tf.keras.layers.Input((21 * 2, )),\n",
        "    tf.keras.layers.Dropout(0.2),\n",
        "    tf.keras.layers.Dense(20, activation='relu'),\n",
        "    tf.keras.layers.Dropout(0.4),\n",
        "    tf.keras.layers.Dense(10, activation='relu'),\n",
        "    tf.keras.layers.Dense(NUM_CLASSES, activation='softmax')\n",
        "])"
      ]
    },
    {
      "cell_type": "code",
      "execution_count": 8,
      "metadata": {
        "colab": {
          "base_uri": "https://localhost:8080/"
        },
        "id": "ypqky9tc9hE1",
        "outputId": "5db082bb-30e3-4110-bf63-a1ee777ecd46"
      },
      "outputs": [
        {
          "name": "stdout",
          "output_type": "stream",
          "text": [
            "Model: \"sequential\"\n",
            "_________________________________________________________________\n",
            " Layer (type)                Output Shape              Param #   \n",
            "=================================================================\n",
            " dropout (Dropout)           (None, 42)                0         \n",
            "                                                                 \n",
            " dense (Dense)               (None, 20)                860       \n",
            "                                                                 \n",
            " dropout_1 (Dropout)         (None, 20)                0         \n",
            "                                                                 \n",
            " dense_1 (Dense)             (None, 10)                210       \n",
            "                                                                 \n",
            " dense_2 (Dense)             (None, 24)                264       \n",
            "                                                                 \n",
            "=================================================================\n",
            "Total params: 1,334\n",
            "Trainable params: 1,334\n",
            "Non-trainable params: 0\n",
            "_________________________________________________________________\n"
          ]
        }
      ],
      "source": [
        "model.summary()  # tf.keras.utils.plot_model(model, show_shapes=True)"
      ]
    },
    {
      "cell_type": "code",
      "execution_count": 9,
      "metadata": {
        "id": "MbMjOflQ9hE1"
      },
      "outputs": [],
      "source": [
        "# Model checkpoint callback\n",
        "cp_callback = tf.keras.callbacks.ModelCheckpoint(\n",
        "    model_save_path, verbose=1, save_weights_only=False)\n",
        "# Callback for early stopping\n",
        "es_callback = tf.keras.callbacks.EarlyStopping(patience=20, verbose=1)"
      ]
    },
    {
      "cell_type": "code",
      "execution_count": 10,
      "metadata": {
        "id": "c3Dac0M_9hE2"
      },
      "outputs": [],
      "source": [
        "# Model compilation\n",
        "model.compile(\n",
        "    optimizer='adam',\n",
        "    loss='sparse_categorical_crossentropy',\n",
        "    metrics=['accuracy']\n",
        ")"
      ]
    },
    {
      "cell_type": "markdown",
      "metadata": {
        "id": "7XI0j1Iu9hE2"
      },
      "source": [
        "# Model training"
      ]
    },
    {
      "cell_type": "code",
      "execution_count": 11,
      "metadata": {
        "colab": {
          "base_uri": "https://localhost:8080/"
        },
        "id": "WirBl-JE9hE3",
        "outputId": "71b30ca2-8294-4d9d-8aa2-800d90d399de",
        "scrolled": true
      },
      "outputs": [
        {
          "name": "stdout",
          "output_type": "stream",
          "text": [
            "Epoch 1/1000\n",
            "65/71 [==========================>...] - ETA: 0s - loss: 3.1312 - accuracy: 0.0531\n",
            "Epoch 1: saving model to model\\aslr_model.hdf5\n",
            "71/71 [==============================] - 2s 8ms/step - loss: 3.1253 - accuracy: 0.0556 - val_loss: 3.0091 - val_accuracy: 0.1243\n",
            "Epoch 2/1000\n",
            "50/71 [====================>.........] - ETA: 0s - loss: 2.9492 - accuracy: 0.1217\n",
            "Epoch 2: saving model to model\\aslr_model.hdf5\n",
            "71/71 [==============================] - 0s 4ms/step - loss: 2.9085 - accuracy: 0.1287 - val_loss: 2.6696 - val_accuracy: 0.2150\n",
            "Epoch 3/1000\n",
            "61/71 [========================>.....] - ETA: 0s - loss: 2.6454 - accuracy: 0.1899\n",
            "Epoch 3: saving model to model\\aslr_model.hdf5\n",
            "71/71 [==============================] - 0s 4ms/step - loss: 2.6267 - accuracy: 0.1949 - val_loss: 2.3633 - val_accuracy: 0.3150\n",
            "Epoch 4/1000\n",
            "69/71 [============================>.] - ETA: 0s - loss: 2.3997 - accuracy: 0.2587\n",
            "Epoch 4: saving model to model\\aslr_model.hdf5\n",
            "71/71 [==============================] - 0s 4ms/step - loss: 2.3948 - accuracy: 0.2588 - val_loss: 2.0880 - val_accuracy: 0.4240\n",
            "Epoch 5/1000\n",
            "67/71 [===========================>..] - ETA: 0s - loss: 2.2191 - accuracy: 0.2942\n",
            "Epoch 5: saving model to model\\aslr_model.hdf5\n",
            "71/71 [==============================] - 0s 4ms/step - loss: 2.2127 - accuracy: 0.2957 - val_loss: 1.8590 - val_accuracy: 0.5333\n",
            "Epoch 6/1000\n",
            "70/71 [============================>.] - ETA: 0s - loss: 2.0471 - accuracy: 0.3366\n",
            "Epoch 6: saving model to model\\aslr_model.hdf5\n",
            "71/71 [==============================] - 0s 4ms/step - loss: 2.0478 - accuracy: 0.3367 - val_loss: 1.6694 - val_accuracy: 0.6097\n",
            "Epoch 7/1000\n",
            "65/71 [==========================>...] - ETA: 0s - loss: 1.9412 - accuracy: 0.3594\n",
            "Epoch 7: saving model to model\\aslr_model.hdf5\n",
            "71/71 [==============================] - 0s 4ms/step - loss: 1.9386 - accuracy: 0.3590 - val_loss: 1.5344 - val_accuracy: 0.6537\n",
            "Epoch 8/1000\n",
            "69/71 [============================>.] - ETA: 0s - loss: 1.8605 - accuracy: 0.3784\n",
            "Epoch 8: saving model to model\\aslr_model.hdf5\n",
            "71/71 [==============================] - 0s 4ms/step - loss: 1.8591 - accuracy: 0.3789 - val_loss: 1.4283 - val_accuracy: 0.7167\n",
            "Epoch 9/1000\n",
            "66/71 [==========================>...] - ETA: 0s - loss: 1.7879 - accuracy: 0.3956\n",
            "Epoch 9: saving model to model\\aslr_model.hdf5\n",
            "71/71 [==============================] - 0s 4ms/step - loss: 1.7869 - accuracy: 0.3961 - val_loss: 1.3341 - val_accuracy: 0.7577\n",
            "Epoch 10/1000\n",
            "57/71 [=======================>......] - ETA: 0s - loss: 1.6995 - accuracy: 0.4217\n",
            "Epoch 10: saving model to model\\aslr_model.hdf5\n",
            "71/71 [==============================] - 0s 4ms/step - loss: 1.7002 - accuracy: 0.4193 - val_loss: 1.2338 - val_accuracy: 0.7780\n",
            "Epoch 11/1000\n",
            "48/71 [===================>..........] - ETA: 0s - loss: 1.6631 - accuracy: 0.4277\n",
            "Epoch 11: saving model to model\\aslr_model.hdf5\n",
            "71/71 [==============================] - 0s 3ms/step - loss: 1.6610 - accuracy: 0.4312 - val_loss: 1.1653 - val_accuracy: 0.8187\n",
            "Epoch 12/1000\n",
            "70/71 [============================>.] - ETA: 0s - loss: 1.6286 - accuracy: 0.4472\n",
            "Epoch 12: saving model to model\\aslr_model.hdf5\n",
            "71/71 [==============================] - 0s 3ms/step - loss: 1.6282 - accuracy: 0.4473 - val_loss: 1.1048 - val_accuracy: 0.8440\n",
            "Epoch 13/1000\n",
            "70/71 [============================>.] - ETA: 0s - loss: 1.5750 - accuracy: 0.4593\n",
            "Epoch 13: saving model to model\\aslr_model.hdf5\n",
            "71/71 [==============================] - 0s 3ms/step - loss: 1.5748 - accuracy: 0.4596 - val_loss: 1.0561 - val_accuracy: 0.8237\n",
            "Epoch 14/1000\n",
            "69/71 [============================>.] - ETA: 0s - loss: 1.5501 - accuracy: 0.4660\n",
            "Epoch 14: saving model to model\\aslr_model.hdf5\n",
            "71/71 [==============================] - 0s 3ms/step - loss: 1.5487 - accuracy: 0.4671 - val_loss: 1.0103 - val_accuracy: 0.8547\n",
            "Epoch 15/1000\n",
            "70/71 [============================>.] - ETA: 0s - loss: 1.5220 - accuracy: 0.4800\n",
            "Epoch 15: saving model to model\\aslr_model.hdf5\n",
            "71/71 [==============================] - 0s 3ms/step - loss: 1.5229 - accuracy: 0.4793 - val_loss: 0.9697 - val_accuracy: 0.8623\n",
            "Epoch 16/1000\n",
            "71/71 [==============================] - ETA: 0s - loss: 1.4882 - accuracy: 0.4841\n",
            "Epoch 16: saving model to model\\aslr_model.hdf5\n",
            "71/71 [==============================] - 0s 3ms/step - loss: 1.4882 - accuracy: 0.4841 - val_loss: 0.9314 - val_accuracy: 0.8787\n",
            "Epoch 17/1000\n",
            "71/71 [==============================] - ETA: 0s - loss: 1.4760 - accuracy: 0.4923\n",
            "Epoch 17: saving model to model\\aslr_model.hdf5\n",
            "71/71 [==============================] - 0s 3ms/step - loss: 1.4760 - accuracy: 0.4923 - val_loss: 0.8908 - val_accuracy: 0.8537\n",
            "Epoch 18/1000\n",
            "70/71 [============================>.] - ETA: 0s - loss: 1.4382 - accuracy: 0.5115\n",
            "Epoch 18: saving model to model\\aslr_model.hdf5\n",
            "71/71 [==============================] - 0s 3ms/step - loss: 1.4368 - accuracy: 0.5119 - val_loss: 0.8679 - val_accuracy: 0.8757\n",
            "Epoch 19/1000\n",
            "68/71 [===========================>..] - ETA: 0s - loss: 1.4153 - accuracy: 0.5062\n",
            "Epoch 19: saving model to model\\aslr_model.hdf5\n",
            "71/71 [==============================] - 0s 4ms/step - loss: 1.4133 - accuracy: 0.5060 - val_loss: 0.8522 - val_accuracy: 0.8747\n",
            "Epoch 20/1000\n",
            "70/71 [============================>.] - ETA: 0s - loss: 1.3820 - accuracy: 0.5258\n",
            "Epoch 20: saving model to model\\aslr_model.hdf5\n",
            "71/71 [==============================] - 0s 4ms/step - loss: 1.3811 - accuracy: 0.5261 - val_loss: 0.8091 - val_accuracy: 0.8523\n",
            "Epoch 21/1000\n",
            "69/71 [============================>.] - ETA: 0s - loss: 1.3646 - accuracy: 0.5276\n",
            "Epoch 21: saving model to model\\aslr_model.hdf5\n",
            "71/71 [==============================] - 0s 4ms/step - loss: 1.3649 - accuracy: 0.5269 - val_loss: 0.7907 - val_accuracy: 0.8910\n",
            "Epoch 22/1000\n",
            "71/71 [==============================] - ETA: 0s - loss: 1.3546 - accuracy: 0.5314\n",
            "Epoch 22: saving model to model\\aslr_model.hdf5\n",
            "71/71 [==============================] - 0s 4ms/step - loss: 1.3546 - accuracy: 0.5314 - val_loss: 0.7655 - val_accuracy: 0.9073\n",
            "Epoch 23/1000\n",
            "70/71 [============================>.] - ETA: 0s - loss: 1.3422 - accuracy: 0.5362\n",
            "Epoch 23: saving model to model\\aslr_model.hdf5\n",
            "71/71 [==============================] - 0s 4ms/step - loss: 1.3419 - accuracy: 0.5361 - val_loss: 0.7496 - val_accuracy: 0.9050\n",
            "Epoch 24/1000\n",
            "68/71 [===========================>..] - ETA: 0s - loss: 1.3221 - accuracy: 0.5456\n",
            "Epoch 24: saving model to model\\aslr_model.hdf5\n",
            "71/71 [==============================] - 0s 4ms/step - loss: 1.3194 - accuracy: 0.5469 - val_loss: 0.7498 - val_accuracy: 0.8713\n",
            "Epoch 25/1000\n",
            "69/71 [============================>.] - ETA: 0s - loss: 1.3153 - accuracy: 0.5460\n",
            "Epoch 25: saving model to model\\aslr_model.hdf5\n",
            "71/71 [==============================] - 0s 4ms/step - loss: 1.3147 - accuracy: 0.5456 - val_loss: 0.7268 - val_accuracy: 0.9043\n",
            "Epoch 26/1000\n",
            "71/71 [==============================] - ETA: 0s - loss: 1.3053 - accuracy: 0.5467\n",
            "Epoch 26: saving model to model\\aslr_model.hdf5\n",
            "71/71 [==============================] - 0s 3ms/step - loss: 1.3053 - accuracy: 0.5467 - val_loss: 0.7057 - val_accuracy: 0.9140\n",
            "Epoch 27/1000\n",
            "70/71 [============================>.] - ETA: 0s - loss: 1.2955 - accuracy: 0.5539\n",
            "Epoch 27: saving model to model\\aslr_model.hdf5\n",
            "71/71 [==============================] - 0s 3ms/step - loss: 1.2956 - accuracy: 0.5542 - val_loss: 0.7081 - val_accuracy: 0.8537\n",
            "Epoch 28/1000\n",
            "69/71 [============================>.] - ETA: 0s - loss: 1.2770 - accuracy: 0.5647\n",
            "Epoch 28: saving model to model\\aslr_model.hdf5\n",
            "71/71 [==============================] - 0s 4ms/step - loss: 1.2733 - accuracy: 0.5653 - val_loss: 0.6845 - val_accuracy: 0.9227\n",
            "Epoch 29/1000\n",
            "70/71 [============================>.] - ETA: 0s - loss: 1.2783 - accuracy: 0.5564\n",
            "Epoch 29: saving model to model\\aslr_model.hdf5\n",
            "71/71 [==============================] - 0s 3ms/step - loss: 1.2771 - accuracy: 0.5571 - val_loss: 0.6905 - val_accuracy: 0.9083\n",
            "Epoch 30/1000\n",
            "70/71 [============================>.] - ETA: 0s - loss: 1.2599 - accuracy: 0.5646\n",
            "Epoch 30: saving model to model\\aslr_model.hdf5\n",
            "71/71 [==============================] - 0s 3ms/step - loss: 1.2598 - accuracy: 0.5646 - val_loss: 0.6597 - val_accuracy: 0.9147\n",
            "Epoch 31/1000\n",
            "49/71 [===================>..........] - ETA: 0s - loss: 1.2580 - accuracy: 0.5651\n",
            "Epoch 31: saving model to model\\aslr_model.hdf5\n",
            "71/71 [==============================] - 0s 4ms/step - loss: 1.2472 - accuracy: 0.5712 - val_loss: 0.6631 - val_accuracy: 0.9103\n",
            "Epoch 32/1000\n",
            "71/71 [==============================] - ETA: 0s - loss: 1.2519 - accuracy: 0.5647\n",
            "Epoch 32: saving model to model\\aslr_model.hdf5\n",
            "71/71 [==============================] - 0s 4ms/step - loss: 1.2519 - accuracy: 0.5647 - val_loss: 0.6423 - val_accuracy: 0.9253\n",
            "Epoch 33/1000\n",
            "70/71 [============================>.] - ETA: 0s - loss: 1.2216 - accuracy: 0.5759\n",
            "Epoch 33: saving model to model\\aslr_model.hdf5\n",
            "71/71 [==============================] - 0s 4ms/step - loss: 1.2241 - accuracy: 0.5749 - val_loss: 0.6362 - val_accuracy: 0.9030\n",
            "Epoch 34/1000\n",
            "49/71 [===================>..........] - ETA: 0s - loss: 1.2269 - accuracy: 0.5764\n",
            "Epoch 34: saving model to model\\aslr_model.hdf5\n",
            "71/71 [==============================] - 0s 3ms/step - loss: 1.2230 - accuracy: 0.5762 - val_loss: 0.6186 - val_accuracy: 0.9097\n",
            "Epoch 35/1000\n",
            "48/71 [===================>..........] - ETA: 0s - loss: 1.2147 - accuracy: 0.5804\n",
            "Epoch 35: saving model to model\\aslr_model.hdf5\n",
            "71/71 [==============================] - 0s 3ms/step - loss: 1.2248 - accuracy: 0.5748 - val_loss: 0.6189 - val_accuracy: 0.9373\n",
            "Epoch 36/1000\n",
            "71/71 [==============================] - ETA: 0s - loss: 1.1942 - accuracy: 0.5910\n",
            "Epoch 36: saving model to model\\aslr_model.hdf5\n",
            "71/71 [==============================] - 0s 4ms/step - loss: 1.1942 - accuracy: 0.5910 - val_loss: 0.6000 - val_accuracy: 0.9283\n",
            "Epoch 37/1000\n",
            "49/71 [===================>..........] - ETA: 0s - loss: 1.1809 - accuracy: 0.5891\n",
            "Epoch 37: saving model to model\\aslr_model.hdf5\n",
            "71/71 [==============================] - 0s 3ms/step - loss: 1.1979 - accuracy: 0.5814 - val_loss: 0.6081 - val_accuracy: 0.9117\n",
            "Epoch 38/1000\n",
            "70/71 [============================>.] - ETA: 0s - loss: 1.2132 - accuracy: 0.5808\n",
            "Epoch 38: saving model to model\\aslr_model.hdf5\n",
            "71/71 [==============================] - 0s 3ms/step - loss: 1.2127 - accuracy: 0.5814 - val_loss: 0.6127 - val_accuracy: 0.9143\n",
            "Epoch 39/1000\n",
            "67/71 [===========================>..] - ETA: 0s - loss: 1.1815 - accuracy: 0.5922\n",
            "Epoch 39: saving model to model\\aslr_model.hdf5\n",
            "71/71 [==============================] - 0s 4ms/step - loss: 1.1816 - accuracy: 0.5927 - val_loss: 0.5937 - val_accuracy: 0.9200\n",
            "Epoch 40/1000\n",
            "70/71 [============================>.] - ETA: 0s - loss: 1.1590 - accuracy: 0.5978\n",
            "Epoch 40: saving model to model\\aslr_model.hdf5\n",
            "71/71 [==============================] - 0s 4ms/step - loss: 1.1595 - accuracy: 0.5979 - val_loss: 0.5766 - val_accuracy: 0.8997\n",
            "Epoch 41/1000\n",
            "65/71 [==========================>...] - ETA: 0s - loss: 1.1548 - accuracy: 0.6054\n",
            "Epoch 41: saving model to model\\aslr_model.hdf5\n",
            "71/71 [==============================] - 0s 4ms/step - loss: 1.1561 - accuracy: 0.6056 - val_loss: 0.5757 - val_accuracy: 0.9143\n",
            "Epoch 42/1000\n",
            "67/71 [===========================>..] - ETA: 0s - loss: 1.1743 - accuracy: 0.5928\n",
            "Epoch 42: saving model to model\\aslr_model.hdf5\n",
            "71/71 [==============================] - 0s 4ms/step - loss: 1.1712 - accuracy: 0.5939 - val_loss: 0.5736 - val_accuracy: 0.9040\n",
            "Epoch 43/1000\n",
            "66/71 [==========================>...] - ETA: 0s - loss: 1.1704 - accuracy: 0.5940\n",
            "Epoch 43: saving model to model\\aslr_model.hdf5\n",
            "71/71 [==============================] - 0s 4ms/step - loss: 1.1663 - accuracy: 0.5953 - val_loss: 0.5748 - val_accuracy: 0.9057\n",
            "Epoch 44/1000\n",
            "67/71 [===========================>..] - ETA: 0s - loss: 1.1587 - accuracy: 0.5963\n",
            "Epoch 44: saving model to model\\aslr_model.hdf5\n",
            "71/71 [==============================] - 0s 4ms/step - loss: 1.1608 - accuracy: 0.5948 - val_loss: 0.5530 - val_accuracy: 0.9197\n",
            "Epoch 45/1000\n",
            "65/71 [==========================>...] - ETA: 0s - loss: 1.1486 - accuracy: 0.6007\n",
            "Epoch 45: saving model to model\\aslr_model.hdf5\n",
            "71/71 [==============================] - 0s 4ms/step - loss: 1.1533 - accuracy: 0.6003 - val_loss: 0.5589 - val_accuracy: 0.9373\n",
            "Epoch 46/1000\n",
            "67/71 [===========================>..] - ETA: 0s - loss: 1.1457 - accuracy: 0.6082\n",
            "Epoch 46: saving model to model\\aslr_model.hdf5\n",
            "71/71 [==============================] - 0s 4ms/step - loss: 1.1439 - accuracy: 0.6093 - val_loss: 0.5479 - val_accuracy: 0.9333\n",
            "Epoch 47/1000\n",
            "70/71 [============================>.] - ETA: 0s - loss: 1.1298 - accuracy: 0.6102\n",
            "Epoch 47: saving model to model\\aslr_model.hdf5\n",
            "71/71 [==============================] - 0s 4ms/step - loss: 1.1300 - accuracy: 0.6104 - val_loss: 0.5450 - val_accuracy: 0.9190\n",
            "Epoch 48/1000\n",
            "70/71 [============================>.] - ETA: 0s - loss: 1.1295 - accuracy: 0.6087\n",
            "Epoch 48: saving model to model\\aslr_model.hdf5\n",
            "71/71 [==============================] - 0s 3ms/step - loss: 1.1299 - accuracy: 0.6086 - val_loss: 0.5517 - val_accuracy: 0.9010\n",
            "Epoch 49/1000\n",
            "70/71 [============================>.] - ETA: 0s - loss: 1.1385 - accuracy: 0.6121\n",
            "Epoch 49: saving model to model\\aslr_model.hdf5\n",
            "71/71 [==============================] - 0s 3ms/step - loss: 1.1387 - accuracy: 0.6117 - val_loss: 0.5496 - val_accuracy: 0.9003\n",
            "Epoch 50/1000\n",
            "70/71 [============================>.] - ETA: 0s - loss: 1.0945 - accuracy: 0.6219\n",
            "Epoch 50: saving model to model\\aslr_model.hdf5\n",
            "71/71 [==============================] - 0s 4ms/step - loss: 1.0956 - accuracy: 0.6217 - val_loss: 0.5235 - val_accuracy: 0.9210\n",
            "Epoch 51/1000\n",
            "64/71 [==========================>...] - ETA: 0s - loss: 1.1235 - accuracy: 0.6140\n",
            "Epoch 51: saving model to model\\aslr_model.hdf5\n",
            "71/71 [==============================] - 0s 4ms/step - loss: 1.1243 - accuracy: 0.6127 - val_loss: 0.5232 - val_accuracy: 0.9093\n",
            "Epoch 52/1000\n",
            "65/71 [==========================>...] - ETA: 0s - loss: 1.1131 - accuracy: 0.6097\n",
            "Epoch 52: saving model to model\\aslr_model.hdf5\n",
            "71/71 [==============================] - 0s 4ms/step - loss: 1.1132 - accuracy: 0.6102 - val_loss: 0.5281 - val_accuracy: 0.9167\n",
            "Epoch 53/1000\n",
            "70/71 [============================>.] - ETA: 0s - loss: 1.1065 - accuracy: 0.6143\n",
            "Epoch 53: saving model to model\\aslr_model.hdf5\n",
            "71/71 [==============================] - 0s 4ms/step - loss: 1.1077 - accuracy: 0.6141 - val_loss: 0.5190 - val_accuracy: 0.9270\n",
            "Epoch 54/1000\n",
            "48/71 [===================>..........] - ETA: 0s - loss: 1.1177 - accuracy: 0.6185\n",
            "Epoch 54: saving model to model\\aslr_model.hdf5\n",
            "71/71 [==============================] - 0s 3ms/step - loss: 1.1174 - accuracy: 0.6173 - val_loss: 0.5283 - val_accuracy: 0.9080\n",
            "Epoch 55/1000\n",
            "66/71 [==========================>...] - ETA: 0s - loss: 1.0956 - accuracy: 0.6212\n",
            "Epoch 55: saving model to model\\aslr_model.hdf5\n",
            "71/71 [==============================] - 0s 4ms/step - loss: 1.0989 - accuracy: 0.6211 - val_loss: 0.5137 - val_accuracy: 0.9183\n",
            "Epoch 56/1000\n",
            "70/71 [============================>.] - ETA: 0s - loss: 1.1050 - accuracy: 0.6172\n",
            "Epoch 56: saving model to model\\aslr_model.hdf5\n",
            "71/71 [==============================] - 0s 3ms/step - loss: 1.1058 - accuracy: 0.6167 - val_loss: 0.5127 - val_accuracy: 0.9223\n",
            "Epoch 57/1000\n",
            "70/71 [============================>.] - ETA: 0s - loss: 1.0968 - accuracy: 0.6204\n",
            "Epoch 57: saving model to model\\aslr_model.hdf5\n",
            "71/71 [==============================] - 0s 4ms/step - loss: 1.0967 - accuracy: 0.6206 - val_loss: 0.5239 - val_accuracy: 0.9303\n",
            "Epoch 58/1000\n",
            "70/71 [============================>.] - ETA: 0s - loss: 1.0909 - accuracy: 0.6194\n",
            "Epoch 58: saving model to model\\aslr_model.hdf5\n",
            "71/71 [==============================] - 0s 4ms/step - loss: 1.0919 - accuracy: 0.6192 - val_loss: 0.5083 - val_accuracy: 0.9203\n",
            "Epoch 59/1000\n",
            "70/71 [============================>.] - ETA: 0s - loss: 1.0909 - accuracy: 0.6193\n",
            "Epoch 59: saving model to model\\aslr_model.hdf5\n",
            "71/71 [==============================] - 0s 4ms/step - loss: 1.0903 - accuracy: 0.6196 - val_loss: 0.5045 - val_accuracy: 0.9360\n",
            "Epoch 60/1000\n",
            "68/71 [===========================>..] - ETA: 0s - loss: 1.0847 - accuracy: 0.6158\n",
            "Epoch 60: saving model to model\\aslr_model.hdf5\n",
            "71/71 [==============================] - 0s 4ms/step - loss: 1.0843 - accuracy: 0.6172 - val_loss: 0.5063 - val_accuracy: 0.9330\n",
            "Epoch 61/1000\n",
            "71/71 [==============================] - ETA: 0s - loss: 1.0842 - accuracy: 0.6268\n",
            "Epoch 61: saving model to model\\aslr_model.hdf5\n",
            "71/71 [==============================] - 0s 4ms/step - loss: 1.0842 - accuracy: 0.6268 - val_loss: 0.5073 - val_accuracy: 0.9200\n",
            "Epoch 62/1000\n",
            "69/71 [============================>.] - ETA: 0s - loss: 1.0831 - accuracy: 0.6219\n",
            "Epoch 62: saving model to model\\aslr_model.hdf5\n",
            "71/71 [==============================] - 0s 4ms/step - loss: 1.0795 - accuracy: 0.6228 - val_loss: 0.4960 - val_accuracy: 0.9253\n",
            "Epoch 63/1000\n",
            "48/71 [===================>..........] - ETA: 0s - loss: 1.0638 - accuracy: 0.6369\n",
            "Epoch 63: saving model to model\\aslr_model.hdf5\n",
            "71/71 [==============================] - 0s 3ms/step - loss: 1.0696 - accuracy: 0.6323 - val_loss: 0.4809 - val_accuracy: 0.9417\n",
            "Epoch 64/1000\n",
            "71/71 [==============================] - ETA: 0s - loss: 1.0636 - accuracy: 0.6332\n",
            "Epoch 64: saving model to model\\aslr_model.hdf5\n",
            "71/71 [==============================] - 0s 4ms/step - loss: 1.0636 - accuracy: 0.6332 - val_loss: 0.4942 - val_accuracy: 0.9337\n",
            "Epoch 65/1000\n",
            "70/71 [============================>.] - ETA: 0s - loss: 1.0789 - accuracy: 0.6210\n",
            "Epoch 65: saving model to model\\aslr_model.hdf5\n",
            "71/71 [==============================] - 0s 4ms/step - loss: 1.0796 - accuracy: 0.6207 - val_loss: 0.4966 - val_accuracy: 0.9270\n",
            "Epoch 66/1000\n",
            "66/71 [==========================>...] - ETA: 0s - loss: 1.0587 - accuracy: 0.6302\n",
            "Epoch 66: saving model to model\\aslr_model.hdf5\n",
            "71/71 [==============================] - 0s 4ms/step - loss: 1.0553 - accuracy: 0.6298 - val_loss: 0.4877 - val_accuracy: 0.9280\n",
            "Epoch 67/1000\n",
            "71/71 [==============================] - ETA: 0s - loss: 1.0560 - accuracy: 0.6322\n",
            "Epoch 67: saving model to model\\aslr_model.hdf5\n",
            "71/71 [==============================] - 0s 4ms/step - loss: 1.0560 - accuracy: 0.6322 - val_loss: 0.4758 - val_accuracy: 0.9237\n",
            "Epoch 68/1000\n",
            "70/71 [============================>.] - ETA: 0s - loss: 1.0412 - accuracy: 0.6383\n",
            "Epoch 68: saving model to model\\aslr_model.hdf5\n",
            "71/71 [==============================] - 0s 3ms/step - loss: 1.0414 - accuracy: 0.6382 - val_loss: 0.4895 - val_accuracy: 0.9337\n",
            "Epoch 69/1000\n",
            "69/71 [============================>.] - ETA: 0s - loss: 1.0677 - accuracy: 0.6241\n",
            "Epoch 69: saving model to model\\aslr_model.hdf5\n",
            "71/71 [==============================] - 0s 4ms/step - loss: 1.0669 - accuracy: 0.6248 - val_loss: 0.4766 - val_accuracy: 0.9230\n",
            "Epoch 70/1000\n",
            "68/71 [===========================>..] - ETA: 0s - loss: 1.0583 - accuracy: 0.6313\n",
            "Epoch 70: saving model to model\\aslr_model.hdf5\n",
            "71/71 [==============================] - 0s 4ms/step - loss: 1.0566 - accuracy: 0.6307 - val_loss: 0.4770 - val_accuracy: 0.9253\n",
            "Epoch 71/1000\n",
            "69/71 [============================>.] - ETA: 0s - loss: 1.0467 - accuracy: 0.6389\n",
            "Epoch 71: saving model to model\\aslr_model.hdf5\n",
            "71/71 [==============================] - 0s 4ms/step - loss: 1.0454 - accuracy: 0.6399 - val_loss: 0.4741 - val_accuracy: 0.9327\n",
            "Epoch 72/1000\n",
            "70/71 [============================>.] - ETA: 0s - loss: 1.0358 - accuracy: 0.6435\n",
            "Epoch 72: saving model to model\\aslr_model.hdf5\n",
            "71/71 [==============================] - 0s 4ms/step - loss: 1.0362 - accuracy: 0.6436 - val_loss: 0.4582 - val_accuracy: 0.9307\n",
            "Epoch 73/1000\n",
            "70/71 [============================>.] - ETA: 0s - loss: 1.0459 - accuracy: 0.6378\n",
            "Epoch 73: saving model to model\\aslr_model.hdf5\n",
            "71/71 [==============================] - 0s 3ms/step - loss: 1.0458 - accuracy: 0.6376 - val_loss: 0.4610 - val_accuracy: 0.9307\n",
            "Epoch 74/1000\n",
            "71/71 [==============================] - ETA: 0s - loss: 1.0428 - accuracy: 0.6428\n",
            "Epoch 74: saving model to model\\aslr_model.hdf5\n",
            "71/71 [==============================] - 0s 3ms/step - loss: 1.0428 - accuracy: 0.6428 - val_loss: 0.4678 - val_accuracy: 0.9253\n",
            "Epoch 75/1000\n",
            "71/71 [==============================] - ETA: 0s - loss: 1.0442 - accuracy: 0.6390\n",
            "Epoch 75: saving model to model\\aslr_model.hdf5\n",
            "71/71 [==============================] - 0s 4ms/step - loss: 1.0442 - accuracy: 0.6390 - val_loss: 0.4519 - val_accuracy: 0.9367\n",
            "Epoch 76/1000\n",
            "70/71 [============================>.] - ETA: 0s - loss: 1.0374 - accuracy: 0.6404\n",
            "Epoch 76: saving model to model\\aslr_model.hdf5\n",
            "71/71 [==============================] - 0s 4ms/step - loss: 1.0363 - accuracy: 0.6410 - val_loss: 0.4563 - val_accuracy: 0.9390\n",
            "Epoch 77/1000\n",
            "69/71 [============================>.] - ETA: 0s - loss: 1.0343 - accuracy: 0.6467\n",
            "Epoch 77: saving model to model\\aslr_model.hdf5\n",
            "71/71 [==============================] - 0s 4ms/step - loss: 1.0347 - accuracy: 0.6467 - val_loss: 0.4550 - val_accuracy: 0.9323\n",
            "Epoch 78/1000\n",
            "66/71 [==========================>...] - ETA: 0s - loss: 1.0129 - accuracy: 0.6462\n",
            "Epoch 78: saving model to model\\aslr_model.hdf5\n",
            "71/71 [==============================] - 0s 4ms/step - loss: 1.0140 - accuracy: 0.6440 - val_loss: 0.4568 - val_accuracy: 0.9330\n",
            "Epoch 79/1000\n",
            "70/71 [============================>.] - ETA: 0s - loss: 1.0264 - accuracy: 0.6465\n",
            "Epoch 79: saving model to model\\aslr_model.hdf5\n",
            "71/71 [==============================] - 0s 4ms/step - loss: 1.0269 - accuracy: 0.6464 - val_loss: 0.4469 - val_accuracy: 0.9307\n",
            "Epoch 80/1000\n",
            "47/71 [==================>...........] - ETA: 0s - loss: 1.0169 - accuracy: 0.6431\n",
            "Epoch 80: saving model to model\\aslr_model.hdf5\n",
            "71/71 [==============================] - 0s 3ms/step - loss: 1.0125 - accuracy: 0.6463 - val_loss: 0.4441 - val_accuracy: 0.9317\n",
            "Epoch 81/1000\n",
            "69/71 [============================>.] - ETA: 0s - loss: 1.0178 - accuracy: 0.6522\n",
            "Epoch 81: saving model to model\\aslr_model.hdf5\n",
            "71/71 [==============================] - 0s 4ms/step - loss: 1.0154 - accuracy: 0.6530 - val_loss: 0.4440 - val_accuracy: 0.9343\n",
            "Epoch 82/1000\n",
            "71/71 [==============================] - ETA: 0s - loss: 1.0170 - accuracy: 0.6486\n",
            "Epoch 82: saving model to model\\aslr_model.hdf5\n",
            "71/71 [==============================] - 0s 4ms/step - loss: 1.0170 - accuracy: 0.6486 - val_loss: 0.4549 - val_accuracy: 0.9280\n",
            "Epoch 83/1000\n",
            "69/71 [============================>.] - ETA: 0s - loss: 0.9955 - accuracy: 0.6535\n",
            "Epoch 83: saving model to model\\aslr_model.hdf5\n",
            "71/71 [==============================] - 0s 4ms/step - loss: 1.0002 - accuracy: 0.6520 - val_loss: 0.4449 - val_accuracy: 0.9247\n",
            "Epoch 84/1000\n",
            "69/71 [============================>.] - ETA: 0s - loss: 1.0054 - accuracy: 0.6458\n",
            "Epoch 84: saving model to model\\aslr_model.hdf5\n",
            "71/71 [==============================] - 0s 4ms/step - loss: 1.0060 - accuracy: 0.6458 - val_loss: 0.4368 - val_accuracy: 0.9247\n",
            "Epoch 85/1000\n",
            "70/71 [============================>.] - ETA: 0s - loss: 0.9900 - accuracy: 0.6513\n",
            "Epoch 85: saving model to model\\aslr_model.hdf5\n",
            "71/71 [==============================] - 0s 4ms/step - loss: 0.9899 - accuracy: 0.6514 - val_loss: 0.4496 - val_accuracy: 0.9240\n",
            "Epoch 86/1000\n",
            "69/71 [============================>.] - ETA: 0s - loss: 1.0072 - accuracy: 0.6445\n",
            "Epoch 86: saving model to model\\aslr_model.hdf5\n",
            "71/71 [==============================] - 0s 4ms/step - loss: 1.0063 - accuracy: 0.6451 - val_loss: 0.4444 - val_accuracy: 0.9153\n",
            "Epoch 87/1000\n",
            "68/71 [===========================>..] - ETA: 0s - loss: 0.9935 - accuracy: 0.6573\n",
            "Epoch 87: saving model to model\\aslr_model.hdf5\n",
            "71/71 [==============================] - 0s 4ms/step - loss: 0.9924 - accuracy: 0.6577 - val_loss: 0.4290 - val_accuracy: 0.9293\n",
            "Epoch 88/1000\n",
            "64/71 [==========================>...] - ETA: 0s - loss: 1.0114 - accuracy: 0.6415\n",
            "Epoch 88: saving model to model\\aslr_model.hdf5\n",
            "71/71 [==============================] - 0s 4ms/step - loss: 1.0094 - accuracy: 0.6402 - val_loss: 0.4393 - val_accuracy: 0.9307\n",
            "Epoch 89/1000\n",
            "67/71 [===========================>..] - ETA: 0s - loss: 1.0045 - accuracy: 0.6517\n",
            "Epoch 89: saving model to model\\aslr_model.hdf5\n",
            "71/71 [==============================] - 0s 4ms/step - loss: 1.0056 - accuracy: 0.6504 - val_loss: 0.4384 - val_accuracy: 0.9323\n",
            "Epoch 90/1000\n",
            "71/71 [==============================] - ETA: 0s - loss: 0.9879 - accuracy: 0.6608\n",
            "Epoch 90: saving model to model\\aslr_model.hdf5\n",
            "71/71 [==============================] - 0s 3ms/step - loss: 0.9879 - accuracy: 0.6608 - val_loss: 0.4392 - val_accuracy: 0.9190\n",
            "Epoch 91/1000\n",
            "70/71 [============================>.] - ETA: 0s - loss: 1.0042 - accuracy: 0.6590\n",
            "Epoch 91: saving model to model\\aslr_model.hdf5\n",
            "71/71 [==============================] - 0s 4ms/step - loss: 1.0042 - accuracy: 0.6589 - val_loss: 0.4299 - val_accuracy: 0.9270\n",
            "Epoch 92/1000\n",
            "70/71 [============================>.] - ETA: 0s - loss: 0.9926 - accuracy: 0.6561\n",
            "Epoch 92: saving model to model\\aslr_model.hdf5\n",
            "71/71 [==============================] - 0s 4ms/step - loss: 0.9920 - accuracy: 0.6563 - val_loss: 0.4360 - val_accuracy: 0.9260\n",
            "Epoch 93/1000\n",
            "69/71 [============================>.] - ETA: 0s - loss: 0.9705 - accuracy: 0.6628\n",
            "Epoch 93: saving model to model\\aslr_model.hdf5\n",
            "71/71 [==============================] - 0s 4ms/step - loss: 0.9720 - accuracy: 0.6623 - val_loss: 0.4146 - val_accuracy: 0.9270\n",
            "Epoch 94/1000\n",
            "69/71 [============================>.] - ETA: 0s - loss: 1.0011 - accuracy: 0.6529\n",
            "Epoch 94: saving model to model\\aslr_model.hdf5\n",
            "71/71 [==============================] - 0s 4ms/step - loss: 1.0019 - accuracy: 0.6530 - val_loss: 0.4335 - val_accuracy: 0.9257\n",
            "Epoch 95/1000\n",
            "70/71 [============================>.] - ETA: 0s - loss: 0.9890 - accuracy: 0.6612\n",
            "Epoch 95: saving model to model\\aslr_model.hdf5\n",
            "71/71 [==============================] - 0s 3ms/step - loss: 0.9899 - accuracy: 0.6609 - val_loss: 0.4310 - val_accuracy: 0.9330\n",
            "Epoch 96/1000\n",
            "71/71 [==============================] - ETA: 0s - loss: 0.9681 - accuracy: 0.6626\n",
            "Epoch 96: saving model to model\\aslr_model.hdf5\n",
            "71/71 [==============================] - 0s 3ms/step - loss: 0.9681 - accuracy: 0.6626 - val_loss: 0.4216 - val_accuracy: 0.9267\n",
            "Epoch 97/1000\n",
            "70/71 [============================>.] - ETA: 0s - loss: 0.9834 - accuracy: 0.6559\n",
            "Epoch 97: saving model to model\\aslr_model.hdf5\n",
            "71/71 [==============================] - 0s 4ms/step - loss: 0.9824 - accuracy: 0.6561 - val_loss: 0.4202 - val_accuracy: 0.9310\n",
            "Epoch 98/1000\n",
            "70/71 [============================>.] - ETA: 0s - loss: 0.9592 - accuracy: 0.6653\n",
            "Epoch 98: saving model to model\\aslr_model.hdf5\n",
            "71/71 [==============================] - 0s 3ms/step - loss: 0.9591 - accuracy: 0.6652 - val_loss: 0.4121 - val_accuracy: 0.9243\n",
            "Epoch 99/1000\n",
            "65/71 [==========================>...] - ETA: 0s - loss: 0.9928 - accuracy: 0.6554\n",
            "Epoch 99: saving model to model\\aslr_model.hdf5\n",
            "71/71 [==============================] - 0s 4ms/step - loss: 0.9908 - accuracy: 0.6570 - val_loss: 0.4240 - val_accuracy: 0.9283\n",
            "Epoch 100/1000\n",
            "57/71 [=======================>......] - ETA: 0s - loss: 0.9700 - accuracy: 0.6582\n",
            "Epoch 100: saving model to model\\aslr_model.hdf5\n",
            "71/71 [==============================] - 0s 4ms/step - loss: 0.9772 - accuracy: 0.6541 - val_loss: 0.4364 - val_accuracy: 0.9030\n",
            "Epoch 101/1000\n",
            "70/71 [============================>.] - ETA: 0s - loss: 1.0139 - accuracy: 0.6504\n",
            "Epoch 101: saving model to model\\aslr_model.hdf5\n",
            "71/71 [==============================] - 0s 4ms/step - loss: 1.0142 - accuracy: 0.6504 - val_loss: 0.4229 - val_accuracy: 0.9283\n",
            "Epoch 102/1000\n",
            "69/71 [============================>.] - ETA: 0s - loss: 0.9860 - accuracy: 0.6586\n",
            "Epoch 102: saving model to model\\aslr_model.hdf5\n",
            "71/71 [==============================] - 0s 4ms/step - loss: 0.9876 - accuracy: 0.6581 - val_loss: 0.4394 - val_accuracy: 0.9233\n",
            "Epoch 103/1000\n",
            "69/71 [============================>.] - ETA: 0s - loss: 0.9765 - accuracy: 0.6582\n",
            "Epoch 103: saving model to model\\aslr_model.hdf5\n",
            "71/71 [==============================] - 0s 4ms/step - loss: 0.9738 - accuracy: 0.6592 - val_loss: 0.4208 - val_accuracy: 0.9270\n",
            "Epoch 104/1000\n",
            "69/71 [============================>.] - ETA: 0s - loss: 0.9784 - accuracy: 0.6566\n",
            "Epoch 104: saving model to model\\aslr_model.hdf5\n",
            "71/71 [==============================] - 0s 4ms/step - loss: 0.9772 - accuracy: 0.6560 - val_loss: 0.4214 - val_accuracy: 0.9233\n",
            "Epoch 105/1000\n",
            "71/71 [==============================] - ETA: 0s - loss: 0.9692 - accuracy: 0.6630\n",
            "Epoch 105: saving model to model\\aslr_model.hdf5\n",
            "71/71 [==============================] - 0s 4ms/step - loss: 0.9692 - accuracy: 0.6630 - val_loss: 0.4269 - val_accuracy: 0.9247\n",
            "Epoch 106/1000\n",
            "71/71 [==============================] - ETA: 0s - loss: 0.9621 - accuracy: 0.6684\n",
            "Epoch 106: saving model to model\\aslr_model.hdf5\n",
            "71/71 [==============================] - 0s 4ms/step - loss: 0.9621 - accuracy: 0.6684 - val_loss: 0.4216 - val_accuracy: 0.9210\n",
            "Epoch 107/1000\n",
            "70/71 [============================>.] - ETA: 0s - loss: 0.9545 - accuracy: 0.6691\n",
            "Epoch 107: saving model to model\\aslr_model.hdf5\n",
            "71/71 [==============================] - 0s 4ms/step - loss: 0.9540 - accuracy: 0.6692 - val_loss: 0.4103 - val_accuracy: 0.9200\n",
            "Epoch 108/1000\n",
            "66/71 [==========================>...] - ETA: 0s - loss: 0.9591 - accuracy: 0.6639\n",
            "Epoch 108: saving model to model\\aslr_model.hdf5\n",
            "71/71 [==============================] - 0s 4ms/step - loss: 0.9568 - accuracy: 0.6643 - val_loss: 0.4195 - val_accuracy: 0.9203\n",
            "Epoch 109/1000\n",
            "69/71 [============================>.] - ETA: 0s - loss: 0.9655 - accuracy: 0.6632\n",
            "Epoch 109: saving model to model\\aslr_model.hdf5\n",
            "71/71 [==============================] - 0s 4ms/step - loss: 0.9671 - accuracy: 0.6627 - val_loss: 0.4263 - val_accuracy: 0.9240\n",
            "Epoch 110/1000\n",
            "64/71 [==========================>...] - ETA: 0s - loss: 0.9614 - accuracy: 0.6691\n",
            "Epoch 110: saving model to model\\aslr_model.hdf5\n",
            "71/71 [==============================] - 0s 4ms/step - loss: 0.9610 - accuracy: 0.6684 - val_loss: 0.4277 - val_accuracy: 0.9217\n",
            "Epoch 111/1000\n",
            "70/71 [============================>.] - ETA: 0s - loss: 0.9626 - accuracy: 0.6634\n",
            "Epoch 111: saving model to model\\aslr_model.hdf5\n",
            "71/71 [==============================] - 0s 4ms/step - loss: 0.9625 - accuracy: 0.6637 - val_loss: 0.4129 - val_accuracy: 0.9277\n",
            "Epoch 112/1000\n",
            "67/71 [===========================>..] - ETA: 0s - loss: 0.9758 - accuracy: 0.6601\n",
            "Epoch 112: saving model to model\\aslr_model.hdf5\n",
            "71/71 [==============================] - 0s 4ms/step - loss: 0.9744 - accuracy: 0.6603 - val_loss: 0.4076 - val_accuracy: 0.9227\n",
            "Epoch 113/1000\n",
            "68/71 [===========================>..] - ETA: 0s - loss: 0.9575 - accuracy: 0.6681\n",
            "Epoch 113: saving model to model\\aslr_model.hdf5\n",
            "71/71 [==============================] - 0s 4ms/step - loss: 0.9609 - accuracy: 0.6673 - val_loss: 0.4124 - val_accuracy: 0.9180\n",
            "Epoch 114/1000\n",
            "70/71 [============================>.] - ETA: 0s - loss: 0.9267 - accuracy: 0.6746\n",
            "Epoch 114: saving model to model\\aslr_model.hdf5\n",
            "71/71 [==============================] - 0s 4ms/step - loss: 0.9271 - accuracy: 0.6743 - val_loss: 0.3937 - val_accuracy: 0.9240\n",
            "Epoch 115/1000\n",
            "69/71 [============================>.] - ETA: 0s - loss: 0.9623 - accuracy: 0.6617\n",
            "Epoch 115: saving model to model\\aslr_model.hdf5\n",
            "71/71 [==============================] - 0s 4ms/step - loss: 0.9648 - accuracy: 0.6611 - val_loss: 0.4141 - val_accuracy: 0.9207\n",
            "Epoch 116/1000\n",
            "63/71 [=========================>....] - ETA: 0s - loss: 0.9638 - accuracy: 0.6653\n",
            "Epoch 116: saving model to model\\aslr_model.hdf5\n",
            "71/71 [==============================] - 0s 4ms/step - loss: 0.9698 - accuracy: 0.6628 - val_loss: 0.4203 - val_accuracy: 0.9197\n",
            "Epoch 117/1000\n",
            "70/71 [============================>.] - ETA: 0s - loss: 0.9683 - accuracy: 0.6680\n",
            "Epoch 117: saving model to model\\aslr_model.hdf5\n",
            "71/71 [==============================] - 0s 4ms/step - loss: 0.9677 - accuracy: 0.6681 - val_loss: 0.4091 - val_accuracy: 0.9257\n",
            "Epoch 118/1000\n",
            "67/71 [===========================>..] - ETA: 0s - loss: 0.9533 - accuracy: 0.6737\n",
            "Epoch 118: saving model to model\\aslr_model.hdf5\n",
            "71/71 [==============================] - 0s 4ms/step - loss: 0.9563 - accuracy: 0.6729 - val_loss: 0.4087 - val_accuracy: 0.9213\n",
            "Epoch 119/1000\n",
            "70/71 [============================>.] - ETA: 0s - loss: 0.9455 - accuracy: 0.6780\n",
            "Epoch 119: saving model to model\\aslr_model.hdf5\n",
            "71/71 [==============================] - 0s 4ms/step - loss: 0.9446 - accuracy: 0.6782 - val_loss: 0.4051 - val_accuracy: 0.9233\n",
            "Epoch 120/1000\n",
            "70/71 [============================>.] - ETA: 0s - loss: 0.9661 - accuracy: 0.6673\n",
            "Epoch 120: saving model to model\\aslr_model.hdf5\n",
            "71/71 [==============================] - 0s 3ms/step - loss: 0.9658 - accuracy: 0.6677 - val_loss: 0.4203 - val_accuracy: 0.9220\n",
            "Epoch 121/1000\n",
            "70/71 [============================>.] - ETA: 0s - loss: 0.9489 - accuracy: 0.6783\n",
            "Epoch 121: saving model to model\\aslr_model.hdf5\n",
            "71/71 [==============================] - 0s 4ms/step - loss: 0.9484 - accuracy: 0.6784 - val_loss: 0.3965 - val_accuracy: 0.9173\n",
            "Epoch 122/1000\n",
            "50/71 [====================>.........] - ETA: 0s - loss: 0.9324 - accuracy: 0.6797\n",
            "Epoch 122: saving model to model\\aslr_model.hdf5\n",
            "71/71 [==============================] - 0s 4ms/step - loss: 0.9449 - accuracy: 0.6771 - val_loss: 0.4035 - val_accuracy: 0.9187\n",
            "Epoch 123/1000\n",
            "69/71 [============================>.] - ETA: 0s - loss: 0.9468 - accuracy: 0.6704\n",
            "Epoch 123: saving model to model\\aslr_model.hdf5\n",
            "71/71 [==============================] - 0s 4ms/step - loss: 0.9493 - accuracy: 0.6691 - val_loss: 0.4026 - val_accuracy: 0.9243\n",
            "Epoch 124/1000\n",
            "63/71 [=========================>....] - ETA: 0s - loss: 0.9417 - accuracy: 0.6715\n",
            "Epoch 124: saving model to model\\aslr_model.hdf5\n",
            "71/71 [==============================] - 0s 4ms/step - loss: 0.9403 - accuracy: 0.6726 - val_loss: 0.4004 - val_accuracy: 0.9243\n",
            "Epoch 125/1000\n",
            "64/71 [==========================>...] - ETA: 0s - loss: 0.9290 - accuracy: 0.6791\n",
            "Epoch 125: saving model to model\\aslr_model.hdf5\n",
            "71/71 [==============================] - 0s 4ms/step - loss: 0.9379 - accuracy: 0.6766 - val_loss: 0.4057 - val_accuracy: 0.9223\n",
            "Epoch 126/1000\n",
            "62/71 [=========================>....] - ETA: 0s - loss: 0.9438 - accuracy: 0.6724\n",
            "Epoch 126: saving model to model\\aslr_model.hdf5\n",
            "71/71 [==============================] - 0s 4ms/step - loss: 0.9456 - accuracy: 0.6711 - val_loss: 0.3958 - val_accuracy: 0.9277\n",
            "Epoch 127/1000\n",
            "59/71 [=======================>......] - ETA: 0s - loss: 0.9555 - accuracy: 0.6654\n",
            "Epoch 127: saving model to model\\aslr_model.hdf5\n",
            "71/71 [==============================] - 0s 4ms/step - loss: 0.9548 - accuracy: 0.6667 - val_loss: 0.4070 - val_accuracy: 0.9233\n",
            "Epoch 128/1000\n",
            "61/71 [========================>.....] - ETA: 0s - loss: 0.9434 - accuracy: 0.6751\n",
            "Epoch 128: saving model to model\\aslr_model.hdf5\n",
            "71/71 [==============================] - 0s 4ms/step - loss: 0.9426 - accuracy: 0.6770 - val_loss: 0.4108 - val_accuracy: 0.9023\n",
            "Epoch 129/1000\n",
            "61/71 [========================>.....] - ETA: 0s - loss: 0.9380 - accuracy: 0.6796\n",
            "Epoch 129: saving model to model\\aslr_model.hdf5\n",
            "71/71 [==============================] - 0s 4ms/step - loss: 0.9395 - accuracy: 0.6771 - val_loss: 0.4099 - val_accuracy: 0.9203\n",
            "Epoch 130/1000\n",
            "62/71 [=========================>....] - ETA: 0s - loss: 0.9464 - accuracy: 0.6746\n",
            "Epoch 130: saving model to model\\aslr_model.hdf5\n",
            "71/71 [==============================] - 0s 4ms/step - loss: 0.9435 - accuracy: 0.6760 - val_loss: 0.4035 - val_accuracy: 0.9223\n",
            "Epoch 131/1000\n",
            "58/71 [=======================>......] - ETA: 0s - loss: 0.9229 - accuracy: 0.6831\n",
            "Epoch 131: saving model to model\\aslr_model.hdf5\n",
            "71/71 [==============================] - 0s 4ms/step - loss: 0.9310 - accuracy: 0.6822 - val_loss: 0.3991 - val_accuracy: 0.9187\n",
            "Epoch 132/1000\n",
            "67/71 [===========================>..] - ETA: 0s - loss: 0.9421 - accuracy: 0.6676\n",
            "Epoch 132: saving model to model\\aslr_model.hdf5\n",
            "71/71 [==============================] - 0s 5ms/step - loss: 0.9403 - accuracy: 0.6674 - val_loss: 0.4152 - val_accuracy: 0.9213\n",
            "Epoch 133/1000\n",
            "64/71 [==========================>...] - ETA: 0s - loss: 0.9381 - accuracy: 0.6754\n",
            "Epoch 133: saving model to model\\aslr_model.hdf5\n",
            "71/71 [==============================] - 0s 4ms/step - loss: 0.9349 - accuracy: 0.6763 - val_loss: 0.4025 - val_accuracy: 0.9247\n",
            "Epoch 134/1000\n",
            "62/71 [=========================>....] - ETA: 0s - loss: 0.9287 - accuracy: 0.6831\n",
            "Epoch 134: saving model to model\\aslr_model.hdf5\n",
            "71/71 [==============================] - 0s 4ms/step - loss: 0.9243 - accuracy: 0.6852 - val_loss: 0.4104 - val_accuracy: 0.9157\n",
            "Epoch 134: early stopping\n"
          ]
        },
        {
          "data": {
            "text/plain": [
              "<keras.callbacks.History at 0x1bb57427df0>"
            ]
          },
          "execution_count": 11,
          "metadata": {},
          "output_type": "execute_result"
        }
      ],
      "source": [
        "model.fit(\n",
        "    X_train,\n",
        "    y_train,\n",
        "    epochs=1000,\n",
        "    batch_size=128,\n",
        "    validation_data=(X_test, y_test),\n",
        "    callbacks=[cp_callback, es_callback]\n",
        ")"
      ]
    },
    {
      "cell_type": "code",
      "execution_count": 12,
      "metadata": {
        "colab": {
          "base_uri": "https://localhost:8080/"
        },
        "id": "pxvb2Y299hE3",
        "outputId": "59eb3185-2e37-4b9e-bc9d-ab1b8ac29b7f"
      },
      "outputs": [
        {
          "name": "stdout",
          "output_type": "stream",
          "text": [
            "24/24 [==============================] - 0s 2ms/step - loss: 0.4104 - accuracy: 0.9157\n"
          ]
        }
      ],
      "source": [
        "# Model evaluation\n",
        "val_loss, val_acc = model.evaluate(X_test, y_test, batch_size=128)"
      ]
    },
    {
      "cell_type": "code",
      "execution_count": 13,
      "metadata": {
        "id": "RBkmDeUW9hE4"
      },
      "outputs": [],
      "source": [
        "# Loading the saved model\n",
        "model = tf.keras.models.load_model(model_save_path)"
      ]
    },
    {
      "cell_type": "code",
      "execution_count": 14,
      "metadata": {
        "colab": {
          "base_uri": "https://localhost:8080/"
        },
        "id": "tFz9Tb0I9hE4",
        "outputId": "1c3b3528-54ae-4ee2-ab04-77429211cbef"
      },
      "outputs": [
        {
          "name": "stdout",
          "output_type": "stream",
          "text": [
            "1/1 [==============================] - 0s 101ms/step\n",
            "[6.73189115e-20 1.04850217e-13 2.04186381e-05 4.87062799e-24\n",
            " 2.83361019e-38 1.65447673e-08 1.94213629e-01 7.86556244e-01\n",
            " 2.61920218e-06 0.00000000e+00 1.18155887e-14 1.17344467e-10\n",
            " 3.69949904e-11 5.59047214e-04 0.00000000e+00 1.62026412e-13\n",
            " 1.89630018e-18 0.00000000e+00 1.59995519e-02 2.47823799e-14\n",
            " 1.12531154e-29 0.00000000e+00 2.64856196e-03 3.96813229e-35]\n",
            "7\n"
          ]
        }
      ],
      "source": [
        "# Inference test\n",
        "predict_result = model.predict(np.array([X_test[0]]))\n",
        "print(np.squeeze(predict_result))\n",
        "print(np.argmax(np.squeeze(predict_result)))"
      ]
    },
    {
      "cell_type": "markdown",
      "metadata": {
        "id": "S3U4yNWx9hE4"
      },
      "source": [
        "# Confusion matrix"
      ]
    },
    {
      "cell_type": "code",
      "execution_count": 15,
      "metadata": {
        "colab": {
          "base_uri": "https://localhost:8080/",
          "height": 582
        },
        "id": "AP1V6SCk9hE5",
        "outputId": "08e41a80-7a4a-4619-8125-ecc371368d19"
      },
      "outputs": [
        {
          "name": "stdout",
          "output_type": "stream",
          "text": [
            "94/94 [==============================] - 0s 1ms/step\n"
          ]
        },
        {
          "data": {
            "image/png": "[encoded data removed]",
            "text/plain": [
              "<Figure size 1000x900 with 2 Axes>"
            ]
          },
          "metadata": {},
          "output_type": "display_data"
        },
        {
          "name": "stdout",
          "output_type": "stream",
          "text": [
            "Classification Report\n",
            "              precision    recall  f1-score   support\n",
            "\n",
            "           0       0.99      0.77      0.86       116\n",
            "           1       0.99      0.96      0.98       131\n",
            "           2       0.93      0.83      0.88       130\n",
            "           3       1.00      0.85      0.92       112\n",
            "           4       0.98      0.93      0.95       120\n",
            "           5       0.98      0.99      0.99       126\n",
            "           6       0.84      1.00      0.91       128\n",
            "           7       1.00      0.70      0.82       109\n",
            "           8       1.00      0.95      0.97       131\n",
            "           9       0.97      0.96      0.97       132\n",
            "          10       0.97      1.00      0.98       117\n",
            "          11       0.99      1.00      1.00       140\n",
            "          12       0.97      1.00      0.98       112\n",
            "          13       0.85      0.95      0.90       130\n",
            "          14       0.94      1.00      0.97       120\n",
            "          15       1.00      1.00      1.00       125\n",
            "          16       0.96      0.18      0.30       127\n",
            "          17       0.81      1.00      0.89       128\n",
            "          18       1.00      1.00      1.00       138\n",
            "          19       0.53      0.93      0.68       130\n",
            "          20       0.82      0.95      0.88       123\n",
            "          21       0.98      0.98      0.98       117\n",
            "          22       0.99      1.00      0.99       134\n",
            "          23       0.98      1.00      0.99       124\n",
            "\n",
            "    accuracy                           0.92      3000\n",
            "   macro avg       0.94      0.91      0.91      3000\n",
            "weighted avg       0.93      0.92      0.91      3000\n",
            "\n"
          ]
        }
      ],
      "source": [
        "import pandas as pd\n",
        "import seaborn as sns\n",
        "import matplotlib.pyplot as plt\n",
        "from sklearn.metrics import confusion_matrix, classification_report\n",
        "\n",
        "def print_confusion_matrix(y_true, y_pred, report=True):\n",
        "    labels = sorted(list(set(y_true)))\n",
        "    cmx_data = confusion_matrix(y_true, y_pred, labels=labels)\n",
        "    \n",
        "    df_cmx = pd.DataFrame(cmx_data, index=labels, columns=labels)\n",
        " \n",
        "    fig, ax = plt.subplots(figsize=(10, 9))\n",
        "    sns.heatmap(df_cmx, annot=True, fmt='g' ,square=False)\n",
        "    ax.set_ylim(len(set(y_true)), 0)\n",
        "    plt.show()\n",
        "    \n",
        "    if report:\n",
        "        print('Classification Report')\n",
        "        print(classification_report(y_test, y_pred))\n",
        "\n",
        "Y_pred = model.predict(X_test)\n",
        "y_pred = np.argmax(Y_pred, axis=1)\n",
        "\n",
        "print_confusion_matrix(y_test, y_pred)"
      ]
    },
    {
      "cell_type": "markdown",
      "metadata": {
        "id": "FNP6aqzc9hE5"
      },
      "source": [
        "# Convert to model for Tensorflow-Lite"
      ]
    },
    {
      "cell_type": "code",
      "execution_count": 16,
      "metadata": {
        "id": "ODjnYyld9hE6"
      },
      "outputs": [],
      "source": [
        "# Save as a model dedicated to inference\n",
        "model.save(model_save_path, include_optimizer=False)"
      ]
    },
    {
      "cell_type": "code",
      "execution_count": 17,
      "metadata": {
        "colab": {
          "base_uri": "https://localhost:8080/"
        },
        "id": "zRfuK8Y59hE6",
        "outputId": "a4ca585c-b5d5-4244-8291-8674063209bb"
      },
      "outputs": [
        {
          "name": "stderr",
          "output_type": "stream",
          "text": [
            "WARNING:absl:Found untraced functions such as _update_step_xla while saving (showing 1 of 1). These functions will not be directly callable after loading.\n"
          ]
        },
        {
          "name": "stdout",
          "output_type": "stream",
          "text": [
            "INFO:tensorflow:Assets written to: C:\\Users\\Sam\\AppData\\Local\\Temp\\tmpihnd62pm\\assets\n"
          ]
        },
        {
          "name": "stderr",
          "output_type": "stream",
          "text": [
            "INFO:tensorflow:Assets written to: C:\\Users\\Sam\\AppData\\Local\\Temp\\tmpihnd62pm\\assets\n"
          ]
        },
        {
          "data": {
            "text/plain": [
              "7424"
            ]
          },
          "execution_count": 17,
          "metadata": {},
          "output_type": "execute_result"
        }
      ],
      "source": [
        "# Transform model (quantization)\n",
        "\n",
        "converter = tf.lite.TFLiteConverter.from_keras_model(model)\n",
        "converter.optimizations = [tf.lite.Optimize.DEFAULT]\n",
        "tflite_quantized_model = converter.convert()\n",
        "\n",
        "open(tflite_save_path, 'wb').write(tflite_quantized_model)"
      ]
    },
    {
      "cell_type": "markdown",
      "metadata": {
        "id": "CHBPBXdx9hE6"
      },
      "source": [
        "# Inference test"
      ]
    },
    {
      "cell_type": "code",
      "execution_count": 18,
      "metadata": {
        "id": "mGAzLocO9hE7"
      },
      "outputs": [],
      "source": [
        "interpreter = tf.lite.Interpreter(model_path=tflite_save_path)\n",
        "interpreter.allocate_tensors()"
      ]
    },
    {
      "cell_type": "code",
      "execution_count": 19,
      "metadata": {
        "id": "oQuDK8YS9hE7"
      },
      "outputs": [],
      "source": [
        "# Get I / O tensor\n",
        "input_details = interpreter.get_input_details()\n",
        "output_details = interpreter.get_output_details()"
      ]
    },
    {
      "cell_type": "code",
      "execution_count": 20,
      "metadata": {
        "id": "2_ixAf_l9hE7"
      },
      "outputs": [],
      "source": [
        "interpreter.set_tensor(input_details[0]['index'], np.array([X_test[0]]))"
      ]
    },
    {
      "cell_type": "code",
      "execution_count": 21,
      "metadata": {
        "colab": {
          "base_uri": "https://localhost:8080/"
        },
        "id": "s4FoAnuc9hE7",
        "outputId": "91f18257-8d8b-4ef3-c558-e9b5f94fabbf",
        "scrolled": true
      },
      "outputs": [
        {
          "name": "stdout",
          "output_type": "stream",
          "text": [
            "CPU times: total: 0 ns\n",
            "Wall time: 0 ns\n"
          ]
        }
      ],
      "source": [
        "%%time\n",
        "# Inference implementation\n",
        "interpreter.invoke()\n",
        "tflite_results = interpreter.get_tensor(output_details[0]['index'])"
      ]
    },
    {
      "cell_type": "code",
      "execution_count": 22,
      "metadata": {
        "colab": {
          "base_uri": "https://localhost:8080/"
        },
        "id": "vONjp19J9hE8",
        "outputId": "77205e24-fd00-42c4-f7b6-e06e527c2cba"
      },
      "outputs": [
        {
          "name": "stdout",
          "output_type": "stream",
          "text": [
            "[6.73189503e-20 1.04849872e-13 2.04185890e-05 4.87063036e-24\n",
            " 3.69837165e-38 1.65447425e-08 1.94213182e-01 7.86556661e-01\n",
            " 2.61920081e-06 0.00000000e+00 1.18156624e-14 1.17344523e-10\n",
            " 3.69950078e-11 5.59046515e-04 0.00000000e+00 1.62026479e-13\n",
            " 1.89630121e-18 0.00000000e+00 1.59995463e-02 2.47823409e-14\n",
            " 1.12531214e-29 0.00000000e+00 2.64856569e-03 3.96810388e-35]\n",
            "7\n"
          ]
        }
      ],
      "source": [
        "print(np.squeeze(tflite_results))\n",
        "print(np.argmax(np.squeeze(tflite_results)))"
      ]
    }
  ],
  "metadata": {
    "accelerator": "GPU",
    "colab": {
      "collapsed_sections": [],
      "name": "keypoint_classification_EN.ipynb",
      "provenance": [],
      "toc_visible": true
    },
    "kernelspec": {
      "display_name": "Python 3",
      "language": "python",
      "name": "python3"
    },
    "language_info": {
      "codemirror_mode": {
        "name": "ipython",
        "version": 3
      },
      "file_extension": ".py",
      "mimetype": "text/x-python",
      "name": "python",
      "nbconvert_exporter": "python",
      "pygments_lexer": "ipython3",
      "version": "3.10.10"
    }
  },
  "nbformat": 4,
  "nbformat_minor": 0
}
